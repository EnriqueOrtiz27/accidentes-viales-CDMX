{
 "cells": [
  {
   "cell_type": "code",
   "execution_count": 15,
   "metadata": {
    "ExecuteTime": {
     "end_time": "2020-12-04T13:49:07.477499Z",
     "start_time": "2020-12-04T13:49:07.471336Z"
    }
   },
   "outputs": [],
   "source": [
    "import pickle\n",
    "import joblib\n",
    "import sklearn\n",
    "import random\n",
    "import os\n",
    "import pandas as pd\n",
    "import numpy as np\n",
    "\n",
    "from magic_loop import load_transformation, filter_drop, \\\n",
    "                                      transformation_pipeline, train_test_split, NUM_VARS, CAT_VARS\n",
    "\n",
    "from sklearn.preprocessing import OneHotEncoder\n",
    "from sklearn.compose import ColumnTransformer\n",
    "from sklearn.linear_model import LogisticRegression\n",
    "from sklearn.model_selection import GridSearchCV, TimeSeriesSplit"
   ]
  },
  {
   "cell_type": "code",
   "execution_count": 3,
   "metadata": {
    "ExecuteTime": {
     "end_time": "2020-12-04T13:38:31.066388Z",
     "start_time": "2020-12-04T13:38:31.045541Z"
    }
   },
   "outputs": [
    {
     "data": {
      "text/plain": [
       "'0.20.2'"
      ]
     },
     "execution_count": 3,
     "metadata": {},
     "output_type": "execute_result"
    }
   ],
   "source": [
    "sklearn.__version__"
   ]
  },
  {
   "cell_type": "code",
   "execution_count": 4,
   "metadata": {
    "ExecuteTime": {
     "end_time": "2020-12-04T13:38:39.861984Z",
     "start_time": "2020-12-04T13:38:39.853518Z"
    }
   },
   "outputs": [
    {
     "data": {
      "text/plain": [
       "'0.14.0'"
      ]
     },
     "execution_count": 4,
     "metadata": {},
     "output_type": "execute_result"
    }
   ],
   "source": [
    "joblib.__version__"
   ]
  },
  {
   "cell_type": "markdown",
   "metadata": {},
   "source": [
    "Los siguientes promedios se calcularon de forma separada y se muestra aquí únicamente la cifra con fines de simplificar el análisis. "
   ]
  },
  {
   "cell_type": "code",
   "execution_count": 5,
   "metadata": {
    "ExecuteTime": {
     "end_time": "2020-12-04T13:39:29.792178Z",
     "start_time": "2020-12-04T13:39:29.787605Z"
    }
   },
   "outputs": [],
   "source": [
    "ambulancias_disponibles_al_dia = 20.0\n",
    "num_llamadas_al_dia = 550.0"
   ]
  },
  {
   "cell_type": "code",
   "execution_count": 6,
   "metadata": {
    "ExecuteTime": {
     "end_time": "2020-12-04T13:42:58.011058Z",
     "start_time": "2020-12-04T13:42:58.001578Z"
    }
   },
   "outputs": [
    {
     "data": {
      "text/plain": [
       "'/Users/enriqueortiz/Documents/PROJECTS/proyecto_ambulancias/notebooks_pers'"
      ]
     },
     "execution_count": 6,
     "metadata": {},
     "output_type": "execute_result"
    }
   ],
   "source": [
    "path = os.getcwd()\n",
    "path"
   ]
  },
  {
   "cell_type": "code",
   "execution_count": 7,
   "metadata": {
    "ExecuteTime": {
     "end_time": "2020-12-04T13:43:04.980498Z",
     "start_time": "2020-12-04T13:43:00.617910Z"
    }
   },
   "outputs": [
    {
     "name": "stdout",
     "output_type": "stream",
     "text": [
      "Opening feature engineering pickle from output path\n",
      "Feature Engineering pickle successfully retrieved.\n"
     ]
    }
   ],
   "source": [
    "df = load_transformation(path)"
   ]
  },
  {
   "cell_type": "code",
   "execution_count": 103,
   "metadata": {
    "ExecuteTime": {
     "end_time": "2020-12-04T15:00:55.563076Z",
     "start_time": "2020-12-04T15:00:53.707983Z"
    }
   },
   "outputs": [],
   "source": [
    "# Load all X_train, y_train, X_test, y test\n",
    "X_train = pickle.load(open(\"X_train_diciembre4.pkl\", 'rb'))\n",
    "y_train = pickle.load(open(\"Y_train_diciembre4.pkl\", 'rb'))\n",
    "X_test = pickle.load(open(\"X_test_diciembre4.pkl\", 'rb'))\n",
    "y_test = pickle.load(open(\"y_test_diciembre4.pkl\", 'rb'))"
   ]
  },
  {
   "cell_type": "code",
   "execution_count": 104,
   "metadata": {
    "ExecuteTime": {
     "end_time": "2020-12-04T15:00:57.431146Z",
     "start_time": "2020-12-04T15:00:57.412889Z"
    }
   },
   "outputs": [
    {
     "name": "stdout",
     "output_type": "stream",
     "text": [
      "(967884, 62) (967884,) (414808, 62) (414808,)\n"
     ]
    }
   ],
   "source": [
    "print(X_train.shape, y_train.shape, X_test.shape, y_test.shape)"
   ]
  },
  {
   "cell_type": "markdown",
   "metadata": {},
   "source": [
    "# Regresión Logística\n",
    "\n",
    "En experimentos internos descubrimos que tanto el modelo _RandomForestClassifier_ como el _DecisionTree_ nos dieron resultados relativamente deficientes en prácticamente todas las métricas relevantes, por lo que intentamos usar Regresión Logística. "
   ]
  },
  {
   "cell_type": "code",
   "execution_count": 105,
   "metadata": {
    "ExecuteTime": {
     "end_time": "2020-12-04T15:00:59.659959Z",
     "start_time": "2020-12-04T15:00:59.642543Z"
    }
   },
   "outputs": [],
   "source": [
    "logreg = LogisticRegression()"
   ]
  },
  {
   "cell_type": "code",
   "execution_count": 106,
   "metadata": {
    "ExecuteTime": {
     "end_time": "2020-12-04T15:01:02.362135Z",
     "start_time": "2020-12-04T15:01:02.346466Z"
    }
   },
   "outputs": [],
   "source": [
    "#realmente la falta de tiempo nos impidió probar más combinaciones \n",
    "grid_params = {'penalty': ['l2'],\n",
    "              'solver': ['sag', 'saga']}"
   ]
  },
  {
   "cell_type": "code",
   "execution_count": 107,
   "metadata": {
    "ExecuteTime": {
     "end_time": "2020-12-04T15:07:32.347741Z",
     "start_time": "2020-12-04T15:01:04.404878Z"
    }
   },
   "outputs": [
    {
     "name": "stderr",
     "output_type": "stream",
     "text": [
      "/usr/local/lib/python3.7/site-packages/sklearn/linear_model/sag.py:334: ConvergenceWarning: The max_iter was reached which means the coef_ did not converge\n",
      "  \"the coef_ did not converge\", ConvergenceWarning)\n"
     ]
    },
    {
     "data": {
      "text/plain": [
       "GridSearchCV(cv=TimeSeriesSplit(max_train_size=None, n_splits=5),\n",
       "       error_score='raise-deprecating',\n",
       "       estimator=LogisticRegression(C=1.0, class_weight=None, dual=False, fit_intercept=True,\n",
       "          intercept_scaling=1, max_iter=100, multi_class='warn',\n",
       "          n_jobs=None, penalty='l2', random_state=None, solver='warn',\n",
       "          tol=0.0001, verbose=0, warm_start=False),\n",
       "       fit_params=None, iid='warn', n_jobs=-1,\n",
       "       param_grid={'penalty': ['l2'], 'solver': ['sag', 'saga']},\n",
       "       pre_dispatch='2*n_jobs', refit=True, return_train_score='warn',\n",
       "       scoring='precision', verbose=0)"
      ]
     },
     "execution_count": 107,
     "metadata": {},
     "output_type": "execute_result"
    }
   ],
   "source": [
    "#toma como 7 min; no es tanto (vs. los 90 min de un Random Forrest Gump)\n",
    "tscv = TimeSeriesSplit(n_splits=5)\n",
    "gs = GridSearchCV(logreg, grid_params, scoring='precision', cv = tscv,\n",
    "                          n_jobs = -1)\n",
    "\n",
    "gs.fit(X_train, y_train)"
   ]
  },
  {
   "cell_type": "code",
   "execution_count": 108,
   "metadata": {
    "ExecuteTime": {
     "end_time": "2020-12-04T15:08:14.546836Z",
     "start_time": "2020-12-04T15:08:14.534592Z"
    }
   },
   "outputs": [
    {
     "data": {
      "text/plain": [
       "LogisticRegression(C=1.0, class_weight=None, dual=False, fit_intercept=True,\n",
       "          intercept_scaling=1, max_iter=100, multi_class='warn',\n",
       "          n_jobs=None, penalty='l2', random_state=None, solver='sag',\n",
       "          tol=0.0001, verbose=0, warm_start=False)"
      ]
     },
     "execution_count": 108,
     "metadata": {},
     "output_type": "execute_result"
    }
   ],
   "source": [
    "model = gs.best_estimator_\n",
    "model"
   ]
  },
  {
   "cell_type": "code",
   "execution_count": 109,
   "metadata": {
    "ExecuteTime": {
     "end_time": "2020-12-04T15:08:20.503774Z",
     "start_time": "2020-12-04T15:08:20.210755Z"
    }
   },
   "outputs": [],
   "source": [
    "# predicciones con el mejor predictor \n",
    "predicted_labels = model.predict(X_test)"
   ]
  },
  {
   "cell_type": "code",
   "execution_count": 110,
   "metadata": {
    "ExecuteTime": {
     "end_time": "2020-12-04T15:08:21.479355Z",
     "start_time": "2020-12-04T15:08:21.465930Z"
    }
   },
   "outputs": [
    {
     "data": {
      "text/plain": [
       "(414808,)"
      ]
     },
     "execution_count": 110,
     "metadata": {},
     "output_type": "execute_result"
    }
   ],
   "source": [
    "predicted_labels.shape"
   ]
  },
  {
   "cell_type": "code",
   "execution_count": 111,
   "metadata": {
    "ExecuteTime": {
     "end_time": "2020-12-04T15:08:22.901154Z",
     "start_time": "2020-12-04T15:08:22.872814Z"
    }
   },
   "outputs": [],
   "source": [
    "# predicciones en score con el mejor predictor\n",
    "predicted_scores = model.predict_proba(X_test)"
   ]
  },
  {
   "cell_type": "code",
   "execution_count": 112,
   "metadata": {
    "ExecuteTime": {
     "end_time": "2020-12-04T15:08:23.960115Z",
     "start_time": "2020-12-04T15:08:23.952708Z"
    }
   },
   "outputs": [
    {
     "data": {
      "text/plain": [
       "(414808, 2)"
      ]
     },
     "execution_count": 112,
     "metadata": {},
     "output_type": "execute_result"
    }
   ],
   "source": [
    "predicted_scores.shape"
   ]
  },
  {
   "cell_type": "code",
   "execution_count": 113,
   "metadata": {
    "ExecuteTime": {
     "end_time": "2020-12-04T15:08:26.428368Z",
     "start_time": "2020-12-04T15:08:26.395647Z"
    }
   },
   "outputs": [
    {
     "data": {
      "text/html": [
       "<div>\n",
       "<style scoped>\n",
       "    .dataframe tbody tr th:only-of-type {\n",
       "        vertical-align: middle;\n",
       "    }\n",
       "\n",
       "    .dataframe tbody tr th {\n",
       "        vertical-align: top;\n",
       "    }\n",
       "\n",
       "    .dataframe thead th {\n",
       "        text-align: right;\n",
       "    }\n",
       "</style>\n",
       "<table border=\"1\" class=\"dataframe\">\n",
       "  <thead>\n",
       "    <tr style=\"text-align: right;\">\n",
       "      <th></th>\n",
       "      <th>probability_0</th>\n",
       "      <th>probability_1</th>\n",
       "    </tr>\n",
       "  </thead>\n",
       "  <tbody>\n",
       "    <tr>\n",
       "      <th>0</th>\n",
       "      <td>0.751344</td>\n",
       "      <td>0.248656</td>\n",
       "    </tr>\n",
       "    <tr>\n",
       "      <th>1</th>\n",
       "      <td>0.733748</td>\n",
       "      <td>0.266252</td>\n",
       "    </tr>\n",
       "    <tr>\n",
       "      <th>2</th>\n",
       "      <td>0.847479</td>\n",
       "      <td>0.152521</td>\n",
       "    </tr>\n",
       "    <tr>\n",
       "      <th>3</th>\n",
       "      <td>0.733748</td>\n",
       "      <td>0.266252</td>\n",
       "    </tr>\n",
       "    <tr>\n",
       "      <th>4</th>\n",
       "      <td>0.714488</td>\n",
       "      <td>0.285512</td>\n",
       "    </tr>\n",
       "  </tbody>\n",
       "</table>\n",
       "</div>"
      ],
      "text/plain": [
       "   probability_0  probability_1\n",
       "0       0.751344       0.248656\n",
       "1       0.733748       0.266252\n",
       "2       0.847479       0.152521\n",
       "3       0.733748       0.266252\n",
       "4       0.714488       0.285512"
      ]
     },
     "execution_count": 113,
     "metadata": {},
     "output_type": "execute_result"
    }
   ],
   "source": [
    "predicted_probs = pd.DataFrame(predicted_scores, columns=[\"probability_0\", \"probability_1\"])\n",
    "predicted_probs.head()"
   ]
  },
  {
   "cell_type": "markdown",
   "metadata": {},
   "source": [
    "## ROC"
   ]
  },
  {
   "cell_type": "code",
   "execution_count": 114,
   "metadata": {
    "ExecuteTime": {
     "end_time": "2020-12-04T15:08:39.409390Z",
     "start_time": "2020-12-04T15:08:38.895083Z"
    }
   },
   "outputs": [
    {
     "data": {
      "image/png": "[encoded data removed]",
      "text/plain": [
       "<Figure size 432x288 with 1 Axes>"
      ]
     },
     "metadata": {
      "needs_background": "light"
     },
     "output_type": "display_data"
    }
   ],
   "source": [
    "from sklearn.metrics import roc_curve, roc_auc_score\n",
    "\n",
    "import matplotlib.pyplot as plt\n",
    "\n",
    "%matplotlib inline\n",
    "\n",
    "fpr, tpr, thresholds = roc_curve(y_test, predicted_probs.probability_1, pos_label=1)\n",
    "\n",
    "plt.clf()\n",
    "plt.plot([0,1],[0,1], 'k--', c=\"red\")\n",
    "plt.plot(fpr, tpr)\n",
    "#aquí abajo van las probabilidades, no el label \n",
    "plt.title(\"ROC best RF, AUC: {}\".format(roc_auc_score(y_test, predicted_probs.probability_1)))\n",
    "plt.xlabel(\"fpr\")\n",
    "plt.ylabel(\"tpr\")\n",
    "plt.show();"
   ]
  },
  {
   "cell_type": "markdown",
   "metadata": {},
   "source": [
    "## Matriz de confusión"
   ]
  },
  {
   "cell_type": "code",
   "execution_count": 115,
   "metadata": {
    "ExecuteTime": {
     "end_time": "2020-12-04T15:08:54.816501Z",
     "start_time": "2020-12-04T15:08:54.411744Z"
    }
   },
   "outputs": [
    {
     "data": {
      "text/html": [
       "<div>\n",
       "<style scoped>\n",
       "    .dataframe tbody tr th:only-of-type {\n",
       "        vertical-align: middle;\n",
       "    }\n",
       "\n",
       "    .dataframe tbody tr th {\n",
       "        vertical-align: top;\n",
       "    }\n",
       "\n",
       "    .dataframe thead th {\n",
       "        text-align: right;\n",
       "    }\n",
       "</style>\n",
       "<table border=\"1\" class=\"dataframe\">\n",
       "  <thead>\n",
       "    <tr style=\"text-align: right;\">\n",
       "      <th></th>\n",
       "      <th>0</th>\n",
       "      <th>1</th>\n",
       "    </tr>\n",
       "  </thead>\n",
       "  <tbody>\n",
       "    <tr>\n",
       "      <th>0</th>\n",
       "      <td>333679</td>\n",
       "      <td>196</td>\n",
       "    </tr>\n",
       "    <tr>\n",
       "      <th>1</th>\n",
       "      <td>80747</td>\n",
       "      <td>186</td>\n",
       "    </tr>\n",
       "  </tbody>\n",
       "</table>\n",
       "</div>"
      ],
      "text/plain": [
       "        0    1\n",
       "0  333679  196\n",
       "1   80747  186"
      ]
     },
     "execution_count": 115,
     "metadata": {},
     "output_type": "execute_result"
    }
   ],
   "source": [
    "from sklearn.metrics import confusion_matrix\n",
    "\n",
    "pd.DataFrame(confusion_matrix(y_test, predicted_labels))\n",
    "#columnas = tu predicción\n",
    "#renglones = la realidad"
   ]
  },
  {
   "cell_type": "markdown",
   "metadata": {},
   "source": [
    "## Precision, recall, thresholds"
   ]
  },
  {
   "cell_type": "code",
   "execution_count": 116,
   "metadata": {
    "ExecuteTime": {
     "end_time": "2020-12-04T15:08:59.302266Z",
     "start_time": "2020-12-04T15:08:59.152795Z"
    }
   },
   "outputs": [],
   "source": [
    "from sklearn.metrics import precision_recall_curve\n",
    "\n",
    "precision, recall, thresholds_2 = precision_recall_curve(y_test, predicted_probs.probability_1, pos_label=1)"
   ]
  },
  {
   "cell_type": "code",
   "execution_count": 117,
   "metadata": {
    "ExecuteTime": {
     "end_time": "2020-12-04T15:09:00.181693Z",
     "start_time": "2020-12-04T15:09:00.176150Z"
    }
   },
   "outputs": [],
   "source": [
    "thresholds_2 = np.append(thresholds_2, 1)"
   ]
  },
  {
   "cell_type": "code",
   "execution_count": 118,
   "metadata": {
    "ExecuteTime": {
     "end_time": "2020-12-04T15:09:01.124610Z",
     "start_time": "2020-12-04T15:09:01.115841Z"
    }
   },
   "outputs": [
    {
     "data": {
      "text/plain": [
       "((346712,), (346712,), (346712,))"
      ]
     },
     "execution_count": 118,
     "metadata": {},
     "output_type": "execute_result"
    }
   ],
   "source": [
    "(precision.shape, recall.shape, thresholds_2.shape)"
   ]
  },
  {
   "cell_type": "code",
   "execution_count": 119,
   "metadata": {
    "ExecuteTime": {
     "end_time": "2020-12-04T15:09:02.684534Z",
     "start_time": "2020-12-04T15:09:02.675866Z"
    }
   },
   "outputs": [],
   "source": [
    "from sklearn.metrics import precision_score\n",
    "\n",
    "def precision_at_k(y_true, y_scores, k):\n",
    "    threshold = np.sort(y_scores)[::-1][int(k*(len(y_scores)-1))]\n",
    "    y_pred = np.asarray([1 if i >= threshold else 0 for i in y_scores])\n",
    "\n",
    "    return precision_score(y_true, y_pred)"
   ]
  },
  {
   "cell_type": "code",
   "execution_count": 120,
   "metadata": {
    "ExecuteTime": {
     "end_time": "2020-12-04T15:09:04.120195Z",
     "start_time": "2020-12-04T15:09:04.111277Z"
    }
   },
   "outputs": [],
   "source": [
    "from sklearn.metrics import recall_score\n",
    "def recall_at_k(y_true, y_scores, k):\n",
    "    threshold = np.sort(y_scores)[::-1][int(k*(len(y_scores)-1))]\n",
    "    y_pred = np.asarray([1 if i >= threshold else 0 for i in y_scores])\n",
    "\n",
    "    return recall_score(y_true, y_pred)"
   ]
  },
  {
   "cell_type": "code",
   "execution_count": 121,
   "metadata": {
    "ExecuteTime": {
     "end_time": "2020-12-04T15:09:05.494670Z",
     "start_time": "2020-12-04T15:09:05.489978Z"
    }
   },
   "outputs": [],
   "source": [
    "def get_top_k(y_scores, k):\n",
    "    pass"
   ]
  },
  {
   "cell_type": "code",
   "execution_count": 122,
   "metadata": {
    "ExecuteTime": {
     "end_time": "2020-12-04T15:09:07.041072Z",
     "start_time": "2020-12-04T15:09:07.002786Z"
    }
   },
   "outputs": [],
   "source": [
    "def pr_k_curve(y_true, y_scores, save_target=None):\n",
    "    k_values = list(np.arange(0.1, 1.1, 0.1))\n",
    "    pr_k = pd.DataFrame()\n",
    "\n",
    "    for k in k_values:\n",
    "        d = dict()\n",
    "        d['k'] = k\n",
    "        ## get_top_k es una función que ordena los scores de\n",
    "        ## mayor a menor y toma los k% primeros\n",
    "        #top_k = get_top_k(y_scores, k)\n",
    "        #top_k = y_scores\n",
    "        # print(precision_at_k(y_true, y_scores, k))\n",
    "        d['precision'] = precision_at_k(y_true, y_scores, k)#(top_k)\n",
    "        d['recall'] = recall_at_k(y_true, y_scores, k)#(top_k, predictions)\n",
    "\n",
    "        pr_k = pr_k.append(d, ignore_index=True)\n",
    "\n",
    "    # para la gráfica\n",
    "    fig, ax1 = plt.subplots()\n",
    "    ax1.plot(pr_k['k'], pr_k['precision'], label='precision')\n",
    "    ax1.plot(pr_k['k'], pr_k['recall'], label='recall')\n",
    "    plt.legend()\n",
    "\n",
    "    if save_target is not None:\n",
    "        plt.savefig(save_target, dpi=300)\n",
    "    else:\n",
    "        plt.show\n",
    "\n",
    "    return pr_k"
   ]
  },
  {
   "cell_type": "code",
   "execution_count": 123,
   "metadata": {
    "ExecuteTime": {
     "end_time": "2020-12-04T15:09:08.646177Z",
     "start_time": "2020-12-04T15:09:08.331409Z"
    }
   },
   "outputs": [
    {
     "data": {
      "text/plain": [
       "0.0022981972742886093"
      ]
     },
     "execution_count": 123,
     "metadata": {},
     "output_type": "execute_result"
    }
   ],
   "source": [
    "k = ambulancias_disponibles_al_dia/num_llamadas_al_dia\n",
    "precision_at_k(predicted_labels, y_test, k)"
   ]
  },
  {
   "cell_type": "code",
   "execution_count": 124,
   "metadata": {
    "ExecuteTime": {
     "end_time": "2020-12-04T15:09:12.426510Z",
     "start_time": "2020-12-04T15:09:12.127177Z"
    }
   },
   "outputs": [
    {
     "data": {
      "text/plain": [
       "0.19510954465680508"
      ]
     },
     "execution_count": 124,
     "metadata": {},
     "output_type": "execute_result"
    }
   ],
   "source": [
    "precision_at_k(y_test, predicted_labels, k)"
   ]
  },
  {
   "cell_type": "code",
   "execution_count": 125,
   "metadata": {
    "ExecuteTime": {
     "end_time": "2020-12-04T15:09:14.380991Z",
     "start_time": "2020-12-04T15:09:14.215998Z"
    }
   },
   "outputs": [
    {
     "data": {
      "text/plain": [
       "set()"
      ]
     },
     "execution_count": 125,
     "metadata": {},
     "output_type": "execute_result"
    }
   ],
   "source": [
    "set(y_test) - set(predicted_labels)"
   ]
  },
  {
   "cell_type": "code",
   "execution_count": 126,
   "metadata": {
    "ExecuteTime": {
     "end_time": "2020-12-04T15:09:17.988977Z",
     "start_time": "2020-12-04T15:09:17.692509Z"
    }
   },
   "outputs": [
    {
     "data": {
      "text/plain": [
       "0.4869109947643979"
      ]
     },
     "execution_count": 126,
     "metadata": {},
     "output_type": "execute_result"
    }
   ],
   "source": [
    "recall_at_k(predicted_labels, y_test, k)"
   ]
  },
  {
   "cell_type": "code",
   "execution_count": 128,
   "metadata": {
    "ExecuteTime": {
     "end_time": "2020-12-04T15:09:39.349923Z",
     "start_time": "2020-12-04T15:09:34.233799Z"
    }
   },
   "outputs": [
    {
     "data": {
      "text/html": [
       "<div>\n",
       "<style scoped>\n",
       "    .dataframe tbody tr th:only-of-type {\n",
       "        vertical-align: middle;\n",
       "    }\n",
       "\n",
       "    .dataframe tbody tr th {\n",
       "        vertical-align: top;\n",
       "    }\n",
       "\n",
       "    .dataframe thead th {\n",
       "        text-align: right;\n",
       "    }\n",
       "</style>\n",
       "<table border=\"1\" class=\"dataframe\">\n",
       "  <thead>\n",
       "    <tr style=\"text-align: right;\">\n",
       "      <th></th>\n",
       "      <th>k</th>\n",
       "      <th>precision</th>\n",
       "      <th>recall</th>\n",
       "    </tr>\n",
       "  </thead>\n",
       "  <tbody>\n",
       "    <tr>\n",
       "      <th>0</th>\n",
       "      <td>0.1</td>\n",
       "      <td>0.002298</td>\n",
       "      <td>0.486911</td>\n",
       "    </tr>\n",
       "    <tr>\n",
       "      <th>1</th>\n",
       "      <td>0.2</td>\n",
       "      <td>0.000921</td>\n",
       "      <td>1.000000</td>\n",
       "    </tr>\n",
       "    <tr>\n",
       "      <th>2</th>\n",
       "      <td>0.3</td>\n",
       "      <td>0.000921</td>\n",
       "      <td>1.000000</td>\n",
       "    </tr>\n",
       "    <tr>\n",
       "      <th>3</th>\n",
       "      <td>0.4</td>\n",
       "      <td>0.000921</td>\n",
       "      <td>1.000000</td>\n",
       "    </tr>\n",
       "    <tr>\n",
       "      <th>4</th>\n",
       "      <td>0.5</td>\n",
       "      <td>0.000921</td>\n",
       "      <td>1.000000</td>\n",
       "    </tr>\n",
       "    <tr>\n",
       "      <th>5</th>\n",
       "      <td>0.6</td>\n",
       "      <td>0.000921</td>\n",
       "      <td>1.000000</td>\n",
       "    </tr>\n",
       "    <tr>\n",
       "      <th>6</th>\n",
       "      <td>0.7</td>\n",
       "      <td>0.000921</td>\n",
       "      <td>1.000000</td>\n",
       "    </tr>\n",
       "    <tr>\n",
       "      <th>7</th>\n",
       "      <td>0.8</td>\n",
       "      <td>0.000921</td>\n",
       "      <td>1.000000</td>\n",
       "    </tr>\n",
       "    <tr>\n",
       "      <th>8</th>\n",
       "      <td>0.9</td>\n",
       "      <td>0.000921</td>\n",
       "      <td>1.000000</td>\n",
       "    </tr>\n",
       "    <tr>\n",
       "      <th>9</th>\n",
       "      <td>1.0</td>\n",
       "      <td>0.000921</td>\n",
       "      <td>1.000000</td>\n",
       "    </tr>\n",
       "  </tbody>\n",
       "</table>\n",
       "</div>"
      ],
      "text/plain": [
       "     k  precision    recall\n",
       "0  0.1   0.002298  0.486911\n",
       "1  0.2   0.000921  1.000000\n",
       "2  0.3   0.000921  1.000000\n",
       "3  0.4   0.000921  1.000000\n",
       "4  0.5   0.000921  1.000000\n",
       "5  0.6   0.000921  1.000000\n",
       "6  0.7   0.000921  1.000000\n",
       "7  0.8   0.000921  1.000000\n",
       "8  0.9   0.000921  1.000000\n",
       "9  1.0   0.000921  1.000000"
      ]
     },
     "execution_count": 128,
     "metadata": {},
     "output_type": "execute_result"
    },
    {
     "data": {
      "image/png": "[encoded data removed]",
      "text/plain": [
       "<Figure size 432x288 with 1 Axes>"
      ]
     },
     "metadata": {
      "needs_background": "light"
     },
     "output_type": "display_data"
    }
   ],
   "source": [
    "pr_k_curve(predicted_labels, y_test)"
   ]
  },
  {
   "cell_type": "markdown",
   "metadata": {},
   "source": [
    "## Reporte de métricas"
   ]
  },
  {
   "cell_type": "code",
   "execution_count": 129,
   "metadata": {
    "ExecuteTime": {
     "end_time": "2020-12-04T15:09:42.861472Z",
     "start_time": "2020-12-04T15:09:42.851780Z"
    }
   },
   "outputs": [],
   "source": [
    "def get_metrics_report(fpr, tpr, thresholds, precision, recall, thresholds_2):\n",
    "    df_1 = pd.DataFrame({'threshold': thresholds_2,'precision': precision,\n",
    "                    'recall': recall})\n",
    "    df_1['f1_score'] = 2 * (df_1.precision * df_1.recall) / (df_1.precision + df_1.recall)\n",
    "    \n",
    "    df_2 = pd.DataFrame({'tpr': tpr, 'fpr': fpr, 'threshold': thresholds})\n",
    "    df_2['tnr'] = 1 - df_2['fpr']\n",
    "    df_2['fnr'] = 1 - df_2['tpr']\n",
    "    \n",
    "    df = df_1.merge(df_2, on=\"threshold\")\n",
    "    \n",
    "    return df"
   ]
  },
  {
   "cell_type": "code",
   "execution_count": 130,
   "metadata": {
    "ExecuteTime": {
     "end_time": "2020-12-04T15:09:44.798481Z",
     "start_time": "2020-12-04T15:09:43.890943Z"
    }
   },
   "outputs": [
    {
     "data": {
      "text/html": [
       "<div>\n",
       "<style scoped>\n",
       "    .dataframe tbody tr th:only-of-type {\n",
       "        vertical-align: middle;\n",
       "    }\n",
       "\n",
       "    .dataframe tbody tr th {\n",
       "        vertical-align: top;\n",
       "    }\n",
       "\n",
       "    .dataframe thead th {\n",
       "        text-align: right;\n",
       "    }\n",
       "</style>\n",
       "<table border=\"1\" class=\"dataframe\">\n",
       "  <thead>\n",
       "    <tr style=\"text-align: right;\">\n",
       "      <th></th>\n",
       "      <th>threshold</th>\n",
       "      <th>precision</th>\n",
       "      <th>recall</th>\n",
       "      <th>f1_score</th>\n",
       "      <th>tpr</th>\n",
       "      <th>fpr</th>\n",
       "      <th>tnr</th>\n",
       "      <th>fnr</th>\n",
       "    </tr>\n",
       "  </thead>\n",
       "  <tbody>\n",
       "    <tr>\n",
       "      <th>0</th>\n",
       "      <td>0.007078</td>\n",
       "      <td>0.195157</td>\n",
       "      <td>1.000000</td>\n",
       "      <td>0.326579</td>\n",
       "      <td>1.000000</td>\n",
       "      <td>0.999700</td>\n",
       "      <td>0.000300</td>\n",
       "      <td>0.000000</td>\n",
       "    </tr>\n",
       "    <tr>\n",
       "      <th>1</th>\n",
       "      <td>0.007097</td>\n",
       "      <td>0.195155</td>\n",
       "      <td>0.999988</td>\n",
       "      <td>0.326576</td>\n",
       "      <td>0.999988</td>\n",
       "      <td>0.999700</td>\n",
       "      <td>0.000300</td>\n",
       "      <td>0.000012</td>\n",
       "    </tr>\n",
       "    <tr>\n",
       "      <th>2</th>\n",
       "      <td>0.008386</td>\n",
       "      <td>0.195196</td>\n",
       "      <td>0.999988</td>\n",
       "      <td>0.326633</td>\n",
       "      <td>0.999988</td>\n",
       "      <td>0.999440</td>\n",
       "      <td>0.000560</td>\n",
       "      <td>0.000012</td>\n",
       "    </tr>\n",
       "    <tr>\n",
       "      <th>3</th>\n",
       "      <td>0.008409</td>\n",
       "      <td>0.195192</td>\n",
       "      <td>0.999963</td>\n",
       "      <td>0.326626</td>\n",
       "      <td>0.999963</td>\n",
       "      <td>0.999440</td>\n",
       "      <td>0.000560</td>\n",
       "      <td>0.000037</td>\n",
       "    </tr>\n",
       "    <tr>\n",
       "      <th>4</th>\n",
       "      <td>0.008546</td>\n",
       "      <td>0.195199</td>\n",
       "      <td>0.999963</td>\n",
       "      <td>0.326636</td>\n",
       "      <td>0.999963</td>\n",
       "      <td>0.999395</td>\n",
       "      <td>0.000605</td>\n",
       "      <td>0.000037</td>\n",
       "    </tr>\n",
       "    <tr>\n",
       "      <th>...</th>\n",
       "      <td>...</td>\n",
       "      <td>...</td>\n",
       "      <td>...</td>\n",
       "      <td>...</td>\n",
       "      <td>...</td>\n",
       "      <td>...</td>\n",
       "      <td>...</td>\n",
       "      <td>...</td>\n",
       "    </tr>\n",
       "    <tr>\n",
       "      <th>172595</th>\n",
       "      <td>0.667655</td>\n",
       "      <td>0.888889</td>\n",
       "      <td>0.000198</td>\n",
       "      <td>0.000395</td>\n",
       "      <td>0.000198</td>\n",
       "      <td>0.000006</td>\n",
       "      <td>0.999994</td>\n",
       "      <td>0.999802</td>\n",
       "    </tr>\n",
       "    <tr>\n",
       "      <th>172596</th>\n",
       "      <td>0.670906</td>\n",
       "      <td>0.941176</td>\n",
       "      <td>0.000198</td>\n",
       "      <td>0.000395</td>\n",
       "      <td>0.000198</td>\n",
       "      <td>0.000003</td>\n",
       "      <td>0.999997</td>\n",
       "      <td>0.999802</td>\n",
       "    </tr>\n",
       "    <tr>\n",
       "      <th>172597</th>\n",
       "      <td>0.671876</td>\n",
       "      <td>0.937500</td>\n",
       "      <td>0.000185</td>\n",
       "      <td>0.000371</td>\n",
       "      <td>0.000185</td>\n",
       "      <td>0.000003</td>\n",
       "      <td>0.999997</td>\n",
       "      <td>0.999815</td>\n",
       "    </tr>\n",
       "    <tr>\n",
       "      <th>172598</th>\n",
       "      <td>0.675174</td>\n",
       "      <td>1.000000</td>\n",
       "      <td>0.000185</td>\n",
       "      <td>0.000371</td>\n",
       "      <td>0.000185</td>\n",
       "      <td>0.000000</td>\n",
       "      <td>1.000000</td>\n",
       "      <td>0.999815</td>\n",
       "    </tr>\n",
       "    <tr>\n",
       "      <th>172599</th>\n",
       "      <td>0.913750</td>\n",
       "      <td>1.000000</td>\n",
       "      <td>0.000012</td>\n",
       "      <td>0.000025</td>\n",
       "      <td>0.000012</td>\n",
       "      <td>0.000000</td>\n",
       "      <td>1.000000</td>\n",
       "      <td>0.999988</td>\n",
       "    </tr>\n",
       "  </tbody>\n",
       "</table>\n",
       "<p>172600 rows × 8 columns</p>\n",
       "</div>"
      ],
      "text/plain": [
       "        threshold  precision    recall  f1_score       tpr       fpr  \\\n",
       "0        0.007078   0.195157  1.000000  0.326579  1.000000  0.999700   \n",
       "1        0.007097   0.195155  0.999988  0.326576  0.999988  0.999700   \n",
       "2        0.008386   0.195196  0.999988  0.326633  0.999988  0.999440   \n",
       "3        0.008409   0.195192  0.999963  0.326626  0.999963  0.999440   \n",
       "4        0.008546   0.195199  0.999963  0.326636  0.999963  0.999395   \n",
       "...           ...        ...       ...       ...       ...       ...   \n",
       "172595   0.667655   0.888889  0.000198  0.000395  0.000198  0.000006   \n",
       "172596   0.670906   0.941176  0.000198  0.000395  0.000198  0.000003   \n",
       "172597   0.671876   0.937500  0.000185  0.000371  0.000185  0.000003   \n",
       "172598   0.675174   1.000000  0.000185  0.000371  0.000185  0.000000   \n",
       "172599   0.913750   1.000000  0.000012  0.000025  0.000012  0.000000   \n",
       "\n",
       "             tnr       fnr  \n",
       "0       0.000300  0.000000  \n",
       "1       0.000300  0.000012  \n",
       "2       0.000560  0.000012  \n",
       "3       0.000560  0.000037  \n",
       "4       0.000605  0.000037  \n",
       "...          ...       ...  \n",
       "172595  0.999994  0.999802  \n",
       "172596  0.999997  0.999802  \n",
       "172597  0.999997  0.999815  \n",
       "172598  1.000000  0.999815  \n",
       "172599  1.000000  0.999988  \n",
       "\n",
       "[172600 rows x 8 columns]"
      ]
     },
     "execution_count": 130,
     "metadata": {},
     "output_type": "execute_result"
    }
   ],
   "source": [
    "metrics_report = get_metrics_report(fpr, tpr, thresholds, precision, recall, thresholds_2)\n",
    "metrics_report"
   ]
  },
  {
   "cell_type": "code",
   "execution_count": 132,
   "metadata": {
    "ExecuteTime": {
     "end_time": "2020-12-04T15:10:28.015971Z",
     "start_time": "2020-12-04T15:10:26.503877Z"
    }
   },
   "outputs": [
    {
     "data": {
      "image/png": "[encoded data removed]",
      "text/plain": [
       "<Figure size 432x288 with 1 Axes>"
      ]
     },
     "metadata": {
      "needs_background": "light"
     },
     "output_type": "display_data"
    }
   ],
   "source": [
    "plt.plot(metrics_report.threshold, metrics_report.precision, label=\"precision\")\n",
    "plt.plot(metrics_report.threshold, metrics_report.recall, label=\"recall\")\n",
    "plt.plot(metrics_report.threshold, metrics_report.tnr, label=\"true negative rate\")\n",
    "plt.legend(loc=\"best\")\n",
    "plt.show();"
   ]
  },
  {
   "cell_type": "markdown",
   "metadata": {},
   "source": [
    "¿Qué métrica escogemos?"
   ]
  },
  {
   "cell_type": "markdown",
   "metadata": {},
   "source": [
    "TP = El modelo dice que es llamada falsa,    y sí es llamada falsa\n",
    "\n",
    "TN = El modelo dice que es llamada no falsa, y no es llamada falsa**\n",
    "\n",
    "FP = El modelo dice que es llamada falsa,    y no es llamada falsa\n",
    "\n",
    "FN = El modelo dice que es llamada no falsa,   y sí es llamada falsa"
   ]
  },
  {
   "cell_type": "markdown",
   "metadata": {},
   "source": [
    "Decidimos TNR dado que nos interesa ayudar verificar que una llamada que el modelo dice que no es falsa, realmente no es falsa, ya que probablemente se necesite enviar una ambulancia.\n",
    "\n",
    "De acuerdo a las métricas del negocio, les interesa tener un TNR mayor al 80%. Es decir, de 10 llamadas que el modelo dice que son llamadas legítimas, por lo menos 8 deben ser realmente legítimas."
   ]
  },
  {
   "cell_type": "code",
   "execution_count": 80,
   "metadata": {
    "ExecuteTime": {
     "end_time": "2020-12-04T14:16:41.870249Z",
     "start_time": "2020-12-04T14:16:41.842820Z"
    }
   },
   "outputs": [],
   "source": [
    "negocio = metrics_report[metrics_report.tnr >= 0.8]"
   ]
  },
  {
   "cell_type": "code",
   "execution_count": 81,
   "metadata": {
    "ExecuteTime": {
     "end_time": "2020-12-04T14:16:42.836980Z",
     "start_time": "2020-12-04T14:16:42.807833Z"
    }
   },
   "outputs": [
    {
     "data": {
      "text/html": [
       "<div>\n",
       "<style scoped>\n",
       "    .dataframe tbody tr th:only-of-type {\n",
       "        vertical-align: middle;\n",
       "    }\n",
       "\n",
       "    .dataframe tbody tr th {\n",
       "        vertical-align: top;\n",
       "    }\n",
       "\n",
       "    .dataframe thead th {\n",
       "        text-align: right;\n",
       "    }\n",
       "</style>\n",
       "<table border=\"1\" class=\"dataframe\">\n",
       "  <thead>\n",
       "    <tr style=\"text-align: right;\">\n",
       "      <th></th>\n",
       "      <th>threshold</th>\n",
       "      <th>precision</th>\n",
       "      <th>recall</th>\n",
       "      <th>f1_score</th>\n",
       "      <th>tpr</th>\n",
       "      <th>fpr</th>\n",
       "      <th>tnr</th>\n",
       "      <th>fnr</th>\n",
       "    </tr>\n",
       "  </thead>\n",
       "  <tbody>\n",
       "    <tr>\n",
       "      <th>117887</th>\n",
       "      <td>0.290330</td>\n",
       "      <td>0.303302</td>\n",
       "      <td>0.359186</td>\n",
       "      <td>0.328887</td>\n",
       "      <td>0.359186</td>\n",
       "      <td>0.200000</td>\n",
       "      <td>0.800000</td>\n",
       "      <td>0.640814</td>\n",
       "    </tr>\n",
       "    <tr>\n",
       "      <th>117888</th>\n",
       "      <td>0.290332</td>\n",
       "      <td>0.303309</td>\n",
       "      <td>0.359186</td>\n",
       "      <td>0.328891</td>\n",
       "      <td>0.359186</td>\n",
       "      <td>0.199994</td>\n",
       "      <td>0.800006</td>\n",
       "      <td>0.640814</td>\n",
       "    </tr>\n",
       "    <tr>\n",
       "      <th>117889</th>\n",
       "      <td>0.290333</td>\n",
       "      <td>0.303321</td>\n",
       "      <td>0.359186</td>\n",
       "      <td>0.328898</td>\n",
       "      <td>0.359186</td>\n",
       "      <td>0.199982</td>\n",
       "      <td>0.800018</td>\n",
       "      <td>0.640814</td>\n",
       "    </tr>\n",
       "    <tr>\n",
       "      <th>117890</th>\n",
       "      <td>0.290333</td>\n",
       "      <td>0.303324</td>\n",
       "      <td>0.359186</td>\n",
       "      <td>0.328900</td>\n",
       "      <td>0.359186</td>\n",
       "      <td>0.199979</td>\n",
       "      <td>0.800021</td>\n",
       "      <td>0.640814</td>\n",
       "    </tr>\n",
       "    <tr>\n",
       "      <th>117891</th>\n",
       "      <td>0.290333</td>\n",
       "      <td>0.303317</td>\n",
       "      <td>0.359174</td>\n",
       "      <td>0.328891</td>\n",
       "      <td>0.359174</td>\n",
       "      <td>0.199979</td>\n",
       "      <td>0.800021</td>\n",
       "      <td>0.640826</td>\n",
       "    </tr>\n",
       "    <tr>\n",
       "      <th>...</th>\n",
       "      <td>...</td>\n",
       "      <td>...</td>\n",
       "      <td>...</td>\n",
       "      <td>...</td>\n",
       "      <td>...</td>\n",
       "      <td>...</td>\n",
       "      <td>...</td>\n",
       "      <td>...</td>\n",
       "    </tr>\n",
       "    <tr>\n",
       "      <th>151835</th>\n",
       "      <td>0.441980</td>\n",
       "      <td>0.250000</td>\n",
       "      <td>0.000025</td>\n",
       "      <td>0.000049</td>\n",
       "      <td>0.000025</td>\n",
       "      <td>0.000018</td>\n",
       "      <td>0.999982</td>\n",
       "      <td>0.999975</td>\n",
       "    </tr>\n",
       "    <tr>\n",
       "      <th>151836</th>\n",
       "      <td>0.443368</td>\n",
       "      <td>0.142857</td>\n",
       "      <td>0.000012</td>\n",
       "      <td>0.000025</td>\n",
       "      <td>0.000012</td>\n",
       "      <td>0.000018</td>\n",
       "      <td>0.999982</td>\n",
       "      <td>0.999988</td>\n",
       "    </tr>\n",
       "    <tr>\n",
       "      <th>151837</th>\n",
       "      <td>0.443369</td>\n",
       "      <td>0.166667</td>\n",
       "      <td>0.000012</td>\n",
       "      <td>0.000025</td>\n",
       "      <td>0.000012</td>\n",
       "      <td>0.000015</td>\n",
       "      <td>0.999985</td>\n",
       "      <td>0.999988</td>\n",
       "    </tr>\n",
       "    <tr>\n",
       "      <th>151838</th>\n",
       "      <td>0.446640</td>\n",
       "      <td>0.000000</td>\n",
       "      <td>0.000000</td>\n",
       "      <td>NaN</td>\n",
       "      <td>0.000000</td>\n",
       "      <td>0.000009</td>\n",
       "      <td>0.999991</td>\n",
       "      <td>1.000000</td>\n",
       "    </tr>\n",
       "    <tr>\n",
       "      <th>151839</th>\n",
       "      <td>0.452900</td>\n",
       "      <td>0.000000</td>\n",
       "      <td>0.000000</td>\n",
       "      <td>NaN</td>\n",
       "      <td>0.000000</td>\n",
       "      <td>0.000003</td>\n",
       "      <td>0.999997</td>\n",
       "      <td>1.000000</td>\n",
       "    </tr>\n",
       "  </tbody>\n",
       "</table>\n",
       "<p>33953 rows × 8 columns</p>\n",
       "</div>"
      ],
      "text/plain": [
       "        threshold  precision    recall  f1_score       tpr       fpr  \\\n",
       "117887   0.290330   0.303302  0.359186  0.328887  0.359186  0.200000   \n",
       "117888   0.290332   0.303309  0.359186  0.328891  0.359186  0.199994   \n",
       "117889   0.290333   0.303321  0.359186  0.328898  0.359186  0.199982   \n",
       "117890   0.290333   0.303324  0.359186  0.328900  0.359186  0.199979   \n",
       "117891   0.290333   0.303317  0.359174  0.328891  0.359174  0.199979   \n",
       "...           ...        ...       ...       ...       ...       ...   \n",
       "151835   0.441980   0.250000  0.000025  0.000049  0.000025  0.000018   \n",
       "151836   0.443368   0.142857  0.000012  0.000025  0.000012  0.000018   \n",
       "151837   0.443369   0.166667  0.000012  0.000025  0.000012  0.000015   \n",
       "151838   0.446640   0.000000  0.000000       NaN  0.000000  0.000009   \n",
       "151839   0.452900   0.000000  0.000000       NaN  0.000000  0.000003   \n",
       "\n",
       "             tnr       fnr  \n",
       "117887  0.800000  0.640814  \n",
       "117888  0.800006  0.640814  \n",
       "117889  0.800018  0.640814  \n",
       "117890  0.800021  0.640814  \n",
       "117891  0.800021  0.640826  \n",
       "...          ...       ...  \n",
       "151835  0.999982  0.999975  \n",
       "151836  0.999982  0.999988  \n",
       "151837  0.999985  0.999988  \n",
       "151838  0.999991  1.000000  \n",
       "151839  0.999997  1.000000  \n",
       "\n",
       "[33953 rows x 8 columns]"
      ]
     },
     "execution_count": 81,
     "metadata": {},
     "output_type": "execute_result"
    }
   ],
   "source": [
    "negocio"
   ]
  },
  {
   "cell_type": "markdown",
   "metadata": {},
   "source": [
    "Matriz asociada a este punto de corte"
   ]
  },
  {
   "cell_type": "code",
   "execution_count": 94,
   "metadata": {
    "ExecuteTime": {
     "end_time": "2020-12-04T14:18:19.380563Z",
     "start_time": "2020-12-04T14:18:19.374620Z"
    }
   },
   "outputs": [],
   "source": [
    "punto_corte = negocio.head(1).threshold.values[0]\n",
    "punto_corte = .32"
   ]
  },
  {
   "cell_type": "code",
   "execution_count": 95,
   "metadata": {
    "ExecuteTime": {
     "end_time": "2020-12-04T14:18:20.039654Z",
     "start_time": "2020-12-04T14:18:19.934262Z"
    }
   },
   "outputs": [],
   "source": [
    "new_labels = [0 if score < punto_corte else 1 for score in predicted_probs.probability_1]"
   ]
  },
  {
   "cell_type": "code",
   "execution_count": 96,
   "metadata": {
    "ExecuteTime": {
     "end_time": "2020-12-04T14:18:20.563278Z",
     "start_time": "2020-12-04T14:18:20.363956Z"
    }
   },
   "outputs": [
    {
     "data": {
      "text/plain": [
       "39033"
      ]
     },
     "execution_count": 96,
     "metadata": {},
     "output_type": "execute_result"
    }
   ],
   "source": [
    "pd.Series(new_labels).sum()"
   ]
  },
  {
   "cell_type": "markdown",
   "metadata": {},
   "source": [
    "En la siguiente matriz de confusión podemos ver que con el nuevo punto de corte generamos más Falsos Positivo.\n",
    "\n",
    "Columnas = Predicción\n",
    "\n",
    "Renglones = Groundtruth"
   ]
  },
  {
   "cell_type": "code",
   "execution_count": 101,
   "metadata": {
    "ExecuteTime": {
     "end_time": "2020-12-04T14:19:58.007990Z",
     "start_time": "2020-12-04T14:19:57.996496Z"
    }
   },
   "outputs": [
    {
     "data": {
      "text/plain": [
       "967884"
      ]
     },
     "execution_count": 101,
     "metadata": {},
     "output_type": "execute_result"
    }
   ],
   "source": [
    "len(y_train)"
   ]
  },
  {
   "cell_type": "code",
   "execution_count": 97,
   "metadata": {
    "ExecuteTime": {
     "end_time": "2020-12-04T14:18:22.224671Z",
     "start_time": "2020-12-04T14:18:21.734510Z"
    }
   },
   "outputs": [
    {
     "data": {
      "text/html": [
       "<div>\n",
       "<style scoped>\n",
       "    .dataframe tbody tr th:only-of-type {\n",
       "        vertical-align: middle;\n",
       "    }\n",
       "\n",
       "    .dataframe tbody tr th {\n",
       "        vertical-align: top;\n",
       "    }\n",
       "\n",
       "    .dataframe thead th {\n",
       "        text-align: right;\n",
       "    }\n",
       "</style>\n",
       "<table border=\"1\" class=\"dataframe\">\n",
       "  <thead>\n",
       "    <tr style=\"text-align: right;\">\n",
       "      <th></th>\n",
       "      <th>0</th>\n",
       "      <th>1</th>\n",
       "    </tr>\n",
       "  </thead>\n",
       "  <tbody>\n",
       "    <tr>\n",
       "      <th>0</th>\n",
       "      <td>307238</td>\n",
       "      <td>26637</td>\n",
       "    </tr>\n",
       "    <tr>\n",
       "      <th>1</th>\n",
       "      <td>68537</td>\n",
       "      <td>12396</td>\n",
       "    </tr>\n",
       "  </tbody>\n",
       "</table>\n",
       "</div>"
      ],
      "text/plain": [
       "        0      1\n",
       "0  307238  26637\n",
       "1   68537  12396"
      ]
     },
     "execution_count": 97,
     "metadata": {},
     "output_type": "execute_result"
    }
   ],
   "source": [
    "pd.DataFrame(confusion_matrix(y_test, new_labels))"
   ]
  },
  {
   "cell_type": "markdown",
   "metadata": {},
   "source": [
    "Matriz de confusión original:"
   ]
  },
  {
   "cell_type": "code",
   "execution_count": 98,
   "metadata": {
    "ExecuteTime": {
     "end_time": "2020-12-04T14:18:24.286674Z",
     "start_time": "2020-12-04T14:18:23.893667Z"
    },
    "scrolled": true
   },
   "outputs": [
    {
     "data": {
      "text/html": [
       "<div>\n",
       "<style scoped>\n",
       "    .dataframe tbody tr th:only-of-type {\n",
       "        vertical-align: middle;\n",
       "    }\n",
       "\n",
       "    .dataframe tbody tr th {\n",
       "        vertical-align: top;\n",
       "    }\n",
       "\n",
       "    .dataframe thead th {\n",
       "        text-align: right;\n",
       "    }\n",
       "</style>\n",
       "<table border=\"1\" class=\"dataframe\">\n",
       "  <thead>\n",
       "    <tr style=\"text-align: right;\">\n",
       "      <th></th>\n",
       "      <th>0</th>\n",
       "      <th>1</th>\n",
       "    </tr>\n",
       "  </thead>\n",
       "  <tbody>\n",
       "    <tr>\n",
       "      <th>0</th>\n",
       "      <td>333875</td>\n",
       "      <td>0</td>\n",
       "    </tr>\n",
       "    <tr>\n",
       "      <th>1</th>\n",
       "      <td>80933</td>\n",
       "      <td>0</td>\n",
       "    </tr>\n",
       "  </tbody>\n",
       "</table>\n",
       "</div>"
      ],
      "text/plain": [
       "        0  1\n",
       "0  333875  0\n",
       "1   80933  0"
      ]
     },
     "execution_count": 98,
     "metadata": {},
     "output_type": "execute_result"
    }
   ],
   "source": [
    "pd.DataFrame(confusion_matrix(y_test, predicted_labels))"
   ]
  }
 ],
 "metadata": {
  "kernelspec": {
   "display_name": "Python 3",
   "language": "python",
   "name": "python3"
  },
  "language_info": {
   "codemirror_mode": {
    "name": "ipython",
    "version": 3
   },
   "file_extension": ".py",
   "mimetype": "text/x-python",
   "name": "python",
   "nbconvert_exporter": "python",
   "pygments_lexer": "ipython3",
   "version": "3.7.7"
  }
 },
 "nbformat": 4,
 "nbformat_minor": 4
}
