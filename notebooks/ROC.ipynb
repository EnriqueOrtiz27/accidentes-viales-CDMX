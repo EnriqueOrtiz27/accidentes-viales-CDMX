{
 "cells": [
  {
   "cell_type": "code",
   "execution_count": 1,
   "metadata": {},
   "outputs": [],
   "source": [
    "import pickle\n",
    "import joblib\n",
    "import sklearn\n",
    "import random\n",
    "import os\n",
    "import pandas as pd\n",
    "import numpy as np\n",
    "\n",
    "from src.pipelines.magic_loop import load_transformation, filter_drop, \\\n",
    "                                      transformation_pipeline, train_test_split, NUM_VARS, CAT_VARS\n",
    "\n",
    "from sklearn.preprocessing import OneHotEncoder\n",
    "from sklearn.compose import ColumnTransformer"
   ]
  },
  {
   "cell_type": "code",
   "execution_count": 2,
   "metadata": {},
   "outputs": [
    {
     "data": {
      "text/plain": [
       "'0.23.2'"
      ]
     },
     "execution_count": 2,
     "metadata": {},
     "output_type": "execute_result"
    }
   ],
   "source": [
    "sklearn.__version__"
   ]
  },
  {
   "cell_type": "code",
   "execution_count": 3,
   "metadata": {},
   "outputs": [],
   "source": [
    "os.chdir(\"..\")"
   ]
  },
  {
   "cell_type": "code",
   "execution_count": 4,
   "metadata": {},
   "outputs": [
    {
     "data": {
      "text/plain": [
       "'/home/carotova/Documents/MCD/Intro_DS/accidentes-viales-CDMX'"
      ]
     },
     "execution_count": 4,
     "metadata": {},
     "output_type": "execute_result"
    }
   ],
   "source": [
    "path = os.getcwd()\n",
    "path"
   ]
  },
  {
   "cell_type": "code",
   "execution_count": 5,
   "metadata": {},
   "outputs": [
    {
     "data": {
      "text/plain": [
       "'0.16.0'"
      ]
     },
     "execution_count": 5,
     "metadata": {},
     "output_type": "execute_result"
    }
   ],
   "source": [
    "joblib.__version__"
   ]
  },
  {
   "cell_type": "code",
   "execution_count": 6,
   "metadata": {},
   "outputs": [],
   "source": [
    "ambulancias_disponibles_al_dia = 20.0\n",
    "num_llamadas_al_dia = 550.0"
   ]
  },
  {
   "cell_type": "code",
   "execution_count": 7,
   "metadata": {},
   "outputs": [
    {
     "name": "stdout",
     "output_type": "stream",
     "text": [
      "Opening feature engineering pickle from output path\n",
      "Feature Engineering pickle successfully retrieved.\n"
     ]
    }
   ],
   "source": [
    "df = load_transformation(path)"
   ]
  },
  {
   "cell_type": "code",
   "execution_count": 8,
   "metadata": {},
   "outputs": [],
   "source": [
    "# Load all X_train, y_train, X_test, y test\n",
    "X_train = pickle.load(open(\"output/X_train.pkl\", 'rb'))\n",
    "y_train = pickle.load(open(\"output/Y_train.pkl\", 'rb'))\n",
    "X_test = pickle.load(open(\"output/X_test.pkl\", 'rb'))\n",
    "y_test = pickle.load(open(\"output/Y_test.pkl\", 'rb'))"
   ]
  },
  {
   "cell_type": "code",
   "execution_count": 9,
   "metadata": {},
   "outputs": [],
   "source": [
    "general = pd.concat([X_train, X_test])"
   ]
  },
  {
   "cell_type": "code",
   "execution_count": 13,
   "metadata": {},
   "outputs": [
    {
     "data": {
      "text/plain": [
       "(967884, 36)"
      ]
     },
     "execution_count": 13,
     "metadata": {},
     "output_type": "execute_result"
    }
   ],
   "source": [
    "X_train.shape"
   ]
  },
  {
   "cell_type": "code",
   "execution_count": 15,
   "metadata": {},
   "outputs": [
    {
     "data": {
      "text/plain": [
       "(967884,)"
      ]
     },
     "execution_count": 15,
     "metadata": {},
     "output_type": "execute_result"
    }
   ],
   "source": [
    "y_train.shape"
   ]
  },
  {
   "cell_type": "code",
   "execution_count": 16,
   "metadata": {},
   "outputs": [
    {
     "data": {
      "text/plain": [
       "(414808, 36)"
      ]
     },
     "execution_count": 16,
     "metadata": {},
     "output_type": "execute_result"
    }
   ],
   "source": [
    "X_test.shape"
   ]
  },
  {
   "cell_type": "code",
   "execution_count": 17,
   "metadata": {},
   "outputs": [
    {
     "data": {
      "text/plain": [
       "(414808,)"
      ]
     },
     "execution_count": 17,
     "metadata": {},
     "output_type": "execute_result"
    }
   ],
   "source": [
    "y_test.shape"
   ]
  },
  {
   "cell_type": "code",
   "execution_count": 92,
   "metadata": {},
   "outputs": [
    {
     "data": {
      "text/plain": [
       "80933"
      ]
     },
     "execution_count": 92,
     "metadata": {},
     "output_type": "execute_result"
    }
   ],
   "source": [
    "y_test.sum()"
   ]
  },
  {
   "cell_type": "markdown",
   "metadata": {},
   "source": [
    "# Random Forest"
   ]
  },
  {
   "cell_type": "code",
   "execution_count": 9,
   "metadata": {},
   "outputs": [],
   "source": [
    "path = \"output/random_forest.joblib\"\n",
    "model = joblib.load(path)"
   ]
  },
  {
   "cell_type": "code",
   "execution_count": 10,
   "metadata": {},
   "outputs": [
    {
     "data": {
      "text/plain": [
       "GridSearchCV(cv=TimeSeriesSplit(max_train_size=None, n_splits=5),\n",
       "             estimator=RandomForestClassifier(oob_score=1, random_state=1789),\n",
       "             n_jobs=-1,\n",
       "             param_grid={'max_depth': [5, 10, 15],\n",
       "                         'n_estimators': [100, 200, 400]},\n",
       "             scoring='precision')"
      ]
     },
     "execution_count": 10,
     "metadata": {},
     "output_type": "execute_result"
    }
   ],
   "source": [
    "model"
   ]
  },
  {
   "cell_type": "code",
   "execution_count": 11,
   "metadata": {},
   "outputs": [
    {
     "data": {
      "text/plain": [
       "{'max_depth': 15, 'n_estimators': 100}"
      ]
     },
     "execution_count": 11,
     "metadata": {},
     "output_type": "execute_result"
    }
   ],
   "source": [
    "model.best_params_"
   ]
  },
  {
   "cell_type": "code",
   "execution_count": 12,
   "metadata": {},
   "outputs": [],
   "source": [
    "# predicciones con el mejor predictor \n",
    "predicted_labels = model.predict(X_test)"
   ]
  },
  {
   "cell_type": "code",
   "execution_count": 13,
   "metadata": {},
   "outputs": [
    {
     "data": {
      "text/plain": [
       "(414808,)"
      ]
     },
     "execution_count": 13,
     "metadata": {},
     "output_type": "execute_result"
    }
   ],
   "source": [
    "predicted_labels.shape"
   ]
  },
  {
   "cell_type": "code",
   "execution_count": 14,
   "metadata": {},
   "outputs": [],
   "source": [
    "# predicciones en score con el mejor predictor\n",
    "predicted_scores = model.predict_proba(X_test)"
   ]
  },
  {
   "cell_type": "code",
   "execution_count": 15,
   "metadata": {},
   "outputs": [
    {
     "data": {
      "text/plain": [
       "(414808, 2)"
      ]
     },
     "execution_count": 15,
     "metadata": {},
     "output_type": "execute_result"
    }
   ],
   "source": [
    "predicted_scores.shape"
   ]
  },
  {
   "cell_type": "markdown",
   "metadata": {},
   "source": [
    "## ROC"
   ]
  },
  {
   "cell_type": "code",
   "execution_count": 16,
   "metadata": {},
   "outputs": [
    {
     "data": {
      "image/png": "[encoded data removed]",
      "text/plain": [
       "<Figure size 432x288 with 1 Axes>"
      ]
     },
     "metadata": {
      "needs_background": "light"
     },
     "output_type": "display_data"
    }
   ],
   "source": [
    "from sklearn.metrics import roc_curve, roc_auc_score\n",
    "\n",
    "import matplotlib.pyplot as plt\n",
    "\n",
    "%matplotlib inline\n",
    "\n",
    "fpr, tpr, thresholds = roc_curve(y_test, predicted_scores[:,1], pos_label=1)\n",
    "\n",
    "plt.clf()\n",
    "plt.plot([0,1],[0,1], 'k--', c=\"red\")\n",
    "plt.plot(fpr, tpr)\n",
    "plt.title(\"ROC best RF, AUC: {}\".format(roc_auc_score(y_test, predicted_labels)))\n",
    "plt.xlabel(\"fpr\")\n",
    "plt.ylabel(\"tpr\")\n",
    "plt.show()"
   ]
  },
  {
   "cell_type": "markdown",
   "metadata": {},
   "source": [
    "## Matriz de confusión"
   ]
  },
  {
   "cell_type": "code",
   "execution_count": 17,
   "metadata": {},
   "outputs": [
    {
     "data": {
      "text/plain": [
       "array([[333679,    196],\n",
       "       [ 80821,    112]])"
      ]
     },
     "execution_count": 17,
     "metadata": {},
     "output_type": "execute_result"
    }
   ],
   "source": [
    "from sklearn.metrics import confusion_matrix\n",
    "\n",
    "confusion_matrix(y_test, predicted_labels)"
   ]
  },
  {
   "cell_type": "markdown",
   "metadata": {},
   "source": [
    "## Precision, recall, thresholds"
   ]
  },
  {
   "cell_type": "code",
   "execution_count": 18,
   "metadata": {},
   "outputs": [],
   "source": [
    "from sklearn.metrics import precision_recall_curve\n",
    "\n",
    "precision, recall, thresholds_2 = precision_recall_curve(y_test, predicted_scores[:,1], pos_label=1)"
   ]
  },
  {
   "cell_type": "code",
   "execution_count": 19,
   "metadata": {},
   "outputs": [],
   "source": [
    "thresholds_2 = np.append(thresholds_2, 1)"
   ]
  },
  {
   "cell_type": "code",
   "execution_count": 20,
   "metadata": {},
   "outputs": [
    {
     "data": {
      "text/plain": [
       "((192424,), (192424,), (192424,))"
      ]
     },
     "execution_count": 20,
     "metadata": {},
     "output_type": "execute_result"
    }
   ],
   "source": [
    "(precision.shape, recall.shape, thresholds_2.shape)"
   ]
  },
  {
   "cell_type": "code",
   "execution_count": 21,
   "metadata": {},
   "outputs": [],
   "source": [
    "from sklearn.metrics import precision_score\n",
    "\n",
    "def precision_at_k(y_true, y_scores, k):\n",
    "    threshold = np.sort(y_scores)[::-1][int(k*len(y_scores))]\n",
    "    y_pred = np.asarray([1 if i >= threshold else 0 for i in y_scores])\n",
    "\n",
    "    return precision_score(y_true, y_pred)"
   ]
  },
  {
   "cell_type": "code",
   "execution_count": 22,
   "metadata": {},
   "outputs": [],
   "source": [
    "from sklearn.metrics import precision_score\n",
    "\n",
    "def precision_at_k_(y_true, y_scores, k):\n",
    "    threshold = np.sort(y_scores)[::-1][int(k*(len(y_scores)-1))]\n",
    "    y_pred = np.asarray([1 if i >= threshold else 0 for i in y_scores])\n",
    "\n",
    "    return precision_score(y_true, y_pred)"
   ]
  },
  {
   "cell_type": "code",
   "execution_count": 23,
   "metadata": {},
   "outputs": [],
   "source": [
    "from sklearn.metrics import recall_score\n",
    "def recall_at_k(y_true, y_scores, k):\n",
    "    threshold = np.sort(y_scores)[::-1][int(k*len(y_scores))]\n",
    "    y_pred = np.asarray([1 if i >= threshold else 0 for i in y_scores])\n",
    "\n",
    "    return recall_score(y_true, y_pred)"
   ]
  },
  {
   "cell_type": "code",
   "execution_count": 24,
   "metadata": {},
   "outputs": [],
   "source": [
    "from sklearn.metrics import recall_score\n",
    "def recall_at_k_(y_true, y_scores, k):\n",
    "    threshold = np.sort(y_scores)[::-1][int(k*(len(y_scores)-1))]\n",
    "    y_pred = np.asarray([1 if i >= threshold else 0 for i in y_scores])\n",
    "\n",
    "    return recall_score(y_true, y_pred)"
   ]
  },
  {
   "cell_type": "code",
   "execution_count": 35,
   "metadata": {},
   "outputs": [],
   "source": [
    "def get_top_k(y_scores, k):\n",
    "    pass"
   ]
  },
  {
   "cell_type": "code",
   "execution_count": 29,
   "metadata": {},
   "outputs": [],
   "source": [
    "def pr_k_curve(y_true, y_scores, save_target=None):\n",
    "    k_values = list(np.arange(0.1, 1.1, 0.1))\n",
    "    pr_k = pd.DataFrame()\n",
    "\n",
    "    for k in k_values:\n",
    "        d = dict()\n",
    "        d['k'] = k\n",
    "        ## get_top_k es una función que ordena los scores de\n",
    "        ## mayor a menor y toma los k% primeros\n",
    "        #top_k = get_top_k(y_scores, k)\n",
    "        #top_k = y_scores\n",
    "        # print(precision_at_k(y_true, y_scores, k))\n",
    "        d['precision'] = precision_at_k_(y_true, y_scores, k)#(top_k)\n",
    "        d['recall'] = recall_at_k_(y_true, y_scores, k)#(top_k, predictions)\n",
    "\n",
    "        pr_k = pr_k.append(d, ignore_index=True)\n",
    "\n",
    "    # para la gráfica\n",
    "    fig, ax1 = plt.subplots()\n",
    "    ax1.plot(pr_k['k'], pr_k['precision'], label='precision')\n",
    "    ax1.plot(pr_k['k'], pr_k['recall'], label='recall')\n",
    "    plt.legend()\n",
    "\n",
    "    if save_target is not None:\n",
    "        plt.savefig(save_target, dpi=300)\n",
    "    else:\n",
    "        plt.show\n",
    "\n",
    "    return pr_k"
   ]
  },
  {
   "cell_type": "code",
   "execution_count": 30,
   "metadata": {},
   "outputs": [
    {
     "data": {
      "text/plain": [
       "0.0013838607243028185"
      ]
     },
     "execution_count": 30,
     "metadata": {},
     "output_type": "execute_result"
    }
   ],
   "source": [
    "k = ambulancias_disponibles_al_dia/num_llamadas_al_dia\n",
    "precision_at_k(predicted_labels, y_test, k)"
   ]
  },
  {
   "cell_type": "code",
   "execution_count": 89,
   "metadata": {},
   "outputs": [
    {
     "data": {
      "text/plain": [
       "0.19510954465680508"
      ]
     },
     "execution_count": 89,
     "metadata": {},
     "output_type": "execute_result"
    }
   ],
   "source": [
    "precision_at_k(y_test, predicted_labels, k)"
   ]
  },
  {
   "cell_type": "code",
   "execution_count": 31,
   "metadata": {},
   "outputs": [
    {
     "data": {
      "text/plain": [
       "0.36363636363636365"
      ]
     },
     "execution_count": 31,
     "metadata": {},
     "output_type": "execute_result"
    }
   ],
   "source": [
    "recall_at_k(predicted_labels, y_test, k)"
   ]
  },
  {
   "cell_type": "code",
   "execution_count": 88,
   "metadata": {},
   "outputs": [
    {
     "data": {
      "text/plain": [
       "1.0"
      ]
     },
     "execution_count": 88,
     "metadata": {},
     "output_type": "execute_result"
    }
   ],
   "source": [
    "recall_at_k(y_test, predicted_labels, k)"
   ]
  },
  {
   "cell_type": "code",
   "execution_count": 91,
   "metadata": {},
   "outputs": [
    {
     "data": {
      "text/html": [
       "<div>\n",
       "<style scoped>\n",
       "    .dataframe tbody tr th:only-of-type {\n",
       "        vertical-align: middle;\n",
       "    }\n",
       "\n",
       "    .dataframe tbody tr th {\n",
       "        vertical-align: top;\n",
       "    }\n",
       "\n",
       "    .dataframe thead th {\n",
       "        text-align: right;\n",
       "    }\n",
       "</style>\n",
       "<table border=\"1\" class=\"dataframe\">\n",
       "  <thead>\n",
       "    <tr style=\"text-align: right;\">\n",
       "      <th></th>\n",
       "      <th>k</th>\n",
       "      <th>precision</th>\n",
       "      <th>recall</th>\n",
       "    </tr>\n",
       "  </thead>\n",
       "  <tbody>\n",
       "    <tr>\n",
       "      <th>0</th>\n",
       "      <td>0.1</td>\n",
       "      <td>0.003447</td>\n",
       "      <td>0.330961</td>\n",
       "    </tr>\n",
       "    <tr>\n",
       "      <th>1</th>\n",
       "      <td>0.2</td>\n",
       "      <td>0.002032</td>\n",
       "      <td>1.000000</td>\n",
       "    </tr>\n",
       "    <tr>\n",
       "      <th>2</th>\n",
       "      <td>0.3</td>\n",
       "      <td>0.002032</td>\n",
       "      <td>1.000000</td>\n",
       "    </tr>\n",
       "    <tr>\n",
       "      <th>3</th>\n",
       "      <td>0.4</td>\n",
       "      <td>0.002032</td>\n",
       "      <td>1.000000</td>\n",
       "    </tr>\n",
       "    <tr>\n",
       "      <th>4</th>\n",
       "      <td>0.5</td>\n",
       "      <td>0.002032</td>\n",
       "      <td>1.000000</td>\n",
       "    </tr>\n",
       "    <tr>\n",
       "      <th>5</th>\n",
       "      <td>0.6</td>\n",
       "      <td>0.002032</td>\n",
       "      <td>1.000000</td>\n",
       "    </tr>\n",
       "    <tr>\n",
       "      <th>6</th>\n",
       "      <td>0.7</td>\n",
       "      <td>0.002032</td>\n",
       "      <td>1.000000</td>\n",
       "    </tr>\n",
       "    <tr>\n",
       "      <th>7</th>\n",
       "      <td>0.8</td>\n",
       "      <td>0.002032</td>\n",
       "      <td>1.000000</td>\n",
       "    </tr>\n",
       "    <tr>\n",
       "      <th>8</th>\n",
       "      <td>0.9</td>\n",
       "      <td>0.002032</td>\n",
       "      <td>1.000000</td>\n",
       "    </tr>\n",
       "    <tr>\n",
       "      <th>9</th>\n",
       "      <td>1.0</td>\n",
       "      <td>0.002032</td>\n",
       "      <td>1.000000</td>\n",
       "    </tr>\n",
       "  </tbody>\n",
       "</table>\n",
       "</div>"
      ],
      "text/plain": [
       "     k  precision    recall\n",
       "0  0.1   0.003447  0.330961\n",
       "1  0.2   0.002032  1.000000\n",
       "2  0.3   0.002032  1.000000\n",
       "3  0.4   0.002032  1.000000\n",
       "4  0.5   0.002032  1.000000\n",
       "5  0.6   0.002032  1.000000\n",
       "6  0.7   0.002032  1.000000\n",
       "7  0.8   0.002032  1.000000\n",
       "8  0.9   0.002032  1.000000\n",
       "9  1.0   0.002032  1.000000"
      ]
     },
     "execution_count": 91,
     "metadata": {},
     "output_type": "execute_result"
    },
    {
     "data": {
      "image/png": "[encoded data removed]",
      "text/plain": [
       "<Figure size 432x288 with 1 Axes>"
      ]
     },
     "metadata": {
      "needs_background": "light"
     },
     "output_type": "display_data"
    }
   ],
   "source": [
    "pr_k_curve(predicted_labels, y_test)"
   ]
  },
  {
   "cell_type": "markdown",
   "metadata": {},
   "source": [
    "## Reporte de métricas"
   ]
  },
  {
   "cell_type": "code",
   "execution_count": 33,
   "metadata": {},
   "outputs": [],
   "source": [
    "def get_metrics_report(fpr, tpr, thresholds, precision, recall, thresholds_2):\n",
    "    df_1 = pd.DataFrame({'threshold': thresholds_2,'precision': precision,\n",
    "                    'recall': recall})\n",
    "    df_1['f1_score'] = 2 * (df_1.precision * df_1.recall) / (df_1.precision + df_1.recall)\n",
    "    \n",
    "    df_2 = pd.DataFrame({'tpr': tpr, 'fpr': fpr, 'threshold': thresholds})\n",
    "    df_2['tnr'] = 1 - df_2['fpr']\n",
    "    df_2['fnr'] = 1 - df_2['tpr']\n",
    "    \n",
    "    df = df_1.merge(df_2, on=\"threshold\")\n",
    "    \n",
    "    return df"
   ]
  },
  {
   "cell_type": "code",
   "execution_count": 34,
   "metadata": {},
   "outputs": [
    {
     "data": {
      "text/html": [
       "<div>\n",
       "<style scoped>\n",
       "    .dataframe tbody tr th:only-of-type {\n",
       "        vertical-align: middle;\n",
       "    }\n",
       "\n",
       "    .dataframe tbody tr th {\n",
       "        vertical-align: top;\n",
       "    }\n",
       "\n",
       "    .dataframe thead th {\n",
       "        text-align: right;\n",
       "    }\n",
       "</style>\n",
       "<table border=\"1\" class=\"dataframe\">\n",
       "  <thead>\n",
       "    <tr style=\"text-align: right;\">\n",
       "      <th></th>\n",
       "      <th>threshold</th>\n",
       "      <th>precision</th>\n",
       "      <th>recall</th>\n",
       "      <th>f1_score</th>\n",
       "      <th>tpr</th>\n",
       "      <th>fpr</th>\n",
       "      <th>tnr</th>\n",
       "      <th>fnr</th>\n",
       "    </tr>\n",
       "  </thead>\n",
       "  <tbody>\n",
       "    <tr>\n",
       "      <th>0</th>\n",
       "      <td>0.018169</td>\n",
       "      <td>0.195115</td>\n",
       "      <td>1.000000</td>\n",
       "      <td>0.326520</td>\n",
       "      <td>1.000000</td>\n",
       "      <td>0.999967</td>\n",
       "      <td>0.000033</td>\n",
       "      <td>0.000000</td>\n",
       "    </tr>\n",
       "    <tr>\n",
       "      <th>1</th>\n",
       "      <td>0.018329</td>\n",
       "      <td>0.195114</td>\n",
       "      <td>0.999988</td>\n",
       "      <td>0.326519</td>\n",
       "      <td>0.999988</td>\n",
       "      <td>0.999958</td>\n",
       "      <td>0.000042</td>\n",
       "      <td>0.000012</td>\n",
       "    </tr>\n",
       "    <tr>\n",
       "      <th>2</th>\n",
       "      <td>0.018973</td>\n",
       "      <td>0.195117</td>\n",
       "      <td>0.999988</td>\n",
       "      <td>0.326523</td>\n",
       "      <td>0.999988</td>\n",
       "      <td>0.999940</td>\n",
       "      <td>0.000060</td>\n",
       "      <td>0.000012</td>\n",
       "    </tr>\n",
       "    <tr>\n",
       "      <th>3</th>\n",
       "      <td>0.019026</td>\n",
       "      <td>0.195118</td>\n",
       "      <td>0.999988</td>\n",
       "      <td>0.326525</td>\n",
       "      <td>0.999988</td>\n",
       "      <td>0.999931</td>\n",
       "      <td>0.000069</td>\n",
       "      <td>0.000012</td>\n",
       "    </tr>\n",
       "    <tr>\n",
       "      <th>4</th>\n",
       "      <td>0.019198</td>\n",
       "      <td>0.195120</td>\n",
       "      <td>0.999988</td>\n",
       "      <td>0.326527</td>\n",
       "      <td>0.999988</td>\n",
       "      <td>0.999922</td>\n",
       "      <td>0.000078</td>\n",
       "      <td>0.000012</td>\n",
       "    </tr>\n",
       "    <tr>\n",
       "      <th>...</th>\n",
       "      <td>...</td>\n",
       "      <td>...</td>\n",
       "      <td>...</td>\n",
       "      <td>...</td>\n",
       "      <td>...</td>\n",
       "      <td>...</td>\n",
       "      <td>...</td>\n",
       "      <td>...</td>\n",
       "    </tr>\n",
       "    <tr>\n",
       "      <th>136920</th>\n",
       "      <td>0.641095</td>\n",
       "      <td>0.428571</td>\n",
       "      <td>0.000037</td>\n",
       "      <td>0.000074</td>\n",
       "      <td>0.000037</td>\n",
       "      <td>0.000012</td>\n",
       "      <td>0.999988</td>\n",
       "      <td>0.999963</td>\n",
       "    </tr>\n",
       "    <tr>\n",
       "      <th>136921</th>\n",
       "      <td>0.643071</td>\n",
       "      <td>0.500000</td>\n",
       "      <td>0.000037</td>\n",
       "      <td>0.000074</td>\n",
       "      <td>0.000037</td>\n",
       "      <td>0.000009</td>\n",
       "      <td>0.999991</td>\n",
       "      <td>0.999963</td>\n",
       "    </tr>\n",
       "    <tr>\n",
       "      <th>136922</th>\n",
       "      <td>0.657500</td>\n",
       "      <td>0.250000</td>\n",
       "      <td>0.000012</td>\n",
       "      <td>0.000025</td>\n",
       "      <td>0.000012</td>\n",
       "      <td>0.000009</td>\n",
       "      <td>0.999991</td>\n",
       "      <td>0.999988</td>\n",
       "    </tr>\n",
       "    <tr>\n",
       "      <th>136923</th>\n",
       "      <td>0.665833</td>\n",
       "      <td>0.333333</td>\n",
       "      <td>0.000012</td>\n",
       "      <td>0.000025</td>\n",
       "      <td>0.000012</td>\n",
       "      <td>0.000006</td>\n",
       "      <td>0.999994</td>\n",
       "      <td>0.999988</td>\n",
       "    </tr>\n",
       "    <tr>\n",
       "      <th>136924</th>\n",
       "      <td>0.670833</td>\n",
       "      <td>1.000000</td>\n",
       "      <td>0.000012</td>\n",
       "      <td>0.000025</td>\n",
       "      <td>0.000012</td>\n",
       "      <td>0.000000</td>\n",
       "      <td>1.000000</td>\n",
       "      <td>0.999988</td>\n",
       "    </tr>\n",
       "  </tbody>\n",
       "</table>\n",
       "<p>136925 rows × 8 columns</p>\n",
       "</div>"
      ],
      "text/plain": [
       "        threshold  precision    recall  f1_score       tpr       fpr  \\\n",
       "0        0.018169   0.195115  1.000000  0.326520  1.000000  0.999967   \n",
       "1        0.018329   0.195114  0.999988  0.326519  0.999988  0.999958   \n",
       "2        0.018973   0.195117  0.999988  0.326523  0.999988  0.999940   \n",
       "3        0.019026   0.195118  0.999988  0.326525  0.999988  0.999931   \n",
       "4        0.019198   0.195120  0.999988  0.326527  0.999988  0.999922   \n",
       "...           ...        ...       ...       ...       ...       ...   \n",
       "136920   0.641095   0.428571  0.000037  0.000074  0.000037  0.000012   \n",
       "136921   0.643071   0.500000  0.000037  0.000074  0.000037  0.000009   \n",
       "136922   0.657500   0.250000  0.000012  0.000025  0.000012  0.000009   \n",
       "136923   0.665833   0.333333  0.000012  0.000025  0.000012  0.000006   \n",
       "136924   0.670833   1.000000  0.000012  0.000025  0.000012  0.000000   \n",
       "\n",
       "             tnr       fnr  \n",
       "0       0.000033  0.000000  \n",
       "1       0.000042  0.000012  \n",
       "2       0.000060  0.000012  \n",
       "3       0.000069  0.000012  \n",
       "4       0.000078  0.000012  \n",
       "...          ...       ...  \n",
       "136920  0.999988  0.999963  \n",
       "136921  0.999991  0.999963  \n",
       "136922  0.999991  0.999988  \n",
       "136923  0.999994  0.999988  \n",
       "136924  1.000000  0.999988  \n",
       "\n",
       "[136925 rows x 8 columns]"
      ]
     },
     "execution_count": 34,
     "metadata": {},
     "output_type": "execute_result"
    }
   ],
   "source": [
    "metrics_report = get_metrics_report(fpr, tpr, thresholds, precision, recall, thresholds_2)\n",
    "metrics_report"
   ]
  },
  {
   "cell_type": "code",
   "execution_count": 40,
   "metadata": {},
   "outputs": [
    {
     "data": {
      "image/png": "[encoded data removed]",
      "text/plain": [
       "<Figure size 432x288 with 1 Axes>"
      ]
     },
     "metadata": {
      "needs_background": "light"
     },
     "output_type": "display_data"
    }
   ],
   "source": [
    "plt.plot(metrics_report.threshold, metrics_report.precision)\n",
    "plt.plot(metrics_report.threshold, metrics_report.recall)\n",
    "plt.plot(metrics_report.threshold, metrics_report.tnr)\n",
    "\n",
    "plt.show()"
   ]
  },
  {
   "cell_type": "markdown",
   "metadata": {},
   "source": [
    "¿Qué métrica escogemos?"
   ]
  },
  {
   "cell_type": "markdown",
   "metadata": {},
   "source": [
    "TP = El modelo dice que es llamada falsa,    y sí es llamada falsa\n",
    "\n",
    "TN = El modelo dice que es llamada no falsa, y no es llamada falsa**\n",
    "\n",
    "FP = El modelo dice que es llamada falsa,    y no es llamada falsa\n",
    "\n",
    "FN = El modelo dice que es llamada no falsa,   y sí es llamada falsa"
   ]
  },
  {
   "cell_type": "markdown",
   "metadata": {},
   "source": [
    "Decidimos TNR dado que nos interesa ayudar verificar que una llamada que el modelo dice que no es falsa, realmente no es falsa, ya que probablemente se necesite enviar una ambulancia.\n",
    "\n",
    "De acuerdo a las métricas del negocio, les interesa tener un TNR mayor al 80%. Es decir, de 10 llamadas que el modelo dice que son llamadas legítimas, por lo menos 8 deben ser realmente legítimas."
   ]
  },
  {
   "cell_type": "code",
   "execution_count": 45,
   "metadata": {},
   "outputs": [],
   "source": [
    "negocio = metrics_report[metrics_report.tnr >= 0.8]"
   ]
  },
  {
   "cell_type": "code",
   "execution_count": 46,
   "metadata": {},
   "outputs": [
    {
     "data": {
      "text/html": [
       "<div>\n",
       "<style scoped>\n",
       "    .dataframe tbody tr th:only-of-type {\n",
       "        vertical-align: middle;\n",
       "    }\n",
       "\n",
       "    .dataframe tbody tr th {\n",
       "        vertical-align: top;\n",
       "    }\n",
       "\n",
       "    .dataframe thead th {\n",
       "        text-align: right;\n",
       "    }\n",
       "</style>\n",
       "<table border=\"1\" class=\"dataframe\">\n",
       "  <thead>\n",
       "    <tr style=\"text-align: right;\">\n",
       "      <th></th>\n",
       "      <th>threshold</th>\n",
       "      <th>precision</th>\n",
       "      <th>recall</th>\n",
       "      <th>f1_score</th>\n",
       "      <th>tpr</th>\n",
       "      <th>fpr</th>\n",
       "      <th>tnr</th>\n",
       "      <th>fnr</th>\n",
       "    </tr>\n",
       "  </thead>\n",
       "  <tbody>\n",
       "    <tr>\n",
       "      <th>105343</th>\n",
       "      <td>0.285209</td>\n",
       "      <td>0.309318</td>\n",
       "      <td>0.369429</td>\n",
       "      <td>0.336712</td>\n",
       "      <td>0.369429</td>\n",
       "      <td>0.199961</td>\n",
       "      <td>0.800039</td>\n",
       "      <td>0.630571</td>\n",
       "    </tr>\n",
       "    <tr>\n",
       "      <th>105344</th>\n",
       "      <td>0.285211</td>\n",
       "      <td>0.309330</td>\n",
       "      <td>0.369417</td>\n",
       "      <td>0.336714</td>\n",
       "      <td>0.369417</td>\n",
       "      <td>0.199943</td>\n",
       "      <td>0.800057</td>\n",
       "      <td>0.630583</td>\n",
       "    </tr>\n",
       "    <tr>\n",
       "      <th>105345</th>\n",
       "      <td>0.285211</td>\n",
       "      <td>0.309340</td>\n",
       "      <td>0.369417</td>\n",
       "      <td>0.336720</td>\n",
       "      <td>0.369417</td>\n",
       "      <td>0.199934</td>\n",
       "      <td>0.800066</td>\n",
       "      <td>0.630583</td>\n",
       "    </tr>\n",
       "    <tr>\n",
       "      <th>105346</th>\n",
       "      <td>0.285212</td>\n",
       "      <td>0.309343</td>\n",
       "      <td>0.369417</td>\n",
       "      <td>0.336721</td>\n",
       "      <td>0.369417</td>\n",
       "      <td>0.199931</td>\n",
       "      <td>0.800069</td>\n",
       "      <td>0.630583</td>\n",
       "    </tr>\n",
       "    <tr>\n",
       "      <th>105347</th>\n",
       "      <td>0.285212</td>\n",
       "      <td>0.309342</td>\n",
       "      <td>0.369404</td>\n",
       "      <td>0.336716</td>\n",
       "      <td>0.369404</td>\n",
       "      <td>0.199925</td>\n",
       "      <td>0.800075</td>\n",
       "      <td>0.630596</td>\n",
       "    </tr>\n",
       "    <tr>\n",
       "      <th>...</th>\n",
       "      <td>...</td>\n",
       "      <td>...</td>\n",
       "      <td>...</td>\n",
       "      <td>...</td>\n",
       "      <td>...</td>\n",
       "      <td>...</td>\n",
       "      <td>...</td>\n",
       "      <td>...</td>\n",
       "    </tr>\n",
       "    <tr>\n",
       "      <th>136920</th>\n",
       "      <td>0.641095</td>\n",
       "      <td>0.428571</td>\n",
       "      <td>0.000037</td>\n",
       "      <td>0.000074</td>\n",
       "      <td>0.000037</td>\n",
       "      <td>0.000012</td>\n",
       "      <td>0.999988</td>\n",
       "      <td>0.999963</td>\n",
       "    </tr>\n",
       "    <tr>\n",
       "      <th>136921</th>\n",
       "      <td>0.643071</td>\n",
       "      <td>0.500000</td>\n",
       "      <td>0.000037</td>\n",
       "      <td>0.000074</td>\n",
       "      <td>0.000037</td>\n",
       "      <td>0.000009</td>\n",
       "      <td>0.999991</td>\n",
       "      <td>0.999963</td>\n",
       "    </tr>\n",
       "    <tr>\n",
       "      <th>136922</th>\n",
       "      <td>0.657500</td>\n",
       "      <td>0.250000</td>\n",
       "      <td>0.000012</td>\n",
       "      <td>0.000025</td>\n",
       "      <td>0.000012</td>\n",
       "      <td>0.000009</td>\n",
       "      <td>0.999991</td>\n",
       "      <td>0.999988</td>\n",
       "    </tr>\n",
       "    <tr>\n",
       "      <th>136923</th>\n",
       "      <td>0.665833</td>\n",
       "      <td>0.333333</td>\n",
       "      <td>0.000012</td>\n",
       "      <td>0.000025</td>\n",
       "      <td>0.000012</td>\n",
       "      <td>0.000006</td>\n",
       "      <td>0.999994</td>\n",
       "      <td>0.999988</td>\n",
       "    </tr>\n",
       "    <tr>\n",
       "      <th>136924</th>\n",
       "      <td>0.670833</td>\n",
       "      <td>1.000000</td>\n",
       "      <td>0.000012</td>\n",
       "      <td>0.000025</td>\n",
       "      <td>0.000012</td>\n",
       "      <td>0.000000</td>\n",
       "      <td>1.000000</td>\n",
       "      <td>0.999988</td>\n",
       "    </tr>\n",
       "  </tbody>\n",
       "</table>\n",
       "<p>31582 rows × 8 columns</p>\n",
       "</div>"
      ],
      "text/plain": [
       "        threshold  precision    recall  f1_score       tpr       fpr  \\\n",
       "105343   0.285209   0.309318  0.369429  0.336712  0.369429  0.199961   \n",
       "105344   0.285211   0.309330  0.369417  0.336714  0.369417  0.199943   \n",
       "105345   0.285211   0.309340  0.369417  0.336720  0.369417  0.199934   \n",
       "105346   0.285212   0.309343  0.369417  0.336721  0.369417  0.199931   \n",
       "105347   0.285212   0.309342  0.369404  0.336716  0.369404  0.199925   \n",
       "...           ...        ...       ...       ...       ...       ...   \n",
       "136920   0.641095   0.428571  0.000037  0.000074  0.000037  0.000012   \n",
       "136921   0.643071   0.500000  0.000037  0.000074  0.000037  0.000009   \n",
       "136922   0.657500   0.250000  0.000012  0.000025  0.000012  0.000009   \n",
       "136923   0.665833   0.333333  0.000012  0.000025  0.000012  0.000006   \n",
       "136924   0.670833   1.000000  0.000012  0.000025  0.000012  0.000000   \n",
       "\n",
       "             tnr       fnr  \n",
       "105343  0.800039  0.630571  \n",
       "105344  0.800057  0.630583  \n",
       "105345  0.800066  0.630583  \n",
       "105346  0.800069  0.630583  \n",
       "105347  0.800075  0.630596  \n",
       "...          ...       ...  \n",
       "136920  0.999988  0.999963  \n",
       "136921  0.999991  0.999963  \n",
       "136922  0.999991  0.999988  \n",
       "136923  0.999994  0.999988  \n",
       "136924  1.000000  0.999988  \n",
       "\n",
       "[31582 rows x 8 columns]"
      ]
     },
     "execution_count": 46,
     "metadata": {},
     "output_type": "execute_result"
    }
   ],
   "source": [
    "negocio"
   ]
  },
  {
   "cell_type": "markdown",
   "metadata": {},
   "source": [
    "Matriz asociada a este punto de corte"
   ]
  },
  {
   "cell_type": "code",
   "execution_count": 58,
   "metadata": {},
   "outputs": [
    {
     "data": {
      "text/plain": [
       "0.2852090089237006"
      ]
     },
     "execution_count": 58,
     "metadata": {},
     "output_type": "execute_result"
    }
   ],
   "source": [
    "punto_corte = negocio.head(1).threshold.values[0]\n",
    "punto_corte "
   ]
  },
  {
   "cell_type": "code",
   "execution_count": 59,
   "metadata": {},
   "outputs": [],
   "source": [
    "new_labels = [0 if score < punto_corte else 1 for score in predicted_scores[:,1]]"
   ]
  },
  {
   "cell_type": "code",
   "execution_count": 60,
   "metadata": {},
   "outputs": [
    {
     "data": {
      "text/plain": [
       "96661"
      ]
     },
     "execution_count": 60,
     "metadata": {},
     "output_type": "execute_result"
    }
   ],
   "source": [
    "pd.Series(new_labels).sum()"
   ]
  },
  {
   "cell_type": "markdown",
   "metadata": {},
   "source": [
    "En la siguiente matriz de confusión podemos ver que con el nuevo punto de corte generamos más Falsos Positivo.\n",
    "\n",
    "Columnas = Predicción\n",
    "\n",
    "Renglones = Groundtruth"
   ]
  },
  {
   "cell_type": "code",
   "execution_count": 61,
   "metadata": {},
   "outputs": [
    {
     "data": {
      "text/html": [
       "<div>\n",
       "<style scoped>\n",
       "    .dataframe tbody tr th:only-of-type {\n",
       "        vertical-align: middle;\n",
       "    }\n",
       "\n",
       "    .dataframe tbody tr th {\n",
       "        vertical-align: top;\n",
       "    }\n",
       "\n",
       "    .dataframe thead th {\n",
       "        text-align: right;\n",
       "    }\n",
       "</style>\n",
       "<table border=\"1\" class=\"dataframe\">\n",
       "  <thead>\n",
       "    <tr style=\"text-align: right;\">\n",
       "      <th></th>\n",
       "      <th>0</th>\n",
       "      <th>1</th>\n",
       "    </tr>\n",
       "  </thead>\n",
       "  <tbody>\n",
       "    <tr>\n",
       "      <th>0</th>\n",
       "      <td>267113</td>\n",
       "      <td>66762</td>\n",
       "    </tr>\n",
       "    <tr>\n",
       "      <th>1</th>\n",
       "      <td>51034</td>\n",
       "      <td>29899</td>\n",
       "    </tr>\n",
       "  </tbody>\n",
       "</table>\n",
       "</div>"
      ],
      "text/plain": [
       "        0      1\n",
       "0  267113  66762\n",
       "1   51034  29899"
      ]
     },
     "execution_count": 61,
     "metadata": {},
     "output_type": "execute_result"
    }
   ],
   "source": [
    "pd.DataFrame(confusion_matrix(y_test, new_labels))"
   ]
  },
  {
   "cell_type": "markdown",
   "metadata": {},
   "source": [
    "Matriz de confusión original:"
   ]
  },
  {
   "cell_type": "code",
   "execution_count": 53,
   "metadata": {
    "scrolled": true
   },
   "outputs": [
    {
     "data": {
      "text/html": [
       "<div>\n",
       "<style scoped>\n",
       "    .dataframe tbody tr th:only-of-type {\n",
       "        vertical-align: middle;\n",
       "    }\n",
       "\n",
       "    .dataframe tbody tr th {\n",
       "        vertical-align: top;\n",
       "    }\n",
       "\n",
       "    .dataframe thead th {\n",
       "        text-align: right;\n",
       "    }\n",
       "</style>\n",
       "<table border=\"1\" class=\"dataframe\">\n",
       "  <thead>\n",
       "    <tr style=\"text-align: right;\">\n",
       "      <th></th>\n",
       "      <th>0</th>\n",
       "      <th>1</th>\n",
       "    </tr>\n",
       "  </thead>\n",
       "  <tbody>\n",
       "    <tr>\n",
       "      <th>0</th>\n",
       "      <td>333679</td>\n",
       "      <td>196</td>\n",
       "    </tr>\n",
       "    <tr>\n",
       "      <th>1</th>\n",
       "      <td>80821</td>\n",
       "      <td>112</td>\n",
       "    </tr>\n",
       "  </tbody>\n",
       "</table>\n",
       "</div>"
      ],
      "text/plain": [
       "        0    1\n",
       "0  333679  196\n",
       "1   80821  112"
      ]
     },
     "execution_count": 53,
     "metadata": {},
     "output_type": "execute_result"
    }
   ],
   "source": [
    "pd.DataFrame(confusion_matrix(y_test, predicted_labels))"
   ]
  },
  {
   "cell_type": "markdown",
   "metadata": {},
   "source": [
    "# Decision Tree"
   ]
  },
  {
   "cell_type": "code",
   "execution_count": 62,
   "metadata": {},
   "outputs": [],
   "source": [
    "path = \"output/decision_tree.joblib\"\n",
    "model = joblib.load(path)"
   ]
  },
  {
   "cell_type": "code",
   "execution_count": 63,
   "metadata": {},
   "outputs": [
    {
     "data": {
      "text/plain": [
       "GridSearchCV(cv=TimeSeriesSplit(max_train_size=None, n_splits=5),\n",
       "             estimator=DecisionTreeClassifier(random_state=1789), n_jobs=-1,\n",
       "             param_grid={'max_depth': [3, 5, 10],\n",
       "                         'min_samples_leaf': [1, 3, 5]},\n",
       "             scoring='precision')"
      ]
     },
     "execution_count": 63,
     "metadata": {},
     "output_type": "execute_result"
    }
   ],
   "source": [
    "model"
   ]
  },
  {
   "cell_type": "code",
   "execution_count": 64,
   "metadata": {},
   "outputs": [
    {
     "data": {
      "text/plain": [
       "{'max_depth': 10, 'min_samples_leaf': 5}"
      ]
     },
     "execution_count": 64,
     "metadata": {},
     "output_type": "execute_result"
    }
   ],
   "source": [
    "model.best_params_"
   ]
  },
  {
   "cell_type": "code",
   "execution_count": 65,
   "metadata": {},
   "outputs": [],
   "source": [
    "# predicciones con el mejor predictor \n",
    "predicted_labels = model.predict(X_test)"
   ]
  },
  {
   "cell_type": "code",
   "execution_count": 66,
   "metadata": {},
   "outputs": [
    {
     "data": {
      "text/plain": [
       "(414808,)"
      ]
     },
     "execution_count": 66,
     "metadata": {},
     "output_type": "execute_result"
    }
   ],
   "source": [
    "predicted_labels.shape"
   ]
  },
  {
   "cell_type": "code",
   "execution_count": 67,
   "metadata": {},
   "outputs": [],
   "source": [
    "# predicciones en score con el mejor predictor\n",
    "predicted_scores = model.predict_proba(X_test)"
   ]
  },
  {
   "cell_type": "code",
   "execution_count": 68,
   "metadata": {},
   "outputs": [
    {
     "data": {
      "text/plain": [
       "(414808, 2)"
      ]
     },
     "execution_count": 68,
     "metadata": {},
     "output_type": "execute_result"
    }
   ],
   "source": [
    "predicted_scores.shape"
   ]
  },
  {
   "cell_type": "markdown",
   "metadata": {},
   "source": [
    "## ROC"
   ]
  },
  {
   "cell_type": "code",
   "execution_count": 69,
   "metadata": {},
   "outputs": [
    {
     "data": {
      "image/png": "[encoded data removed]",
      "text/plain": [
       "<Figure size 432x288 with 1 Axes>"
      ]
     },
     "metadata": {
      "needs_background": "light"
     },
     "output_type": "display_data"
    }
   ],
   "source": [
    "from sklearn.metrics import roc_curve, roc_auc_score\n",
    "\n",
    "import matplotlib.pyplot as plt\n",
    "\n",
    "%matplotlib inline\n",
    "\n",
    "fpr, tpr, thresholds = roc_curve(y_test, predicted_scores[:,1], pos_label=1)\n",
    "\n",
    "plt.clf()\n",
    "plt.plot([0,1],[0,1], 'k--', c=\"red\")\n",
    "plt.plot(fpr, tpr)\n",
    "plt.title(\"ROC best RF, AUC: {}\".format(roc_auc_score(y_test, predicted_labels)))\n",
    "plt.xlabel(\"fpr\")\n",
    "plt.ylabel(\"tpr\")\n",
    "plt.show()"
   ]
  },
  {
   "cell_type": "markdown",
   "metadata": {},
   "source": [
    "## Matriz de confusión"
   ]
  },
  {
   "cell_type": "code",
   "execution_count": 70,
   "metadata": {},
   "outputs": [
    {
     "data": {
      "text/plain": [
       "array([[333311,    564],\n",
       "       [ 80654,    279]])"
      ]
     },
     "execution_count": 70,
     "metadata": {},
     "output_type": "execute_result"
    }
   ],
   "source": [
    "from sklearn.metrics import confusion_matrix\n",
    "\n",
    "confusion_matrix(y_test, predicted_labels)"
   ]
  },
  {
   "cell_type": "markdown",
   "metadata": {},
   "source": [
    "## Precision, recall, thresholds"
   ]
  },
  {
   "cell_type": "code",
   "execution_count": 71,
   "metadata": {},
   "outputs": [],
   "source": [
    "\n",
    "from sklearn.metrics import precision_recall_curve\n",
    "\n",
    "precision, recall, thresholds_2 = precision_recall_curve(y_test, predicted_scores[:,1], pos_label=1)"
   ]
  },
  {
   "cell_type": "code",
   "execution_count": 72,
   "metadata": {},
   "outputs": [],
   "source": [
    "thresholds_2 = np.append(thresholds_2, 1)"
   ]
  },
  {
   "cell_type": "code",
   "execution_count": 73,
   "metadata": {},
   "outputs": [
    {
     "data": {
      "text/plain": [
       "((440,), (440,), (440,))"
      ]
     },
     "execution_count": 73,
     "metadata": {},
     "output_type": "execute_result"
    }
   ],
   "source": [
    "(precision.shape, recall.shape, thresholds_2.shape)"
   ]
  },
  {
   "cell_type": "code",
   "execution_count": 74,
   "metadata": {},
   "outputs": [
    {
     "data": {
      "text/plain": [
       "0.0034472959114329135"
      ]
     },
     "execution_count": 74,
     "metadata": {},
     "output_type": "execute_result"
    }
   ],
   "source": [
    "precision_at_k(predicted_labels, y_test, k)"
   ]
  },
  {
   "cell_type": "code",
   "execution_count": 75,
   "metadata": {},
   "outputs": [
    {
     "data": {
      "text/plain": [
       "0.3309608540925267"
      ]
     },
     "execution_count": 75,
     "metadata": {},
     "output_type": "execute_result"
    }
   ],
   "source": [
    "recall_at_k(predicted_labels, y_test, k)"
   ]
  },
  {
   "cell_type": "code",
   "execution_count": 76,
   "metadata": {},
   "outputs": [
    {
     "data": {
      "text/html": [
       "<div>\n",
       "<style scoped>\n",
       "    .dataframe tbody tr th:only-of-type {\n",
       "        vertical-align: middle;\n",
       "    }\n",
       "\n",
       "    .dataframe tbody tr th {\n",
       "        vertical-align: top;\n",
       "    }\n",
       "\n",
       "    .dataframe thead th {\n",
       "        text-align: right;\n",
       "    }\n",
       "</style>\n",
       "<table border=\"1\" class=\"dataframe\">\n",
       "  <thead>\n",
       "    <tr style=\"text-align: right;\">\n",
       "      <th></th>\n",
       "      <th>k</th>\n",
       "      <th>precision</th>\n",
       "      <th>recall</th>\n",
       "    </tr>\n",
       "  </thead>\n",
       "  <tbody>\n",
       "    <tr>\n",
       "      <th>0</th>\n",
       "      <td>0.1</td>\n",
       "      <td>0.003447</td>\n",
       "      <td>0.330961</td>\n",
       "    </tr>\n",
       "    <tr>\n",
       "      <th>1</th>\n",
       "      <td>0.2</td>\n",
       "      <td>0.002032</td>\n",
       "      <td>1.000000</td>\n",
       "    </tr>\n",
       "    <tr>\n",
       "      <th>2</th>\n",
       "      <td>0.3</td>\n",
       "      <td>0.002032</td>\n",
       "      <td>1.000000</td>\n",
       "    </tr>\n",
       "    <tr>\n",
       "      <th>3</th>\n",
       "      <td>0.4</td>\n",
       "      <td>0.002032</td>\n",
       "      <td>1.000000</td>\n",
       "    </tr>\n",
       "    <tr>\n",
       "      <th>4</th>\n",
       "      <td>0.5</td>\n",
       "      <td>0.002032</td>\n",
       "      <td>1.000000</td>\n",
       "    </tr>\n",
       "    <tr>\n",
       "      <th>5</th>\n",
       "      <td>0.6</td>\n",
       "      <td>0.002032</td>\n",
       "      <td>1.000000</td>\n",
       "    </tr>\n",
       "    <tr>\n",
       "      <th>6</th>\n",
       "      <td>0.7</td>\n",
       "      <td>0.002032</td>\n",
       "      <td>1.000000</td>\n",
       "    </tr>\n",
       "    <tr>\n",
       "      <th>7</th>\n",
       "      <td>0.8</td>\n",
       "      <td>0.002032</td>\n",
       "      <td>1.000000</td>\n",
       "    </tr>\n",
       "    <tr>\n",
       "      <th>8</th>\n",
       "      <td>0.9</td>\n",
       "      <td>0.002032</td>\n",
       "      <td>1.000000</td>\n",
       "    </tr>\n",
       "    <tr>\n",
       "      <th>9</th>\n",
       "      <td>1.0</td>\n",
       "      <td>0.002032</td>\n",
       "      <td>1.000000</td>\n",
       "    </tr>\n",
       "  </tbody>\n",
       "</table>\n",
       "</div>"
      ],
      "text/plain": [
       "     k  precision    recall\n",
       "0  0.1   0.003447  0.330961\n",
       "1  0.2   0.002032  1.000000\n",
       "2  0.3   0.002032  1.000000\n",
       "3  0.4   0.002032  1.000000\n",
       "4  0.5   0.002032  1.000000\n",
       "5  0.6   0.002032  1.000000\n",
       "6  0.7   0.002032  1.000000\n",
       "7  0.8   0.002032  1.000000\n",
       "8  0.9   0.002032  1.000000\n",
       "9  1.0   0.002032  1.000000"
      ]
     },
     "execution_count": 76,
     "metadata": {},
     "output_type": "execute_result"
    },
    {
     "data": {
      "image/png": "[encoded data removed]",
      "text/plain": [
       "<Figure size 432x288 with 1 Axes>"
      ]
     },
     "metadata": {
      "needs_background": "light"
     },
     "output_type": "display_data"
    }
   ],
   "source": [
    "pr_k_curve(predicted_labels, y_test)"
   ]
  },
  {
   "cell_type": "markdown",
   "metadata": {},
   "source": [
    "## Reporte de métricas"
   ]
  },
  {
   "cell_type": "code",
   "execution_count": 77,
   "metadata": {},
   "outputs": [],
   "source": [
    "def get_metrics_report(fpr, tpr, thresholds, precision, recall, thresholds_2):\n",
    "    df_1 = pd.DataFrame({'threshold': thresholds_2,'precision': precision,\n",
    "                    'recall': recall})\n",
    "    df_1['f1_score'] = 2 * (df_1.precision * df_1.recall) / (df_1.precision + df_1.recall)\n",
    "    \n",
    "    df_2 = pd.DataFrame({'tpr': tpr, 'fpr': fpr, 'threshold': thresholds})\n",
    "    df_2['tnr'] = 1 - df_2['fpr']\n",
    "    df_2['fnr'] = 1 - df_2['tpr']\n",
    "    \n",
    "    df = df_1.merge(df_2, on=\"threshold\")\n",
    "    \n",
    "    return df"
   ]
  },
  {
   "cell_type": "code",
   "execution_count": 78,
   "metadata": {},
   "outputs": [
    {
     "data": {
      "text/html": [
       "<div>\n",
       "<style scoped>\n",
       "    .dataframe tbody tr th:only-of-type {\n",
       "        vertical-align: middle;\n",
       "    }\n",
       "\n",
       "    .dataframe tbody tr th {\n",
       "        vertical-align: top;\n",
       "    }\n",
       "\n",
       "    .dataframe thead th {\n",
       "        text-align: right;\n",
       "    }\n",
       "</style>\n",
       "<table border=\"1\" class=\"dataframe\">\n",
       "  <thead>\n",
       "    <tr style=\"text-align: right;\">\n",
       "      <th></th>\n",
       "      <th>threshold</th>\n",
       "      <th>precision</th>\n",
       "      <th>recall</th>\n",
       "      <th>f1_score</th>\n",
       "      <th>tpr</th>\n",
       "      <th>fpr</th>\n",
       "      <th>tnr</th>\n",
       "      <th>fnr</th>\n",
       "    </tr>\n",
       "  </thead>\n",
       "  <tbody>\n",
       "    <tr>\n",
       "      <th>0</th>\n",
       "      <td>0.000000</td>\n",
       "      <td>0.195110</td>\n",
       "      <td>1.000000</td>\n",
       "      <td>0.326513</td>\n",
       "      <td>1.000000</td>\n",
       "      <td>1.000000</td>\n",
       "      <td>0.000000</td>\n",
       "      <td>0.000000</td>\n",
       "    </tr>\n",
       "    <tr>\n",
       "      <th>1</th>\n",
       "      <td>0.007812</td>\n",
       "      <td>0.195272</td>\n",
       "      <td>0.999333</td>\n",
       "      <td>0.326705</td>\n",
       "      <td>0.999333</td>\n",
       "      <td>0.998302</td>\n",
       "      <td>0.001698</td>\n",
       "      <td>0.000667</td>\n",
       "    </tr>\n",
       "    <tr>\n",
       "      <th>2</th>\n",
       "      <td>0.009174</td>\n",
       "      <td>0.195281</td>\n",
       "      <td>0.999283</td>\n",
       "      <td>0.326716</td>\n",
       "      <td>0.999283</td>\n",
       "      <td>0.998191</td>\n",
       "      <td>0.001809</td>\n",
       "      <td>0.000717</td>\n",
       "    </tr>\n",
       "    <tr>\n",
       "      <th>3</th>\n",
       "      <td>0.011209</td>\n",
       "      <td>0.195292</td>\n",
       "      <td>0.999271</td>\n",
       "      <td>0.326729</td>\n",
       "      <td>0.999271</td>\n",
       "      <td>0.998113</td>\n",
       "      <td>0.001887</td>\n",
       "      <td>0.000729</td>\n",
       "    </tr>\n",
       "    <tr>\n",
       "      <th>4</th>\n",
       "      <td>0.011396</td>\n",
       "      <td>0.195482</td>\n",
       "      <td>0.999073</td>\n",
       "      <td>0.326986</td>\n",
       "      <td>0.999073</td>\n",
       "      <td>0.996705</td>\n",
       "      <td>0.003295</td>\n",
       "      <td>0.000927</td>\n",
       "    </tr>\n",
       "    <tr>\n",
       "      <th>...</th>\n",
       "      <td>...</td>\n",
       "      <td>...</td>\n",
       "      <td>...</td>\n",
       "      <td>...</td>\n",
       "      <td>...</td>\n",
       "      <td>...</td>\n",
       "      <td>...</td>\n",
       "      <td>...</td>\n",
       "    </tr>\n",
       "    <tr>\n",
       "      <th>435</th>\n",
       "      <td>0.833333</td>\n",
       "      <td>0.269841</td>\n",
       "      <td>0.000210</td>\n",
       "      <td>0.000420</td>\n",
       "      <td>0.000210</td>\n",
       "      <td>0.000138</td>\n",
       "      <td>0.999862</td>\n",
       "      <td>0.999790</td>\n",
       "    </tr>\n",
       "    <tr>\n",
       "      <th>436</th>\n",
       "      <td>0.857143</td>\n",
       "      <td>0.200000</td>\n",
       "      <td>0.000111</td>\n",
       "      <td>0.000222</td>\n",
       "      <td>0.000111</td>\n",
       "      <td>0.000108</td>\n",
       "      <td>0.999892</td>\n",
       "      <td>0.999889</td>\n",
       "    </tr>\n",
       "    <tr>\n",
       "      <th>437</th>\n",
       "      <td>0.875000</td>\n",
       "      <td>0.179487</td>\n",
       "      <td>0.000086</td>\n",
       "      <td>0.000173</td>\n",
       "      <td>0.000086</td>\n",
       "      <td>0.000096</td>\n",
       "      <td>0.999904</td>\n",
       "      <td>0.999914</td>\n",
       "    </tr>\n",
       "    <tr>\n",
       "      <th>438</th>\n",
       "      <td>1.000000</td>\n",
       "      <td>0.172414</td>\n",
       "      <td>0.000062</td>\n",
       "      <td>0.000124</td>\n",
       "      <td>0.000062</td>\n",
       "      <td>0.000072</td>\n",
       "      <td>0.999928</td>\n",
       "      <td>0.999938</td>\n",
       "    </tr>\n",
       "    <tr>\n",
       "      <th>439</th>\n",
       "      <td>1.000000</td>\n",
       "      <td>1.000000</td>\n",
       "      <td>0.000000</td>\n",
       "      <td>0.000000</td>\n",
       "      <td>0.000062</td>\n",
       "      <td>0.000072</td>\n",
       "      <td>0.999928</td>\n",
       "      <td>0.999938</td>\n",
       "    </tr>\n",
       "  </tbody>\n",
       "</table>\n",
       "<p>440 rows × 8 columns</p>\n",
       "</div>"
      ],
      "text/plain": [
       "     threshold  precision    recall  f1_score       tpr       fpr       tnr  \\\n",
       "0     0.000000   0.195110  1.000000  0.326513  1.000000  1.000000  0.000000   \n",
       "1     0.007812   0.195272  0.999333  0.326705  0.999333  0.998302  0.001698   \n",
       "2     0.009174   0.195281  0.999283  0.326716  0.999283  0.998191  0.001809   \n",
       "3     0.011209   0.195292  0.999271  0.326729  0.999271  0.998113  0.001887   \n",
       "4     0.011396   0.195482  0.999073  0.326986  0.999073  0.996705  0.003295   \n",
       "..         ...        ...       ...       ...       ...       ...       ...   \n",
       "435   0.833333   0.269841  0.000210  0.000420  0.000210  0.000138  0.999862   \n",
       "436   0.857143   0.200000  0.000111  0.000222  0.000111  0.000108  0.999892   \n",
       "437   0.875000   0.179487  0.000086  0.000173  0.000086  0.000096  0.999904   \n",
       "438   1.000000   0.172414  0.000062  0.000124  0.000062  0.000072  0.999928   \n",
       "439   1.000000   1.000000  0.000000  0.000000  0.000062  0.000072  0.999928   \n",
       "\n",
       "          fnr  \n",
       "0    0.000000  \n",
       "1    0.000667  \n",
       "2    0.000717  \n",
       "3    0.000729  \n",
       "4    0.000927  \n",
       "..        ...  \n",
       "435  0.999790  \n",
       "436  0.999889  \n",
       "437  0.999914  \n",
       "438  0.999938  \n",
       "439  0.999938  \n",
       "\n",
       "[440 rows x 8 columns]"
      ]
     },
     "execution_count": 78,
     "metadata": {},
     "output_type": "execute_result"
    }
   ],
   "source": [
    "metrics_report = get_metrics_report(fpr, tpr, thresholds, precision, recall, thresholds_2)\n",
    "metrics_report"
   ]
  },
  {
   "cell_type": "markdown",
   "metadata": {},
   "source": [
    "¿Qué métrica escogemos?"
   ]
  },
  {
   "cell_type": "code",
   "execution_count": 79,
   "metadata": {},
   "outputs": [],
   "source": [
    "negocio = metrics_report[metrics_report.tnr >= 0.8]"
   ]
  },
  {
   "cell_type": "code",
   "execution_count": 80,
   "metadata": {},
   "outputs": [
    {
     "data": {
      "text/html": [
       "<div>\n",
       "<style scoped>\n",
       "    .dataframe tbody tr th:only-of-type {\n",
       "        vertical-align: middle;\n",
       "    }\n",
       "\n",
       "    .dataframe tbody tr th {\n",
       "        vertical-align: top;\n",
       "    }\n",
       "\n",
       "    .dataframe thead th {\n",
       "        text-align: right;\n",
       "    }\n",
       "</style>\n",
       "<table border=\"1\" class=\"dataframe\">\n",
       "  <thead>\n",
       "    <tr style=\"text-align: right;\">\n",
       "      <th></th>\n",
       "      <th>threshold</th>\n",
       "      <th>precision</th>\n",
       "      <th>recall</th>\n",
       "      <th>f1_score</th>\n",
       "      <th>tpr</th>\n",
       "      <th>fpr</th>\n",
       "      <th>tnr</th>\n",
       "      <th>fnr</th>\n",
       "    </tr>\n",
       "  </thead>\n",
       "  <tbody>\n",
       "    <tr>\n",
       "      <th>274</th>\n",
       "      <td>0.280702</td>\n",
       "      <td>0.304736</td>\n",
       "      <td>0.351550</td>\n",
       "      <td>0.326473</td>\n",
       "      <td>0.351550</td>\n",
       "      <td>0.194426</td>\n",
       "      <td>0.805574</td>\n",
       "      <td>0.648450</td>\n",
       "    </tr>\n",
       "    <tr>\n",
       "      <th>275</th>\n",
       "      <td>0.282828</td>\n",
       "      <td>0.304800</td>\n",
       "      <td>0.351216</td>\n",
       "      <td>0.326366</td>\n",
       "      <td>0.351216</td>\n",
       "      <td>0.194183</td>\n",
       "      <td>0.805817</td>\n",
       "      <td>0.648784</td>\n",
       "    </tr>\n",
       "    <tr>\n",
       "      <th>276</th>\n",
       "      <td>0.283660</td>\n",
       "      <td>0.304842</td>\n",
       "      <td>0.351043</td>\n",
       "      <td>0.326316</td>\n",
       "      <td>0.351043</td>\n",
       "      <td>0.194049</td>\n",
       "      <td>0.805951</td>\n",
       "      <td>0.648957</td>\n",
       "    </tr>\n",
       "    <tr>\n",
       "      <th>277</th>\n",
       "      <td>0.283951</td>\n",
       "      <td>0.305369</td>\n",
       "      <td>0.350228</td>\n",
       "      <td>0.326264</td>\n",
       "      <td>0.350228</td>\n",
       "      <td>0.193117</td>\n",
       "      <td>0.806883</td>\n",
       "      <td>0.649772</td>\n",
       "    </tr>\n",
       "    <tr>\n",
       "      <th>278</th>\n",
       "      <td>0.284519</td>\n",
       "      <td>0.305418</td>\n",
       "      <td>0.350166</td>\n",
       "      <td>0.326265</td>\n",
       "      <td>0.350166</td>\n",
       "      <td>0.193039</td>\n",
       "      <td>0.806961</td>\n",
       "      <td>0.649834</td>\n",
       "    </tr>\n",
       "    <tr>\n",
       "      <th>...</th>\n",
       "      <td>...</td>\n",
       "      <td>...</td>\n",
       "      <td>...</td>\n",
       "      <td>...</td>\n",
       "      <td>...</td>\n",
       "      <td>...</td>\n",
       "      <td>...</td>\n",
       "      <td>...</td>\n",
       "    </tr>\n",
       "    <tr>\n",
       "      <th>435</th>\n",
       "      <td>0.833333</td>\n",
       "      <td>0.269841</td>\n",
       "      <td>0.000210</td>\n",
       "      <td>0.000420</td>\n",
       "      <td>0.000210</td>\n",
       "      <td>0.000138</td>\n",
       "      <td>0.999862</td>\n",
       "      <td>0.999790</td>\n",
       "    </tr>\n",
       "    <tr>\n",
       "      <th>436</th>\n",
       "      <td>0.857143</td>\n",
       "      <td>0.200000</td>\n",
       "      <td>0.000111</td>\n",
       "      <td>0.000222</td>\n",
       "      <td>0.000111</td>\n",
       "      <td>0.000108</td>\n",
       "      <td>0.999892</td>\n",
       "      <td>0.999889</td>\n",
       "    </tr>\n",
       "    <tr>\n",
       "      <th>437</th>\n",
       "      <td>0.875000</td>\n",
       "      <td>0.179487</td>\n",
       "      <td>0.000086</td>\n",
       "      <td>0.000173</td>\n",
       "      <td>0.000086</td>\n",
       "      <td>0.000096</td>\n",
       "      <td>0.999904</td>\n",
       "      <td>0.999914</td>\n",
       "    </tr>\n",
       "    <tr>\n",
       "      <th>438</th>\n",
       "      <td>1.000000</td>\n",
       "      <td>0.172414</td>\n",
       "      <td>0.000062</td>\n",
       "      <td>0.000124</td>\n",
       "      <td>0.000062</td>\n",
       "      <td>0.000072</td>\n",
       "      <td>0.999928</td>\n",
       "      <td>0.999938</td>\n",
       "    </tr>\n",
       "    <tr>\n",
       "      <th>439</th>\n",
       "      <td>1.000000</td>\n",
       "      <td>1.000000</td>\n",
       "      <td>0.000000</td>\n",
       "      <td>0.000000</td>\n",
       "      <td>0.000062</td>\n",
       "      <td>0.000072</td>\n",
       "      <td>0.999928</td>\n",
       "      <td>0.999938</td>\n",
       "    </tr>\n",
       "  </tbody>\n",
       "</table>\n",
       "<p>166 rows × 8 columns</p>\n",
       "</div>"
      ],
      "text/plain": [
       "     threshold  precision    recall  f1_score       tpr       fpr       tnr  \\\n",
       "274   0.280702   0.304736  0.351550  0.326473  0.351550  0.194426  0.805574   \n",
       "275   0.282828   0.304800  0.351216  0.326366  0.351216  0.194183  0.805817   \n",
       "276   0.283660   0.304842  0.351043  0.326316  0.351043  0.194049  0.805951   \n",
       "277   0.283951   0.305369  0.350228  0.326264  0.350228  0.193117  0.806883   \n",
       "278   0.284519   0.305418  0.350166  0.326265  0.350166  0.193039  0.806961   \n",
       "..         ...        ...       ...       ...       ...       ...       ...   \n",
       "435   0.833333   0.269841  0.000210  0.000420  0.000210  0.000138  0.999862   \n",
       "436   0.857143   0.200000  0.000111  0.000222  0.000111  0.000108  0.999892   \n",
       "437   0.875000   0.179487  0.000086  0.000173  0.000086  0.000096  0.999904   \n",
       "438   1.000000   0.172414  0.000062  0.000124  0.000062  0.000072  0.999928   \n",
       "439   1.000000   1.000000  0.000000  0.000000  0.000062  0.000072  0.999928   \n",
       "\n",
       "          fnr  \n",
       "274  0.648450  \n",
       "275  0.648784  \n",
       "276  0.648957  \n",
       "277  0.649772  \n",
       "278  0.649834  \n",
       "..        ...  \n",
       "435  0.999790  \n",
       "436  0.999889  \n",
       "437  0.999914  \n",
       "438  0.999938  \n",
       "439  0.999938  \n",
       "\n",
       "[166 rows x 8 columns]"
      ]
     },
     "execution_count": 80,
     "metadata": {},
     "output_type": "execute_result"
    }
   ],
   "source": [
    "negocio"
   ]
  },
  {
   "cell_type": "markdown",
   "metadata": {},
   "source": [
    "Matriz asociada a este punto de corte"
   ]
  },
  {
   "cell_type": "code",
   "execution_count": 81,
   "metadata": {},
   "outputs": [
    {
     "data": {
      "text/plain": [
       "0.2807017543859649"
      ]
     },
     "execution_count": 81,
     "metadata": {},
     "output_type": "execute_result"
    }
   ],
   "source": [
    "punto_corte = negocio.head(1).threshold.values[0]\n",
    "punto_corte"
   ]
  },
  {
   "cell_type": "code",
   "execution_count": 82,
   "metadata": {},
   "outputs": [],
   "source": [
    "new_labels = [0 if score < punto_corte else 1 for score in predicted_scores[:,1]]"
   ]
  },
  {
   "cell_type": "code",
   "execution_count": 83,
   "metadata": {},
   "outputs": [
    {
     "data": {
      "text/plain": [
       "93366"
      ]
     },
     "execution_count": 83,
     "metadata": {},
     "output_type": "execute_result"
    }
   ],
   "source": [
    "pd.Series(new_labels).sum()"
   ]
  },
  {
   "cell_type": "code",
   "execution_count": 84,
   "metadata": {},
   "outputs": [
    {
     "data": {
      "text/plain": [
       "array([[268961,  64914],\n",
       "       [ 52481,  28452]])"
      ]
     },
     "execution_count": 84,
     "metadata": {},
     "output_type": "execute_result"
    }
   ],
   "source": [
    "confusion_matrix(y_test, new_labels)"
   ]
  },
  {
   "cell_type": "code",
   "execution_count": 85,
   "metadata": {
    "scrolled": true
   },
   "outputs": [
    {
     "data": {
      "text/plain": [
       "array([[333311,    564],\n",
       "       [ 80654,    279]])"
      ]
     },
     "execution_count": 85,
     "metadata": {},
     "output_type": "execute_result"
    }
   ],
   "source": [
    "confusion_matrix(y_test, predicted_labels)"
   ]
  }
 ],
 "metadata": {
  "kernelspec": {
   "display_name": "Python 3",
   "language": "python",
   "name": "python3"
  },
  "language_info": {
   "codemirror_mode": {
    "name": "ipython",
    "version": 3
   },
   "file_extension": ".py",
   "mimetype": "text/x-python",
   "name": "python",
   "nbconvert_exporter": "python",
   "pygments_lexer": "ipython3",
   "version": "3.7.4"
  }
 },
 "nbformat": 4,
 "nbformat_minor": 4
}
