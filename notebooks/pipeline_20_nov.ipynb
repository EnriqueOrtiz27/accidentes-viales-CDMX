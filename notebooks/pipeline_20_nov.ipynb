{
 "cells": [
  {
   "cell_type": "markdown",
   "metadata": {
    "ExecuteTime": {
     "end_time": "2020-11-17T13:56:14.724370Z",
     "start_time": "2020-11-17T13:56:12.485599Z"
    }
   },
   "source": [
    "# Pipeline de transformación y exploración gráfica de los datos.\n",
    "\n",
    "El propósito de este notebook es crear un conjunto de funciones que nos ayuden a preparar y transformar los datos para el resto de las operaciones. También se muestran aquí las gráficas del slide deck del EDA. "
   ]
  },
  {
   "cell_type": "code",
   "execution_count": 1,
   "metadata": {
    "ExecuteTime": {
     "end_time": "2020-11-20T17:30:54.540238Z",
     "start_time": "2020-11-20T17:30:52.191559Z"
    }
   },
   "outputs": [],
   "source": [
    "#%load_ext pycodestyle_magic\n",
    "#%pycodestyle_on\n",
    "\n",
    "import pandas as pd\n",
    "import numpy as np\n",
    "import matplotlib.pyplot as plt\n",
    "import seaborn as sns\n",
    "import re\n",
    "import datetime\n",
    "import numpy as np\n",
    "from matplotlib.ticker import FuncFormatter"
   ]
  },
  {
   "cell_type": "code",
   "execution_count": 2,
   "metadata": {
    "ExecuteTime": {
     "end_time": "2020-11-20T17:30:59.860101Z",
     "start_time": "2020-11-20T17:30:59.850732Z"
    }
   },
   "outputs": [],
   "source": [
    "#define categorical, numerical and date columns\n",
    "CAT_COLS = [\"dia_semana\", \"codigo_cierre\", \"año_cierre\", \"mes_cierre\", \"mes\", \"delegacion_inicio\", \n",
    "            \"incidente_c4\", \"clas_con_f_alarma\", \"tipo_entrada\", \"delegacion_cierre\", \"hora_creacion\",\n",
    "           \"hora_cierre\"]\n",
    "\n",
    "DATE_COLS = [\"fecha_creacion\", \"fecha_cierre\"]\n",
    "\n",
    "NUM_COLS = [\"latitud\", \"longitud\"]"
   ]
  },
  {
   "cell_type": "code",
   "execution_count": 3,
   "metadata": {
    "ExecuteTime": {
     "end_time": "2020-11-20T17:31:05.912791Z",
     "start_time": "2020-11-20T17:31:05.876018Z"
    }
   },
   "outputs": [],
   "source": [
    "#esto irá en el script ingestion .py\n",
    "def ingest_file(file_name):\n",
    "    \"\"\"\n",
    "    Function to retrieve and return the accidents dataset.\n",
    "    Parameters:\n",
    "    -----------\n",
    "    file_name: str\n",
    "               Path to the file.\n",
    "    Returns:\n",
    "    --------\n",
    "    df: pandas dataframe\n",
    "    \"\"\"\n",
    "    df = pd.read_csv(file_name)\n",
    "    return df\n",
    "\n",
    "\n",
    "def drop_cols(df):\n",
    "    \"\"\"\n",
    "    Function to drop unnnecesary columns in the dataset.\n",
    "    \"\"\"\n",
    "    df.drop(columns = ['folio', 'geopoint', 'mes', 'mes_cierre', 'hora_cierre', 'año_cierre'], inplace = True)\n",
    "    return df\n",
    "\n",
    "\n",
    "\n",
    "def fill_na(df):\n",
    "    \"\"\"\n",
    "    Function to fill null values in a dataframe.\n",
    "    \"\"\"\n",
    "    #aquí podemos ir agregando más cosas cuando descubramos \n",
    "    #cómo imputar valores faltantes para latitud y longitud\n",
    "    df.fillna({\n",
    "        'delegacion_inicio': 'No Disponible',\n",
    "        'delegacion_cierre': 'No Disponible'\n",
    "              }, inplace = True)\n",
    "    return df\n",
    "\n",
    "\n",
    "def categoric_transformation(col,df):\n",
    "    df[col] = df[col].astype(\"category\")\n",
    "    return df \n",
    "\n",
    "def create_categorical(cols, df):\n",
    "    \"\"\"\n",
    "    Function to transform and prepare the categorical features in the dataset.\n",
    "    \"\"\"\n",
    "    #transform to appropriate data type\n",
    "    for col in cols: \n",
    "        df = categoric_transformation(col, df)\n",
    "     \n",
    "    return df\n",
    "\n",
    "\n",
    "def date_transformation(col,df):\n",
    "    \"\"\"\n",
    "    Function to prepare and transform date-type columns. \n",
    "    \"\"\"\n",
    "    df[col] = pd.to_datetime(df[col])\n",
    "    return df\n",
    "\n",
    "def create_date_cols(cols, df):\n",
    "    for col in cols:\n",
    "        df = date_transformation(col, df)\n",
    "    return df \n",
    "\n",
    "\n",
    "\n",
    "def generate_label(df):\n",
    "    \"\"\"\n",
    "    Function to create a new column indicating whether there was\n",
    "    a false alarm or not. \n",
    "    Parameters:\n",
    "    -----------\n",
    "    df: pandas dataframe\n",
    "    \n",
    "    Returns:\n",
    "    --------\n",
    "    df: pandas dataframe\n",
    "    \"\"\"\n",
    "    #transformamos la columna para solo quedarnos con la letra del código\n",
    "    df[\"codigo_cierre\"] = df[\"codigo_cierre\"].apply(lambda x: x[1])\n",
    "    df['label'] = np.where(\n",
    "        (df.codigo_cierre == 'F') | (df.codigo_cierre == 'N'), 1, 0)\n",
    "    return df \n",
    "\n",
    "\n",
    "def clean_hora_creacion(df):\n",
    "    \"\"\"\n",
    "    Function to transform hours with incorrect format to timedelta format. \n",
    "    \"\"\"\n",
    "    horas_raw = df.hora_creacion.values.tolist()\n",
    "    horas_clean = [datetime.timedelta(days=float(e)) if e.startswith(\"0.\") else e for e in horas_raw]\n",
    "    df[\"hora_creacion\"] = horas_clean\n",
    "    return df \n",
    "\n",
    "\n",
    "def create_simple_hour(df):\n",
    "    \"\"\"\n",
    "    Function to extract the hour from the column \"hora_creacion\"\n",
    "    Parameters:\n",
    "    -----------\n",
    "    df: pandas dataframe\n",
    "    \n",
    "    Returns:\n",
    "    ---------\n",
    "    df: pandas dataframe with a new column indicating the hour. \n",
    "    \"\"\"\n",
    "    #la función se podria adaptar para devolver minuto o segundo pero no lo considero necesario\n",
    "    pattern = '\\d+' #encuentra uno o más dígitos\n",
    "    horas_raw = df.hora_creacion.astype(str).values #son así: '22:35:04', '22:50:49', '09:40:11'\n",
    "    n = len(horas_raw)\n",
    "    horas_clean = [0]*n #es más rápido reasignar valores que hacer .append()\n",
    "    for i in range(n):\n",
    "        hora_raw = horas_raw[i]\n",
    "        hora_clean = re.match(pattern, hora_raw)[0] #solo queremos la hora, esto devuelve un objeto\n",
    "        horas_clean[i] = hora_clean\n",
    "    \n",
    "    df[\"hora_simple\"] = horas_clean\n",
    "    return df \n",
    "\n",
    "\n",
    "def add_date_columns(df):\n",
    "    \"\"\"\n",
    "    Esta función es muy importante puesto que nos ayudará a crear el mes, día y año de creación\n",
    "    del registro. De esta manera podemos prescindir de las fechas de cierre, que no tendríamos en tiempo\n",
    "    real en un modelo. \n",
    "    Parameters:\n",
    "    -----------\n",
    "    df: pandas dataframe\n",
    "    \n",
    "    Returns:\n",
    "    ---------\n",
    "    df: pandas dataframe with 4 new columns\n",
    "    \"\"\"\n",
    "    mapping_meses = {1: \"Enero\", 2: \"Febrero\", 3: \"Marzo\", 4: \"Abril\", 5: \"Mayo\",\n",
    "                       6: \"Junio\", 7: \"Julio\", 8: \"Agosto\", 9: \"Septiembre\", 10: \"Octubre\",\n",
    "                       11: \"Noviembre\", 12: \"Diciembre\"}\n",
    "    \n",
    "    \n",
    "    df[\"año_creacion\"] = df.fecha_creacion.dt.year\n",
    "    df[\"mes_creacion\"] = df.fecha_creacion.dt.month\n",
    "    df[\"dia_creacion\"] = df.fecha_creacion.dt.day\n",
    "    df[\"mes_creacion_str\"] = df.mes_creacion.map(mapping_meses)\n",
    "    df[\"año_creacion\"] = df[\"año_creacion\"].astype(str)\n",
    "    return df \n",
    "\n",
    "\n",
    "def create_time_blocks(df):\n",
    "    \"\"\"\n",
    "    Function to group the hour of the day into 3-hour blocks.\n",
    "    Parameters:\n",
    "    -----------\n",
    "    df: pandas dataframe\n",
    "    \n",
    "    Returns:\n",
    "    ---------\n",
    "    df: pandas dataframe with a new column indicating the time-block.\n",
    "    \"\"\"\n",
    "    horas_int = set(df.hora_simple.astype(int).values) #estaba como categórico\n",
    "    f = lambda x: 12 if x == 0 else x\n",
    "    mapping_hours = {}\n",
    "    for hora in horas_int:\n",
    "        grupo = (hora // 3) * 3\n",
    "        if grupo < 12: \n",
    "            nombre_grupo = str(f(grupo)) + \"-\" + str(grupo + 2) + \" a.m.\"\n",
    "        else:\n",
    "            hora_tarde = grupo % 12\n",
    "            nombre_grupo = str(f(hora_tarde)) + \"-\" + str(hora_tarde + 2) + \" p.m.\"\n",
    "        mapping_hours[hora] = nombre_grupo\n",
    "    \n",
    "    df[\"espacio_del_dia\"] = df[\"hora_simple\"].astype(int).map(mapping_hours)\n",
    "    return df\n",
    "    \n",
    "\n",
    "    \n",
    "\n",
    "    \n",
    "def basic_preprocessing(path):\n",
    "    \"\"\"\n",
    "    Function to summarize all the preprocessing done to the data.\n",
    "    Parameters:\n",
    "    -----------\n",
    "    path: str\n",
    "          Path to your file\n",
    "    \n",
    "    Returns:\n",
    "    ---------\n",
    "    df: pandas dataframe\n",
    "    \"\"\"\n",
    "    df = ingest_file(path) \n",
    "    df = generate_label(df)\n",
    "    df = fill_na(df) \n",
    "    df = clean_hora_creacion(df)\n",
    "    df = create_categorical(CAT_COLS, df) #transform to appropriate data types\n",
    "    df = create_date_cols(DATE_COLS, df)\n",
    "    df = add_date_columns(df)\n",
    "    df = create_simple_hour(df)\n",
    "    df = create_time_blocks(df)\n",
    "    df = drop_cols(df)\n",
    "    \n",
    "    return df\n"
   ]
  },
  {
   "cell_type": "code",
   "execution_count": 4,
   "metadata": {
    "ExecuteTime": {
     "end_time": "2020-11-20T17:31:30.643385Z",
     "start_time": "2020-11-20T17:31:07.075013Z"
    }
   },
   "outputs": [],
   "source": [
    "data = basic_preprocessing('incidentes-viales-c5.csv')"
   ]
  },
  {
   "cell_type": "code",
   "execution_count": 5,
   "metadata": {
    "ExecuteTime": {
     "end_time": "2020-11-20T17:31:34.716780Z",
     "start_time": "2020-11-20T17:31:34.630084Z"
    }
   },
   "outputs": [
    {
     "data": {
      "text/html": [
       "<div>\n",
       "<style scoped>\n",
       "    .dataframe tbody tr th:only-of-type {\n",
       "        vertical-align: middle;\n",
       "    }\n",
       "\n",
       "    .dataframe tbody tr th {\n",
       "        vertical-align: top;\n",
       "    }\n",
       "\n",
       "    .dataframe thead th {\n",
       "        text-align: right;\n",
       "    }\n",
       "</style>\n",
       "<table border=\"1\" class=\"dataframe\">\n",
       "  <thead>\n",
       "    <tr style=\"text-align: right;\">\n",
       "      <th></th>\n",
       "      <th>fecha_creacion</th>\n",
       "      <th>hora_creacion</th>\n",
       "      <th>dia_semana</th>\n",
       "      <th>codigo_cierre</th>\n",
       "      <th>fecha_cierre</th>\n",
       "      <th>delegacion_inicio</th>\n",
       "      <th>incidente_c4</th>\n",
       "      <th>latitud</th>\n",
       "      <th>longitud</th>\n",
       "      <th>clas_con_f_alarma</th>\n",
       "      <th>tipo_entrada</th>\n",
       "      <th>delegacion_cierre</th>\n",
       "      <th>label</th>\n",
       "      <th>año_creacion</th>\n",
       "      <th>mes_creacion</th>\n",
       "      <th>dia_creacion</th>\n",
       "      <th>mes_creacion_str</th>\n",
       "      <th>hora_simple</th>\n",
       "      <th>espacio_del_dia</th>\n",
       "    </tr>\n",
       "  </thead>\n",
       "  <tbody>\n",
       "    <tr>\n",
       "      <th>0</th>\n",
       "      <td>2016-01-23</td>\n",
       "      <td>22:35:04</td>\n",
       "      <td>Sábado</td>\n",
       "      <td>A</td>\n",
       "      <td>2016-01-24</td>\n",
       "      <td>VENUSTIANO CARRANZA</td>\n",
       "      <td>accidente-choque sin lesionados</td>\n",
       "      <td>19.422113</td>\n",
       "      <td>-99.084643</td>\n",
       "      <td>EMERGENCIA</td>\n",
       "      <td>BOTÓN DE AUXILIO</td>\n",
       "      <td>VENUSTIANO CARRANZA</td>\n",
       "      <td>0</td>\n",
       "      <td>2016</td>\n",
       "      <td>1</td>\n",
       "      <td>23</td>\n",
       "      <td>Enero</td>\n",
       "      <td>22</td>\n",
       "      <td>9-11 p.m.</td>\n",
       "    </tr>\n",
       "    <tr>\n",
       "      <th>1</th>\n",
       "      <td>2016-01-23</td>\n",
       "      <td>22:50:49</td>\n",
       "      <td>Sábado</td>\n",
       "      <td>A</td>\n",
       "      <td>2016-01-24</td>\n",
       "      <td>CUAJIMALPA</td>\n",
       "      <td>accidente-choque con lesionados</td>\n",
       "      <td>19.358320</td>\n",
       "      <td>-99.297641</td>\n",
       "      <td>URGENCIAS MEDICAS</td>\n",
       "      <td>BOTÓN DE AUXILIO</td>\n",
       "      <td>CUAJIMALPA</td>\n",
       "      <td>0</td>\n",
       "      <td>2016</td>\n",
       "      <td>1</td>\n",
       "      <td>23</td>\n",
       "      <td>Enero</td>\n",
       "      <td>22</td>\n",
       "      <td>9-11 p.m.</td>\n",
       "    </tr>\n",
       "    <tr>\n",
       "      <th>2</th>\n",
       "      <td>2016-01-24</td>\n",
       "      <td>09:40:11</td>\n",
       "      <td>Domingo</td>\n",
       "      <td>N</td>\n",
       "      <td>2016-01-24</td>\n",
       "      <td>TLALPAN</td>\n",
       "      <td>accidente-choque sin lesionados</td>\n",
       "      <td>19.217070</td>\n",
       "      <td>-99.219070</td>\n",
       "      <td>EMERGENCIA</td>\n",
       "      <td>LLAMADA DEL 066</td>\n",
       "      <td>TLALPAN</td>\n",
       "      <td>1</td>\n",
       "      <td>2016</td>\n",
       "      <td>1</td>\n",
       "      <td>24</td>\n",
       "      <td>Enero</td>\n",
       "      <td>09</td>\n",
       "      <td>9-11 a.m.</td>\n",
       "    </tr>\n",
       "    <tr>\n",
       "      <th>3</th>\n",
       "      <td>2016-01-24</td>\n",
       "      <td>22:40:57</td>\n",
       "      <td>Domingo</td>\n",
       "      <td>N</td>\n",
       "      <td>2016-01-24</td>\n",
       "      <td>MAGDALENA CONTRERAS</td>\n",
       "      <td>accidente-choque sin lesionados</td>\n",
       "      <td>19.320580</td>\n",
       "      <td>-99.241010</td>\n",
       "      <td>EMERGENCIA</td>\n",
       "      <td>LLAMADA DEL 066</td>\n",
       "      <td>MAGDALENA CONTRERAS</td>\n",
       "      <td>1</td>\n",
       "      <td>2016</td>\n",
       "      <td>1</td>\n",
       "      <td>24</td>\n",
       "      <td>Enero</td>\n",
       "      <td>22</td>\n",
       "      <td>9-11 p.m.</td>\n",
       "    </tr>\n",
       "    <tr>\n",
       "      <th>4</th>\n",
       "      <td>2016-01-24</td>\n",
       "      <td>04:25:15</td>\n",
       "      <td>Domingo</td>\n",
       "      <td>A</td>\n",
       "      <td>2016-01-24</td>\n",
       "      <td>MIGUEL HIDALGO</td>\n",
       "      <td>accidente-choque sin lesionados</td>\n",
       "      <td>19.452900</td>\n",
       "      <td>-99.215870</td>\n",
       "      <td>EMERGENCIA</td>\n",
       "      <td>LLAMADA DEL 066</td>\n",
       "      <td>MIGUEL HIDALGO</td>\n",
       "      <td>0</td>\n",
       "      <td>2016</td>\n",
       "      <td>1</td>\n",
       "      <td>24</td>\n",
       "      <td>Enero</td>\n",
       "      <td>04</td>\n",
       "      <td>3-5 a.m.</td>\n",
       "    </tr>\n",
       "  </tbody>\n",
       "</table>\n",
       "</div>"
      ],
      "text/plain": [
       "  fecha_creacion hora_creacion dia_semana codigo_cierre fecha_cierre  \\\n",
       "0     2016-01-23      22:35:04     Sábado             A   2016-01-24   \n",
       "1     2016-01-23      22:50:49     Sábado             A   2016-01-24   \n",
       "2     2016-01-24      09:40:11    Domingo             N   2016-01-24   \n",
       "3     2016-01-24      22:40:57    Domingo             N   2016-01-24   \n",
       "4     2016-01-24      04:25:15    Domingo             A   2016-01-24   \n",
       "\n",
       "     delegacion_inicio                     incidente_c4    latitud   longitud  \\\n",
       "0  VENUSTIANO CARRANZA  accidente-choque sin lesionados  19.422113 -99.084643   \n",
       "1           CUAJIMALPA  accidente-choque con lesionados  19.358320 -99.297641   \n",
       "2              TLALPAN  accidente-choque sin lesionados  19.217070 -99.219070   \n",
       "3  MAGDALENA CONTRERAS  accidente-choque sin lesionados  19.320580 -99.241010   \n",
       "4       MIGUEL HIDALGO  accidente-choque sin lesionados  19.452900 -99.215870   \n",
       "\n",
       "   clas_con_f_alarma      tipo_entrada    delegacion_cierre  label  \\\n",
       "0         EMERGENCIA  BOTÓN DE AUXILIO  VENUSTIANO CARRANZA      0   \n",
       "1  URGENCIAS MEDICAS  BOTÓN DE AUXILIO           CUAJIMALPA      0   \n",
       "2         EMERGENCIA   LLAMADA DEL 066              TLALPAN      1   \n",
       "3         EMERGENCIA   LLAMADA DEL 066  MAGDALENA CONTRERAS      1   \n",
       "4         EMERGENCIA   LLAMADA DEL 066       MIGUEL HIDALGO      0   \n",
       "\n",
       "  año_creacion  mes_creacion  dia_creacion mes_creacion_str hora_simple  \\\n",
       "0         2016             1            23            Enero          22   \n",
       "1         2016             1            23            Enero          22   \n",
       "2         2016             1            24            Enero          09   \n",
       "3         2016             1            24            Enero          22   \n",
       "4         2016             1            24            Enero          04   \n",
       "\n",
       "  espacio_del_dia  \n",
       "0       9-11 p.m.  \n",
       "1       9-11 p.m.  \n",
       "2       9-11 a.m.  \n",
       "3       9-11 p.m.  \n",
       "4        3-5 a.m.  "
      ]
     },
     "execution_count": 5,
     "metadata": {},
     "output_type": "execute_result"
    }
   ],
   "source": [
    "data.head()"
   ]
  },
  {
   "cell_type": "code",
   "execution_count": null,
   "metadata": {},
   "outputs": [],
   "source": [
    "data[\"label_pos\"] = np.where(data.label == 1, 0, 1)"
   ]
  },
  {
   "cell_type": "markdown",
   "metadata": {},
   "source": [
    "## Proporción de llamadas falsas por delegación de 2014-2020.\n",
    "\n",
    "Es natural preguntarse cuál es la proporción de llamadas falsas o negativas (las que tienen label == 1) para cada delegación en cada año."
   ]
  },
  {
   "cell_type": "code",
   "execution_count": 6,
   "metadata": {
    "ExecuteTime": {
     "end_time": "2020-11-20T17:31:46.237401Z",
     "start_time": "2020-11-20T17:31:45.470526Z"
    }
   },
   "outputs": [
    {
     "data": {
      "text/html": [
       "<div>\n",
       "<style scoped>\n",
       "    .dataframe tbody tr th:only-of-type {\n",
       "        vertical-align: middle;\n",
       "    }\n",
       "\n",
       "    .dataframe tbody tr th {\n",
       "        vertical-align: top;\n",
       "    }\n",
       "\n",
       "    .dataframe thead th {\n",
       "        text-align: right;\n",
       "    }\n",
       "</style>\n",
       "<table border=\"1\" class=\"dataframe\">\n",
       "  <thead>\n",
       "    <tr style=\"text-align: right;\">\n",
       "      <th></th>\n",
       "      <th>delegacion_inicio</th>\n",
       "      <th>año_creacion</th>\n",
       "      <th>label</th>\n",
       "    </tr>\n",
       "  </thead>\n",
       "  <tbody>\n",
       "    <tr>\n",
       "      <th>0</th>\n",
       "      <td>Alvaro Obregon</td>\n",
       "      <td>2013</td>\n",
       "      <td>0.500000</td>\n",
       "    </tr>\n",
       "    <tr>\n",
       "      <th>1</th>\n",
       "      <td>Alvaro Obregon</td>\n",
       "      <td>2014</td>\n",
       "      <td>0.191288</td>\n",
       "    </tr>\n",
       "    <tr>\n",
       "      <th>2</th>\n",
       "      <td>Alvaro Obregon</td>\n",
       "      <td>2015</td>\n",
       "      <td>0.212632</td>\n",
       "    </tr>\n",
       "    <tr>\n",
       "      <th>3</th>\n",
       "      <td>Alvaro Obregon</td>\n",
       "      <td>2016</td>\n",
       "      <td>0.250600</td>\n",
       "    </tr>\n",
       "    <tr>\n",
       "      <th>4</th>\n",
       "      <td>Alvaro Obregon</td>\n",
       "      <td>2017</td>\n",
       "      <td>0.230548</td>\n",
       "    </tr>\n",
       "  </tbody>\n",
       "</table>\n",
       "</div>"
      ],
      "text/plain": [
       "  delegacion_inicio año_creacion     label\n",
       "0    Alvaro Obregon         2013  0.500000\n",
       "1    Alvaro Obregon         2014  0.191288\n",
       "2    Alvaro Obregon         2015  0.212632\n",
       "3    Alvaro Obregon         2016  0.250600\n",
       "4    Alvaro Obregon         2017  0.230548"
      ]
     },
     "execution_count": 6,
     "metadata": {},
     "output_type": "execute_result"
    }
   ],
   "source": [
    "#el promedio de una columna de 0's y 1's es la proporción de 1's en esa columna. \n",
    "prop = data.groupby([\"delegacion_inicio\", \"año_creacion\"], as_index = False)\n",
    "prop = prop.mean()[[\"delegacion_inicio\", \"año_creacion\", \"label\"]]\n",
    "prop = prop[prop.delegacion_inicio != \"No Disponible\"]\n",
    "prop[\"delegacion_inicio\"] = [e.lower().title() for e in prop.delegacion_inicio.values]\n",
    "prop.head()"
   ]
  },
  {
   "cell_type": "code",
   "execution_count": 7,
   "metadata": {
    "ExecuteTime": {
     "end_time": "2020-11-20T17:31:47.436382Z",
     "start_time": "2020-11-20T17:31:47.396388Z"
    }
   },
   "outputs": [],
   "source": [
    "#solo son 7 años y tengo 8 campos\n",
    "#tengo que agregar un campo adicional para llenar el facet grid; agreguemos el promedio\n",
    "promedio = prop.groupby(['delegacion_inicio'], as_index=False).agg({'label': 'mean'})\n",
    "promedio = promedio.sort_values(by=[\"label\"], ascending=False)\n",
    "promedio = promedio.iloc[:5,]"
   ]
  },
  {
   "cell_type": "code",
   "execution_count": 8,
   "metadata": {
    "ExecuteTime": {
     "end_time": "2020-11-20T17:32:15.676837Z",
     "start_time": "2020-11-20T17:32:14.081135Z"
    }
   },
   "outputs": [
    {
     "data": {
      "image/png": "[encoded data removed]",
      "text/plain": [
       "<Figure size 1008x720 with 8 Axes>"
      ]
     },
     "metadata": {
      "needs_background": "light"
     },
     "output_type": "display_data"
    }
   ],
   "source": [
    "#inicializar gráfica masiva \n",
    "fig, axs = plt.subplots(2,4, figsize = (14,10))\n",
    "plt.subplots_adjust(wspace = .25, hspace = .85, bottom = .20)\n",
    "fig.suptitle('Top 5 Delegaciones con Mayor Proporción de llamadas falsas')\n",
    "\n",
    "\n",
    "#paso 3: llenar el facet grid \n",
    "for i in range(8):\n",
    "    año = 2014 + i #2014, 2015,..., 2020\n",
    "    row = i // 4  \n",
    "    col = i % 4\n",
    "    #filtramos solo por año \n",
    "    grouping = prop[prop[\"año_creacion\"] == str(año)].sort_values(by = \"label\", ascending = False).iloc[:5,:]\n",
    "    delegaciones = [e.lower().title() for e in grouping.delegacion_inicio.values][:5]\n",
    "    axs[row,col].bar(grouping.delegacion_inicio, grouping.label, align='center', alpha=0.6)\n",
    "    axs[row,col].set_title(f\"{str(año)}\")\n",
    "    axs[row,col].set_ylim([0,.40])\n",
    "    axs[row,col].set_xticks(range(5))\n",
    "    axs[row,col].set_xticklabels(delegaciones, rotation = 90)\n",
    "    if i == 0 or i == 4: \n",
    "        axs[row,col].set(ylabel = \"Proporción de llamadas falsas o negativas\")\n",
    "    #campo del promedio se llena de formam distinta\n",
    "    if row == 1 and col == 3: \n",
    "        axs[row,col].bar(promedio.delegacion_inicio, promedio.label, align = \"center\", alpha=0.6)\n",
    "        delegaciones = [e for e in promedio.delegacion_inicio.values]\n",
    "        axs[row,col].set_title(\"Promedio 2014-2020\")\n",
    "        axs[row,col].set_ylim([0,.40])\n",
    "        axs[row,col].set_xticks(range(5))\n",
    "        axs[row,col].set_xticklabels(delegaciones, rotation = 90)\n",
    "\n",
    "        \n",
    "#plt.sca(axs[0,3])\n",
    "#plt.xticks(list(range(16)), [\"str(e)\" for e in range(16)], rotation=90)\n",
    "plt.savefig(\"top_5_proporcion_v0.png\")\n",
    "plt.show();\n",
    "#TO DO: poner solo las top 5 delegaciones no? "
   ]
  },
  {
   "cell_type": "markdown",
   "metadata": {},
   "source": [
    "Podemos ver que prácticamente son las mismas colonias las que predominan en la lista. "
   ]
  },
  {
   "cell_type": "markdown",
   "metadata": {},
   "source": [
    "## Llamadas falsas o negativas por día de la semana.\n",
    "\n",
    "También es natural preguntarse qué días de la semana tuvieron más llamadas falsas. También podemos dividir por año el facetgrid. "
   ]
  },
  {
   "cell_type": "code",
   "execution_count": 27,
   "metadata": {
    "ExecuteTime": {
     "end_time": "2020-11-20T17:45:18.420094Z",
     "start_time": "2020-11-20T17:45:18.415351Z"
    }
   },
   "outputs": [],
   "source": [
    "mapping_dias = {\"Lunes\": 1, \"Martes\": 2, \"Miércoles\": 3, \"Jueves\": 4, \"Viernes\": 5, \"Sábado\": 6,\n",
    "                \"Domingo\": 7}"
   ]
  },
  {
   "cell_type": "code",
   "execution_count": 87,
   "metadata": {
    "ExecuteTime": {
     "end_time": "2020-11-20T18:29:47.026174Z",
     "start_time": "2020-11-20T18:29:46.121407Z"
    }
   },
   "outputs": [
    {
     "data": {
      "text/html": [
       "<div>\n",
       "<style scoped>\n",
       "    .dataframe tbody tr th:only-of-type {\n",
       "        vertical-align: middle;\n",
       "    }\n",
       "\n",
       "    .dataframe tbody tr th {\n",
       "        vertical-align: top;\n",
       "    }\n",
       "\n",
       "    .dataframe thead th {\n",
       "        text-align: right;\n",
       "    }\n",
       "</style>\n",
       "<table border=\"1\" class=\"dataframe\">\n",
       "  <thead>\n",
       "    <tr style=\"text-align: right;\">\n",
       "      <th></th>\n",
       "      <th>año_creacion</th>\n",
       "      <th>dia_semana</th>\n",
       "      <th>label</th>\n",
       "      <th>label_pos</th>\n",
       "      <th>id</th>\n",
       "    </tr>\n",
       "  </thead>\n",
       "  <tbody>\n",
       "    <tr>\n",
       "      <th>18</th>\n",
       "      <td>2015</td>\n",
       "      <td>Lunes</td>\n",
       "      <td>5080.0</td>\n",
       "      <td>19859.0</td>\n",
       "      <td>1</td>\n",
       "    </tr>\n",
       "    <tr>\n",
       "      <th>26</th>\n",
       "      <td>2015</td>\n",
       "      <td>Martes</td>\n",
       "      <td>5459.0</td>\n",
       "      <td>20906.0</td>\n",
       "      <td>2</td>\n",
       "    </tr>\n",
       "    <tr>\n",
       "      <th>34</th>\n",
       "      <td>2015</td>\n",
       "      <td>Miércoles</td>\n",
       "      <td>5479.0</td>\n",
       "      <td>20909.0</td>\n",
       "      <td>3</td>\n",
       "    </tr>\n",
       "    <tr>\n",
       "      <th>10</th>\n",
       "      <td>2015</td>\n",
       "      <td>Jueves</td>\n",
       "      <td>5774.0</td>\n",
       "      <td>22191.0</td>\n",
       "      <td>4</td>\n",
       "    </tr>\n",
       "    <tr>\n",
       "      <th>50</th>\n",
       "      <td>2015</td>\n",
       "      <td>Viernes</td>\n",
       "      <td>6474.0</td>\n",
       "      <td>24004.0</td>\n",
       "      <td>5</td>\n",
       "    </tr>\n",
       "    <tr>\n",
       "      <th>42</th>\n",
       "      <td>2015</td>\n",
       "      <td>Sábado</td>\n",
       "      <td>5430.0</td>\n",
       "      <td>21595.0</td>\n",
       "      <td>6</td>\n",
       "    </tr>\n",
       "    <tr>\n",
       "      <th>2</th>\n",
       "      <td>2015</td>\n",
       "      <td>Domingo</td>\n",
       "      <td>4246.0</td>\n",
       "      <td>17412.0</td>\n",
       "      <td>7</td>\n",
       "    </tr>\n",
       "  </tbody>\n",
       "</table>\n",
       "</div>"
      ],
      "text/plain": [
       "   año_creacion dia_semana   label  label_pos  id\n",
       "18         2015      Lunes  5080.0    19859.0   1\n",
       "26         2015     Martes  5459.0    20906.0   2\n",
       "34         2015  Miércoles  5479.0    20909.0   3\n",
       "10         2015     Jueves  5774.0    22191.0   4\n",
       "50         2015    Viernes  6474.0    24004.0   5\n",
       "42         2015     Sábado  5430.0    21595.0   6\n",
       "2          2015    Domingo  4246.0    17412.0   7"
      ]
     },
     "execution_count": 87,
     "metadata": {},
     "output_type": "execute_result"
    }
   ],
   "source": [
    "dia_semana = data.groupby([\"dia_semana\", \"año_creacion\"], as_index = False)\n",
    "dia_semana = dia_semana.sum()[[\"año_creacion\", \"dia_semana\", \"label\", \"label_pos\"]].fillna({\"label\": 0})\n",
    "dia_semana[\"id\"] = dia_semana.dia_semana.map(mapping_dias)\n",
    "dia_semana[\"id\"] = dia_semana.id.astype(int)\n",
    "dia_semana = dia_semana.sort_values(by=['id'], ascending = True)\n",
    "dia_semana[dia_semana.año_creacion == '2015']"
   ]
  },
  {
   "cell_type": "code",
   "execution_count": 88,
   "metadata": {
    "ExecuteTime": {
     "end_time": "2020-11-20T18:29:58.536134Z",
     "start_time": "2020-11-20T18:29:58.503967Z"
    }
   },
   "outputs": [
    {
     "data": {
      "text/html": [
       "<div>\n",
       "<style scoped>\n",
       "    .dataframe tbody tr th:only-of-type {\n",
       "        vertical-align: middle;\n",
       "    }\n",
       "\n",
       "    .dataframe tbody tr th {\n",
       "        vertical-align: top;\n",
       "    }\n",
       "\n",
       "    .dataframe thead th {\n",
       "        text-align: right;\n",
       "    }\n",
       "</style>\n",
       "<table border=\"1\" class=\"dataframe\">\n",
       "  <thead>\n",
       "    <tr style=\"text-align: right;\">\n",
       "      <th></th>\n",
       "      <th>dia_semana</th>\n",
       "      <th>label</th>\n",
       "      <th>label_pos</th>\n",
       "      <th>id</th>\n",
       "    </tr>\n",
       "  </thead>\n",
       "  <tbody>\n",
       "    <tr>\n",
       "      <th>2</th>\n",
       "      <td>Lunes</td>\n",
       "      <td>36718.0</td>\n",
       "      <td>145730.0</td>\n",
       "      <td>1</td>\n",
       "    </tr>\n",
       "    <tr>\n",
       "      <th>3</th>\n",
       "      <td>Martes</td>\n",
       "      <td>39105.0</td>\n",
       "      <td>150564.0</td>\n",
       "      <td>2</td>\n",
       "    </tr>\n",
       "    <tr>\n",
       "      <th>4</th>\n",
       "      <td>Miércoles</td>\n",
       "      <td>40389.0</td>\n",
       "      <td>153468.0</td>\n",
       "      <td>3</td>\n",
       "    </tr>\n",
       "    <tr>\n",
       "      <th>1</th>\n",
       "      <td>Jueves</td>\n",
       "      <td>41278.0</td>\n",
       "      <td>156869.0</td>\n",
       "      <td>4</td>\n",
       "    </tr>\n",
       "    <tr>\n",
       "      <th>6</th>\n",
       "      <td>Viernes</td>\n",
       "      <td>50206.0</td>\n",
       "      <td>179475.0</td>\n",
       "      <td>5</td>\n",
       "    </tr>\n",
       "    <tr>\n",
       "      <th>5</th>\n",
       "      <td>Sábado</td>\n",
       "      <td>41535.0</td>\n",
       "      <td>172599.0</td>\n",
       "      <td>6</td>\n",
       "    </tr>\n",
       "    <tr>\n",
       "      <th>0</th>\n",
       "      <td>Domingo</td>\n",
       "      <td>33072.0</td>\n",
       "      <td>142130.0</td>\n",
       "      <td>7</td>\n",
       "    </tr>\n",
       "  </tbody>\n",
       "</table>\n",
       "</div>"
      ],
      "text/plain": [
       "  dia_semana    label  label_pos  id\n",
       "2      Lunes  36718.0   145730.0   1\n",
       "3     Martes  39105.0   150564.0   2\n",
       "4  Miércoles  40389.0   153468.0   3\n",
       "1     Jueves  41278.0   156869.0   4\n",
       "6    Viernes  50206.0   179475.0   5\n",
       "5     Sábado  41535.0   172599.0   6\n",
       "0    Domingo  33072.0   142130.0   7"
      ]
     },
     "execution_count": 88,
     "metadata": {},
     "output_type": "execute_result"
    }
   ],
   "source": [
    "prom_dia = dia_semana.groupby([\"dia_semana\"], as_index = False).agg({'label': 'sum', \"label_pos\": \"sum\"})\n",
    "prom_dia[\"id\"] = prom_dia.dia_semana.map(mapping_dias)\n",
    "prom_dia[\"id\"] = prom_dia.id.astype(int)\n",
    "prom_dia = prom_dia.sort_values(by=['id'], ascending = True)\n",
    "prom_dia"
   ]
  },
  {
   "cell_type": "code",
   "execution_count": 93,
   "metadata": {
    "ExecuteTime": {
     "end_time": "2020-11-20T18:33:02.444530Z",
     "start_time": "2020-11-20T18:33:00.356093Z"
    }
   },
   "outputs": [
    {
     "data": {
      "image/png": "[encoded data removed]",
      "text/plain": [
       "<Figure size 1008x720 with 8 Axes>"
      ]
     },
     "metadata": {
      "needs_background": "light"
     },
     "output_type": "display_data"
    }
   ],
   "source": [
    "#inicializar gráfica masiva\n",
    "fig, axs = plt.subplots(2,4, figsize = (14,10))\n",
    "plt.subplots_adjust(wspace = .25, hspace = .45, bottom = .20)\n",
    "fig.suptitle('Análisis de llamadas por día de la semana.')\n",
    "\n",
    "#llenar el facet grid \n",
    "for i in range(7):\n",
    "    año = 2014 + i #2014, 2015,..., 2020\n",
    "    row = i // 4  \n",
    "    col = i % 4\n",
    "    #filtramos solo por año \n",
    "    grouping = dia_semana[dia_semana[\"año_creacion\"] == str(año)]\n",
    "    dias = [e.lower().title() for e in grouping.dia_semana.values]\n",
    "    x = np.array([e for e in range(7)]).reshape(7,)\n",
    "    y = np.array(grouping.label.values).reshape(7,)\n",
    "    axs[row,col].plot(x, y, marker = \"x\", linestyle='--', linewidth=1, markersize = 4, label = \"label = 1\")\n",
    "    axs[row,col].plot(x, grouping.label_pos.values, marker = \"^\", linestyle='--', linewidth=1, \n",
    "                      markersize = 4, label = \"label = 0\")\n",
    "    axs[row,col].set_title(f\"{str(año)}\")\n",
    "    #axs[row,col].set_ylim([2000, 10000])\n",
    "    axs[row,col].set_xticks(range(7))\n",
    "    axs[row,col].set_xticklabels(dias, rotation = 90)\n",
    "    if i == 0 or i == 4: \n",
    "        axs[row,col].set(ylabel = \"# De Llamadas\")\n",
    "        axs[row,col].legend(loc = \"upper left\")\n",
    "    #campo del promedio se llena de forma distinta\n",
    "    if i == 6: \n",
    "        x = [e for e in range(7)]\n",
    "        axs[1,3].plot(x, prom_dia.label.values, linestyle='--', marker = \"x\", linewidth=1, markersize = 4)\n",
    "        axs[1,3].plot(x, prom_dia.label_pos.values, linestyle=\"--\", marker=\"^\", linewidth=1, markersize =4)\n",
    "        dias = [e for e in prom_dia.dia_semana.values]\n",
    "        axs[1,3].set_title(\"Promedio 2014-2020\")\n",
    "        #axs[1,3].set_ylim([30000, 55000])\n",
    "        axs[1,3].set_xticks(range(7))\n",
    "        axs[1,3].set_xticklabels(dias, rotation = 90)\n",
    "#plt.sca(axs[0,3])\n",
    "#plt.xticks(list(range(16)), [\"str(e)\" for e in range(16)], rotation=90)\n",
    "plt.show();"
   ]
  },
  {
   "cell_type": "code",
   "execution_count": null,
   "metadata": {},
   "outputs": [],
   "source": [
    "#to do: poner también las llamadas positivas?\n"
   ]
  },
  {
   "cell_type": "markdown",
   "metadata": {},
   "source": [
    "# ¿Y en qué horario ocurren estas llamadas?\n",
    "\n",
    "Podemos ver que indudablemente el viernes es el día en donde más llamadas falsas hay. Una pregunta que surge naturalmente al entender el día donde hay más llamadas falsas es, ¿en qué horario ocurren estas llamadas? Para esto podemos crear una variable adicional que indique el bloque de tiempo (en grupos de 3 horas) donde ocurren estas llamadas. "
   ]
  },
  {
   "cell_type": "code",
   "execution_count": 62,
   "metadata": {
    "ExecuteTime": {
     "end_time": "2020-11-20T18:15:45.703378Z",
     "start_time": "2020-11-20T18:15:45.680276Z"
    }
   },
   "outputs": [
    {
     "data": {
      "text/html": [
       "<div>\n",
       "<style scoped>\n",
       "    .dataframe tbody tr th:only-of-type {\n",
       "        vertical-align: middle;\n",
       "    }\n",
       "\n",
       "    .dataframe tbody tr th {\n",
       "        vertical-align: top;\n",
       "    }\n",
       "\n",
       "    .dataframe thead th {\n",
       "        text-align: right;\n",
       "    }\n",
       "</style>\n",
       "<table border=\"1\" class=\"dataframe\">\n",
       "  <thead>\n",
       "    <tr style=\"text-align: right;\">\n",
       "      <th></th>\n",
       "      <th>label</th>\n",
       "      <th>año_creacion</th>\n",
       "      <th>mes_creacion</th>\n",
       "      <th>dia_creacion</th>\n",
       "      <th>mes_creacion_str</th>\n",
       "      <th>hora_simple</th>\n",
       "      <th>espacio_del_dia</th>\n",
       "    </tr>\n",
       "  </thead>\n",
       "  <tbody>\n",
       "    <tr>\n",
       "      <th>0</th>\n",
       "      <td>0</td>\n",
       "      <td>2016</td>\n",
       "      <td>1</td>\n",
       "      <td>23</td>\n",
       "      <td>Enero</td>\n",
       "      <td>22</td>\n",
       "      <td>9-11 p.m.</td>\n",
       "    </tr>\n",
       "    <tr>\n",
       "      <th>1</th>\n",
       "      <td>0</td>\n",
       "      <td>2016</td>\n",
       "      <td>1</td>\n",
       "      <td>23</td>\n",
       "      <td>Enero</td>\n",
       "      <td>22</td>\n",
       "      <td>9-11 p.m.</td>\n",
       "    </tr>\n",
       "    <tr>\n",
       "      <th>2</th>\n",
       "      <td>1</td>\n",
       "      <td>2016</td>\n",
       "      <td>1</td>\n",
       "      <td>24</td>\n",
       "      <td>Enero</td>\n",
       "      <td>09</td>\n",
       "      <td>9-11 a.m.</td>\n",
       "    </tr>\n",
       "    <tr>\n",
       "      <th>3</th>\n",
       "      <td>1</td>\n",
       "      <td>2016</td>\n",
       "      <td>1</td>\n",
       "      <td>24</td>\n",
       "      <td>Enero</td>\n",
       "      <td>22</td>\n",
       "      <td>9-11 p.m.</td>\n",
       "    </tr>\n",
       "    <tr>\n",
       "      <th>4</th>\n",
       "      <td>0</td>\n",
       "      <td>2016</td>\n",
       "      <td>1</td>\n",
       "      <td>24</td>\n",
       "      <td>Enero</td>\n",
       "      <td>04</td>\n",
       "      <td>3-5 a.m.</td>\n",
       "    </tr>\n",
       "  </tbody>\n",
       "</table>\n",
       "</div>"
      ],
      "text/plain": [
       "   label año_creacion  mes_creacion  dia_creacion mes_creacion_str  \\\n",
       "0      0         2016             1            23            Enero   \n",
       "1      0         2016             1            23            Enero   \n",
       "2      1         2016             1            24            Enero   \n",
       "3      1         2016             1            24            Enero   \n",
       "4      0         2016             1            24            Enero   \n",
       "\n",
       "  hora_simple espacio_del_dia  \n",
       "0          22       9-11 p.m.  \n",
       "1          22       9-11 p.m.  \n",
       "2          09       9-11 a.m.  \n",
       "3          22       9-11 p.m.  \n",
       "4          04        3-5 a.m.  "
      ]
     },
     "execution_count": 62,
     "metadata": {},
     "output_type": "execute_result"
    }
   ],
   "source": [
    "#la variable se llama espacio_del_dia, y se ve así:\n",
    "data.iloc[:5,12:]"
   ]
  },
  {
   "cell_type": "code",
   "execution_count": 63,
   "metadata": {
    "ExecuteTime": {
     "end_time": "2020-11-20T18:15:48.438098Z",
     "start_time": "2020-11-20T18:15:48.425381Z"
    }
   },
   "outputs": [],
   "source": [
    "#también conviene usar el método map para crear una variable que nos ayude a ordenarlas \n",
    "mapping_espacio = {\"12-2 a.m.\": 1, \"3-5 a.m.\": 2, \"6-8 a.m.\": 3, \"9-11 a.m.\": 4,\n",
    "                  \"12-2 p.m.\": 5, \"3-5 p.m.\": 6, \"6-8 p.m.\": 7, \"9-11 p.m.\": 8}"
   ]
  },
  {
   "cell_type": "code",
   "execution_count": 71,
   "metadata": {
    "ExecuteTime": {
     "end_time": "2020-11-20T18:21:46.940971Z",
     "start_time": "2020-11-20T18:21:46.901996Z"
    }
   },
   "outputs": [],
   "source": []
  },
  {
   "cell_type": "code",
   "execution_count": 72,
   "metadata": {
    "ExecuteTime": {
     "end_time": "2020-11-20T18:21:58.187434Z",
     "start_time": "2020-11-20T18:21:57.346437Z"
    }
   },
   "outputs": [
    {
     "data": {
      "text/html": [
       "<div>\n",
       "<style scoped>\n",
       "    .dataframe tbody tr th:only-of-type {\n",
       "        vertical-align: middle;\n",
       "    }\n",
       "\n",
       "    .dataframe tbody tr th {\n",
       "        vertical-align: top;\n",
       "    }\n",
       "\n",
       "    .dataframe thead th {\n",
       "        text-align: right;\n",
       "    }\n",
       "</style>\n",
       "<table border=\"1\" class=\"dataframe\">\n",
       "  <thead>\n",
       "    <tr style=\"text-align: right;\">\n",
       "      <th></th>\n",
       "      <th>espacio_del_dia</th>\n",
       "      <th>dia_semana</th>\n",
       "      <th>label</th>\n",
       "      <th>label_pos</th>\n",
       "      <th>id</th>\n",
       "    </tr>\n",
       "  </thead>\n",
       "  <tbody>\n",
       "    <tr>\n",
       "      <th>0</th>\n",
       "      <td>12-2 a.m.</td>\n",
       "      <td>Domingo</td>\n",
       "      <td>3888</td>\n",
       "      <td>17737</td>\n",
       "      <td>1</td>\n",
       "    </tr>\n",
       "    <tr>\n",
       "      <th>1</th>\n",
       "      <td>12-2 a.m.</td>\n",
       "      <td>Jueves</td>\n",
       "      <td>1503</td>\n",
       "      <td>8507</td>\n",
       "      <td>1</td>\n",
       "    </tr>\n",
       "    <tr>\n",
       "      <th>2</th>\n",
       "      <td>12-2 a.m.</td>\n",
       "      <td>Lunes</td>\n",
       "      <td>1375</td>\n",
       "      <td>7766</td>\n",
       "      <td>1</td>\n",
       "    </tr>\n",
       "    <tr>\n",
       "      <th>3</th>\n",
       "      <td>12-2 a.m.</td>\n",
       "      <td>Martes</td>\n",
       "      <td>984</td>\n",
       "      <td>6203</td>\n",
       "      <td>1</td>\n",
       "    </tr>\n",
       "    <tr>\n",
       "      <th>4</th>\n",
       "      <td>12-2 a.m.</td>\n",
       "      <td>Miércoles</td>\n",
       "      <td>1284</td>\n",
       "      <td>7733</td>\n",
       "      <td>1</td>\n",
       "    </tr>\n",
       "  </tbody>\n",
       "</table>\n",
       "</div>"
      ],
      "text/plain": [
       "  espacio_del_dia dia_semana  label  label_pos  id\n",
       "0       12-2 a.m.    Domingo   3888      17737   1\n",
       "1       12-2 a.m.     Jueves   1503       8507   1\n",
       "2       12-2 a.m.      Lunes   1375       7766   1\n",
       "3       12-2 a.m.     Martes    984       6203   1\n",
       "4       12-2 a.m.  Miércoles   1284       7733   1"
      ]
     },
     "execution_count": 72,
     "metadata": {},
     "output_type": "execute_result"
    }
   ],
   "source": [
    "horario_frecuente = data.groupby([\"espacio_del_dia\", \"dia_semana\"], as_index = False)\n",
    "horario_frecuente = horario_frecuente.sum()[[\"espacio_del_dia\", \"dia_semana\", \"label\", \"label_pos\"]]\n",
    "horario_frecuente[\"id\"] = horario_frecuente[\"espacio_del_dia\"].map(mapping_espacio).astype(int)\n",
    "horario_frecuente = horario_frecuente.sort_values(by=[\"id\"])\n",
    "horario_frecuente.head()"
   ]
  },
  {
   "cell_type": "code",
   "execution_count": 73,
   "metadata": {
    "ExecuteTime": {
     "end_time": "2020-11-20T18:22:16.543549Z",
     "start_time": "2020-11-20T18:22:16.514120Z"
    }
   },
   "outputs": [
    {
     "data": {
      "text/html": [
       "<div>\n",
       "<style scoped>\n",
       "    .dataframe tbody tr th:only-of-type {\n",
       "        vertical-align: middle;\n",
       "    }\n",
       "\n",
       "    .dataframe tbody tr th {\n",
       "        vertical-align: top;\n",
       "    }\n",
       "\n",
       "    .dataframe thead th {\n",
       "        text-align: right;\n",
       "    }\n",
       "</style>\n",
       "<table border=\"1\" class=\"dataframe\">\n",
       "  <thead>\n",
       "    <tr style=\"text-align: right;\">\n",
       "      <th></th>\n",
       "      <th>espacio_del_dia</th>\n",
       "      <th>label</th>\n",
       "      <th>label_pos</th>\n",
       "      <th>id</th>\n",
       "    </tr>\n",
       "  </thead>\n",
       "  <tbody>\n",
       "    <tr>\n",
       "      <th>0</th>\n",
       "      <td>12-2 a.m.</td>\n",
       "      <td>15412</td>\n",
       "      <td>79349</td>\n",
       "      <td>1</td>\n",
       "    </tr>\n",
       "    <tr>\n",
       "      <th>2</th>\n",
       "      <td>3-5 a.m.</td>\n",
       "      <td>8962</td>\n",
       "      <td>45983</td>\n",
       "      <td>2</td>\n",
       "    </tr>\n",
       "    <tr>\n",
       "      <th>4</th>\n",
       "      <td>6-8 a.m.</td>\n",
       "      <td>23052</td>\n",
       "      <td>99115</td>\n",
       "      <td>3</td>\n",
       "    </tr>\n",
       "    <tr>\n",
       "      <th>6</th>\n",
       "      <td>9-11 a.m.</td>\n",
       "      <td>33072</td>\n",
       "      <td>136024</td>\n",
       "      <td>4</td>\n",
       "    </tr>\n",
       "    <tr>\n",
       "      <th>1</th>\n",
       "      <td>12-2 p.m.</td>\n",
       "      <td>42776</td>\n",
       "      <td>160661</td>\n",
       "      <td>5</td>\n",
       "    </tr>\n",
       "    <tr>\n",
       "      <th>3</th>\n",
       "      <td>3-5 p.m.</td>\n",
       "      <td>51777</td>\n",
       "      <td>195405</td>\n",
       "      <td>6</td>\n",
       "    </tr>\n",
       "    <tr>\n",
       "      <th>5</th>\n",
       "      <td>6-8 p.m.</td>\n",
       "      <td>61453</td>\n",
       "      <td>210415</td>\n",
       "      <td>7</td>\n",
       "    </tr>\n",
       "    <tr>\n",
       "      <th>7</th>\n",
       "      <td>9-11 p.m.</td>\n",
       "      <td>45799</td>\n",
       "      <td>173883</td>\n",
       "      <td>8</td>\n",
       "    </tr>\n",
       "  </tbody>\n",
       "</table>\n",
       "</div>"
      ],
      "text/plain": [
       "  espacio_del_dia  label  label_pos  id\n",
       "0       12-2 a.m.  15412      79349   1\n",
       "2        3-5 a.m.   8962      45983   2\n",
       "4        6-8 a.m.  23052      99115   3\n",
       "6       9-11 a.m.  33072     136024   4\n",
       "1       12-2 p.m.  42776     160661   5\n",
       "3        3-5 p.m.  51777     195405   6\n",
       "5        6-8 p.m.  61453     210415   7\n",
       "7       9-11 p.m.  45799     173883   8"
      ]
     },
     "execution_count": 73,
     "metadata": {},
     "output_type": "execute_result"
    }
   ],
   "source": [
    "prom_dia = horario_frecuente.groupby([\"espacio_del_dia\"], as_index = False).agg({'label': 'sum', \n",
    "                                                                                 'label_pos': 'sum'})\n",
    "#prom_dia = prom_dia.agg({'label': 'mean'})\n",
    "prom_dia[\"id\"] = prom_dia[\"espacio_del_dia\"].map(mapping_espacio).astype(int)\n",
    "prom_dia = prom_dia.sort_values(by=[\"id\"])\n",
    "prom_dia"
   ]
  },
  {
   "cell_type": "code",
   "execution_count": 86,
   "metadata": {
    "ExecuteTime": {
     "end_time": "2020-11-20T18:26:22.939387Z",
     "start_time": "2020-11-20T18:26:21.717278Z"
    }
   },
   "outputs": [
    {
     "data": {
      "image/png": "[encoded data removed]",
      "text/plain": [
       "<Figure size 1080x792 with 8 Axes>"
      ]
     },
     "metadata": {
      "needs_background": "light"
     },
     "output_type": "display_data"
    }
   ],
   "source": [
    "#inicializar gráfica masiva\n",
    "fig, axs = plt.subplots(2,4, figsize = (15,11))\n",
    "plt.subplots_adjust(wspace = .35, hspace = .45, bottom = .20)\n",
    "fig.suptitle('Análisis de las llamadas por horario.')\n",
    "\n",
    "#llenar el facet grid \n",
    "dias = [\"Lunes\", \"Martes\", \"Miércoles\", \"Jueves\", \"Viernes\", \"Sábado\", \"Domingo\"]\n",
    "for i in range(7):\n",
    "    dia = dias[i] \n",
    "    row = i // 4  \n",
    "    col = i % 4\n",
    "    #filtramos solo por dia de la semana  \n",
    "    grouping = horario_frecuente[horario_frecuente[\"dia_semana\"] == dia]\n",
    "    bloques_horarios = grouping[\"espacio_del_dia\"].values.tolist()\n",
    "    x = range(8)\n",
    "    axs[row,col].plot(x, grouping.label, marker = \"x\", linestyle='--', linewidth=1, markersize = 4,\n",
    "                     label = \"label = 1\")\n",
    "    axs[row,col].plot(x, grouping.label_pos, marker = \"^\", linestyle='--', linewidth=1, markersize = 4,\n",
    "                     label = \"label = 0\")\n",
    "    axs[row,col].set_title(dia)\n",
    "    #axs[row,col].set_ylim([0, 14_000])\n",
    "    axs[row,col].set_xticks(range(8))\n",
    "    axs[row,col].set_xticklabels(bloques_horarios, rotation = 90)\n",
    "    #axs[row,col].legend(loc=\"upper left\")\n",
    "    if i == 0 or i == 4: \n",
    "        axs[row,col].set(ylabel = \"# De Llamadas\")\n",
    "        axs[row,col].legend(loc=\"upper left\")\n",
    "\n",
    "#campo del promedio se llena de forma distinta\n",
    "axs[1,3].plot(x, prom_dia.label, marker = \"x\", linestyle='--', linewidth=1, markersize = 4, label = \"label = 1\")\n",
    "axs[1,3].plot(x, prom_dia.label_pos, marker = \"^\", linestyle='--', linewidth=1, markersize = 4, label = \"label = 0\")\n",
    "bloques_horarios = prom_dia.espacio_del_dia.values.tolist()\n",
    "axs[1,3].set_title(\"Promedio\")\n",
    "#axs[1,3].set_ylim([5000,65_000])\n",
    "axs[1,3].set_xticks(range(8))\n",
    "axs[1,3].set_xticklabels(bloques_horarios, rotation = 90)\n",
    "              \n",
    "#plt.sca(axs[0,3])\n",
    "#plt.xticks(list(range(16)), [\"str(e)\" for e in range(16)], rotation=90)\n",
    "#plt.legend()\n",
    "plt.show()"
   ]
  },
  {
   "cell_type": "code",
   "execution_count": 37,
   "metadata": {
    "ExecuteTime": {
     "end_time": "2020-11-20T17:55:51.648390Z",
     "start_time": "2020-11-20T17:55:51.126710Z"
    }
   },
   "outputs": [
    {
     "data": {
      "text/html": [
       "<div>\n",
       "<style scoped>\n",
       "    .dataframe tbody tr th:only-of-type {\n",
       "        vertical-align: middle;\n",
       "    }\n",
       "\n",
       "    .dataframe tbody tr th {\n",
       "        vertical-align: top;\n",
       "    }\n",
       "\n",
       "    .dataframe thead th {\n",
       "        text-align: right;\n",
       "    }\n",
       "</style>\n",
       "<table border=\"1\" class=\"dataframe\">\n",
       "  <thead>\n",
       "    <tr style=\"text-align: right;\">\n",
       "      <th></th>\n",
       "      <th>espacio_del_dia</th>\n",
       "      <th>año_creacion</th>\n",
       "      <th>label</th>\n",
       "      <th>id</th>\n",
       "    </tr>\n",
       "  </thead>\n",
       "  <tbody>\n",
       "    <tr>\n",
       "      <th>0</th>\n",
       "      <td>12-2 a.m.</td>\n",
       "      <td>2014</td>\n",
       "      <td>0.152725</td>\n",
       "      <td>1</td>\n",
       "    </tr>\n",
       "    <tr>\n",
       "      <th>1</th>\n",
       "      <td>12-2 a.m.</td>\n",
       "      <td>2015</td>\n",
       "      <td>0.163032</td>\n",
       "      <td>1</td>\n",
       "    </tr>\n",
       "    <tr>\n",
       "      <th>2</th>\n",
       "      <td>12-2 a.m.</td>\n",
       "      <td>2016</td>\n",
       "      <td>0.182319</td>\n",
       "      <td>1</td>\n",
       "    </tr>\n",
       "    <tr>\n",
       "      <th>3</th>\n",
       "      <td>12-2 a.m.</td>\n",
       "      <td>2017</td>\n",
       "      <td>0.166754</td>\n",
       "      <td>1</td>\n",
       "    </tr>\n",
       "    <tr>\n",
       "      <th>4</th>\n",
       "      <td>12-2 a.m.</td>\n",
       "      <td>2018</td>\n",
       "      <td>0.164996</td>\n",
       "      <td>1</td>\n",
       "    </tr>\n",
       "  </tbody>\n",
       "</table>\n",
       "</div>"
      ],
      "text/plain": [
       "  espacio_del_dia año_creacion     label  id\n",
       "0       12-2 a.m.         2014  0.152725   1\n",
       "1       12-2 a.m.         2015  0.163032   1\n",
       "2       12-2 a.m.         2016  0.182319   1\n",
       "3       12-2 a.m.         2017  0.166754   1\n",
       "4       12-2 a.m.         2018  0.164996   1"
      ]
     },
     "execution_count": 37,
     "metadata": {},
     "output_type": "execute_result"
    }
   ],
   "source": [
    "#también podríamos agregar por año para ver si hay algún patrón desde esa perspectiva\n",
    "horario_anual = data.groupby([\"espacio_del_dia\", \"año_creacion\"], as_index = False)\n",
    "horario_anual = horario_anual.mean()[[\"espacio_del_dia\", \"año_creacion\", \"label\"]]\n",
    "horario_anual[\"id\"] = horario_anual[\"espacio_del_dia\"].map(mapping_espacio).astype(int)\n",
    "horario_anual = horario_anual.sort_values(by=[\"id\"])\n",
    "horario_anual.head()"
   ]
  },
  {
   "cell_type": "code",
   "execution_count": 42,
   "metadata": {
    "ExecuteTime": {
     "end_time": "2020-11-20T17:58:42.959699Z",
     "start_time": "2020-11-20T17:58:42.949939Z"
    }
   },
   "outputs": [
    {
     "data": {
      "text/plain": [
       "espacio_del_dia     object\n",
       "año_creacion        object\n",
       "label              float64\n",
       "id                   int64\n",
       "dtype: object"
      ]
     },
     "execution_count": 42,
     "metadata": {},
     "output_type": "execute_result"
    }
   ],
   "source": [
    "horario_anual.dtypes"
   ]
  },
  {
   "cell_type": "code",
   "execution_count": 38,
   "metadata": {
    "ExecuteTime": {
     "end_time": "2020-11-20T17:56:25.138561Z",
     "start_time": "2020-11-20T17:56:25.117337Z"
    }
   },
   "outputs": [
    {
     "data": {
      "text/html": [
       "<div>\n",
       "<style scoped>\n",
       "    .dataframe tbody tr th:only-of-type {\n",
       "        vertical-align: middle;\n",
       "    }\n",
       "\n",
       "    .dataframe tbody tr th {\n",
       "        vertical-align: top;\n",
       "    }\n",
       "\n",
       "    .dataframe thead th {\n",
       "        text-align: right;\n",
       "    }\n",
       "</style>\n",
       "<table border=\"1\" class=\"dataframe\">\n",
       "  <thead>\n",
       "    <tr style=\"text-align: right;\">\n",
       "      <th></th>\n",
       "      <th>espacio_del_dia</th>\n",
       "      <th>label</th>\n",
       "      <th>id</th>\n",
       "    </tr>\n",
       "  </thead>\n",
       "  <tbody>\n",
       "    <tr>\n",
       "      <th>0</th>\n",
       "      <td>12-2 a.m.</td>\n",
       "      <td>0.162941</td>\n",
       "      <td>1</td>\n",
       "    </tr>\n",
       "    <tr>\n",
       "      <th>2</th>\n",
       "      <td>3-5 a.m.</td>\n",
       "      <td>0.162622</td>\n",
       "      <td>2</td>\n",
       "    </tr>\n",
       "    <tr>\n",
       "      <th>4</th>\n",
       "      <td>6-8 a.m.</td>\n",
       "      <td>0.187252</td>\n",
       "      <td>3</td>\n",
       "    </tr>\n",
       "    <tr>\n",
       "      <th>6</th>\n",
       "      <td>9-11 a.m.</td>\n",
       "      <td>0.194575</td>\n",
       "      <td>4</td>\n",
       "    </tr>\n",
       "    <tr>\n",
       "      <th>1</th>\n",
       "      <td>12-2 p.m.</td>\n",
       "      <td>0.182655</td>\n",
       "      <td>5</td>\n",
       "    </tr>\n",
       "    <tr>\n",
       "      <th>3</th>\n",
       "      <td>3-5 p.m.</td>\n",
       "      <td>0.208208</td>\n",
       "      <td>6</td>\n",
       "    </tr>\n",
       "    <tr>\n",
       "      <th>5</th>\n",
       "      <td>6-8 p.m.</td>\n",
       "      <td>0.259504</td>\n",
       "      <td>7</td>\n",
       "    </tr>\n",
       "    <tr>\n",
       "      <th>7</th>\n",
       "      <td>9-11 p.m.</td>\n",
       "      <td>0.195317</td>\n",
       "      <td>8</td>\n",
       "    </tr>\n",
       "  </tbody>\n",
       "</table>\n",
       "</div>"
      ],
      "text/plain": [
       "  espacio_del_dia     label  id\n",
       "0       12-2 a.m.  0.162941   1\n",
       "2        3-5 a.m.  0.162622   2\n",
       "4        6-8 a.m.  0.187252   3\n",
       "6       9-11 a.m.  0.194575   4\n",
       "1       12-2 p.m.  0.182655   5\n",
       "3        3-5 p.m.  0.208208   6\n",
       "5        6-8 p.m.  0.259504   7\n",
       "7       9-11 p.m.  0.195317   8"
      ]
     },
     "execution_count": 38,
     "metadata": {},
     "output_type": "execute_result"
    }
   ],
   "source": [
    "prom_anual = horario_anual.groupby([\"espacio_del_dia\"], as_index = False).agg({'label': 'mean'})\n",
    "prom_anual[\"id\"] = prom_anual[\"espacio_del_dia\"].map(mapping_espacio).astype(int)\n",
    "prom_anual = prom_anual.sort_values(by=[\"id\"])\n",
    "prom_anual"
   ]
  },
  {
   "cell_type": "code",
   "execution_count": 44,
   "metadata": {
    "ExecuteTime": {
     "end_time": "2020-11-20T17:59:35.518545Z",
     "start_time": "2020-11-20T17:59:34.507797Z"
    }
   },
   "outputs": [
    {
     "data": {
      "image/png": "[encoded data removed]",
      "text/plain": [
       "<Figure size 1008x720 with 8 Axes>"
      ]
     },
     "metadata": {
      "needs_background": "light"
     },
     "output_type": "display_data"
    }
   ],
   "source": [
    "#inicializar gráfica masiva\n",
    "fig, axs = plt.subplots(2,4, figsize = (14,10))\n",
    "plt.subplots_adjust(wspace = .25, hspace = .45, bottom = .20)\n",
    "fig.suptitle('Proporción de llamadas falsas o negativas por horario.')\n",
    "\n",
    "#llenar el facet grid \n",
    "for i in range(7):\n",
    "    año = 2014 + i #2014, 2015,..., 2020\n",
    "    row = i // 4  \n",
    "    col = i % 4\n",
    "    #filtramos solo por año\n",
    "    #aquí filtra por la variable que va en el facet grid (por la que explotas)\n",
    "    grouping = horario_anual[horario_anual[\"año_creacion\"] == str(año)] #aquí pon tu agrupamiento\n",
    "    bloques_horario = grouping.espacio_del_dia.values #las etiquetas del eje x\n",
    "    x = np.array([e for e in range(8)]).reshape(8,) #si x no es numérico, pon el rango \n",
    "    y = np.array(grouping.label.values).reshape(8,) #los valores que van en el eje y (numérico)\n",
    "    axs[row,col].plot(x, y, marker = \"x\", linestyle='--', linewidth=1, markersize = 4)\n",
    "    axs[row,col].set_title(f\"{str(año)}\")\n",
    "    axs[row,col].set_ylim([.05,.30])\n",
    "    axs[row,col].set_xticks(range(8))\n",
    "    axs[row,col].set_xticklabels(bloques_horario, rotation = 90) #aquí van tus etiquetas\n",
    "    if i == 0 or i == 4: \n",
    "        axs[row,col].set(ylabel = \"Proporción de llamadas falsas\")\n",
    "    #campo del promedio se llena de forma distinta\n",
    "    if i == 6: \n",
    "        x = [e for e in range(8)]\n",
    "        axs[1,3].plot(x, prom_anual.label.values, linestyle='--', marker = \"x\", linewidth=1, markersize = 4)\n",
    "        bloques = prom_anual.espacio_del_dia.values #etiquetas del eje x de los promedios\n",
    "        axs[1,3].set_title(\"Promedio 2014-2020\")\n",
    "        axs[1,3].set_ylim([.05,.30])\n",
    "        axs[1,3].set_xticks(range(8))\n",
    "        axs[1,3].set_xticklabels(bloques, rotation = 90)\n",
    "#plt.sca(axs[0,3])\n",
    "#plt.xticks(list(range(16)), [\"str(e)\" for e in range(16)], rotation=90)\n",
    "plt.show();"
   ]
  },
  {
   "cell_type": "markdown",
   "metadata": {},
   "source": [
    "Ver los horarios a gran escala nos permite identificar que en general ocurren más llamadas en la parte final del día, sobre todo de 6 a 8 de la noche."
   ]
  },
  {
   "cell_type": "markdown",
   "metadata": {},
   "source": [
    "# A nivel mensual.\n",
    "\n",
    "Por último, veamos si hay una tendencia a que aumenten las llamadas falsas conforme avanza el año."
   ]
  },
  {
   "cell_type": "code",
   "execution_count": null,
   "metadata": {},
   "outputs": [],
   "source": []
  },
  {
   "cell_type": "code",
   "execution_count": null,
   "metadata": {},
   "outputs": [],
   "source": []
  },
  {
   "cell_type": "code",
   "execution_count": null,
   "metadata": {},
   "outputs": [],
   "source": []
  },
  {
   "cell_type": "code",
   "execution_count": null,
   "metadata": {},
   "outputs": [],
   "source": []
  },
  {
   "cell_type": "code",
   "execution_count": null,
   "metadata": {},
   "outputs": [],
   "source": []
  },
  {
   "cell_type": "code",
   "execution_count": null,
   "metadata": {},
   "outputs": [],
   "source": []
  },
  {
   "cell_type": "code",
   "execution_count": null,
   "metadata": {},
   "outputs": [],
   "source": []
  },
  {
   "cell_type": "code",
   "execution_count": null,
   "metadata": {},
   "outputs": [],
   "source": []
  },
  {
   "cell_type": "code",
   "execution_count": null,
   "metadata": {},
   "outputs": [],
   "source": []
  },
  {
   "cell_type": "code",
   "execution_count": null,
   "metadata": {},
   "outputs": [],
   "source": []
  },
  {
   "cell_type": "code",
   "execution_count": null,
   "metadata": {},
   "outputs": [],
   "source": []
  },
  {
   "cell_type": "markdown",
   "metadata": {},
   "source": [
    "# To do: \n",
    "\n",
    "\n",
    "* Ver en qué color pongo las de los promedios \n",
    "* Hacer un facet grid que sea, por año, cómo han evolucionado los horarios de tiempo más comunes\n",
    "* Func formatter de los miles\n",
    "* Elegir cuáles voy a usar para el proyecto final\n",
    "* Hacer facet grid de botón de entrada?"
   ]
  },
  {
   "cell_type": "code",
   "execution_count": null,
   "metadata": {},
   "outputs": [],
   "source": []
  },
  {
   "cell_type": "code",
   "execution_count": null,
   "metadata": {},
   "outputs": [],
   "source": []
  },
  {
   "cell_type": "code",
   "execution_count": null,
   "metadata": {},
   "outputs": [],
   "source": []
  },
  {
   "cell_type": "code",
   "execution_count": null,
   "metadata": {},
   "outputs": [],
   "source": []
  },
  {
   "cell_type": "code",
   "execution_count": null,
   "metadata": {},
   "outputs": [],
   "source": []
  },
  {
   "cell_type": "code",
   "execution_count": null,
   "metadata": {},
   "outputs": [],
   "source": []
  },
  {
   "cell_type": "code",
   "execution_count": null,
   "metadata": {},
   "outputs": [],
   "source": []
  },
  {
   "cell_type": "code",
   "execution_count": null,
   "metadata": {},
   "outputs": [],
   "source": []
  }
 ],
 "metadata": {
  "kernelspec": {
   "display_name": "Python 3",
   "language": "python",
   "name": "python3"
  },
  "language_info": {
   "codemirror_mode": {
    "name": "ipython",
    "version": 3
   },
   "file_extension": ".py",
   "mimetype": "text/x-python",
   "name": "python",
   "nbconvert_exporter": "python",
   "pygments_lexer": "ipython3",
   "version": "3.7.7"
  }
 },
 "nbformat": 4,
 "nbformat_minor": 4
}
