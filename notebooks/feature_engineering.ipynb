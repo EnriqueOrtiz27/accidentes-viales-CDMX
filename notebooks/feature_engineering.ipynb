{
 "cells": [
  {
   "cell_type": "code",
   "execution_count": 23,
   "metadata": {},
   "outputs": [],
   "source": [
    "%load_ext pycodestyle_magic\n",
    "\n",
    "%pycodestyle_off"
   ]
  },
  {
   "cell_type": "code",
   "execution_count": 18,
   "metadata": {},
   "outputs": [],
   "source": [
    "#%load_ext pycodestyle_magic\n",
    "#%pycodestyle_on\n",
    "\n",
    "import pandas as pd\n",
    "import numpy as np\n",
    "import matplotlib.pyplot as plt\n",
    "import seaborn as sns\n",
    "import re\n",
    "import datetime\n",
    "import numpy as np\n",
    "import folium\n",
    "from matplotlib.ticker import FuncFormatter\n",
    "import matplotlib.ticker as mtick\n",
    "import pickle\n",
    "\n",
    "\n",
    "\n",
    "from sklearn.model_selection import train_test_split\n",
    "from sklearn.ensemble import RandomForestClassifier\n",
    "from sklearn import metrics\n",
    "from sklearn.feature_extraction.text import CountVectorizer\n",
    "from sklearn.compose import ColumnTransformer\n",
    "from sklearn.preprocessing import MinMaxScaler,\\\n",
    " OneHotEncoder, QuantileTransformer\n",
    "from sklearn.impute import SimpleImputer\n",
    "from sklearn.feature_selection import VarianceThreshold\n",
    "\n",
    "import time\n",
    "from sklearn.model_selection import GridSearchCV\n",
    "from sklearn.ensemble import RandomForestClassifier"
   ]
  },
  {
   "cell_type": "code",
   "execution_count": 2,
   "metadata": {},
   "outputs": [],
   "source": [
    "# define categorical, numerical and date columns\n",
    "CAT_COLS = [\"dia_semana\", \"codigo_cierre\", \"año_cierre\", \"mes_cierre\", \"mes\", \"delegacion_inicio\",\n",
    "            \"incidente_c4\", \"clas_con_f_alarma\", \"tipo_entrada\", \"delegacion_cierre\", \"hora_creacion\",\n",
    "           \"hora_cierre\"]\n",
    "\n",
    "DATE_COLS = [\"fecha_creacion\", \"fecha_cierre\"]\n",
    "\n",
    "NUM_COLS = [\"latitud\", \"longitud\"]#esto irá en el script ingestion .py\n",
    "def ingest_file(file_name):\n",
    "    \"\"\"\n",
    "    Function to retrieve and return the accidents dataset.\n",
    "    Parameters:\n",
    "    -----------\n",
    "    file_name: str\n",
    "               Path to the file.\n",
    "    Returns:\n",
    "    --------\n",
    "    df: pandas dataframe\n",
    "    \"\"\"\n",
    "    df = pd.read_csv(file_name)\n",
    "    return df\n",
    "\n",
    "\n",
    "def drop_cols(df):\n",
    "    \"\"\"\n",
    "    Function to drop unnnecesary columns in the dataset.\n",
    "    \"\"\"\n",
    "    df.drop(columns = ['folio', 'geopoint', 'mes', 'mes_cierre', 'hora_cierre', 'año_cierre'], inplace = True)\n",
    "    return df\n",
    "\n",
    "\n",
    "\n",
    "def fill_na(df):\n",
    "    \"\"\"\n",
    "    Function to fill null values in a dataframe.\n",
    "    \"\"\"\n",
    "    #aquí podemos ir agregando más cosas cuando descubramos \n",
    "    #cómo imputar valores faltantes para latitud y longitud\n",
    "    df.fillna({\n",
    "        'delegacion_inicio': 'No Disponible',\n",
    "        'delegacion_cierre': 'No Disponible'\n",
    "              }, inplace = True)\n",
    "    return df\n",
    "\n",
    "\n",
    "def categoric_transformation(col,df):\n",
    "    df[col] = df[col].astype(\"category\")\n",
    "    return df \n",
    "\n",
    "def create_categorical(cols, df):\n",
    "    \"\"\"\n",
    "    Function to transform and prepare the categorical features in the dataset.\n",
    "    \"\"\"\n",
    "    #transform to appropriate data type\n",
    "    for col in cols: \n",
    "        df = categoric_transformation(col, df)\n",
    "     \n",
    "    return df\n",
    "\n",
    "\n",
    "def date_transformation(col,df):\n",
    "    \"\"\"\n",
    "    Function to prepare and transform date-type columns. \n",
    "    \"\"\"\n",
    "    df[col] = pd.to_datetime(df[col], dayfirst=True)\n",
    "    return df\n",
    "\n",
    "def create_date_cols(cols, df):\n",
    "    for col in cols:\n",
    "        df = date_transformation(col, df)\n",
    "    return df \n",
    "\n",
    "\n",
    "\n",
    "def generate_label(df):\n",
    "    \"\"\"\n",
    "    Function to create a new column indicating whether there was\n",
    "    a false alarm or not. \n",
    "    Parameters:\n",
    "    -----------\n",
    "    df: pandas dataframe\n",
    "    \n",
    "    Returns:\n",
    "    --------\n",
    "    df: pandas dataframe\n",
    "    \"\"\"\n",
    "    #transformamos la columna para solo quedarnos con la letra del código\n",
    "    df[\"codigo_cierre\"] = df[\"codigo_cierre\"].apply(lambda x: x[1])\n",
    "    df['label'] = np.where(\n",
    "        (df.codigo_cierre == 'F') | (df.codigo_cierre == 'N'), 1, 0)\n",
    "    return df \n",
    "\n",
    "\n",
    "def clean_hora_creacion(df):\n",
    "    \"\"\"\n",
    "    Function to transform hours with incorrect format to timedelta format. \n",
    "    \"\"\"\n",
    "    horas_raw = df.hora_creacion.values.tolist()\n",
    "    horas_clean = [datetime.timedelta(days=float(e)) if e.startswith(\"0.\") else e for e in horas_raw]\n",
    "    df[\"hora_creacion\"] = horas_clean\n",
    "    return df \n",
    "\n",
    "\n",
    "def create_simple_hour(df):\n",
    "    \"\"\"\n",
    "    Function to extract the hour from the column \"hora_creacion\"\n",
    "    Parameters:\n",
    "    -----------\n",
    "    df: pandas dataframe\n",
    "    \n",
    "    Returns:\n",
    "    ---------\n",
    "    df: pandas dataframe with a new column indicating the hour. \n",
    "    \"\"\"\n",
    "    #la función se podria adaptar para devolver minuto o segundo pero no lo considero necesario\n",
    "    pattern = '\\d+' #encuentra uno o más dígitos\n",
    "    horas_raw = df.hora_creacion.astype(str).values #son así: '22:35:04', '22:50:49', '09:40:11'\n",
    "    n = len(horas_raw)\n",
    "    horas_clean = [0]*n #es más rápido reasignar valores que hacer .append()\n",
    "    for i in range(n):\n",
    "        hora_raw = horas_raw[i]\n",
    "        hora_clean = re.match(pattern, hora_raw)[0] #solo queremos la hora, esto devuelve un objeto\n",
    "        horas_clean[i] = hora_clean\n",
    "    \n",
    "    df[\"hora_simple\"] = horas_clean\n",
    "    return df \n",
    "\n",
    "\n",
    "def add_date_columns(df):\n",
    "    \"\"\"\n",
    "    Esta función es muy importante puesto que nos ayudará a crear el mes, día y año de creación\n",
    "    del registro. De esta manera podemos prescindir de las fechas de cierre, que no tendríamos en tiempo\n",
    "    real en un modelo. \n",
    "    Parameters:\n",
    "    -----------\n",
    "    df: pandas dataframe\n",
    "    \n",
    "    Returns:\n",
    "    ---------\n",
    "    df: pandas dataframe with 4 new columns\n",
    "    \"\"\"\n",
    "    mapping_meses = {1: \"Enero\", 2: \"Febrero\", 3: \"Marzo\", 4: \"Abril\", 5: \"Mayo\",\n",
    "                       6: \"Junio\", 7: \"Julio\", 8: \"Agosto\", 9: \"Septiembre\", 10: \"Octubre\",\n",
    "                       11: \"Noviembre\", 12: \"Diciembre\"}\n",
    "    \n",
    "    \n",
    "    df[\"año_creacion\"] = df.fecha_creacion.dt.year\n",
    "    df[\"mes_creacion\"] = df.fecha_creacion.dt.month\n",
    "    df[\"dia_creacion\"] = df.fecha_creacion.dt.day\n",
    "    df[\"mes_creacion_str\"] = df.mes_creacion.map(mapping_meses)\n",
    "    df[\"año_creacion\"] = df[\"año_creacion\"].astype(str)\n",
    "    return df \n",
    "\n",
    "\n",
    "def create_time_blocks(df):\n",
    "    \"\"\"\n",
    "    Function to group the hour of the day into 3-hour blocks.\n",
    "    Parameters:\n",
    "    -----------\n",
    "    df: pandas dataframe\n",
    "    \n",
    "    Returns:\n",
    "    ---------\n",
    "    df: pandas dataframe with a new column indicating the time-block.\n",
    "    \"\"\"\n",
    "    horas_int = set(df.hora_simple.astype(int).values) #estaba como categórico\n",
    "    f = lambda x: 12 if x == 0 else x\n",
    "    mapping_hours = {}\n",
    "    for hora in horas_int:\n",
    "        grupo = (hora // 3) * 3\n",
    "        if grupo < 12: \n",
    "            nombre_grupo = str(f(grupo)) + \"-\" + str(grupo + 2) + \" a.m.\"\n",
    "        else:\n",
    "            hora_tarde = grupo % 12\n",
    "            nombre_grupo = str(f(hora_tarde)) + \"-\" + str(hora_tarde + 2) + \" p.m.\"\n",
    "        mapping_hours[hora] = nombre_grupo\n",
    "    \n",
    "    df[\"espacio_del_dia\"] = df[\"hora_simple\"].astype(int).map(mapping_hours)\n",
    "    return df\n",
    "    \n",
    "\n",
    "    \n",
    "\n",
    "    \n",
    "def basic_preprocessing(path):\n",
    "    \"\"\"\n",
    "    Function to summarize all the preprocessing done to the data.\n",
    "    Parameters:\n",
    "    -----------\n",
    "    path: str\n",
    "          Path to your file\n",
    "    \n",
    "    Returns:\n",
    "    ---------\n",
    "    df: pandas dataframe\n",
    "    \"\"\"\n",
    "    df = ingest_file(path) \n",
    "    df = generate_label(df)\n",
    "    df = fill_na(df) \n",
    "    df = clean_hora_creacion(df)\n",
    "    df = create_categorical(CAT_COLS, df) #transform to appropriate data types\n",
    "    df = create_date_cols(DATE_COLS, df)\n",
    "    df = add_date_columns(df)\n",
    "    df = create_simple_hour(df)\n",
    "    df = create_time_blocks(df)\n",
    "    df = drop_cols(df)\n",
    "    \n",
    "    return df"
   ]
  },
  {
   "cell_type": "code",
   "execution_count": 3,
   "metadata": {},
   "outputs": [],
   "source": [
    "incidentes_viales_df = basic_preprocessing('../data/incidentes-viales-c5.csv')"
   ]
  },
  {
   "cell_type": "code",
   "execution_count": 4,
   "metadata": {},
   "outputs": [],
   "source": [
    " incidentes = incidentes_viales_df.drop(['latitud', 'longitud', 'codigo_cierre',\n",
    "                                           'fecha_creacion', 'fecha_cierre',\n",
    "                                           'hora_creacion', 'clas_con_f_alarma',\n",
    "                                           'año_creacion', 'dia_creacion', 'mes_creacion',\n",
    "                                           'delegacion_cierre'\n",
    "                                           ], axis=1)"
   ]
  },
  {
   "cell_type": "code",
   "execution_count": 5,
   "metadata": {},
   "outputs": [
    {
     "data": {
      "text/html": [
       "<div>\n",
       "<style scoped>\n",
       "    .dataframe tbody tr th:only-of-type {\n",
       "        vertical-align: middle;\n",
       "    }\n",
       "\n",
       "    .dataframe tbody tr th {\n",
       "        vertical-align: top;\n",
       "    }\n",
       "\n",
       "    .dataframe thead th {\n",
       "        text-align: right;\n",
       "    }\n",
       "</style>\n",
       "<table border=\"1\" class=\"dataframe\">\n",
       "  <thead>\n",
       "    <tr style=\"text-align: right;\">\n",
       "      <th></th>\n",
       "      <th>dia_semana</th>\n",
       "      <th>delegacion_inicio</th>\n",
       "      <th>incidente_c4</th>\n",
       "      <th>tipo_entrada</th>\n",
       "      <th>label</th>\n",
       "      <th>mes_creacion_str</th>\n",
       "      <th>hora_simple</th>\n",
       "      <th>espacio_del_dia</th>\n",
       "    </tr>\n",
       "  </thead>\n",
       "  <tbody>\n",
       "    <tr>\n",
       "      <th>0</th>\n",
       "      <td>Sábado</td>\n",
       "      <td>VENUSTIANO CARRANZA</td>\n",
       "      <td>accidente-choque sin lesionados</td>\n",
       "      <td>BOTÓN DE AUXILIO</td>\n",
       "      <td>0</td>\n",
       "      <td>Enero</td>\n",
       "      <td>22</td>\n",
       "      <td>9-11 p.m.</td>\n",
       "    </tr>\n",
       "    <tr>\n",
       "      <th>1</th>\n",
       "      <td>Sábado</td>\n",
       "      <td>CUAJIMALPA</td>\n",
       "      <td>accidente-choque con lesionados</td>\n",
       "      <td>BOTÓN DE AUXILIO</td>\n",
       "      <td>0</td>\n",
       "      <td>Enero</td>\n",
       "      <td>22</td>\n",
       "      <td>9-11 p.m.</td>\n",
       "    </tr>\n",
       "    <tr>\n",
       "      <th>2</th>\n",
       "      <td>Domingo</td>\n",
       "      <td>TLALPAN</td>\n",
       "      <td>accidente-choque sin lesionados</td>\n",
       "      <td>LLAMADA DEL 066</td>\n",
       "      <td>1</td>\n",
       "      <td>Enero</td>\n",
       "      <td>09</td>\n",
       "      <td>9-11 a.m.</td>\n",
       "    </tr>\n",
       "    <tr>\n",
       "      <th>3</th>\n",
       "      <td>Domingo</td>\n",
       "      <td>MAGDALENA CONTRERAS</td>\n",
       "      <td>accidente-choque sin lesionados</td>\n",
       "      <td>LLAMADA DEL 066</td>\n",
       "      <td>1</td>\n",
       "      <td>Enero</td>\n",
       "      <td>22</td>\n",
       "      <td>9-11 p.m.</td>\n",
       "    </tr>\n",
       "    <tr>\n",
       "      <th>4</th>\n",
       "      <td>Domingo</td>\n",
       "      <td>MIGUEL HIDALGO</td>\n",
       "      <td>accidente-choque sin lesionados</td>\n",
       "      <td>LLAMADA DEL 066</td>\n",
       "      <td>0</td>\n",
       "      <td>Enero</td>\n",
       "      <td>04</td>\n",
       "      <td>3-5 a.m.</td>\n",
       "    </tr>\n",
       "    <tr>\n",
       "      <th>...</th>\n",
       "      <td>...</td>\n",
       "      <td>...</td>\n",
       "      <td>...</td>\n",
       "      <td>...</td>\n",
       "      <td>...</td>\n",
       "      <td>...</td>\n",
       "      <td>...</td>\n",
       "      <td>...</td>\n",
       "    </tr>\n",
       "    <tr>\n",
       "      <th>1383133</th>\n",
       "      <td>Sábado</td>\n",
       "      <td>GUSTAVO A. MADERO</td>\n",
       "      <td>lesionado-atropellado</td>\n",
       "      <td>LLAMADA DEL 911</td>\n",
       "      <td>0</td>\n",
       "      <td>Octubre</td>\n",
       "      <td>11</td>\n",
       "      <td>9-11 a.m.</td>\n",
       "    </tr>\n",
       "    <tr>\n",
       "      <th>1383134</th>\n",
       "      <td>Sábado</td>\n",
       "      <td>CUAUHTEMOC</td>\n",
       "      <td>accidente-ciclista</td>\n",
       "      <td>LLAMADA DEL 911</td>\n",
       "      <td>0</td>\n",
       "      <td>Octubre</td>\n",
       "      <td>11</td>\n",
       "      <td>9-11 a.m.</td>\n",
       "    </tr>\n",
       "    <tr>\n",
       "      <th>1383135</th>\n",
       "      <td>Sábado</td>\n",
       "      <td>COYOACAN</td>\n",
       "      <td>accidente-choque con lesionados</td>\n",
       "      <td>LLAMADA DEL 911</td>\n",
       "      <td>0</td>\n",
       "      <td>Octubre</td>\n",
       "      <td>12</td>\n",
       "      <td>12-2 p.m.</td>\n",
       "    </tr>\n",
       "    <tr>\n",
       "      <th>1383136</th>\n",
       "      <td>Sábado</td>\n",
       "      <td>IZTAPALAPA</td>\n",
       "      <td>accidente-choque sin lesionados</td>\n",
       "      <td>LLAMADA DEL 911</td>\n",
       "      <td>1</td>\n",
       "      <td>Octubre</td>\n",
       "      <td>15</td>\n",
       "      <td>3-5 p.m.</td>\n",
       "    </tr>\n",
       "    <tr>\n",
       "      <th>1383137</th>\n",
       "      <td>Sábado</td>\n",
       "      <td>AZCAPOTZALCO</td>\n",
       "      <td>accidente-choque sin lesionados</td>\n",
       "      <td>LLAMADA DEL 911</td>\n",
       "      <td>0</td>\n",
       "      <td>Octubre</td>\n",
       "      <td>15</td>\n",
       "      <td>3-5 p.m.</td>\n",
       "    </tr>\n",
       "  </tbody>\n",
       "</table>\n",
       "<p>1383138 rows × 8 columns</p>\n",
       "</div>"
      ],
      "text/plain": [
       "        dia_semana    delegacion_inicio                     incidente_c4  \\\n",
       "0           Sábado  VENUSTIANO CARRANZA  accidente-choque sin lesionados   \n",
       "1           Sábado           CUAJIMALPA  accidente-choque con lesionados   \n",
       "2          Domingo              TLALPAN  accidente-choque sin lesionados   \n",
       "3          Domingo  MAGDALENA CONTRERAS  accidente-choque sin lesionados   \n",
       "4          Domingo       MIGUEL HIDALGO  accidente-choque sin lesionados   \n",
       "...            ...                  ...                              ...   \n",
       "1383133     Sábado    GUSTAVO A. MADERO            lesionado-atropellado   \n",
       "1383134     Sábado           CUAUHTEMOC               accidente-ciclista   \n",
       "1383135     Sábado             COYOACAN  accidente-choque con lesionados   \n",
       "1383136     Sábado           IZTAPALAPA  accidente-choque sin lesionados   \n",
       "1383137     Sábado         AZCAPOTZALCO  accidente-choque sin lesionados   \n",
       "\n",
       "             tipo_entrada  label mes_creacion_str hora_simple espacio_del_dia  \n",
       "0        BOTÓN DE AUXILIO      0            Enero          22       9-11 p.m.  \n",
       "1        BOTÓN DE AUXILIO      0            Enero          22       9-11 p.m.  \n",
       "2         LLAMADA DEL 066      1            Enero          09       9-11 a.m.  \n",
       "3         LLAMADA DEL 066      1            Enero          22       9-11 p.m.  \n",
       "4         LLAMADA DEL 066      0            Enero          04        3-5 a.m.  \n",
       "...                   ...    ...              ...         ...             ...  \n",
       "1383133   LLAMADA DEL 911      0          Octubre          11       9-11 a.m.  \n",
       "1383134   LLAMADA DEL 911      0          Octubre          11       9-11 a.m.  \n",
       "1383135   LLAMADA DEL 911      0          Octubre          12       12-2 p.m.  \n",
       "1383136   LLAMADA DEL 911      1          Octubre          15        3-5 p.m.  \n",
       "1383137   LLAMADA DEL 911      0          Octubre          15        3-5 p.m.  \n",
       "\n",
       "[1383138 rows x 8 columns]"
      ]
     },
     "execution_count": 5,
     "metadata": {},
     "output_type": "execute_result"
    }
   ],
   "source": [
    "incidentes"
   ]
  },
  {
   "cell_type": "markdown",
   "metadata": {},
   "source": [
    "Transformamos variables categóricas con OneHotEncoder"
   ]
  },
  {
   "cell_type": "code",
   "execution_count": 6,
   "metadata": {},
   "outputs": [],
   "source": [
    "transformers_2 = [('one_hot', OneHotEncoder(), ['dia_semana', 'delegacion_inicio', 'incidente_c4',\n",
    "                                               'tipo_entrada', 'espacio_del_dia', 'mes_creacion_str', \n",
    "                                                'hora_simple'])]\n",
    "\n",
    "col_trans_2 = ColumnTransformer(transformers_2, remainder=\"drop\", n_jobs=-1, verbose=True)"
   ]
  },
  {
   "cell_type": "code",
   "execution_count": 7,
   "metadata": {},
   "outputs": [
    {
     "data": {
      "text/plain": [
       "ColumnTransformer(n_jobs=-1,\n",
       "                  transformers=[('one_hot', OneHotEncoder(),\n",
       "                                 ['dia_semana', 'delegacion_inicio',\n",
       "                                  'incidente_c4', 'tipo_entrada',\n",
       "                                  'espacio_del_dia', 'mes_creacion_str',\n",
       "                                  'hora_simple'])],\n",
       "                  verbose=True)"
      ]
     },
     "execution_count": 7,
     "metadata": {},
     "output_type": "execute_result"
    }
   ],
   "source": [
    "col_trans_2.fit(incidentes)"
   ]
  },
  {
   "cell_type": "code",
   "execution_count": 8,
   "metadata": {},
   "outputs": [],
   "source": [
    "incidente_input_vars = col_trans_2.transform(incidentes)"
   ]
  },
  {
   "cell_type": "code",
   "execution_count": 9,
   "metadata": {},
   "outputs": [
    {
     "data": {
      "text/plain": [
       "<5x113 sparse matrix of type '<class 'numpy.float64'>'\n",
       "\twith 35 stored elements in Compressed Sparse Row format>"
      ]
     },
     "execution_count": 9,
     "metadata": {},
     "output_type": "execute_result"
    }
   ],
   "source": [
    "incidente_input_vars[0:5,:]"
   ]
  },
  {
   "cell_type": "code",
   "execution_count": 10,
   "metadata": {},
   "outputs": [
    {
     "data": {
      "text/html": [
       "<div>\n",
       "<style scoped>\n",
       "    .dataframe tbody tr th:only-of-type {\n",
       "        vertical-align: middle;\n",
       "    }\n",
       "\n",
       "    .dataframe tbody tr th {\n",
       "        vertical-align: top;\n",
       "    }\n",
       "\n",
       "    .dataframe thead th {\n",
       "        text-align: right;\n",
       "    }\n",
       "</style>\n",
       "<table border=\"1\" class=\"dataframe\">\n",
       "  <thead>\n",
       "    <tr style=\"text-align: right;\">\n",
       "      <th></th>\n",
       "      <th>0</th>\n",
       "    </tr>\n",
       "  </thead>\n",
       "  <tbody>\n",
       "    <tr>\n",
       "      <th>0</th>\n",
       "      <td>(0, 5)\\t1.0\\n  (0, 22)\\t1.0\\n  (0, 27)\\t1.0\\...</td>\n",
       "    </tr>\n",
       "    <tr>\n",
       "      <th>1</th>\n",
       "      <td>(0, 5)\\t1.0\\n  (0, 11)\\t1.0\\n  (0, 25)\\t1.0\\...</td>\n",
       "    </tr>\n",
       "    <tr>\n",
       "      <th>2</th>\n",
       "      <td>(0, 0)\\t1.0\\n  (0, 21)\\t1.0\\n  (0, 27)\\t1.0\\...</td>\n",
       "    </tr>\n",
       "    <tr>\n",
       "      <th>3</th>\n",
       "      <td>(0, 0)\\t1.0\\n  (0, 16)\\t1.0\\n  (0, 27)\\t1.0\\...</td>\n",
       "    </tr>\n",
       "    <tr>\n",
       "      <th>4</th>\n",
       "      <td>(0, 0)\\t1.0\\n  (0, 17)\\t1.0\\n  (0, 27)\\t1.0\\...</td>\n",
       "    </tr>\n",
       "    <tr>\n",
       "      <th>...</th>\n",
       "      <td>...</td>\n",
       "    </tr>\n",
       "    <tr>\n",
       "      <th>1383133</th>\n",
       "      <td>(0, 5)\\t1.0\\n  (0, 13)\\t1.0\\n  (0, 43)\\t1.0\\...</td>\n",
       "    </tr>\n",
       "    <tr>\n",
       "      <th>1383134</th>\n",
       "      <td>(0, 5)\\t1.0\\n  (0, 12)\\t1.0\\n  (0, 28)\\t1.0\\...</td>\n",
       "    </tr>\n",
       "    <tr>\n",
       "      <th>1383135</th>\n",
       "      <td>(0, 5)\\t1.0\\n  (0, 10)\\t1.0\\n  (0, 25)\\t1.0\\...</td>\n",
       "    </tr>\n",
       "    <tr>\n",
       "      <th>1383136</th>\n",
       "      <td>(0, 5)\\t1.0\\n  (0, 15)\\t1.0\\n  (0, 27)\\t1.0\\...</td>\n",
       "    </tr>\n",
       "    <tr>\n",
       "      <th>1383137</th>\n",
       "      <td>(0, 5)\\t1.0\\n  (0, 8)\\t1.0\\n  (0, 27)\\t1.0\\n...</td>\n",
       "    </tr>\n",
       "  </tbody>\n",
       "</table>\n",
       "<p>1383138 rows × 1 columns</p>\n",
       "</div>"
      ],
      "text/plain": [
       "                                                         0\n",
       "0          (0, 5)\\t1.0\\n  (0, 22)\\t1.0\\n  (0, 27)\\t1.0\\...\n",
       "1          (0, 5)\\t1.0\\n  (0, 11)\\t1.0\\n  (0, 25)\\t1.0\\...\n",
       "2          (0, 0)\\t1.0\\n  (0, 21)\\t1.0\\n  (0, 27)\\t1.0\\...\n",
       "3          (0, 0)\\t1.0\\n  (0, 16)\\t1.0\\n  (0, 27)\\t1.0\\...\n",
       "4          (0, 0)\\t1.0\\n  (0, 17)\\t1.0\\n  (0, 27)\\t1.0\\...\n",
       "...                                                    ...\n",
       "1383133    (0, 5)\\t1.0\\n  (0, 13)\\t1.0\\n  (0, 43)\\t1.0\\...\n",
       "1383134    (0, 5)\\t1.0\\n  (0, 12)\\t1.0\\n  (0, 28)\\t1.0\\...\n",
       "1383135    (0, 5)\\t1.0\\n  (0, 10)\\t1.0\\n  (0, 25)\\t1.0\\...\n",
       "1383136    (0, 5)\\t1.0\\n  (0, 15)\\t1.0\\n  (0, 27)\\t1.0\\...\n",
       "1383137    (0, 5)\\t1.0\\n  (0, 8)\\t1.0\\n  (0, 27)\\t1.0\\n...\n",
       "\n",
       "[1383138 rows x 1 columns]"
      ]
     },
     "execution_count": 10,
     "metadata": {},
     "output_type": "execute_result"
    }
   ],
   "source": [
    "final_df = pd.DataFrame(incidente_input_vars)\n",
    "final_df"
   ]
  },
  {
   "cell_type": "code",
   "execution_count": null,
   "metadata": {},
   "outputs": [],
   "source": [
    "# Transformaciones ciclicas?\n",
    "# HOURS = 24\n",
    "\n",
    "#final_df['sin_hr'] = np.sin(2*np.pi*final_df.hour/HOURS)\n",
    "#final_df['cos_hr'] = np.cos(2*np.pi*final_df.hour/HOURS)"
   ]
  },
  {
   "cell_type": "code",
   "execution_count": 11,
   "metadata": {},
   "outputs": [
    {
     "data": {
      "text/plain": [
       "VarianceThreshold(threshold=0.1)"
      ]
     },
     "execution_count": 11,
     "metadata": {},
     "output_type": "execute_result"
    }
   ],
   "source": [
    "# Se eliminarán los features con menos del 7%\n",
    "variance_threshold = VarianceThreshold(threshold=0.07)\n",
    "variance_threshold.fit(incidente_input_vars)"
   ]
  },
  {
   "cell_type": "code",
   "execution_count": 12,
   "metadata": {},
   "outputs": [
    {
     "data": {
      "text/plain": [
       "<1383138x18 sparse matrix of type '<class 'numpy.float64'>'\n",
       "\twith 5189951 stored elements in Compressed Sparse Row format>"
      ]
     },
     "execution_count": 12,
     "metadata": {},
     "output_type": "execute_result"
    }
   ],
   "source": [
    "variance_threshold.transform(incidente_input_vars)"
   ]
  },
  {
   "cell_type": "code",
   "execution_count": 47,
   "metadata": {},
   "outputs": [
    {
     "data": {
      "text/plain": [
       "array([1.10624662e-01, 1.22735876e-01, 1.14508829e-01, 1.18324988e-01,\n",
       "       1.20513290e-01, 1.30849058e-01, 1.38482678e-01, 6.83507347e-02,\n",
       "       4.20408739e-02, 6.97353427e-02, 7.32931485e-02, 1.89410199e-02,\n",
       "       9.17748871e-02, 9.36266865e-02, 4.05505916e-02, 1.35569539e-01,\n",
       "       1.42943125e-02, 7.67517022e-02, 5.02532276e-03, 1.14219949e-04,\n",
       "       2.35786241e-02, 5.91581834e-02, 6.35880865e-02, 3.65665256e-02,\n",
       "       2.16897626e-06, 1.75888331e-01, 1.68461965e-03, 2.47515873e-01,\n",
       "       1.96123515e-03, 3.97630699e-05, 2.24123010e-05, 3.86131149e-02,\n",
       "       1.77900320e-03, 4.03739193e-03, 8.09819018e-04, 3.54141387e-04,\n",
       "       6.15611151e-04, 2.24391510e-02, 7.82389038e-04, 1.42587354e-03,\n",
       "       1.10605793e-04, 5.07283948e-04, 4.35784544e-03, 1.20355062e-01,\n",
       "       3.97630699e-05, 7.22993134e-07, 2.68881304e-04, 1.44598522e-06,\n",
       "       3.90264149e-04, 1.66285776e-05, 5.85590566e-05, 5.36171834e-02,\n",
       "       2.36291730e-03, 6.80914207e-03, 2.22794267e-01, 2.48807168e-01,\n",
       "       5.30522411e-02, 3.38436906e-03, 4.64227888e-03, 6.38177623e-02,\n",
       "       1.25450057e-01, 3.81468199e-02, 1.46773390e-01, 8.05244898e-02,\n",
       "       1.57923462e-01, 1.07308968e-01, 1.33602139e-01, 6.71754339e-02,\n",
       "       7.99072234e-02, 7.77331535e-02, 7.23174335e-02, 7.68449787e-02,\n",
       "       7.31569655e-02, 7.42595092e-02, 7.93754530e-02, 7.23686294e-02,\n",
       "       7.62596297e-02, 8.72823629e-02, 7.95736956e-02, 2.74198488e-03,\n",
       "       2.68412396e-02, 1.95168702e-02, 1.46066079e-02, 1.21214900e-02,\n",
       "       1.11726920e-02, 1.25007623e-02, 1.82927646e-02, 2.66847869e-02,\n",
       "       3.40627989e-02, 3.58518045e-02, 1.94395120e-03, 3.89022123e-02,\n",
       "       3.97411337e-02, 4.14179280e-02, 4.58060334e-02, 5.25706632e-02,\n",
       "       5.59803162e-02, 5.63521013e-02, 5.57324738e-02, 5.96051550e-02,\n",
       "       6.23398782e-02, 1.46912739e-03, 6.17298979e-02, 5.90495179e-02,\n",
       "       5.26355499e-02, 3.84595138e-02, 1.19295896e-03, 1.08187151e-03,\n",
       "       1.21243278e-03, 1.67453180e-03, 2.30246983e-03, 2.94470634e-03,\n",
       "       3.00148220e-03])"
      ]
     },
     "execution_count": 47,
     "metadata": {},
     "output_type": "execute_result"
    }
   ],
   "source": [
    "variance_threshold.variances_"
   ]
  },
  {
   "cell_type": "markdown",
   "metadata": {},
   "source": [
    "## Features importantes"
   ]
  },
  {
   "cell_type": "code",
   "execution_count": 13,
   "metadata": {},
   "outputs": [],
   "source": [
    "X = incidente_input_vars\n",
    "y = incidentes.label.values.reshape(incidente_input_vars.shape[0],)"
   ]
  },
  {
   "cell_type": "code",
   "execution_count": 14,
   "metadata": {},
   "outputs": [
    {
     "name": "stdout",
     "output_type": "stream",
     "text": [
      "(1383138, 113) (1383138,)\n"
     ]
    }
   ],
   "source": [
    "print(X.shape, y.shape)"
   ]
  },
  {
   "cell_type": "code",
   "execution_count": 15,
   "metadata": {},
   "outputs": [],
   "source": [
    "np.random.seed(1993)"
   ]
  },
  {
   "cell_type": "code",
   "execution_count": null,
   "metadata": {},
   "outputs": [],
   "source": [
    "# Creamos el modelo \n",
    "clf = RandomForestClassifier(n_estimators=100)\n",
    "\n",
    "# Separamos \n",
    "X_train, X_test, y_train, y_test = train_test_split(X, y, test_size=0.3)\n",
    "\n",
    "# Entrenamos\n",
    "clf.fit(X_train, y_train)"
   ]
  },
  {
   "cell_type": "code",
   "execution_count": null,
   "metadata": {},
   "outputs": [],
   "source": [
    "feature_imp = pd.Series(clf.feature_importances_).sort_values(ascending=False)\n",
    "feature_imp"
   ]
  },
  {
   "cell_type": "markdown",
   "metadata": {},
   "source": [
    "## Model selection"
   ]
  },
  {
   "cell_type": "code",
   "execution_count": 16,
   "metadata": {},
   "outputs": [
    {
     "ename": "KeyboardInterrupt",
     "evalue": "",
     "output_type": "error",
     "traceback": [
      "\u001b[0;31m---------------------------------------------------------------------------\u001b[0m",
      "\u001b[0;31mKeyboardInterrupt\u001b[0m                         Traceback (most recent call last)",
      "\u001b[0;32m<ipython-input-16-0cb1fca2db42>\u001b[0m in \u001b[0;36m<module>\u001b[0;34m\u001b[0m\n\u001b[1;32m     16\u001b[0m                            n_jobs = -1)\n\u001b[1;32m     17\u001b[0m \u001b[0mstart_time\u001b[0m \u001b[0;34m=\u001b[0m \u001b[0mtime\u001b[0m\u001b[0;34m.\u001b[0m\u001b[0mtime\u001b[0m\u001b[0;34m(\u001b[0m\u001b[0;34m)\u001b[0m\u001b[0;34m\u001b[0m\u001b[0;34m\u001b[0m\u001b[0m\n\u001b[0;32m---> 18\u001b[0;31m \u001b[0mgs\u001b[0m\u001b[0;34m.\u001b[0m\u001b[0mfit\u001b[0m\u001b[0;34m(\u001b[0m\u001b[0mX\u001b[0m\u001b[0;34m,\u001b[0m \u001b[0my\u001b[0m\u001b[0;34m)\u001b[0m\u001b[0;34m\u001b[0m\u001b[0;34m\u001b[0m\u001b[0m\n\u001b[0m\u001b[1;32m     19\u001b[0m \u001b[0mprint\u001b[0m\u001b[0;34m(\u001b[0m\u001b[0;34m\"Tiempo en ejecutar: \"\u001b[0m\u001b[0;34m,\u001b[0m \u001b[0mtime\u001b[0m\u001b[0;34m.\u001b[0m\u001b[0mtime\u001b[0m\u001b[0;34m(\u001b[0m\u001b[0;34m)\u001b[0m \u001b[0;34m-\u001b[0m \u001b[0mstart_time\u001b[0m\u001b[0;34m)\u001b[0m\u001b[0;34m\u001b[0m\u001b[0;34m\u001b[0m\u001b[0m\n",
      "\u001b[0;32m~/.pyenv/versions/3.7.4/envs/accidentes-viales/lib/python3.7/site-packages/sklearn/utils/validation.py\u001b[0m in \u001b[0;36minner_f\u001b[0;34m(*args, **kwargs)\u001b[0m\n\u001b[1;32m     70\u001b[0m                           FutureWarning)\n\u001b[1;32m     71\u001b[0m         \u001b[0mkwargs\u001b[0m\u001b[0;34m.\u001b[0m\u001b[0mupdate\u001b[0m\u001b[0;34m(\u001b[0m\u001b[0;34m{\u001b[0m\u001b[0mk\u001b[0m\u001b[0;34m:\u001b[0m \u001b[0marg\u001b[0m \u001b[0;32mfor\u001b[0m \u001b[0mk\u001b[0m\u001b[0;34m,\u001b[0m \u001b[0marg\u001b[0m \u001b[0;32min\u001b[0m \u001b[0mzip\u001b[0m\u001b[0;34m(\u001b[0m\u001b[0msig\u001b[0m\u001b[0;34m.\u001b[0m\u001b[0mparameters\u001b[0m\u001b[0;34m,\u001b[0m \u001b[0margs\u001b[0m\u001b[0;34m)\u001b[0m\u001b[0;34m}\u001b[0m\u001b[0;34m)\u001b[0m\u001b[0;34m\u001b[0m\u001b[0;34m\u001b[0m\u001b[0m\n\u001b[0;32m---> 72\u001b[0;31m         \u001b[0;32mreturn\u001b[0m \u001b[0mf\u001b[0m\u001b[0;34m(\u001b[0m\u001b[0;34m**\u001b[0m\u001b[0mkwargs\u001b[0m\u001b[0;34m)\u001b[0m\u001b[0;34m\u001b[0m\u001b[0;34m\u001b[0m\u001b[0m\n\u001b[0m\u001b[1;32m     73\u001b[0m     \u001b[0;32mreturn\u001b[0m \u001b[0minner_f\u001b[0m\u001b[0;34m\u001b[0m\u001b[0;34m\u001b[0m\u001b[0m\n\u001b[1;32m     74\u001b[0m \u001b[0;34m\u001b[0m\u001b[0m\n",
      "\u001b[0;32m~/.pyenv/versions/3.7.4/envs/accidentes-viales/lib/python3.7/site-packages/sklearn/model_selection/_search.py\u001b[0m in \u001b[0;36mfit\u001b[0;34m(self, X, y, groups, **fit_params)\u001b[0m\n\u001b[1;32m    763\u001b[0m             \u001b[0mrefit_start_time\u001b[0m \u001b[0;34m=\u001b[0m \u001b[0mtime\u001b[0m\u001b[0;34m.\u001b[0m\u001b[0mtime\u001b[0m\u001b[0;34m(\u001b[0m\u001b[0;34m)\u001b[0m\u001b[0;34m\u001b[0m\u001b[0;34m\u001b[0m\u001b[0m\n\u001b[1;32m    764\u001b[0m             \u001b[0;32mif\u001b[0m \u001b[0my\u001b[0m \u001b[0;32mis\u001b[0m \u001b[0;32mnot\u001b[0m \u001b[0;32mNone\u001b[0m\u001b[0;34m:\u001b[0m\u001b[0;34m\u001b[0m\u001b[0;34m\u001b[0m\u001b[0m\n\u001b[0;32m--> 765\u001b[0;31m                 \u001b[0mself\u001b[0m\u001b[0;34m.\u001b[0m\u001b[0mbest_estimator_\u001b[0m\u001b[0;34m.\u001b[0m\u001b[0mfit\u001b[0m\u001b[0;34m(\u001b[0m\u001b[0mX\u001b[0m\u001b[0;34m,\u001b[0m \u001b[0my\u001b[0m\u001b[0;34m,\u001b[0m \u001b[0;34m**\u001b[0m\u001b[0mfit_params\u001b[0m\u001b[0;34m)\u001b[0m\u001b[0;34m\u001b[0m\u001b[0;34m\u001b[0m\u001b[0m\n\u001b[0m\u001b[1;32m    766\u001b[0m             \u001b[0;32melse\u001b[0m\u001b[0;34m:\u001b[0m\u001b[0;34m\u001b[0m\u001b[0;34m\u001b[0m\u001b[0m\n\u001b[1;32m    767\u001b[0m                 \u001b[0mself\u001b[0m\u001b[0;34m.\u001b[0m\u001b[0mbest_estimator_\u001b[0m\u001b[0;34m.\u001b[0m\u001b[0mfit\u001b[0m\u001b[0;34m(\u001b[0m\u001b[0mX\u001b[0m\u001b[0;34m,\u001b[0m \u001b[0;34m**\u001b[0m\u001b[0mfit_params\u001b[0m\u001b[0;34m)\u001b[0m\u001b[0;34m\u001b[0m\u001b[0;34m\u001b[0m\u001b[0m\n",
      "\u001b[0;32m~/.pyenv/versions/3.7.4/envs/accidentes-viales/lib/python3.7/site-packages/sklearn/ensemble/_forest.py\u001b[0m in \u001b[0;36mfit\u001b[0;34m(self, X, y, sample_weight)\u001b[0m\n\u001b[1;32m    396\u001b[0m \u001b[0;34m\u001b[0m\u001b[0m\n\u001b[1;32m    397\u001b[0m         \u001b[0;32mif\u001b[0m \u001b[0mself\u001b[0m\u001b[0;34m.\u001b[0m\u001b[0moob_score\u001b[0m\u001b[0;34m:\u001b[0m\u001b[0;34m\u001b[0m\u001b[0;34m\u001b[0m\u001b[0m\n\u001b[0;32m--> 398\u001b[0;31m             \u001b[0mself\u001b[0m\u001b[0;34m.\u001b[0m\u001b[0m_set_oob_score\u001b[0m\u001b[0;34m(\u001b[0m\u001b[0mX\u001b[0m\u001b[0;34m,\u001b[0m \u001b[0my\u001b[0m\u001b[0;34m)\u001b[0m\u001b[0;34m\u001b[0m\u001b[0;34m\u001b[0m\u001b[0m\n\u001b[0m\u001b[1;32m    399\u001b[0m \u001b[0;34m\u001b[0m\u001b[0m\n\u001b[1;32m    400\u001b[0m         \u001b[0;31m# Decapsulate classes_ attributes\u001b[0m\u001b[0;34m\u001b[0m\u001b[0;34m\u001b[0m\u001b[0;34m\u001b[0m\u001b[0m\n",
      "\u001b[0;32m~/.pyenv/versions/3.7.4/envs/accidentes-viales/lib/python3.7/site-packages/sklearn/ensemble/_forest.py\u001b[0m in \u001b[0;36m_set_oob_score\u001b[0;34m(self, X, y)\u001b[0m\n\u001b[1;32m    527\u001b[0m             unsampled_indices = _generate_unsampled_indices(\n\u001b[1;32m    528\u001b[0m                 estimator.random_state, n_samples, n_samples_bootstrap)\n\u001b[0;32m--> 529\u001b[0;31m             p_estimator = estimator.predict_proba(X[unsampled_indices, :],\n\u001b[0m\u001b[1;32m    530\u001b[0m                                                   check_input=False)\n\u001b[1;32m    531\u001b[0m \u001b[0;34m\u001b[0m\u001b[0m\n",
      "\u001b[0;32m~/.pyenv/versions/3.7.4/envs/accidentes-viales/lib/python3.7/site-packages/scipy/sparse/_index.py\u001b[0m in \u001b[0;36m__getitem__\u001b[0;34m(self, key)\u001b[0m\n\u001b[1;32m     55\u001b[0m                 \u001b[0;32mreturn\u001b[0m \u001b[0mself\u001b[0m\u001b[0;34m.\u001b[0m\u001b[0m_get_arrayXint\u001b[0m\u001b[0;34m(\u001b[0m\u001b[0mrow\u001b[0m\u001b[0;34m,\u001b[0m \u001b[0mcol\u001b[0m\u001b[0;34m)\u001b[0m\u001b[0;34m\u001b[0m\u001b[0;34m\u001b[0m\u001b[0m\n\u001b[1;32m     56\u001b[0m             \u001b[0;32melif\u001b[0m \u001b[0misinstance\u001b[0m\u001b[0;34m(\u001b[0m\u001b[0mcol\u001b[0m\u001b[0;34m,\u001b[0m \u001b[0mslice\u001b[0m\u001b[0;34m)\u001b[0m\u001b[0;34m:\u001b[0m\u001b[0;34m\u001b[0m\u001b[0;34m\u001b[0m\u001b[0m\n\u001b[0;32m---> 57\u001b[0;31m                 \u001b[0;32mreturn\u001b[0m \u001b[0mself\u001b[0m\u001b[0;34m.\u001b[0m\u001b[0m_get_arrayXslice\u001b[0m\u001b[0;34m(\u001b[0m\u001b[0mrow\u001b[0m\u001b[0;34m,\u001b[0m \u001b[0mcol\u001b[0m\u001b[0;34m)\u001b[0m\u001b[0;34m\u001b[0m\u001b[0;34m\u001b[0m\u001b[0m\n\u001b[0m\u001b[1;32m     58\u001b[0m         \u001b[0;32melse\u001b[0m\u001b[0;34m:\u001b[0m  \u001b[0;31m# row.ndim == 2\u001b[0m\u001b[0;34m\u001b[0m\u001b[0;34m\u001b[0m\u001b[0m\n\u001b[1;32m     59\u001b[0m             \u001b[0;32mif\u001b[0m \u001b[0misinstance\u001b[0m\u001b[0;34m(\u001b[0m\u001b[0mcol\u001b[0m\u001b[0;34m,\u001b[0m \u001b[0mINT_TYPES\u001b[0m\u001b[0;34m)\u001b[0m\u001b[0;34m:\u001b[0m\u001b[0;34m\u001b[0m\u001b[0;34m\u001b[0m\u001b[0m\n",
      "\u001b[0;32m~/.pyenv/versions/3.7.4/envs/accidentes-viales/lib/python3.7/site-packages/scipy/sparse/csr.py\u001b[0m in \u001b[0;36m_get_arrayXslice\u001b[0;34m(self, row, col)\u001b[0m\n\u001b[1;32m    330\u001b[0m             \u001b[0mcol\u001b[0m \u001b[0;34m=\u001b[0m \u001b[0mnp\u001b[0m\u001b[0;34m.\u001b[0m\u001b[0marange\u001b[0m\u001b[0;34m(\u001b[0m\u001b[0;34m*\u001b[0m\u001b[0mcol\u001b[0m\u001b[0;34m.\u001b[0m\u001b[0mindices\u001b[0m\u001b[0;34m(\u001b[0m\u001b[0mself\u001b[0m\u001b[0;34m.\u001b[0m\u001b[0mshape\u001b[0m\u001b[0;34m[\u001b[0m\u001b[0;36m1\u001b[0m\u001b[0;34m]\u001b[0m\u001b[0;34m)\u001b[0m\u001b[0;34m)\u001b[0m\u001b[0;34m\u001b[0m\u001b[0;34m\u001b[0m\u001b[0m\n\u001b[1;32m    331\u001b[0m             \u001b[0;32mreturn\u001b[0m \u001b[0mself\u001b[0m\u001b[0;34m.\u001b[0m\u001b[0m_get_arrayXarray\u001b[0m\u001b[0;34m(\u001b[0m\u001b[0mrow\u001b[0m\u001b[0;34m,\u001b[0m \u001b[0mcol\u001b[0m\u001b[0;34m)\u001b[0m\u001b[0;34m\u001b[0m\u001b[0;34m\u001b[0m\u001b[0m\n\u001b[0;32m--> 332\u001b[0;31m         \u001b[0;32mreturn\u001b[0m \u001b[0mself\u001b[0m\u001b[0;34m.\u001b[0m\u001b[0m_major_index_fancy\u001b[0m\u001b[0;34m(\u001b[0m\u001b[0mrow\u001b[0m\u001b[0;34m)\u001b[0m\u001b[0;34m.\u001b[0m\u001b[0m_get_submatrix\u001b[0m\u001b[0;34m(\u001b[0m\u001b[0mminor\u001b[0m\u001b[0;34m=\u001b[0m\u001b[0mcol\u001b[0m\u001b[0;34m)\u001b[0m\u001b[0;34m\u001b[0m\u001b[0;34m\u001b[0m\u001b[0m\n\u001b[0m\u001b[1;32m    333\u001b[0m \u001b[0;34m\u001b[0m\u001b[0m\n\u001b[1;32m    334\u001b[0m \u001b[0;34m\u001b[0m\u001b[0m\n",
      "\u001b[0;32m~/.pyenv/versions/3.7.4/envs/accidentes-viales/lib/python3.7/site-packages/scipy/sparse/compressed.py\u001b[0m in \u001b[0;36m_major_index_fancy\u001b[0;34m(self, idx)\u001b[0m\n\u001b[1;32m    688\u001b[0m         \u001b[0midx_dtype\u001b[0m \u001b[0;34m=\u001b[0m \u001b[0mself\u001b[0m\u001b[0;34m.\u001b[0m\u001b[0mindices\u001b[0m\u001b[0;34m.\u001b[0m\u001b[0mdtype\u001b[0m\u001b[0;34m\u001b[0m\u001b[0;34m\u001b[0m\u001b[0m\n\u001b[1;32m    689\u001b[0m         \u001b[0mres_indptr\u001b[0m \u001b[0;34m=\u001b[0m \u001b[0mnp\u001b[0m\u001b[0;34m.\u001b[0m\u001b[0mzeros\u001b[0m\u001b[0;34m(\u001b[0m\u001b[0mM\u001b[0m\u001b[0;34m+\u001b[0m\u001b[0;36m1\u001b[0m\u001b[0;34m,\u001b[0m \u001b[0mdtype\u001b[0m\u001b[0;34m=\u001b[0m\u001b[0midx_dtype\u001b[0m\u001b[0;34m)\u001b[0m\u001b[0;34m\u001b[0m\u001b[0;34m\u001b[0m\u001b[0m\n\u001b[0;32m--> 690\u001b[0;31m         \u001b[0mnp\u001b[0m\u001b[0;34m.\u001b[0m\u001b[0mcumsum\u001b[0m\u001b[0;34m(\u001b[0m\u001b[0mrow_nnz\u001b[0m\u001b[0;34m[\u001b[0m\u001b[0midx\u001b[0m\u001b[0;34m]\u001b[0m\u001b[0;34m,\u001b[0m \u001b[0mout\u001b[0m\u001b[0;34m=\u001b[0m\u001b[0mres_indptr\u001b[0m\u001b[0;34m[\u001b[0m\u001b[0;36m1\u001b[0m\u001b[0;34m:\u001b[0m\u001b[0;34m]\u001b[0m\u001b[0;34m)\u001b[0m\u001b[0;34m\u001b[0m\u001b[0;34m\u001b[0m\u001b[0m\n\u001b[0m\u001b[1;32m    691\u001b[0m \u001b[0;34m\u001b[0m\u001b[0m\n\u001b[1;32m    692\u001b[0m         \u001b[0mnnz\u001b[0m \u001b[0;34m=\u001b[0m \u001b[0mres_indptr\u001b[0m\u001b[0;34m[\u001b[0m\u001b[0;34m-\u001b[0m\u001b[0;36m1\u001b[0m\u001b[0;34m]\u001b[0m\u001b[0;34m\u001b[0m\u001b[0;34m\u001b[0m\u001b[0m\n",
      "\u001b[0;32m<__array_function__ internals>\u001b[0m in \u001b[0;36mcumsum\u001b[0;34m(*args, **kwargs)\u001b[0m\n",
      "\u001b[0;32m~/.pyenv/versions/3.7.4/envs/accidentes-viales/lib/python3.7/site-packages/numpy/core/fromnumeric.py\u001b[0m in \u001b[0;36mcumsum\u001b[0;34m(a, axis, dtype, out)\u001b[0m\n\u001b[1;32m   2481\u001b[0m \u001b[0;34m\u001b[0m\u001b[0m\n\u001b[1;32m   2482\u001b[0m     \"\"\"\n\u001b[0;32m-> 2483\u001b[0;31m     \u001b[0;32mreturn\u001b[0m \u001b[0m_wrapfunc\u001b[0m\u001b[0;34m(\u001b[0m\u001b[0ma\u001b[0m\u001b[0;34m,\u001b[0m \u001b[0;34m'cumsum'\u001b[0m\u001b[0;34m,\u001b[0m \u001b[0maxis\u001b[0m\u001b[0;34m=\u001b[0m\u001b[0maxis\u001b[0m\u001b[0;34m,\u001b[0m \u001b[0mdtype\u001b[0m\u001b[0;34m=\u001b[0m\u001b[0mdtype\u001b[0m\u001b[0;34m,\u001b[0m \u001b[0mout\u001b[0m\u001b[0;34m=\u001b[0m\u001b[0mout\u001b[0m\u001b[0;34m)\u001b[0m\u001b[0;34m\u001b[0m\u001b[0;34m\u001b[0m\u001b[0m\n\u001b[0m\u001b[1;32m   2484\u001b[0m \u001b[0;34m\u001b[0m\u001b[0m\n\u001b[1;32m   2485\u001b[0m \u001b[0;34m\u001b[0m\u001b[0m\n",
      "\u001b[0;32m~/.pyenv/versions/3.7.4/envs/accidentes-viales/lib/python3.7/site-packages/numpy/core/fromnumeric.py\u001b[0m in \u001b[0;36m_wrapfunc\u001b[0;34m(obj, method, *args, **kwds)\u001b[0m\n\u001b[1;32m     56\u001b[0m \u001b[0;34m\u001b[0m\u001b[0m\n\u001b[1;32m     57\u001b[0m     \u001b[0;32mtry\u001b[0m\u001b[0;34m:\u001b[0m\u001b[0;34m\u001b[0m\u001b[0;34m\u001b[0m\u001b[0m\n\u001b[0;32m---> 58\u001b[0;31m         \u001b[0;32mreturn\u001b[0m \u001b[0mbound\u001b[0m\u001b[0;34m(\u001b[0m\u001b[0;34m*\u001b[0m\u001b[0margs\u001b[0m\u001b[0;34m,\u001b[0m \u001b[0;34m**\u001b[0m\u001b[0mkwds\u001b[0m\u001b[0;34m)\u001b[0m\u001b[0;34m\u001b[0m\u001b[0;34m\u001b[0m\u001b[0m\n\u001b[0m\u001b[1;32m     59\u001b[0m     \u001b[0;32mexcept\u001b[0m \u001b[0mTypeError\u001b[0m\u001b[0;34m:\u001b[0m\u001b[0;34m\u001b[0m\u001b[0;34m\u001b[0m\u001b[0m\n\u001b[1;32m     60\u001b[0m         \u001b[0;31m# A TypeError occurs if the object does have such a method in its\u001b[0m\u001b[0;34m\u001b[0m\u001b[0;34m\u001b[0m\u001b[0;34m\u001b[0m\u001b[0m\n",
      "\u001b[0;31mKeyboardInterrupt\u001b[0m: "
     ]
    }
   ],
   "source": [
    "# ocuparemos un RF\n",
    "classifier = RandomForestClassifier(oob_score=True, random_state=1234)\n",
    "# separando en train, test\n",
    "X_train, X_test, y_train, y_test = train_test_split(X, y)\n",
    "\n",
    "# definicion de los hiperparametros que queremos probar\n",
    "hyper_param_grid = {'n_estimators': [100], \n",
    "                    'max_depth': [8],\n",
    "                    'min_samples_split': [5]}\n",
    "\n",
    "# ocupemos grid search!\n",
    "gs = GridSearchCV(classifier, \n",
    "                           hyper_param_grid, \n",
    "                           scoring = 'precision',\n",
    "                           cv = 5, \n",
    "                           n_jobs = -1)\n",
    "start_time = time.time()\n",
    "gs.fit(X, y)\n",
    "print(\"Tiempo en ejecutar: \", time.time() - start_time)"
   ]
  },
  {
   "cell_type": "code",
   "execution_count": null,
   "metadata": {},
   "outputs": [],
   "source": [
    "# de los valores posibles que pusimos en el grid, cuáles fueron los mejores\n",
    "gs.best_params_"
   ]
  },
  {
   "cell_type": "code",
   "execution_count": null,
   "metadata": {},
   "outputs": [],
   "source": [
    "# mejor score asociado a los modelos generados con los diferentes hiperparametros\n",
    "# corresponde al promedio de los scores generados con los cv\n",
    "gs.best_score_"
   ]
  },
  {
   "cell_type": "code",
   "execution_count": null,
   "metadata": {},
   "outputs": [],
   "source": [
    "gs.best_estimator_"
   ]
  },
  {
   "cell_type": "code",
   "execution_count": null,
   "metadata": {},
   "outputs": [],
   "source": [
    "gs.best_estimator_.oob_score_"
   ]
  },
  {
   "cell_type": "markdown",
   "metadata": {},
   "source": [
    "### Pruebas"
   ]
  },
  {
   "cell_type": "code",
   "execution_count": null,
   "metadata": {},
   "outputs": [],
   "source": [
    "predicted_labels = gs.predict(X_test)"
   ]
  },
  {
   "cell_type": "code",
   "execution_count": null,
   "metadata": {},
   "outputs": [],
   "source": [
    "predicted_scores = gs.predict_proba(X_test)"
   ]
  },
  {
   "cell_type": "markdown",
   "metadata": {},
   "source": [
    "## Pickle"
   ]
  },
  {
   "cell_type": "code",
   "execution_count": null,
   "metadata": {},
   "outputs": [],
   "source": [
    "# Guardar en el pickle\n",
    "pickle.dump(incidentes, open(r\"\\output\\fe_df.pkl\", \"wb\"))"
   ]
  },
  {
   "cell_type": "code",
   "execution_count": null,
   "metadata": {},
   "outputs": [],
   "source": [
    "# Recuperar el pickle\n",
    "incidentes_pkl = pickle.load(open(r\"\\output\\fe_df.pkl\", \"rb\"))"
   ]
  },
  {
   "cell_type": "code",
   "execution_count": null,
   "metadata": {},
   "outputs": [],
   "source": [
    "incidentes_pkl.head()"
   ]
  },
  {
   "cell_type": "code",
   "execution_count": null,
   "metadata": {},
   "outputs": [],
   "source": [
    "\"\"\"\n",
    "Módulo feature engineering.\n",
    "Nuestro target es...\n",
    "Tenemos un problema priorización de recursos? Creo que prevención.\n",
    "\"\"\"\n",
    "\n",
    "def load_transformation(path):\n",
    "    \"\"\"\n",
    "    Cargar pickle que se generó durante la transformación\n",
    "    :param path: Path donde se encuentra el pickle\n",
    "    :return:\n",
    "    \"\"\"\n",
    "    output_path = os.path.join(path, \"transformation_df.pkl\")\n",
    "    \n",
    "    # Recuperar el pickle\n",
    "    incidentes_pkl = pickle.load(open(output_path, \"rb\"))\n",
    "    \n",
    "    return incidentes_pkl\n",
    "\n",
    "\n",
    "def feature_generation(df):\n",
    "    \"\"\"\n",
    "    Crear nuevos features útiles.\n",
    "\n",
    "    :param df: Dataframe del cual se generarán nuevas variables\n",
    "    :return:\n",
    "    \"\"\"\n",
    "\n",
    "    return df\n",
    "\n",
    "\n",
    "def feature_selection(df):\n",
    "    \"\"\"\n",
    "    Seleccionaremos las variables importantes\n",
    "    :param df: Dataframe del que se seleccionarán variables.\n",
    "    :return:\n",
    "    \"\"\"\n",
    "\n",
    "def save_fe(df, path):\n",
    "    \"\"\"\n",
    "    Guardar el dataframe en un pickle\n",
    "    :param df: Dataframe que ya tiene los features que se ocuparán.\n",
    "    :param path:\n",
    "    :return:\n",
    "    \"\"\"\n",
    "    output_path = os.path.join(path, \"output\", \"fe_df.pkl\")\n",
    "    # Guardar en el pickle\n",
    "    pickle.dump(df, open(output_path, \"wb\"))"
   ]
  }
 ],
 "metadata": {
  "kernelspec": {
   "display_name": "Python 3",
   "language": "python",
   "name": "python3"
  },
  "language_info": {
   "codemirror_mode": {
    "name": "ipython",
    "version": 3
   },
   "file_extension": ".py",
   "mimetype": "text/x-python",
   "name": "python",
   "nbconvert_exporter": "python",
   "pygments_lexer": "ipython3",
   "version": "3.7.4"
  }
 },
 "nbformat": 4,
 "nbformat_minor": 4
}
