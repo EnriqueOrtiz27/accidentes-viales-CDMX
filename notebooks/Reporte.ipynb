{
 "cells": [
  {
   "cell_type": "markdown",
   "metadata": {},
   "source": [
    "##  Proyecto 2:  Accidentes viales CDMX\n",
    "### Métricas del modelo:"
   ]
  },
  {
   "cell_type": "markdown",
   "metadata": {},
   "source": [
    "\n",
    "\n",
    "A continuación se muestran las métricas de nuestro mejor modelo.  \n",
    "\n",
    "Después de varias pruebas, tanto el modelo _RandomForestClassifier_ como el _DecisionTree_ nos dieron resultados relativamente deficientes en prácticamente todas las métricas relevantes, por lo que el modelo final que estaremos evaluando es uno de **_Regresión Logística_**.  "
   ]
  },
  {
   "cell_type": "code",
   "execution_count": 1,
   "metadata": {},
   "outputs": [],
   "source": [
    "#Importando lbirerías:\n",
    "\n",
    "import pickle\n",
    "import joblib\n",
    "import sklearn\n",
    "import random\n",
    "import os\n",
    "import pandas as pd\n",
    "import numpy as np\n",
    "\n",
    "from magic_loop import load_transformation, filter_drop, \\\n",
    "                                      transformation_pipeline, train_test_split, NUM_VARS, CAT_VARS\n",
    "##Cambiar la ubicación del magic_loop\n",
    "\n",
    "from sklearn.preprocessing import OneHotEncoder\n",
    "from sklearn.compose import ColumnTransformer\n",
    "from sklearn.linear_model import LogisticRegression\n",
    "from sklearn.model_selection import GridSearchCV, TimeSeriesSplit"
   ]
  },
  {
   "cell_type": "markdown",
   "metadata": {},
   "source": [
    "Cargamos el modelo y los sets de prueba y entrenamiento:"
   ]
  },
  {
   "cell_type": "code",
   "execution_count": 11,
   "metadata": {},
   "outputs": [],
   "source": [
    "X_train = pickle.load(open(\"X_train_diciembre4.pkl\", 'rb'))\n",
    "y_train = pickle.load(open(\"Y_train_diciembre4.pkl\", 'rb'))\n",
    "X_test = pickle.load(open(\"X_test_diciembre4.pkl\", 'rb'))\n",
    "y_test = pickle.load(open(\"y_test_diciembre4.pkl\", 'rb'))\n",
    "model = joblib.load('/Users/Leo/Documents/MCD/1o/IDS/Proyectos/proyecto1/Notebooks/finalized_model.sav')"
   ]
  },
  {
   "cell_type": "code",
   "execution_count": 30,
   "metadata": {},
   "outputs": [
    {
     "name": "stdout",
     "output_type": "stream",
     "text": [
      "(967884, 62) (967884,) (414808, 62) (414808,)\n"
     ]
    }
   ],
   "source": [
    "#Confirmando el tamaño de los sets de prueba y entrenamiento:\n",
    "print(X_train.shape, y_train.shape, X_test.shape, y_test.shape)"
   ]
  },
  {
   "cell_type": "code",
   "execution_count": 18,
   "metadata": {},
   "outputs": [],
   "source": [
    "#Confirmando el modelo cargado:\n",
    "#model"
   ]
  },
  {
   "cell_type": "markdown",
   "metadata": {},
   "source": [
    "Cargamos el dataframe generado en *Feature Engineering*:"
   ]
  },
  {
   "cell_type": "code",
   "execution_count": 12,
   "metadata": {},
   "outputs": [
    {
     "name": "stdout",
     "output_type": "stream",
     "text": [
      "Opening feature engineering pickle from output path\n",
      "Feature Engineering pickle successfully retrieved.\n"
     ]
    }
   ],
   "source": [
    "path = os.getcwd()\n",
    "df = load_transformation(path)"
   ]
  },
  {
   "cell_type": "code",
   "execution_count": 19,
   "metadata": {},
   "outputs": [],
   "source": [
    "#df.head()"
   ]
  },
  {
   "cell_type": "markdown",
   "metadata": {},
   "source": [
    "Generamos nuestras predicciones en el conjunto de prueba para la evaluación de métricas:"
   ]
  },
  {
   "cell_type": "code",
   "execution_count": 32,
   "metadata": {},
   "outputs": [],
   "source": [
    "predicted_labels = model.predict(X_test)\n",
    "predicted_scores = model.predict_proba(X_test)\n",
    "predicted_probs = pd.DataFrame(predicted_scores, columns=[\"probability_0\", \"probability_1\"])\n",
    "#predicted_probs.head()"
   ]
  },
  {
   "cell_type": "markdown",
   "metadata": {},
   "source": [
    "## Reporte de Métricas:"
   ]
  },
  {
   "cell_type": "code",
   "execution_count": 83,
   "metadata": {},
   "outputs": [],
   "source": [
    "from sklearn.metrics import accuracy_score\n",
    "\n",
    "#accuracy_score(y_test, predicted_labels)"
   ]
  },
  {
   "cell_type": "code",
   "execution_count": 84,
   "metadata": {},
   "outputs": [],
   "source": [
    "#### Precision, recall, thresholds\n",
    "from sklearn.metrics import precision_recall_curve\n",
    "\n",
    "precision, recall, thresholds_2 = precision_recall_curve(y_test, predicted_scores[:,1], pos_label=1)"
   ]
  },
  {
   "cell_type": "code",
   "execution_count": 85,
   "metadata": {},
   "outputs": [],
   "source": [
    "thresholds_2 = np.append(thresholds_2, 1)"
   ]
  },
  {
   "cell_type": "code",
   "execution_count": 88,
   "metadata": {},
   "outputs": [],
   "source": [
    "#(precision.shape, recall.shape, thresholds_2.shape)"
   ]
  },
  {
   "cell_type": "code",
   "execution_count": 87,
   "metadata": {},
   "outputs": [],
   "source": [
    "def get_metrics_report(fpr, tpr, thresholds, precision, recall, thresholds_2):\n",
    "    df_1 = pd.DataFrame({'threshold': thresholds_2,'precision': precision,\n",
    "                    'recall': recall})\n",
    "    df_1['f1_score'] = 2 * (df_1.precision * df_1.recall) / (df_1.precision + df_1.recall)\n",
    "    \n",
    "    df_2 = pd.DataFrame({'tpr': tpr, 'fpr': fpr, 'threshold': thresholds})\n",
    "    df_2['tnr'] = 1 - df_2['fpr']\n",
    "    df_2['fnr'] = 1 - df_2['tpr']\n",
    "    \n",
    "    df = df_1.merge(df_2, on=\"threshold\")\n",
    "    \n",
    "    return df"
   ]
  },
  {
   "cell_type": "code",
   "execution_count": 89,
   "metadata": {},
   "outputs": [
    {
     "data": {
      "text/html": [
       "<div>\n",
       "<style scoped>\n",
       "    .dataframe tbody tr th:only-of-type {\n",
       "        vertical-align: middle;\n",
       "    }\n",
       "\n",
       "    .dataframe tbody tr th {\n",
       "        vertical-align: top;\n",
       "    }\n",
       "\n",
       "    .dataframe thead th {\n",
       "        text-align: right;\n",
       "    }\n",
       "</style>\n",
       "<table border=\"1\" class=\"dataframe\">\n",
       "  <thead>\n",
       "    <tr style=\"text-align: right;\">\n",
       "      <th></th>\n",
       "      <th>threshold</th>\n",
       "      <th>precision</th>\n",
       "      <th>recall</th>\n",
       "      <th>f1_score</th>\n",
       "      <th>tpr</th>\n",
       "      <th>fpr</th>\n",
       "      <th>tnr</th>\n",
       "      <th>fnr</th>\n",
       "    </tr>\n",
       "  </thead>\n",
       "  <tbody>\n",
       "    <tr>\n",
       "      <th>0</th>\n",
       "      <td>0.007078</td>\n",
       "      <td>0.195157</td>\n",
       "      <td>1.000000</td>\n",
       "      <td>0.326579</td>\n",
       "      <td>1.000000</td>\n",
       "      <td>0.999700</td>\n",
       "      <td>0.000300</td>\n",
       "      <td>0.000000</td>\n",
       "    </tr>\n",
       "    <tr>\n",
       "      <th>1</th>\n",
       "      <td>0.007100</td>\n",
       "      <td>0.195155</td>\n",
       "      <td>0.999988</td>\n",
       "      <td>0.326576</td>\n",
       "      <td>0.999988</td>\n",
       "      <td>0.999700</td>\n",
       "      <td>0.000300</td>\n",
       "      <td>0.000012</td>\n",
       "    </tr>\n",
       "    <tr>\n",
       "      <th>2</th>\n",
       "      <td>0.008389</td>\n",
       "      <td>0.195196</td>\n",
       "      <td>0.999988</td>\n",
       "      <td>0.326633</td>\n",
       "      <td>0.999988</td>\n",
       "      <td>0.999440</td>\n",
       "      <td>0.000560</td>\n",
       "      <td>0.000012</td>\n",
       "    </tr>\n",
       "    <tr>\n",
       "      <th>3</th>\n",
       "      <td>0.008395</td>\n",
       "      <td>0.195194</td>\n",
       "      <td>0.999975</td>\n",
       "      <td>0.326630</td>\n",
       "      <td>0.999975</td>\n",
       "      <td>0.999440</td>\n",
       "      <td>0.000560</td>\n",
       "      <td>0.000025</td>\n",
       "    </tr>\n",
       "    <tr>\n",
       "      <th>4</th>\n",
       "      <td>0.008405</td>\n",
       "      <td>0.195194</td>\n",
       "      <td>0.999975</td>\n",
       "      <td>0.326630</td>\n",
       "      <td>0.999975</td>\n",
       "      <td>0.999437</td>\n",
       "      <td>0.000563</td>\n",
       "      <td>0.000025</td>\n",
       "    </tr>\n",
       "    <tr>\n",
       "      <th>...</th>\n",
       "      <td>...</td>\n",
       "      <td>...</td>\n",
       "      <td>...</td>\n",
       "      <td>...</td>\n",
       "      <td>...</td>\n",
       "      <td>...</td>\n",
       "      <td>...</td>\n",
       "      <td>...</td>\n",
       "    </tr>\n",
       "    <tr>\n",
       "      <th>172283</th>\n",
       "      <td>0.667680</td>\n",
       "      <td>0.888889</td>\n",
       "      <td>0.000198</td>\n",
       "      <td>0.000395</td>\n",
       "      <td>0.000198</td>\n",
       "      <td>0.000006</td>\n",
       "      <td>0.999994</td>\n",
       "      <td>0.999802</td>\n",
       "    </tr>\n",
       "    <tr>\n",
       "      <th>172284</th>\n",
       "      <td>0.670937</td>\n",
       "      <td>0.941176</td>\n",
       "      <td>0.000198</td>\n",
       "      <td>0.000395</td>\n",
       "      <td>0.000198</td>\n",
       "      <td>0.000003</td>\n",
       "      <td>0.999997</td>\n",
       "      <td>0.999802</td>\n",
       "    </tr>\n",
       "    <tr>\n",
       "      <th>172285</th>\n",
       "      <td>0.671903</td>\n",
       "      <td>0.937500</td>\n",
       "      <td>0.000185</td>\n",
       "      <td>0.000371</td>\n",
       "      <td>0.000185</td>\n",
       "      <td>0.000003</td>\n",
       "      <td>0.999997</td>\n",
       "      <td>0.999815</td>\n",
       "    </tr>\n",
       "    <tr>\n",
       "      <th>172286</th>\n",
       "      <td>0.674224</td>\n",
       "      <td>1.000000</td>\n",
       "      <td>0.000185</td>\n",
       "      <td>0.000371</td>\n",
       "      <td>0.000185</td>\n",
       "      <td>0.000000</td>\n",
       "      <td>1.000000</td>\n",
       "      <td>0.999815</td>\n",
       "    </tr>\n",
       "    <tr>\n",
       "      <th>172287</th>\n",
       "      <td>0.913421</td>\n",
       "      <td>1.000000</td>\n",
       "      <td>0.000012</td>\n",
       "      <td>0.000025</td>\n",
       "      <td>0.000012</td>\n",
       "      <td>0.000000</td>\n",
       "      <td>1.000000</td>\n",
       "      <td>0.999988</td>\n",
       "    </tr>\n",
       "  </tbody>\n",
       "</table>\n",
       "<p>172288 rows × 8 columns</p>\n",
       "</div>"
      ],
      "text/plain": [
       "        threshold  precision    recall  f1_score       tpr       fpr  \\\n",
       "0        0.007078   0.195157  1.000000  0.326579  1.000000  0.999700   \n",
       "1        0.007100   0.195155  0.999988  0.326576  0.999988  0.999700   \n",
       "2        0.008389   0.195196  0.999988  0.326633  0.999988  0.999440   \n",
       "3        0.008395   0.195194  0.999975  0.326630  0.999975  0.999440   \n",
       "4        0.008405   0.195194  0.999975  0.326630  0.999975  0.999437   \n",
       "...           ...        ...       ...       ...       ...       ...   \n",
       "172283   0.667680   0.888889  0.000198  0.000395  0.000198  0.000006   \n",
       "172284   0.670937   0.941176  0.000198  0.000395  0.000198  0.000003   \n",
       "172285   0.671903   0.937500  0.000185  0.000371  0.000185  0.000003   \n",
       "172286   0.674224   1.000000  0.000185  0.000371  0.000185  0.000000   \n",
       "172287   0.913421   1.000000  0.000012  0.000025  0.000012  0.000000   \n",
       "\n",
       "             tnr       fnr  \n",
       "0       0.000300  0.000000  \n",
       "1       0.000300  0.000012  \n",
       "2       0.000560  0.000012  \n",
       "3       0.000560  0.000025  \n",
       "4       0.000563  0.000025  \n",
       "...          ...       ...  \n",
       "172283  0.999994  0.999802  \n",
       "172284  0.999997  0.999802  \n",
       "172285  0.999997  0.999815  \n",
       "172286  1.000000  0.999815  \n",
       "172287  1.000000  0.999988  \n",
       "\n",
       "[172288 rows x 8 columns]"
      ]
     },
     "execution_count": 89,
     "metadata": {},
     "output_type": "execute_result"
    }
   ],
   "source": [
    "metrics_report = get_metrics_report(fpr, tpr, thresholds, precision, recall, thresholds_2)\n",
    "metrics_report"
   ]
  },
  {
   "cell_type": "markdown",
   "metadata": {},
   "source": [
    "## Curva ROC:"
   ]
  },
  {
   "cell_type": "code",
   "execution_count": 33,
   "metadata": {},
   "outputs": [
    {
     "data": {
      "image/png": "[encoded data removed]",
      "text/plain": [
       "<Figure size 432x288 with 1 Axes>"
      ]
     },
     "metadata": {
      "needs_background": "light"
     },
     "output_type": "display_data"
    }
   ],
   "source": [
    "from sklearn.metrics import roc_curve, roc_auc_score\n",
    "\n",
    "import matplotlib.pyplot as plt\n",
    "\n",
    "%matplotlib inline\n",
    "\n",
    "fpr, tpr, thresholds = roc_curve(y_test, predicted_probs.probability_1, pos_label=1)\n",
    "\n",
    "plt.clf()\n",
    "plt.plot([0,1],[0,1], 'k--', c=\"red\")\n",
    "plt.plot(fpr, tpr)\n",
    "plt.title(\"ROC best RF, AUC: {}\".format(roc_auc_score(y_test, predicted_probs.probability_1)))\n",
    "plt.xlabel(\"FPR\")\n",
    "plt.ylabel(\"TPR\")\n",
    "plt.show();"
   ]
  },
  {
   "cell_type": "markdown",
   "metadata": {},
   "source": [
    "## Matriz de confusión:"
   ]
  },
  {
   "cell_type": "code",
   "execution_count": 34,
   "metadata": {},
   "outputs": [
    {
     "data": {
      "text/html": [
       "<div>\n",
       "<style scoped>\n",
       "    .dataframe tbody tr th:only-of-type {\n",
       "        vertical-align: middle;\n",
       "    }\n",
       "\n",
       "    .dataframe tbody tr th {\n",
       "        vertical-align: top;\n",
       "    }\n",
       "\n",
       "    .dataframe thead th {\n",
       "        text-align: right;\n",
       "    }\n",
       "</style>\n",
       "<table border=\"1\" class=\"dataframe\">\n",
       "  <thead>\n",
       "    <tr style=\"text-align: right;\">\n",
       "      <th></th>\n",
       "      <th>0</th>\n",
       "      <th>1</th>\n",
       "    </tr>\n",
       "  </thead>\n",
       "  <tbody>\n",
       "    <tr>\n",
       "      <th>0</th>\n",
       "      <td>333679</td>\n",
       "      <td>196</td>\n",
       "    </tr>\n",
       "    <tr>\n",
       "      <th>1</th>\n",
       "      <td>80746</td>\n",
       "      <td>187</td>\n",
       "    </tr>\n",
       "  </tbody>\n",
       "</table>\n",
       "</div>"
      ],
      "text/plain": [
       "        0    1\n",
       "0  333679  196\n",
       "1   80746  187"
      ]
     },
     "execution_count": 34,
     "metadata": {},
     "output_type": "execute_result"
    }
   ],
   "source": [
    "from sklearn.metrics import confusion_matrix\n",
    "\n",
    "pd.DataFrame(confusion_matrix(y_test, predicted_labels))\n",
    "#Columnas = Predicción\n",
    "#renglones = Realidad"
   ]
  },
  {
   "cell_type": "markdown",
   "metadata": {},
   "source": [
    "## Curva de precision y recall:"
   ]
  },
  {
   "cell_type": "markdown",
   "metadata": {},
   "source": [
    "El promedio diario de llamadas se obtuvo de nuestro EDA-GEDA (554 llamadas diarias), y sabemos que contamos con 20 ambulancias al día."
   ]
  },
  {
   "cell_type": "code",
   "execution_count": 44,
   "metadata": {},
   "outputs": [],
   "source": [
    "ambulancias_disponibles_al_dia = 20.0\n",
    "num_llamadas_al_dia = 554.0"
   ]
  },
  {
   "cell_type": "code",
   "execution_count": 61,
   "metadata": {},
   "outputs": [
    {
     "name": "stdout",
     "output_type": "stream",
     "text": [
      "El valor de k es igual a:  0.036101083032490974\n"
     ]
    }
   ],
   "source": [
    "k = ambulancias_disponibles_al_dia/num_llamadas_al_dia\n",
    "print(\"El valor de k es igual a: \", k)"
   ]
  },
  {
   "cell_type": "code",
   "execution_count": 45,
   "metadata": {},
   "outputs": [],
   "source": [
    "from sklearn.metrics import precision_recall_curve\n",
    "\n",
    "precision, recall, thresholds_2 = precision_recall_curve(y_test, predicted_probs.probability_1, pos_label=1)"
   ]
  },
  {
   "cell_type": "code",
   "execution_count": 46,
   "metadata": {},
   "outputs": [],
   "source": [
    "thresholds_2 = np.append(thresholds_2, 1)"
   ]
  },
  {
   "cell_type": "code",
   "execution_count": 47,
   "metadata": {},
   "outputs": [
    {
     "data": {
      "text/plain": [
       "((346813,), (346813,), (346813,))"
      ]
     },
     "execution_count": 47,
     "metadata": {},
     "output_type": "execute_result"
    }
   ],
   "source": [
    "(precision.shape, recall.shape, thresholds_2.shape)"
   ]
  },
  {
   "cell_type": "code",
   "execution_count": 48,
   "metadata": {},
   "outputs": [],
   "source": [
    "from sklearn.metrics import precision_score\n",
    "\n",
    "def precision_at_k(y_true, y_scores, k):\n",
    "    threshold = np.sort(y_scores)[::-1][int(k*(len(y_scores)-1))]\n",
    "    y_pred = np.asarray([1 if i >= threshold else 0 for i in y_scores])\n",
    "\n",
    "    return precision_score(y_true, y_pred)"
   ]
  },
  {
   "cell_type": "code",
   "execution_count": 49,
   "metadata": {},
   "outputs": [],
   "source": [
    "from sklearn.metrics import recall_score\n",
    "def recall_at_k(y_true, y_scores, k):\n",
    "    threshold = np.sort(y_scores)[::-1][int(k*(len(y_scores)-1))]\n",
    "    y_pred = np.asarray([1 if i >= threshold else 0 for i in y_scores])\n",
    "\n",
    "    return recall_score(y_true, y_pred)"
   ]
  },
  {
   "cell_type": "code",
   "execution_count": 50,
   "metadata": {},
   "outputs": [],
   "source": [
    "def get_top_k(y_scores, k):\n",
    "    pass"
   ]
  },
  {
   "cell_type": "code",
   "execution_count": 51,
   "metadata": {},
   "outputs": [],
   "source": [
    "def pr_k_curve(y_true, y_scores, save_target=None):\n",
    "    k_values = list(np.arange(0.1, 1.1, 0.1))\n",
    "    pr_k = pd.DataFrame()\n",
    "\n",
    "    for k in k_values:\n",
    "        d = dict()\n",
    "        d['k'] = k\n",
    "        ## get_top_k es una función que ordena los scores de\n",
    "        ## mayor a menor y toma los k% primeros\n",
    "        #top_k = get_top_k(y_scores, k)\n",
    "        #top_k = y_scores\n",
    "        # print(precision_at_k(y_true, y_scores, k))\n",
    "        d['precision'] = precision_at_k(y_true, y_scores, k)#(top_k)\n",
    "        d['recall'] = recall_at_k(y_true, y_scores, k)#(top_k, predictions)\n",
    "\n",
    "        pr_k = pr_k.append(d, ignore_index=True)\n",
    "\n",
    "    # para la gráfica\n",
    "    fig, ax1 = plt.subplots()\n",
    "    ax1.plot(pr_k['k'], pr_k['precision'], label='precision')\n",
    "    ax1.plot(pr_k['k'], pr_k['recall'], label='recall')\n",
    "    plt.legend()\n",
    "\n",
    "    if save_target is not None:\n",
    "        plt.savefig(save_target, dpi=300)\n",
    "    else:\n",
    "        plt.show\n",
    "\n",
    "    return pr_k"
   ]
  },
  {
   "cell_type": "code",
   "execution_count": 60,
   "metadata": {},
   "outputs": [
    {
     "data": {
      "text/plain": [
       "0.0023105531736127413"
      ]
     },
     "execution_count": 60,
     "metadata": {},
     "output_type": "execute_result"
    }
   ],
   "source": [
    "precision_at_k(predicted_labels, y_test, k)"
   ]
  },
  {
   "cell_type": "code",
   "execution_count": 53,
   "metadata": {},
   "outputs": [
    {
     "data": {
      "text/plain": [
       "0.19510954465680508"
      ]
     },
     "execution_count": 53,
     "metadata": {},
     "output_type": "execute_result"
    }
   ],
   "source": [
    "precision_at_k(y_test, predicted_labels, k)"
   ]
  },
  {
   "cell_type": "code",
   "execution_count": 54,
   "metadata": {},
   "outputs": [
    {
     "data": {
      "text/plain": [
       "set()"
      ]
     },
     "execution_count": 54,
     "metadata": {},
     "output_type": "execute_result"
    }
   ],
   "source": [
    "set(y_test) - set(predicted_labels)"
   ]
  },
  {
   "cell_type": "code",
   "execution_count": 55,
   "metadata": {},
   "outputs": [
    {
     "data": {
      "text/plain": [
       "0.48825065274151436"
      ]
     },
     "execution_count": 55,
     "metadata": {},
     "output_type": "execute_result"
    }
   ],
   "source": [
    "recall_at_k(predicted_labels, y_test, k)"
   ]
  },
  {
   "cell_type": "code",
   "execution_count": 56,
   "metadata": {},
   "outputs": [
    {
     "data": {
      "text/html": [
       "<div>\n",
       "<style scoped>\n",
       "    .dataframe tbody tr th:only-of-type {\n",
       "        vertical-align: middle;\n",
       "    }\n",
       "\n",
       "    .dataframe tbody tr th {\n",
       "        vertical-align: top;\n",
       "    }\n",
       "\n",
       "    .dataframe thead th {\n",
       "        text-align: right;\n",
       "    }\n",
       "</style>\n",
       "<table border=\"1\" class=\"dataframe\">\n",
       "  <thead>\n",
       "    <tr style=\"text-align: right;\">\n",
       "      <th></th>\n",
       "      <th>k</th>\n",
       "      <th>precision</th>\n",
       "      <th>recall</th>\n",
       "    </tr>\n",
       "  </thead>\n",
       "  <tbody>\n",
       "    <tr>\n",
       "      <th>0</th>\n",
       "      <td>0.1</td>\n",
       "      <td>0.002311</td>\n",
       "      <td>0.488251</td>\n",
       "    </tr>\n",
       "    <tr>\n",
       "      <th>1</th>\n",
       "      <td>0.2</td>\n",
       "      <td>0.000923</td>\n",
       "      <td>1.000000</td>\n",
       "    </tr>\n",
       "    <tr>\n",
       "      <th>2</th>\n",
       "      <td>0.3</td>\n",
       "      <td>0.000923</td>\n",
       "      <td>1.000000</td>\n",
       "    </tr>\n",
       "    <tr>\n",
       "      <th>3</th>\n",
       "      <td>0.4</td>\n",
       "      <td>0.000923</td>\n",
       "      <td>1.000000</td>\n",
       "    </tr>\n",
       "    <tr>\n",
       "      <th>4</th>\n",
       "      <td>0.5</td>\n",
       "      <td>0.000923</td>\n",
       "      <td>1.000000</td>\n",
       "    </tr>\n",
       "    <tr>\n",
       "      <th>5</th>\n",
       "      <td>0.6</td>\n",
       "      <td>0.000923</td>\n",
       "      <td>1.000000</td>\n",
       "    </tr>\n",
       "    <tr>\n",
       "      <th>6</th>\n",
       "      <td>0.7</td>\n",
       "      <td>0.000923</td>\n",
       "      <td>1.000000</td>\n",
       "    </tr>\n",
       "    <tr>\n",
       "      <th>7</th>\n",
       "      <td>0.8</td>\n",
       "      <td>0.000923</td>\n",
       "      <td>1.000000</td>\n",
       "    </tr>\n",
       "    <tr>\n",
       "      <th>8</th>\n",
       "      <td>0.9</td>\n",
       "      <td>0.000923</td>\n",
       "      <td>1.000000</td>\n",
       "    </tr>\n",
       "    <tr>\n",
       "      <th>9</th>\n",
       "      <td>1.0</td>\n",
       "      <td>0.000923</td>\n",
       "      <td>1.000000</td>\n",
       "    </tr>\n",
       "  </tbody>\n",
       "</table>\n",
       "</div>"
      ],
      "text/plain": [
       "     k  precision    recall\n",
       "0  0.1   0.002311  0.488251\n",
       "1  0.2   0.000923  1.000000\n",
       "2  0.3   0.000923  1.000000\n",
       "3  0.4   0.000923  1.000000\n",
       "4  0.5   0.000923  1.000000\n",
       "5  0.6   0.000923  1.000000\n",
       "6  0.7   0.000923  1.000000\n",
       "7  0.8   0.000923  1.000000\n",
       "8  0.9   0.000923  1.000000\n",
       "9  1.0   0.000923  1.000000"
      ]
     },
     "execution_count": 56,
     "metadata": {},
     "output_type": "execute_result"
    },
    {
     "data": {
      "image/png": "[encoded data removed]",
      "text/plain": [
       "<Figure size 432x288 with 1 Axes>"
      ]
     },
     "metadata": {
      "needs_background": "light"
     },
     "output_type": "display_data"
    }
   ],
   "source": [
    "pr_k_curve(predicted_labels, y_test)"
   ]
  },
  {
   "cell_type": "markdown",
   "metadata": {},
   "source": [
    "## Reporte de métricas:"
   ]
  },
  {
   "cell_type": "code",
   "execution_count": 57,
   "metadata": {},
   "outputs": [],
   "source": [
    "def get_metrics_report(fpr, tpr, thresholds, precision, recall, thresholds_2):\n",
    "    df_1 = pd.DataFrame({'threshold': thresholds_2,'precision': precision,\n",
    "                    'recall': recall})\n",
    "    df_1['f1_score'] = 2 * (df_1.precision * df_1.recall) / (df_1.precision + df_1.recall)\n",
    "    \n",
    "    df_2 = pd.DataFrame({'tpr': tpr, 'fpr': fpr, 'threshold': thresholds})\n",
    "    df_2['tnr'] = 1 - df_2['fpr']\n",
    "    df_2['fnr'] = 1 - df_2['tpr']\n",
    "    \n",
    "    df = df_1.merge(df_2, on=\"threshold\")\n",
    "    \n",
    "    return df"
   ]
  },
  {
   "cell_type": "code",
   "execution_count": 58,
   "metadata": {},
   "outputs": [
    {
     "data": {
      "text/html": [
       "<div>\n",
       "<style scoped>\n",
       "    .dataframe tbody tr th:only-of-type {\n",
       "        vertical-align: middle;\n",
       "    }\n",
       "\n",
       "    .dataframe tbody tr th {\n",
       "        vertical-align: top;\n",
       "    }\n",
       "\n",
       "    .dataframe thead th {\n",
       "        text-align: right;\n",
       "    }\n",
       "</style>\n",
       "<table border=\"1\" class=\"dataframe\">\n",
       "  <thead>\n",
       "    <tr style=\"text-align: right;\">\n",
       "      <th></th>\n",
       "      <th>threshold</th>\n",
       "      <th>precision</th>\n",
       "      <th>recall</th>\n",
       "      <th>f1_score</th>\n",
       "      <th>tpr</th>\n",
       "      <th>fpr</th>\n",
       "      <th>tnr</th>\n",
       "      <th>fnr</th>\n",
       "    </tr>\n",
       "  </thead>\n",
       "  <tbody>\n",
       "    <tr>\n",
       "      <th>0</th>\n",
       "      <td>0.007078</td>\n",
       "      <td>0.195157</td>\n",
       "      <td>1.000000</td>\n",
       "      <td>0.326579</td>\n",
       "      <td>1.000000</td>\n",
       "      <td>0.999700</td>\n",
       "      <td>0.000300</td>\n",
       "      <td>0.000000</td>\n",
       "    </tr>\n",
       "    <tr>\n",
       "      <th>1</th>\n",
       "      <td>0.007100</td>\n",
       "      <td>0.195155</td>\n",
       "      <td>0.999988</td>\n",
       "      <td>0.326576</td>\n",
       "      <td>0.999988</td>\n",
       "      <td>0.999700</td>\n",
       "      <td>0.000300</td>\n",
       "      <td>0.000012</td>\n",
       "    </tr>\n",
       "    <tr>\n",
       "      <th>2</th>\n",
       "      <td>0.008389</td>\n",
       "      <td>0.195196</td>\n",
       "      <td>0.999988</td>\n",
       "      <td>0.326633</td>\n",
       "      <td>0.999988</td>\n",
       "      <td>0.999440</td>\n",
       "      <td>0.000560</td>\n",
       "      <td>0.000012</td>\n",
       "    </tr>\n",
       "    <tr>\n",
       "      <th>3</th>\n",
       "      <td>0.008395</td>\n",
       "      <td>0.195194</td>\n",
       "      <td>0.999975</td>\n",
       "      <td>0.326630</td>\n",
       "      <td>0.999975</td>\n",
       "      <td>0.999440</td>\n",
       "      <td>0.000560</td>\n",
       "      <td>0.000025</td>\n",
       "    </tr>\n",
       "    <tr>\n",
       "      <th>4</th>\n",
       "      <td>0.008405</td>\n",
       "      <td>0.195194</td>\n",
       "      <td>0.999975</td>\n",
       "      <td>0.326630</td>\n",
       "      <td>0.999975</td>\n",
       "      <td>0.999437</td>\n",
       "      <td>0.000563</td>\n",
       "      <td>0.000025</td>\n",
       "    </tr>\n",
       "    <tr>\n",
       "      <th>...</th>\n",
       "      <td>...</td>\n",
       "      <td>...</td>\n",
       "      <td>...</td>\n",
       "      <td>...</td>\n",
       "      <td>...</td>\n",
       "      <td>...</td>\n",
       "      <td>...</td>\n",
       "      <td>...</td>\n",
       "    </tr>\n",
       "    <tr>\n",
       "      <th>172283</th>\n",
       "      <td>0.667680</td>\n",
       "      <td>0.888889</td>\n",
       "      <td>0.000198</td>\n",
       "      <td>0.000395</td>\n",
       "      <td>0.000198</td>\n",
       "      <td>0.000006</td>\n",
       "      <td>0.999994</td>\n",
       "      <td>0.999802</td>\n",
       "    </tr>\n",
       "    <tr>\n",
       "      <th>172284</th>\n",
       "      <td>0.670937</td>\n",
       "      <td>0.941176</td>\n",
       "      <td>0.000198</td>\n",
       "      <td>0.000395</td>\n",
       "      <td>0.000198</td>\n",
       "      <td>0.000003</td>\n",
       "      <td>0.999997</td>\n",
       "      <td>0.999802</td>\n",
       "    </tr>\n",
       "    <tr>\n",
       "      <th>172285</th>\n",
       "      <td>0.671903</td>\n",
       "      <td>0.937500</td>\n",
       "      <td>0.000185</td>\n",
       "      <td>0.000371</td>\n",
       "      <td>0.000185</td>\n",
       "      <td>0.000003</td>\n",
       "      <td>0.999997</td>\n",
       "      <td>0.999815</td>\n",
       "    </tr>\n",
       "    <tr>\n",
       "      <th>172286</th>\n",
       "      <td>0.674224</td>\n",
       "      <td>1.000000</td>\n",
       "      <td>0.000185</td>\n",
       "      <td>0.000371</td>\n",
       "      <td>0.000185</td>\n",
       "      <td>0.000000</td>\n",
       "      <td>1.000000</td>\n",
       "      <td>0.999815</td>\n",
       "    </tr>\n",
       "    <tr>\n",
       "      <th>172287</th>\n",
       "      <td>0.913421</td>\n",
       "      <td>1.000000</td>\n",
       "      <td>0.000012</td>\n",
       "      <td>0.000025</td>\n",
       "      <td>0.000012</td>\n",
       "      <td>0.000000</td>\n",
       "      <td>1.000000</td>\n",
       "      <td>0.999988</td>\n",
       "    </tr>\n",
       "  </tbody>\n",
       "</table>\n",
       "<p>172288 rows × 8 columns</p>\n",
       "</div>"
      ],
      "text/plain": [
       "        threshold  precision    recall  f1_score       tpr       fpr  \\\n",
       "0        0.007078   0.195157  1.000000  0.326579  1.000000  0.999700   \n",
       "1        0.007100   0.195155  0.999988  0.326576  0.999988  0.999700   \n",
       "2        0.008389   0.195196  0.999988  0.326633  0.999988  0.999440   \n",
       "3        0.008395   0.195194  0.999975  0.326630  0.999975  0.999440   \n",
       "4        0.008405   0.195194  0.999975  0.326630  0.999975  0.999437   \n",
       "...           ...        ...       ...       ...       ...       ...   \n",
       "172283   0.667680   0.888889  0.000198  0.000395  0.000198  0.000006   \n",
       "172284   0.670937   0.941176  0.000198  0.000395  0.000198  0.000003   \n",
       "172285   0.671903   0.937500  0.000185  0.000371  0.000185  0.000003   \n",
       "172286   0.674224   1.000000  0.000185  0.000371  0.000185  0.000000   \n",
       "172287   0.913421   1.000000  0.000012  0.000025  0.000012  0.000000   \n",
       "\n",
       "             tnr       fnr  \n",
       "0       0.000300  0.000000  \n",
       "1       0.000300  0.000012  \n",
       "2       0.000560  0.000012  \n",
       "3       0.000560  0.000025  \n",
       "4       0.000563  0.000025  \n",
       "...          ...       ...  \n",
       "172283  0.999994  0.999802  \n",
       "172284  0.999997  0.999802  \n",
       "172285  0.999997  0.999815  \n",
       "172286  1.000000  0.999815  \n",
       "172287  1.000000  0.999988  \n",
       "\n",
       "[172288 rows x 8 columns]"
      ]
     },
     "execution_count": 58,
     "metadata": {},
     "output_type": "execute_result"
    }
   ],
   "source": [
    "metrics_report = get_metrics_report(fpr, tpr, thresholds, precision, recall, thresholds_2)\n",
    "metrics_report"
   ]
  },
  {
   "cell_type": "code",
   "execution_count": 71,
   "metadata": {},
   "outputs": [
    {
     "data": {
      "image/png": "[encoded data removed]",
      "text/plain": [
       "<Figure size 432x288 with 1 Axes>"
      ]
     },
     "metadata": {
      "needs_background": "light"
     },
     "output_type": "display_data"
    }
   ],
   "source": [
    "plt.plot(metrics_report.threshold, metrics_report.precision, label=\"Precision\")\n",
    "plt.plot(metrics_report.threshold, metrics_report.recall, label=\"Recall\")\n",
    "plt.plot(metrics_report.threshold, metrics_report.tnr, label=\"True negative rate\")\n",
    "plt.axvline(x=k, color=\"red\", linestyle=\"--\", label=\"k\")\n",
    "plt.legend(loc=\"best\")\n",
    "plt.show();"
   ]
  },
  {
   "cell_type": "markdown",
   "metadata": {},
   "source": [
    "¿Qué métrica escogemos?\n",
    "\n",
    "TP = El modelo dice que es llamada falsa,    y sí es llamada falsa.\n",
    "\n",
    "TN = El modelo dice que es llamada no falsa, y no es llamada falsa**.\n",
    "\n",
    "FP = El modelo dice que es llamada falsa,    y no es llamada falsa.\n",
    "\n",
    "FN = El modelo dice que es llamada no falsa, y sí es llamada falsa.\n",
    "\n",
    "Decidimos **TNR** dado que nos interesa ayudar a verificar que una llamada que el modelo dice que no es falsa, realmente no es falsa, ya que probablemente se necesite enviar una ambulancia.\n",
    "\n",
    "De acuerdo a las métricas del negocio, les interesa tener un TNR mayor al 80%. Es decir, de 10 llamadas que el modelo dice que son llamadas legítimas, por lo menos 8 deben ser realmente legítimas."
   ]
  },
  {
   "cell_type": "code",
   "execution_count": 74,
   "metadata": {},
   "outputs": [
    {
     "data": {
      "text/html": [
       "<div>\n",
       "<style scoped>\n",
       "    .dataframe tbody tr th:only-of-type {\n",
       "        vertical-align: middle;\n",
       "    }\n",
       "\n",
       "    .dataframe tbody tr th {\n",
       "        vertical-align: top;\n",
       "    }\n",
       "\n",
       "    .dataframe thead th {\n",
       "        text-align: right;\n",
       "    }\n",
       "</style>\n",
       "<table border=\"1\" class=\"dataframe\">\n",
       "  <thead>\n",
       "    <tr style=\"text-align: right;\">\n",
       "      <th></th>\n",
       "      <th>threshold</th>\n",
       "      <th>precision</th>\n",
       "      <th>recall</th>\n",
       "      <th>f1_score</th>\n",
       "      <th>tpr</th>\n",
       "      <th>fpr</th>\n",
       "      <th>tnr</th>\n",
       "      <th>fnr</th>\n",
       "    </tr>\n",
       "  </thead>\n",
       "  <tbody>\n",
       "    <tr>\n",
       "      <th>123604</th>\n",
       "      <td>0.299931</td>\n",
       "      <td>0.312883</td>\n",
       "      <td>0.375693</td>\n",
       "      <td>0.341424</td>\n",
       "      <td>0.375693</td>\n",
       "      <td>0.199997</td>\n",
       "      <td>0.800003</td>\n",
       "      <td>0.624307</td>\n",
       "    </tr>\n",
       "    <tr>\n",
       "      <th>123605</th>\n",
       "      <td>0.299932</td>\n",
       "      <td>0.312869</td>\n",
       "      <td>0.375669</td>\n",
       "      <td>0.341405</td>\n",
       "      <td>0.375669</td>\n",
       "      <td>0.199997</td>\n",
       "      <td>0.800003</td>\n",
       "      <td>0.624331</td>\n",
       "    </tr>\n",
       "    <tr>\n",
       "      <th>123606</th>\n",
       "      <td>0.299933</td>\n",
       "      <td>0.312876</td>\n",
       "      <td>0.375669</td>\n",
       "      <td>0.341409</td>\n",
       "      <td>0.375669</td>\n",
       "      <td>0.199991</td>\n",
       "      <td>0.800009</td>\n",
       "      <td>0.624331</td>\n",
       "    </tr>\n",
       "    <tr>\n",
       "      <th>123607</th>\n",
       "      <td>0.299933</td>\n",
       "      <td>0.312869</td>\n",
       "      <td>0.375656</td>\n",
       "      <td>0.341400</td>\n",
       "      <td>0.375656</td>\n",
       "      <td>0.199991</td>\n",
       "      <td>0.800009</td>\n",
       "      <td>0.624344</td>\n",
       "    </tr>\n",
       "    <tr>\n",
       "      <th>123608</th>\n",
       "      <td>0.299934</td>\n",
       "      <td>0.312872</td>\n",
       "      <td>0.375656</td>\n",
       "      <td>0.341402</td>\n",
       "      <td>0.375656</td>\n",
       "      <td>0.199988</td>\n",
       "      <td>0.800012</td>\n",
       "      <td>0.624344</td>\n",
       "    </tr>\n",
       "    <tr>\n",
       "      <th>...</th>\n",
       "      <td>...</td>\n",
       "      <td>...</td>\n",
       "      <td>...</td>\n",
       "      <td>...</td>\n",
       "      <td>...</td>\n",
       "      <td>...</td>\n",
       "      <td>...</td>\n",
       "      <td>...</td>\n",
       "    </tr>\n",
       "    <tr>\n",
       "      <th>172283</th>\n",
       "      <td>0.667680</td>\n",
       "      <td>0.888889</td>\n",
       "      <td>0.000198</td>\n",
       "      <td>0.000395</td>\n",
       "      <td>0.000198</td>\n",
       "      <td>0.000006</td>\n",
       "      <td>0.999994</td>\n",
       "      <td>0.999802</td>\n",
       "    </tr>\n",
       "    <tr>\n",
       "      <th>172284</th>\n",
       "      <td>0.670937</td>\n",
       "      <td>0.941176</td>\n",
       "      <td>0.000198</td>\n",
       "      <td>0.000395</td>\n",
       "      <td>0.000198</td>\n",
       "      <td>0.000003</td>\n",
       "      <td>0.999997</td>\n",
       "      <td>0.999802</td>\n",
       "    </tr>\n",
       "    <tr>\n",
       "      <th>172285</th>\n",
       "      <td>0.671903</td>\n",
       "      <td>0.937500</td>\n",
       "      <td>0.000185</td>\n",
       "      <td>0.000371</td>\n",
       "      <td>0.000185</td>\n",
       "      <td>0.000003</td>\n",
       "      <td>0.999997</td>\n",
       "      <td>0.999815</td>\n",
       "    </tr>\n",
       "    <tr>\n",
       "      <th>172286</th>\n",
       "      <td>0.674224</td>\n",
       "      <td>1.000000</td>\n",
       "      <td>0.000185</td>\n",
       "      <td>0.000371</td>\n",
       "      <td>0.000185</td>\n",
       "      <td>0.000000</td>\n",
       "      <td>1.000000</td>\n",
       "      <td>0.999815</td>\n",
       "    </tr>\n",
       "    <tr>\n",
       "      <th>172287</th>\n",
       "      <td>0.913421</td>\n",
       "      <td>1.000000</td>\n",
       "      <td>0.000012</td>\n",
       "      <td>0.000025</td>\n",
       "      <td>0.000012</td>\n",
       "      <td>0.000000</td>\n",
       "      <td>1.000000</td>\n",
       "      <td>0.999988</td>\n",
       "    </tr>\n",
       "  </tbody>\n",
       "</table>\n",
       "<p>48684 rows × 8 columns</p>\n",
       "</div>"
      ],
      "text/plain": [
       "        threshold  precision    recall  f1_score       tpr       fpr  \\\n",
       "123604   0.299931   0.312883  0.375693  0.341424  0.375693  0.199997   \n",
       "123605   0.299932   0.312869  0.375669  0.341405  0.375669  0.199997   \n",
       "123606   0.299933   0.312876  0.375669  0.341409  0.375669  0.199991   \n",
       "123607   0.299933   0.312869  0.375656  0.341400  0.375656  0.199991   \n",
       "123608   0.299934   0.312872  0.375656  0.341402  0.375656  0.199988   \n",
       "...           ...        ...       ...       ...       ...       ...   \n",
       "172283   0.667680   0.888889  0.000198  0.000395  0.000198  0.000006   \n",
       "172284   0.670937   0.941176  0.000198  0.000395  0.000198  0.000003   \n",
       "172285   0.671903   0.937500  0.000185  0.000371  0.000185  0.000003   \n",
       "172286   0.674224   1.000000  0.000185  0.000371  0.000185  0.000000   \n",
       "172287   0.913421   1.000000  0.000012  0.000025  0.000012  0.000000   \n",
       "\n",
       "             tnr       fnr  \n",
       "123604  0.800003  0.624307  \n",
       "123605  0.800003  0.624331  \n",
       "123606  0.800009  0.624331  \n",
       "123607  0.800009  0.624344  \n",
       "123608  0.800012  0.624344  \n",
       "...          ...       ...  \n",
       "172283  0.999994  0.999802  \n",
       "172284  0.999997  0.999802  \n",
       "172285  0.999997  0.999815  \n",
       "172286  1.000000  0.999815  \n",
       "172287  1.000000  0.999988  \n",
       "\n",
       "[48684 rows x 8 columns]"
      ]
     },
     "execution_count": 74,
     "metadata": {},
     "output_type": "execute_result"
    }
   ],
   "source": [
    "negocio = metrics_report[metrics_report.tnr >= 0.8]\n",
    "negocio"
   ]
  },
  {
   "cell_type": "markdown",
   "metadata": {},
   "source": [
    "Matriz asociada a este punto de corte"
   ]
  },
  {
   "cell_type": "code",
   "execution_count": 76,
   "metadata": {},
   "outputs": [],
   "source": [
    "punto_corte = negocio.head(1).threshold.values[0]\n",
    "punto_corte = .32"
   ]
  },
  {
   "cell_type": "code",
   "execution_count": 77,
   "metadata": {},
   "outputs": [],
   "source": [
    "new_labels = [0 if score < punto_corte else 1 for score in predicted_probs.probability_1]"
   ]
  },
  {
   "cell_type": "code",
   "execution_count": 78,
   "metadata": {},
   "outputs": [
    {
     "data": {
      "text/plain": [
       "64026"
      ]
     },
     "execution_count": 78,
     "metadata": {},
     "output_type": "execute_result"
    }
   ],
   "source": [
    "pd.Series(new_labels).sum()"
   ]
  },
  {
   "cell_type": "markdown",
   "metadata": {},
   "source": [
    "En la siguiente matriz de confusión podemos ver que con el nuevo punto de corte generamos más Falsos Positivos.\n",
    "\n",
    "Columnas = Predicción\n",
    "\n",
    "Renglones = Groundtruth"
   ]
  },
  {
   "cell_type": "code",
   "execution_count": 79,
   "metadata": {},
   "outputs": [
    {
     "data": {
      "text/plain": [
       "967884"
      ]
     },
     "execution_count": 79,
     "metadata": {},
     "output_type": "execute_result"
    }
   ],
   "source": [
    "len(y_train)"
   ]
  },
  {
   "cell_type": "code",
   "execution_count": 80,
   "metadata": {},
   "outputs": [
    {
     "data": {
      "text/html": [
       "<div>\n",
       "<style scoped>\n",
       "    .dataframe tbody tr th:only-of-type {\n",
       "        vertical-align: middle;\n",
       "    }\n",
       "\n",
       "    .dataframe tbody tr th {\n",
       "        vertical-align: top;\n",
       "    }\n",
       "\n",
       "    .dataframe thead th {\n",
       "        text-align: right;\n",
       "    }\n",
       "</style>\n",
       "<table border=\"1\" class=\"dataframe\">\n",
       "  <thead>\n",
       "    <tr style=\"text-align: right;\">\n",
       "      <th></th>\n",
       "      <th>0</th>\n",
       "      <th>1</th>\n",
       "    </tr>\n",
       "  </thead>\n",
       "  <tbody>\n",
       "    <tr>\n",
       "      <th>0</th>\n",
       "      <td>290317</td>\n",
       "      <td>43558</td>\n",
       "    </tr>\n",
       "    <tr>\n",
       "      <th>1</th>\n",
       "      <td>60465</td>\n",
       "      <td>20468</td>\n",
       "    </tr>\n",
       "  </tbody>\n",
       "</table>\n",
       "</div>"
      ],
      "text/plain": [
       "        0      1\n",
       "0  290317  43558\n",
       "1   60465  20468"
      ]
     },
     "execution_count": 80,
     "metadata": {},
     "output_type": "execute_result"
    }
   ],
   "source": [
    "pd.DataFrame(confusion_matrix(y_test, new_labels))"
   ]
  },
  {
   "cell_type": "markdown",
   "metadata": {},
   "source": [
    "Matriz de confusión original:"
   ]
  },
  {
   "cell_type": "code",
   "execution_count": 81,
   "metadata": {},
   "outputs": [
    {
     "data": {
      "text/html": [
       "<div>\n",
       "<style scoped>\n",
       "    .dataframe tbody tr th:only-of-type {\n",
       "        vertical-align: middle;\n",
       "    }\n",
       "\n",
       "    .dataframe tbody tr th {\n",
       "        vertical-align: top;\n",
       "    }\n",
       "\n",
       "    .dataframe thead th {\n",
       "        text-align: right;\n",
       "    }\n",
       "</style>\n",
       "<table border=\"1\" class=\"dataframe\">\n",
       "  <thead>\n",
       "    <tr style=\"text-align: right;\">\n",
       "      <th></th>\n",
       "      <th>0</th>\n",
       "      <th>1</th>\n",
       "    </tr>\n",
       "  </thead>\n",
       "  <tbody>\n",
       "    <tr>\n",
       "      <th>0</th>\n",
       "      <td>333679</td>\n",
       "      <td>196</td>\n",
       "    </tr>\n",
       "    <tr>\n",
       "      <th>1</th>\n",
       "      <td>80746</td>\n",
       "      <td>187</td>\n",
       "    </tr>\n",
       "  </tbody>\n",
       "</table>\n",
       "</div>"
      ],
      "text/plain": [
       "        0    1\n",
       "0  333679  196\n",
       "1   80746  187"
      ]
     },
     "execution_count": 81,
     "metadata": {},
     "output_type": "execute_result"
    }
   ],
   "source": [
    "pd.DataFrame(confusion_matrix(y_test, predicted_labels))"
   ]
  },
  {
   "cell_type": "code",
   "execution_count": null,
   "metadata": {},
   "outputs": [],
   "source": []
  }
 ],
 "metadata": {
  "kernelspec": {
   "display_name": "itam_intro_to_ds",
   "language": "python",
   "name": "itam_intro_to_ds"
  },
  "language_info": {
   "codemirror_mode": {
    "name": "ipython",
    "version": 3
   },
   "file_extension": ".py",
   "mimetype": "text/x-python",
   "name": "python",
   "nbconvert_exporter": "python",
   "pygments_lexer": "ipython3",
   "version": "3.7.4"
  }
 },
 "nbformat": 4,
 "nbformat_minor": 4
}
