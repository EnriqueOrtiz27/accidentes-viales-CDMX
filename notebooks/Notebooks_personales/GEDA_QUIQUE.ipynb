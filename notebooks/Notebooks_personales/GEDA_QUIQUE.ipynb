{
 "cells": [
  {
   "cell_type": "markdown",
   "metadata": {
    "ExecuteTime": {
     "end_time": "2020-11-17T13:56:14.724370Z",
     "start_time": "2020-11-17T13:56:12.485599Z"
    }
   },
   "source": [
    "# Pipeline de transformación y exploración gráfica de los datos.\n",
    "\n",
    "El propósito de este notebook es crear un conjunto de funciones que nos ayuden a preparar y transformar los datos para el resto de las operaciones. También se muestran aquí las gráficas del slide deck del EDA. \n",
    "\n",
    "\n",
    "Nota: Las gráficas incluyen cifras a partir de 2014 porque solo había 25 registros de 2013 y consideramos que era mejor mostrar promedios en la octava gráfica en los Facet Grids."
   ]
  },
  {
   "cell_type": "code",
   "execution_count": 1,
   "metadata": {
    "ExecuteTime": {
     "end_time": "2020-11-21T18:01:48.728166Z",
     "start_time": "2020-11-21T18:01:45.804783Z"
    }
   },
   "outputs": [],
   "source": [
    "#%load_ext pycodestyle_magic\n",
    "#%pycodestyle_on\n",
    "\n",
    "import pandas as pd\n",
    "import numpy as np\n",
    "import matplotlib.pyplot as plt\n",
    "import seaborn as sns\n",
    "import re\n",
    "import datetime\n",
    "import numpy as np\n",
    "from matplotlib.ticker import FuncFormatter\n",
    "import matplotlib.ticker as mtick"
   ]
  },
  {
   "cell_type": "code",
   "execution_count": 2,
   "metadata": {
    "ExecuteTime": {
     "end_time": "2020-11-21T18:01:48.742765Z",
     "start_time": "2020-11-21T18:01:48.732295Z"
    }
   },
   "outputs": [],
   "source": [
    "#define categorical, numerical and date columns\n",
    "CAT_COLS = [\"dia_semana\", \"codigo_cierre\", \"año_cierre\", \"mes_cierre\", \"mes\", \"delegacion_inicio\", \n",
    "            \"incidente_c4\", \"clas_con_f_alarma\", \"tipo_entrada\", \"delegacion_cierre\", \"hora_creacion\",\n",
    "           \"hora_cierre\"]\n",
    "\n",
    "DATE_COLS = [\"fecha_creacion\", \"fecha_cierre\"]\n",
    "\n",
    "NUM_COLS = [\"latitud\", \"longitud\"]"
   ]
  },
  {
   "cell_type": "code",
   "execution_count": 3,
   "metadata": {
    "ExecuteTime": {
     "end_time": "2020-11-21T18:01:48.802216Z",
     "start_time": "2020-11-21T18:01:48.749878Z"
    }
   },
   "outputs": [],
   "source": [
    "#esto irá en el script ingestion .py\n",
    "def ingest_file(file_name):\n",
    "    \"\"\"\n",
    "    Function to retrieve and return the accidents dataset.\n",
    "    Parameters:\n",
    "    -----------\n",
    "    file_name: str\n",
    "               Path to the file.\n",
    "    Returns:\n",
    "    --------\n",
    "    df: pandas dataframe\n",
    "    \"\"\"\n",
    "    df = pd.read_csv(file_name)\n",
    "    return df\n",
    "\n",
    "\n",
    "def drop_cols(df):\n",
    "    \"\"\"\n",
    "    Function to drop unnnecesary columns in the dataset.\n",
    "    \"\"\"\n",
    "    df.drop(columns = ['folio', 'geopoint', 'mes', 'mes_cierre', 'hora_cierre', 'año_cierre'], inplace = True)\n",
    "    return df\n",
    "\n",
    "\n",
    "\n",
    "def fill_na(df):\n",
    "    \"\"\"\n",
    "    Function to fill null values in a dataframe.\n",
    "    \"\"\"\n",
    "    #aquí podemos ir agregando más cosas cuando descubramos \n",
    "    #cómo imputar valores faltantes para latitud y longitud\n",
    "    df.fillna({\n",
    "        'delegacion_inicio': 'No Disponible',\n",
    "        'delegacion_cierre': 'No Disponible'\n",
    "              }, inplace = True)\n",
    "    return df\n",
    "\n",
    "\n",
    "def categoric_transformation(col,df):\n",
    "    df[col] = df[col].astype(\"category\")\n",
    "    return df \n",
    "\n",
    "def create_categorical(cols, df):\n",
    "    \"\"\"\n",
    "    Function to transform and prepare the categorical features in the dataset.\n",
    "    \"\"\"\n",
    "    #transform to appropriate data type\n",
    "    for col in cols: \n",
    "        df = categoric_transformation(col, df)\n",
    "     \n",
    "    return df\n",
    "\n",
    "\n",
    "def date_transformation(col,df):\n",
    "    \"\"\"\n",
    "    Function to prepare and transform date-type columns. \n",
    "    \"\"\"\n",
    "    df[col] = pd.to_datetime(df[col])\n",
    "    return df\n",
    "\n",
    "def create_date_cols(cols, df):\n",
    "    for col in cols:\n",
    "        df = date_transformation(col, df)\n",
    "    return df \n",
    "\n",
    "\n",
    "\n",
    "def generate_label(df):\n",
    "    \"\"\"\n",
    "    Function to create a new column indicating whether there was\n",
    "    a false alarm or not. \n",
    "    Parameters:\n",
    "    -----------\n",
    "    df: pandas dataframe\n",
    "    \n",
    "    Returns:\n",
    "    --------\n",
    "    df: pandas dataframe\n",
    "    \"\"\"\n",
    "    #transformamos la columna para solo quedarnos con la letra del código\n",
    "    df[\"codigo_cierre\"] = df[\"codigo_cierre\"].apply(lambda x: x[1])\n",
    "    df['label'] = np.where(\n",
    "        (df.codigo_cierre == 'F') | (df.codigo_cierre == 'N'), 1, 0)\n",
    "    return df \n",
    "\n",
    "\n",
    "def clean_hora_creacion(df):\n",
    "    \"\"\"\n",
    "    Function to transform hours with incorrect format to timedelta format. \n",
    "    \"\"\"\n",
    "    horas_raw = df.hora_creacion.values.tolist()\n",
    "    horas_clean = [datetime.timedelta(days=float(e)) if e.startswith(\"0.\") else e for e in horas_raw]\n",
    "    df[\"hora_creacion\"] = horas_clean\n",
    "    return df \n",
    "\n",
    "\n",
    "def create_simple_hour(df):\n",
    "    \"\"\"\n",
    "    Function to extract the hour from the column \"hora_creacion\"\n",
    "    Parameters:\n",
    "    -----------\n",
    "    df: pandas dataframe\n",
    "    \n",
    "    Returns:\n",
    "    ---------\n",
    "    df: pandas dataframe with a new column indicating the hour. \n",
    "    \"\"\"\n",
    "    #la función se podria adaptar para devolver minuto o segundo pero no lo considero necesario\n",
    "    pattern = '\\d+' #encuentra uno o más dígitos\n",
    "    horas_raw = df.hora_creacion.astype(str).values #son así: '22:35:04', '22:50:49', '09:40:11'\n",
    "    n = len(horas_raw)\n",
    "    horas_clean = [0]*n #es más rápido reasignar valores que hacer .append()\n",
    "    for i in range(n):\n",
    "        hora_raw = horas_raw[i]\n",
    "        hora_clean = re.match(pattern, hora_raw)[0] #solo queremos la hora, esto devuelve un objeto\n",
    "        horas_clean[i] = hora_clean\n",
    "    \n",
    "    df[\"hora_simple\"] = horas_clean\n",
    "    return df \n",
    "\n",
    "\n",
    "def add_date_columns(df):\n",
    "    \"\"\"\n",
    "    Esta función es muy importante puesto que nos ayudará a crear el mes, día y año de creación\n",
    "    del registro. De esta manera podemos prescindir de las fechas de cierre, que no tendríamos en tiempo\n",
    "    real en un modelo. \n",
    "    Parameters:\n",
    "    -----------\n",
    "    df: pandas dataframe\n",
    "    \n",
    "    Returns:\n",
    "    ---------\n",
    "    df: pandas dataframe with 4 new columns\n",
    "    \"\"\"\n",
    "    mapping_meses = {1: \"Enero\", 2: \"Febrero\", 3: \"Marzo\", 4: \"Abril\", 5: \"Mayo\",\n",
    "                       6: \"Junio\", 7: \"Julio\", 8: \"Agosto\", 9: \"Septiembre\", 10: \"Octubre\",\n",
    "                       11: \"Noviembre\", 12: \"Diciembre\"}\n",
    "    \n",
    "    \n",
    "    df[\"año_creacion\"] = df.fecha_creacion.dt.year\n",
    "    df[\"mes_creacion\"] = df.fecha_creacion.dt.month\n",
    "    df[\"dia_creacion\"] = df.fecha_creacion.dt.day\n",
    "    df[\"mes_creacion_str\"] = df.mes_creacion.map(mapping_meses)\n",
    "    df[\"año_creacion\"] = df[\"año_creacion\"].astype(str)\n",
    "    return df \n",
    "\n",
    "\n",
    "def create_time_blocks(df):\n",
    "    \"\"\"\n",
    "    Function to group the hour of the day into 3-hour blocks.\n",
    "    Parameters:\n",
    "    -----------\n",
    "    df: pandas dataframe\n",
    "    \n",
    "    Returns:\n",
    "    ---------\n",
    "    df: pandas dataframe with a new column indicating the time-block.\n",
    "    \"\"\"\n",
    "    horas_int = set(df.hora_simple.astype(int).values) #estaba como categórico\n",
    "    f = lambda x: 12 if x == 0 else x\n",
    "    mapping_hours = {}\n",
    "    for hora in horas_int:\n",
    "        grupo = (hora // 3) * 3\n",
    "        if grupo < 12: \n",
    "            nombre_grupo = str(f(grupo)) + \"-\" + str(grupo + 2) + \" a.m.\"\n",
    "        else:\n",
    "            hora_tarde = grupo % 12\n",
    "            nombre_grupo = str(f(hora_tarde)) + \"-\" + str(hora_tarde + 2) + \" p.m.\"\n",
    "        mapping_hours[hora] = nombre_grupo\n",
    "    \n",
    "    df[\"espacio_del_dia\"] = df[\"hora_simple\"].astype(int).map(mapping_hours)\n",
    "    return df\n",
    "    \n",
    "\n",
    "    \n",
    "\n",
    "    \n",
    "def basic_preprocessing(path):\n",
    "    \"\"\"\n",
    "    Function to summarize all the preprocessing done to the data.\n",
    "    Parameters:\n",
    "    -----------\n",
    "    path: str\n",
    "          Path to your file\n",
    "    \n",
    "    Returns:\n",
    "    ---------\n",
    "    df: pandas dataframe\n",
    "    \"\"\"\n",
    "    df = ingest_file(path) \n",
    "    df = generate_label(df)\n",
    "    df = fill_na(df) \n",
    "    df = clean_hora_creacion(df)\n",
    "    df = create_categorical(CAT_COLS, df) #transform to appropriate data types\n",
    "    df = create_date_cols(DATE_COLS, df)\n",
    "    df = add_date_columns(df)\n",
    "    df = create_simple_hour(df)\n",
    "    df = create_time_blocks(df)\n",
    "    df = drop_cols(df)\n",
    "    \n",
    "    return df\n"
   ]
  },
  {
   "cell_type": "code",
   "execution_count": 4,
   "metadata": {
    "ExecuteTime": {
     "end_time": "2020-11-21T18:02:12.958608Z",
     "start_time": "2020-11-21T18:01:48.807379Z"
    }
   },
   "outputs": [],
   "source": [
    "data = basic_preprocessing('incidentes-viales-c5.csv')"
   ]
  },
  {
   "cell_type": "code",
   "execution_count": 5,
   "metadata": {
    "ExecuteTime": {
     "end_time": "2020-11-21T18:02:13.091675Z",
     "start_time": "2020-11-21T18:02:12.963412Z"
    }
   },
   "outputs": [
    {
     "data": {
      "text/html": [
       "<div>\n",
       "<style scoped>\n",
       "    .dataframe tbody tr th:only-of-type {\n",
       "        vertical-align: middle;\n",
       "    }\n",
       "\n",
       "    .dataframe tbody tr th {\n",
       "        vertical-align: top;\n",
       "    }\n",
       "\n",
       "    .dataframe thead th {\n",
       "        text-align: right;\n",
       "    }\n",
       "</style>\n",
       "<table border=\"1\" class=\"dataframe\">\n",
       "  <thead>\n",
       "    <tr style=\"text-align: right;\">\n",
       "      <th></th>\n",
       "      <th>fecha_creacion</th>\n",
       "      <th>hora_creacion</th>\n",
       "      <th>dia_semana</th>\n",
       "      <th>codigo_cierre</th>\n",
       "      <th>fecha_cierre</th>\n",
       "      <th>delegacion_inicio</th>\n",
       "      <th>incidente_c4</th>\n",
       "      <th>latitud</th>\n",
       "      <th>longitud</th>\n",
       "      <th>clas_con_f_alarma</th>\n",
       "      <th>tipo_entrada</th>\n",
       "      <th>delegacion_cierre</th>\n",
       "      <th>label</th>\n",
       "      <th>año_creacion</th>\n",
       "      <th>mes_creacion</th>\n",
       "      <th>dia_creacion</th>\n",
       "      <th>mes_creacion_str</th>\n",
       "      <th>hora_simple</th>\n",
       "      <th>espacio_del_dia</th>\n",
       "    </tr>\n",
       "  </thead>\n",
       "  <tbody>\n",
       "    <tr>\n",
       "      <th>0</th>\n",
       "      <td>2016-01-23</td>\n",
       "      <td>22:35:04</td>\n",
       "      <td>Sábado</td>\n",
       "      <td>A</td>\n",
       "      <td>2016-01-24</td>\n",
       "      <td>VENUSTIANO CARRANZA</td>\n",
       "      <td>accidente-choque sin lesionados</td>\n",
       "      <td>19.422113</td>\n",
       "      <td>-99.084643</td>\n",
       "      <td>EMERGENCIA</td>\n",
       "      <td>BOTÓN DE AUXILIO</td>\n",
       "      <td>VENUSTIANO CARRANZA</td>\n",
       "      <td>0</td>\n",
       "      <td>2016</td>\n",
       "      <td>1</td>\n",
       "      <td>23</td>\n",
       "      <td>Enero</td>\n",
       "      <td>22</td>\n",
       "      <td>9-11 p.m.</td>\n",
       "    </tr>\n",
       "    <tr>\n",
       "      <th>1</th>\n",
       "      <td>2016-01-23</td>\n",
       "      <td>22:50:49</td>\n",
       "      <td>Sábado</td>\n",
       "      <td>A</td>\n",
       "      <td>2016-01-24</td>\n",
       "      <td>CUAJIMALPA</td>\n",
       "      <td>accidente-choque con lesionados</td>\n",
       "      <td>19.358320</td>\n",
       "      <td>-99.297641</td>\n",
       "      <td>URGENCIAS MEDICAS</td>\n",
       "      <td>BOTÓN DE AUXILIO</td>\n",
       "      <td>CUAJIMALPA</td>\n",
       "      <td>0</td>\n",
       "      <td>2016</td>\n",
       "      <td>1</td>\n",
       "      <td>23</td>\n",
       "      <td>Enero</td>\n",
       "      <td>22</td>\n",
       "      <td>9-11 p.m.</td>\n",
       "    </tr>\n",
       "    <tr>\n",
       "      <th>2</th>\n",
       "      <td>2016-01-24</td>\n",
       "      <td>09:40:11</td>\n",
       "      <td>Domingo</td>\n",
       "      <td>N</td>\n",
       "      <td>2016-01-24</td>\n",
       "      <td>TLALPAN</td>\n",
       "      <td>accidente-choque sin lesionados</td>\n",
       "      <td>19.217070</td>\n",
       "      <td>-99.219070</td>\n",
       "      <td>EMERGENCIA</td>\n",
       "      <td>LLAMADA DEL 066</td>\n",
       "      <td>TLALPAN</td>\n",
       "      <td>1</td>\n",
       "      <td>2016</td>\n",
       "      <td>1</td>\n",
       "      <td>24</td>\n",
       "      <td>Enero</td>\n",
       "      <td>09</td>\n",
       "      <td>9-11 a.m.</td>\n",
       "    </tr>\n",
       "    <tr>\n",
       "      <th>3</th>\n",
       "      <td>2016-01-24</td>\n",
       "      <td>22:40:57</td>\n",
       "      <td>Domingo</td>\n",
       "      <td>N</td>\n",
       "      <td>2016-01-24</td>\n",
       "      <td>MAGDALENA CONTRERAS</td>\n",
       "      <td>accidente-choque sin lesionados</td>\n",
       "      <td>19.320580</td>\n",
       "      <td>-99.241010</td>\n",
       "      <td>EMERGENCIA</td>\n",
       "      <td>LLAMADA DEL 066</td>\n",
       "      <td>MAGDALENA CONTRERAS</td>\n",
       "      <td>1</td>\n",
       "      <td>2016</td>\n",
       "      <td>1</td>\n",
       "      <td>24</td>\n",
       "      <td>Enero</td>\n",
       "      <td>22</td>\n",
       "      <td>9-11 p.m.</td>\n",
       "    </tr>\n",
       "    <tr>\n",
       "      <th>4</th>\n",
       "      <td>2016-01-24</td>\n",
       "      <td>04:25:15</td>\n",
       "      <td>Domingo</td>\n",
       "      <td>A</td>\n",
       "      <td>2016-01-24</td>\n",
       "      <td>MIGUEL HIDALGO</td>\n",
       "      <td>accidente-choque sin lesionados</td>\n",
       "      <td>19.452900</td>\n",
       "      <td>-99.215870</td>\n",
       "      <td>EMERGENCIA</td>\n",
       "      <td>LLAMADA DEL 066</td>\n",
       "      <td>MIGUEL HIDALGO</td>\n",
       "      <td>0</td>\n",
       "      <td>2016</td>\n",
       "      <td>1</td>\n",
       "      <td>24</td>\n",
       "      <td>Enero</td>\n",
       "      <td>04</td>\n",
       "      <td>3-5 a.m.</td>\n",
       "    </tr>\n",
       "  </tbody>\n",
       "</table>\n",
       "</div>"
      ],
      "text/plain": [
       "  fecha_creacion hora_creacion dia_semana codigo_cierre fecha_cierre  \\\n",
       "0     2016-01-23      22:35:04     Sábado             A   2016-01-24   \n",
       "1     2016-01-23      22:50:49     Sábado             A   2016-01-24   \n",
       "2     2016-01-24      09:40:11    Domingo             N   2016-01-24   \n",
       "3     2016-01-24      22:40:57    Domingo             N   2016-01-24   \n",
       "4     2016-01-24      04:25:15    Domingo             A   2016-01-24   \n",
       "\n",
       "     delegacion_inicio                     incidente_c4    latitud   longitud  \\\n",
       "0  VENUSTIANO CARRANZA  accidente-choque sin lesionados  19.422113 -99.084643   \n",
       "1           CUAJIMALPA  accidente-choque con lesionados  19.358320 -99.297641   \n",
       "2              TLALPAN  accidente-choque sin lesionados  19.217070 -99.219070   \n",
       "3  MAGDALENA CONTRERAS  accidente-choque sin lesionados  19.320580 -99.241010   \n",
       "4       MIGUEL HIDALGO  accidente-choque sin lesionados  19.452900 -99.215870   \n",
       "\n",
       "   clas_con_f_alarma      tipo_entrada    delegacion_cierre  label  \\\n",
       "0         EMERGENCIA  BOTÓN DE AUXILIO  VENUSTIANO CARRANZA      0   \n",
       "1  URGENCIAS MEDICAS  BOTÓN DE AUXILIO           CUAJIMALPA      0   \n",
       "2         EMERGENCIA   LLAMADA DEL 066              TLALPAN      1   \n",
       "3         EMERGENCIA   LLAMADA DEL 066  MAGDALENA CONTRERAS      1   \n",
       "4         EMERGENCIA   LLAMADA DEL 066       MIGUEL HIDALGO      0   \n",
       "\n",
       "  año_creacion  mes_creacion  dia_creacion mes_creacion_str hora_simple  \\\n",
       "0         2016             1            23            Enero          22   \n",
       "1         2016             1            23            Enero          22   \n",
       "2         2016             1            24            Enero          09   \n",
       "3         2016             1            24            Enero          22   \n",
       "4         2016             1            24            Enero          04   \n",
       "\n",
       "  espacio_del_dia  \n",
       "0       9-11 p.m.  \n",
       "1       9-11 p.m.  \n",
       "2       9-11 a.m.  \n",
       "3       9-11 p.m.  \n",
       "4        3-5 a.m.  "
      ]
     },
     "execution_count": 5,
     "metadata": {},
     "output_type": "execute_result"
    }
   ],
   "source": [
    "data.head()"
   ]
  },
  {
   "cell_type": "code",
   "execution_count": 6,
   "metadata": {
    "ExecuteTime": {
     "end_time": "2020-11-21T18:02:13.635494Z",
     "start_time": "2020-11-21T18:02:13.103438Z"
    }
   },
   "outputs": [],
   "source": [
    "data[\"label_pos\"] = np.where(data.label == 1, 0, 1)\n",
    "data[\"año_creacion\"] = data[\"año_creacion\"].astype('category')\n",
    "data[\"mes_creacion_str\"] = data[\"mes_creacion_str\"].astype('category')"
   ]
  },
  {
   "cell_type": "code",
   "execution_count": 7,
   "metadata": {
    "ExecuteTime": {
     "end_time": "2020-11-21T18:02:13.650535Z",
     "start_time": "2020-11-21T18:02:13.639999Z"
    }
   },
   "outputs": [],
   "source": [
    "colors=[\"#0C264E\", \"#c12929\"] #fancy shit\n",
    "#F4B26A"
   ]
  },
  {
   "cell_type": "markdown",
   "metadata": {},
   "source": [
    "## Proporción de llamadas falsas por delegación de 2014-2020.\n",
    "\n",
    "Es natural preguntarse cuál es la proporción de llamadas falsas o negativas (las que tienen label == 1) para cada delegación en cada año."
   ]
  },
  {
   "cell_type": "code",
   "execution_count": 8,
   "metadata": {
    "ExecuteTime": {
     "end_time": "2020-11-21T18:02:14.156009Z",
     "start_time": "2020-11-21T18:02:13.659564Z"
    }
   },
   "outputs": [
    {
     "data": {
      "text/html": [
       "<div>\n",
       "<style scoped>\n",
       "    .dataframe tbody tr th:only-of-type {\n",
       "        vertical-align: middle;\n",
       "    }\n",
       "\n",
       "    .dataframe tbody tr th {\n",
       "        vertical-align: top;\n",
       "    }\n",
       "\n",
       "    .dataframe thead th {\n",
       "        text-align: right;\n",
       "    }\n",
       "</style>\n",
       "<table border=\"1\" class=\"dataframe\">\n",
       "  <thead>\n",
       "    <tr style=\"text-align: right;\">\n",
       "      <th></th>\n",
       "      <th>delegacion_inicio</th>\n",
       "      <th>año_creacion</th>\n",
       "      <th>label</th>\n",
       "    </tr>\n",
       "  </thead>\n",
       "  <tbody>\n",
       "    <tr>\n",
       "      <th>0</th>\n",
       "      <td>Alvaro Obregon</td>\n",
       "      <td>2013</td>\n",
       "      <td>0.500000</td>\n",
       "    </tr>\n",
       "    <tr>\n",
       "      <th>1</th>\n",
       "      <td>Alvaro Obregon</td>\n",
       "      <td>2014</td>\n",
       "      <td>0.191288</td>\n",
       "    </tr>\n",
       "    <tr>\n",
       "      <th>2</th>\n",
       "      <td>Alvaro Obregon</td>\n",
       "      <td>2015</td>\n",
       "      <td>0.212632</td>\n",
       "    </tr>\n",
       "    <tr>\n",
       "      <th>3</th>\n",
       "      <td>Alvaro Obregon</td>\n",
       "      <td>2016</td>\n",
       "      <td>0.250600</td>\n",
       "    </tr>\n",
       "    <tr>\n",
       "      <th>4</th>\n",
       "      <td>Alvaro Obregon</td>\n",
       "      <td>2017</td>\n",
       "      <td>0.230548</td>\n",
       "    </tr>\n",
       "  </tbody>\n",
       "</table>\n",
       "</div>"
      ],
      "text/plain": [
       "  delegacion_inicio año_creacion     label\n",
       "0    Alvaro Obregon         2013  0.500000\n",
       "1    Alvaro Obregon         2014  0.191288\n",
       "2    Alvaro Obregon         2015  0.212632\n",
       "3    Alvaro Obregon         2016  0.250600\n",
       "4    Alvaro Obregon         2017  0.230548"
      ]
     },
     "execution_count": 8,
     "metadata": {},
     "output_type": "execute_result"
    }
   ],
   "source": [
    "#el promedio de una columna de 0's y 1's es la proporción de 1's en esa columna. \n",
    "prop = data.groupby([\"delegacion_inicio\", \"año_creacion\"], as_index = False)\n",
    "prop = prop.mean()[[\"delegacion_inicio\", \"año_creacion\", \"label\"]]\n",
    "prop = prop[prop.delegacion_inicio != \"No Disponible\"]\n",
    "prop[\"delegacion_inicio\"] = [e.lower().title() for e in prop.delegacion_inicio.values]\n",
    "prop.head()"
   ]
  },
  {
   "cell_type": "code",
   "execution_count": 9,
   "metadata": {
    "ExecuteTime": {
     "end_time": "2020-11-21T18:02:14.179033Z",
     "start_time": "2020-11-21T18:02:14.162027Z"
    }
   },
   "outputs": [],
   "source": [
    "#solo son 7 años y tengo 8 campos\n",
    "#tengo que agregar un campo adicional para llenar el facet grid; agreguemos el promedio\n",
    "promedio = prop.groupby(['delegacion_inicio'], as_index=False).agg({'label': 'mean'})\n",
    "promedio = promedio.sort_values(by=[\"label\"], ascending=False)\n",
    "promedio = promedio.iloc[:5,]"
   ]
  },
  {
   "cell_type": "code",
   "execution_count": 10,
   "metadata": {
    "ExecuteTime": {
     "end_time": "2020-11-21T18:02:14.212885Z",
     "start_time": "2020-11-21T18:02:14.186814Z"
    }
   },
   "outputs": [
    {
     "data": {
      "text/plain": [
       "33              Cuajimalpa\n",
       "73     Magdalena Contreras\n",
       "105                Tlahuac\n",
       "113                Tlalpan\n",
       "57               Iztacalco\n",
       "Name: delegacion_inicio, dtype: object"
      ]
     },
     "execution_count": 10,
     "metadata": {},
     "output_type": "execute_result"
    }
   ],
   "source": [
    "group0 = prop[prop[\"año_creacion\"] == str(2014)].sort_values(by = \"label\", ascending = False).iloc[:5,:]\n",
    "group0.delegacion_inicio"
   ]
  },
  {
   "cell_type": "code",
   "execution_count": 11,
   "metadata": {
    "ExecuteTime": {
     "end_time": "2020-11-21T18:02:15.779319Z",
     "start_time": "2020-11-21T18:02:14.220827Z"
    }
   },
   "outputs": [
    {
     "data": {
      "image/png": "[encoded data removed]",
      "text/plain": [
       "<Figure size 1008x720 with 8 Axes>"
      ]
     },
     "metadata": {
      "needs_background": "light"
     },
     "output_type": "display_data"
    },
    {
     "data": {
      "text/plain": [
       "<Figure size 7200x4800 with 0 Axes>"
      ]
     },
     "metadata": {},
     "output_type": "display_data"
    }
   ],
   "source": [
    "#inicializar gráfica masiva \n",
    "fig, axs = plt.subplots(2,4, figsize = (14,10))\n",
    "plt.subplots_adjust(wspace = .25, hspace = .85, bottom = .20)\n",
    "fig.suptitle('Top 5 Delegaciones con mayor proporción de llamadas falsas o negativas')\n",
    "plt.figure(dpi=1200)\n",
    "\n",
    "#llenar el facet grid \n",
    "for i in range(8):\n",
    "    año = 2014 + i #2014, 2015,..., 2020\n",
    "    row = i // 4  \n",
    "    col = i % 4\n",
    "    #filtramos solo por año \n",
    "    grouping = prop[prop[\"año_creacion\"] == str(año)].sort_values(by = \"label\", ascending = False).iloc[:5,:]\n",
    "    delegaciones = [e.lower().title() for e in grouping.delegacion_inicio.values][:5]\n",
    "\n",
    "    axs[row,col].bar(grouping.delegacion_inicio, grouping.label, align='center', \n",
    "                     alpha=0.6, color=colors[0])\n",
    "    axs[row,col].set_title(f\"{str(año)}\")\n",
    "    axs[row,col].set_ylim([0,.40])\n",
    "    axs[row,col].set_xticks(range(5))\n",
    "    axs[row,col].set_xticklabels(delegaciones, rotation = 90)\n",
    "    axs[row,col].yaxis.set_major_formatter(mtick.PercentFormatter(1))\n",
    "    if i == 0 or i == 4: \n",
    "        axs[row,col].set(ylabel = \"% del total\")\n",
    "    #campo del promedio se llena de formam distinta\n",
    "    if row == 1 and col == 3: \n",
    "        axs[row,col].bar(promedio.delegacion_inicio, promedio.label, align = \"center\", \n",
    "                        alpha=0.6, color=colors[0])\n",
    "        delegaciones = [e for e in promedio.delegacion_inicio.values]\n",
    "        axs[row,col].set_title(\"Promedio 2014-2020\")\n",
    "        axs[row,col].set_ylim([0,.40])\n",
    "        axs[row,col].set_xticks(range(5))\n",
    "        axs[row,col].set_xticklabels(delegaciones, rotation = 90)\n",
    "        axs[row,col].yaxis.set_major_formatter(mtick.PercentFormatter(1))\n",
    "\n",
    "        \n",
    "\n",
    "plt.show();\n",
    "plt.rcParams['axes.facecolor']='white'\n",
    "plt.rcParams['savefig.facecolor']='white'\n",
    "#fig.savefig('top5_deleg.png', edgecolor='none')\n",
    "#TO DO: poner solo las top 5 delegaciones no? "
   ]
  },
  {
   "cell_type": "code",
   "execution_count": 12,
   "metadata": {
    "ExecuteTime": {
     "end_time": "2020-11-21T18:02:15.802922Z",
     "start_time": "2020-11-21T18:02:15.796202Z"
    }
   },
   "outputs": [],
   "source": [
    "#poner en el slide deck "
   ]
  },
  {
   "cell_type": "markdown",
   "metadata": {},
   "source": [
    "Podemos ver que prácticamente son las mismas colonias las que predominan en la lista. "
   ]
  },
  {
   "cell_type": "markdown",
   "metadata": {},
   "source": [
    "# Proporción de llamadas falsas o negativas por año. "
   ]
  },
  {
   "cell_type": "code",
   "execution_count": 13,
   "metadata": {
    "ExecuteTime": {
     "end_time": "2020-11-21T18:02:15.813109Z",
     "start_time": "2020-11-21T18:02:15.806637Z"
    }
   },
   "outputs": [],
   "source": [
    "#Este será el facet grid más sencillo, antes del infierno de código a continuación. "
   ]
  },
  {
   "cell_type": "code",
   "execution_count": 14,
   "metadata": {
    "ExecuteTime": {
     "end_time": "2020-11-21T18:02:15.905117Z",
     "start_time": "2020-11-21T18:02:15.816475Z"
    }
   },
   "outputs": [
    {
     "data": {
      "text/html": [
       "<div>\n",
       "<style scoped>\n",
       "    .dataframe tbody tr th:only-of-type {\n",
       "        vertical-align: middle;\n",
       "    }\n",
       "\n",
       "    .dataframe tbody tr th {\n",
       "        vertical-align: top;\n",
       "    }\n",
       "\n",
       "    .dataframe thead th {\n",
       "        text-align: right;\n",
       "    }\n",
       "</style>\n",
       "<table border=\"1\" class=\"dataframe\">\n",
       "  <thead>\n",
       "    <tr style=\"text-align: right;\">\n",
       "      <th></th>\n",
       "      <th>index</th>\n",
       "      <th>proportions</th>\n",
       "    </tr>\n",
       "  </thead>\n",
       "  <tbody>\n",
       "    <tr>\n",
       "      <th>1</th>\n",
       "      <td>label</td>\n",
       "      <td>0.16</td>\n",
       "    </tr>\n",
       "    <tr>\n",
       "      <th>2</th>\n",
       "      <td>label_pos</td>\n",
       "      <td>0.84</td>\n",
       "    </tr>\n",
       "  </tbody>\n",
       "</table>\n",
       "</div>"
      ],
      "text/plain": [
       "       index proportions\n",
       "1      label        0.16\n",
       "2  label_pos        0.84"
      ]
     },
     "execution_count": 14,
     "metadata": {},
     "output_type": "execute_result"
    }
   ],
   "source": [
    "prop_label = data.groupby([\"año_creacion\"], as_index = False).agg({'label': 'mean', 'label_pos': 'mean'})\n",
    "prop_label[prop_label.año_creacion == '2013'].T.reset_index().iloc[1:,].rename(columns={0: \"proportions\"})"
   ]
  },
  {
   "cell_type": "code",
   "execution_count": 15,
   "metadata": {
    "ExecuteTime": {
     "end_time": "2020-11-21T18:02:15.922429Z",
     "start_time": "2020-11-21T18:02:15.909267Z"
    }
   },
   "outputs": [
    {
     "data": {
      "text/plain": [
       "label        0.197573\n",
       "label_pos    0.802427\n",
       "dtype: float64"
      ]
     },
     "execution_count": 15,
     "metadata": {},
     "output_type": "execute_result"
    }
   ],
   "source": [
    "promedio_label = prop_label[[\"label\", \"label_pos\"]].mean()\n",
    "promedio_label"
   ]
  },
  {
   "cell_type": "code",
   "execution_count": 16,
   "metadata": {
    "ExecuteTime": {
     "end_time": "2020-11-21T18:02:17.255228Z",
     "start_time": "2020-11-21T18:02:15.926292Z"
    }
   },
   "outputs": [
    {
     "data": {
      "image/png": "[encoded data removed]",
      "text/plain": [
       "<Figure size 1008x720 with 8 Axes>"
      ]
     },
     "metadata": {
      "needs_background": "light"
     },
     "output_type": "display_data"
    },
    {
     "data": {
      "text/plain": [
       "<Figure size 7200x4800 with 0 Axes>"
      ]
     },
     "metadata": {},
     "output_type": "display_data"
    }
   ],
   "source": [
    "#inicializar gráfica masiva \n",
    "fig, axs = plt.subplots(2,4, figsize = (14,10))\n",
    "plt.subplots_adjust(wspace = .25, hspace = .25, bottom = .20)\n",
    "plt.figure(dpi=1200)\n",
    "fig.suptitle('Proporción de llamadas falsas o negativas (1) vs. Llamadas válidas (0)')\n",
    "\n",
    "#llenar el facet grid \n",
    "for i in range(7):\n",
    "    año = 2014 + i #2014, 2015,..., 2020\n",
    "    row = i // 4  \n",
    "    col = i % 4\n",
    "    #filtramos solo por año \n",
    "    grouping = prop_label[prop_label[\"año_creacion\"] == str(año)].T.reset_index().iloc[1:,]\n",
    "    #print(grouping)\n",
    "    etiquetas = [\"Label = 1\", \"Label = 0\"]\n",
    "    #OXFORD BLUE, mother fuckers: \"#0C264E\"\n",
    "    axs[row,col].bar(grouping.index, grouping.iloc[:,1], align='center', \n",
    "                     alpha=.8, color=[\"#0C264E\", \"#c12929\"])\n",
    "    axs[row,col].set_title(f\"{str(año)}\")\n",
    "    axs[row,col].set_ylim([0,1])\n",
    "    axs[row,col].set_xticks([1,2])\n",
    "    axs[row,col].set_xticklabels(etiquetas, rotation = 0)\n",
    "    axs[row,col].axhline(.80, linestyle='dotted', color='gray')\n",
    "    axs[row,col].yaxis.set_major_formatter(mtick.PercentFormatter(1))\n",
    "    if i == 0 or i == 4: \n",
    "        axs[row,col].set(ylabel = \"Porcentaje del total\")\n",
    "    #campo del promedio se llena de forma distinta\n",
    "\n",
    "axs[1,3].bar(etiquetas, promedio_label.values, align = \"center\", alpha=0.8, color=[\"#0C264E\", \"#c12929\"])\n",
    "axs[1,3].set_title(\"Promedio 2014-2020\")\n",
    "axs[1,3].set_ylim([0,1])\n",
    "axs[1,3].set_xticks(range(2))\n",
    "axs[1,3].set_xticklabels(etiquetas, rotation = 0)\n",
    "axs[1,3].axhline(.80, linestyle='dotted', color='gray')\n",
    "axs[1,3].yaxis.set_major_formatter(mtick.PercentFormatter(1))\n",
    "        \n",
    "#plt.sca(axs[0,3])\n",
    "#plt.xticks(list(range(16)), [\"str(e)\" for e in range(16)], rotation=90)\n",
    "#plt.savefig(\"top_5_proporcion_v0.png\")\n",
    "plt.show();\n",
    "plt.rcParams['axes.facecolor']='white'\n",
    "plt.rcParams['savefig.facecolor']='white'\n",
    "#fig.savefig('prop_label2.png', edgecolor='none')\n",
    "#TO DO: poner solo las top 5 delegaciones no? "
   ]
  },
  {
   "cell_type": "markdown",
   "metadata": {},
   "source": [
    "# Porcentaje de llamadas negativas por mes. "
   ]
  },
  {
   "cell_type": "code",
   "execution_count": 17,
   "metadata": {
    "ExecuteTime": {
     "end_time": "2020-11-21T18:02:17.629578Z",
     "start_time": "2020-11-21T18:02:17.260492Z"
    }
   },
   "outputs": [
    {
     "data": {
      "text/html": [
       "<div>\n",
       "<style scoped>\n",
       "    .dataframe tbody tr th:only-of-type {\n",
       "        vertical-align: middle;\n",
       "    }\n",
       "\n",
       "    .dataframe tbody tr th {\n",
       "        vertical-align: top;\n",
       "    }\n",
       "\n",
       "    .dataframe thead th {\n",
       "        text-align: right;\n",
       "    }\n",
       "</style>\n",
       "<table border=\"1\" class=\"dataframe\">\n",
       "  <thead>\n",
       "    <tr style=\"text-align: right;\">\n",
       "      <th></th>\n",
       "      <th>año_creacion</th>\n",
       "      <th>mes_creacion_str</th>\n",
       "      <th>label</th>\n",
       "      <th>label_pos</th>\n",
       "    </tr>\n",
       "  </thead>\n",
       "  <tbody>\n",
       "    <tr>\n",
       "      <th>12</th>\n",
       "      <td>2014</td>\n",
       "      <td>Abril</td>\n",
       "      <td>0.165853</td>\n",
       "      <td>0.834147</td>\n",
       "    </tr>\n",
       "    <tr>\n",
       "      <th>13</th>\n",
       "      <td>2014</td>\n",
       "      <td>Agosto</td>\n",
       "      <td>0.174530</td>\n",
       "      <td>0.825470</td>\n",
       "    </tr>\n",
       "    <tr>\n",
       "      <th>14</th>\n",
       "      <td>2014</td>\n",
       "      <td>Diciembre</td>\n",
       "      <td>0.189993</td>\n",
       "      <td>0.810007</td>\n",
       "    </tr>\n",
       "    <tr>\n",
       "      <th>15</th>\n",
       "      <td>2014</td>\n",
       "      <td>Enero</td>\n",
       "      <td>0.156179</td>\n",
       "      <td>0.843821</td>\n",
       "    </tr>\n",
       "    <tr>\n",
       "      <th>16</th>\n",
       "      <td>2014</td>\n",
       "      <td>Febrero</td>\n",
       "      <td>0.157672</td>\n",
       "      <td>0.842328</td>\n",
       "    </tr>\n",
       "  </tbody>\n",
       "</table>\n",
       "</div>"
      ],
      "text/plain": [
       "   año_creacion mes_creacion_str     label  label_pos\n",
       "12         2014            Abril  0.165853   0.834147\n",
       "13         2014           Agosto  0.174530   0.825470\n",
       "14         2014        Diciembre  0.189993   0.810007\n",
       "15         2014            Enero  0.156179   0.843821\n",
       "16         2014          Febrero  0.157672   0.842328"
      ]
     },
     "execution_count": 17,
     "metadata": {},
     "output_type": "execute_result"
    }
   ],
   "source": [
    "prop_mensual = data.copy()\n",
    "prop_mensual = prop_mensual[['año_creacion', 'mes_creacion_str', 'label', 'label_pos']]\n",
    "prop_mensual = prop_mensual.groupby([\"año_creacion\", \"mes_creacion_str\"], as_index = False, dropna=False)\n",
    "prop_mensual = prop_mensual.mean()[[\"año_creacion\", \"mes_creacion_str\", \"label\", \"label_pos\"]]\n",
    "prop_mensual = prop_mensual[prop_mensual.año_creacion != \"2013\"]\n",
    "prop_mensual.head()"
   ]
  },
  {
   "cell_type": "code",
   "execution_count": 18,
   "metadata": {
    "ExecuteTime": {
     "end_time": "2020-11-21T18:02:17.691454Z",
     "start_time": "2020-11-21T18:02:17.659270Z"
    }
   },
   "outputs": [
    {
     "data": {
      "text/html": [
       "<div>\n",
       "<style scoped>\n",
       "    .dataframe tbody tr th:only-of-type {\n",
       "        vertical-align: middle;\n",
       "    }\n",
       "\n",
       "    .dataframe tbody tr th {\n",
       "        vertical-align: top;\n",
       "    }\n",
       "\n",
       "    .dataframe thead th {\n",
       "        text-align: right;\n",
       "    }\n",
       "</style>\n",
       "<table border=\"1\" class=\"dataframe\">\n",
       "  <thead>\n",
       "    <tr style=\"text-align: right;\">\n",
       "      <th></th>\n",
       "      <th>año_creacion</th>\n",
       "      <th>mes_creacion_str</th>\n",
       "      <th>label</th>\n",
       "      <th>label_pos</th>\n",
       "      <th>id</th>\n",
       "    </tr>\n",
       "  </thead>\n",
       "  <tbody>\n",
       "    <tr>\n",
       "      <th>87</th>\n",
       "      <td>2020</td>\n",
       "      <td>Enero</td>\n",
       "      <td>0.209871</td>\n",
       "      <td>0.790129</td>\n",
       "      <td>1</td>\n",
       "    </tr>\n",
       "    <tr>\n",
       "      <th>15</th>\n",
       "      <td>2014</td>\n",
       "      <td>Enero</td>\n",
       "      <td>0.156179</td>\n",
       "      <td>0.843821</td>\n",
       "      <td>1</td>\n",
       "    </tr>\n",
       "    <tr>\n",
       "      <th>27</th>\n",
       "      <td>2015</td>\n",
       "      <td>Enero</td>\n",
       "      <td>0.199784</td>\n",
       "      <td>0.800216</td>\n",
       "      <td>1</td>\n",
       "    </tr>\n",
       "    <tr>\n",
       "      <th>39</th>\n",
       "      <td>2016</td>\n",
       "      <td>Enero</td>\n",
       "      <td>0.224296</td>\n",
       "      <td>0.775704</td>\n",
       "      <td>1</td>\n",
       "    </tr>\n",
       "    <tr>\n",
       "      <th>51</th>\n",
       "      <td>2017</td>\n",
       "      <td>Enero</td>\n",
       "      <td>0.217405</td>\n",
       "      <td>0.782595</td>\n",
       "      <td>1</td>\n",
       "    </tr>\n",
       "  </tbody>\n",
       "</table>\n",
       "</div>"
      ],
      "text/plain": [
       "   año_creacion mes_creacion_str     label  label_pos  id\n",
       "87         2020            Enero  0.209871   0.790129   1\n",
       "15         2014            Enero  0.156179   0.843821   1\n",
       "27         2015            Enero  0.199784   0.800216   1\n",
       "39         2016            Enero  0.224296   0.775704   1\n",
       "51         2017            Enero  0.217405   0.782595   1"
      ]
     },
     "execution_count": 18,
     "metadata": {},
     "output_type": "execute_result"
    }
   ],
   "source": [
    "mapping_meses_2 = {\"Enero\": 1, \"Febrero\": 2, \"Marzo\":3, \"Abril\": 4, \"Mayo\":5, \"Junio\":6,\n",
    "                  \"Julio\": 7, \"Agosto\": 8, \"Septiembre\": 9, \"Octubre\": 10, \n",
    "                  \"Noviembre\": 11, \"Diciembre\": 12}\n",
    "\n",
    "prop_mensual[\"id\"] = prop_mensual.mes_creacion_str.map(mapping_meses_2).astype(int)\n",
    "prop_mensual.sort_values(by=['id'], inplace = True)\n",
    "prop_mensual.head()"
   ]
  },
  {
   "cell_type": "code",
   "execution_count": 20,
   "metadata": {
    "ExecuteTime": {
     "end_time": "2020-11-21T18:02:17.801469Z",
     "start_time": "2020-11-21T18:02:17.751684Z"
    }
   },
   "outputs": [
    {
     "data": {
      "text/html": [
       "<div>\n",
       "<style scoped>\n",
       "    .dataframe tbody tr th:only-of-type {\n",
       "        vertical-align: middle;\n",
       "    }\n",
       "\n",
       "    .dataframe tbody tr th {\n",
       "        vertical-align: top;\n",
       "    }\n",
       "\n",
       "    .dataframe thead th {\n",
       "        text-align: right;\n",
       "    }\n",
       "</style>\n",
       "<table border=\"1\" class=\"dataframe\">\n",
       "  <thead>\n",
       "    <tr style=\"text-align: right;\">\n",
       "      <th></th>\n",
       "      <th>mes_creacion_str</th>\n",
       "      <th>label</th>\n",
       "      <th>label_pos</th>\n",
       "      <th>id</th>\n",
       "    </tr>\n",
       "  </thead>\n",
       "  <tbody>\n",
       "    <tr>\n",
       "      <th>3</th>\n",
       "      <td>Enero</td>\n",
       "      <td>0.202534</td>\n",
       "      <td>0.797466</td>\n",
       "      <td>1</td>\n",
       "    </tr>\n",
       "    <tr>\n",
       "      <th>4</th>\n",
       "      <td>Febrero</td>\n",
       "      <td>0.199492</td>\n",
       "      <td>0.800508</td>\n",
       "      <td>2</td>\n",
       "    </tr>\n",
       "    <tr>\n",
       "      <th>7</th>\n",
       "      <td>Marzo</td>\n",
       "      <td>0.198589</td>\n",
       "      <td>0.801411</td>\n",
       "      <td>3</td>\n",
       "    </tr>\n",
       "    <tr>\n",
       "      <th>0</th>\n",
       "      <td>Abril</td>\n",
       "      <td>0.197995</td>\n",
       "      <td>0.802005</td>\n",
       "      <td>4</td>\n",
       "    </tr>\n",
       "    <tr>\n",
       "      <th>8</th>\n",
       "      <td>Mayo</td>\n",
       "      <td>0.196634</td>\n",
       "      <td>0.803366</td>\n",
       "      <td>5</td>\n",
       "    </tr>\n",
       "  </tbody>\n",
       "</table>\n",
       "</div>"
      ],
      "text/plain": [
       "  mes_creacion_str     label  label_pos  id\n",
       "3            Enero  0.202534   0.797466   1\n",
       "4          Febrero  0.199492   0.800508   2\n",
       "7            Marzo  0.198589   0.801411   3\n",
       "0            Abril  0.197995   0.802005   4\n",
       "8             Mayo  0.196634   0.803366   5"
      ]
     },
     "execution_count": 20,
     "metadata": {},
     "output_type": "execute_result"
    }
   ],
   "source": [
    "#ahora el promedio de todos los años\n",
    "prop_mensual_total = prop_mensual.groupby([\"mes_creacion_str\"], as_index = False).agg({\n",
    "    'label': 'mean',\n",
    "    'label_pos': 'mean'\n",
    "}) \n",
    "prop_mensual_total[\"id\"] = prop_mensual_total.mes_creacion_str.map(mapping_meses_2).astype(int)\n",
    "prop_mensual_total = prop_mensual_total.sort_values(by=['id'])\n",
    "prop_mensual_total.head()"
   ]
  },
  {
   "cell_type": "code",
   "execution_count": 21,
   "metadata": {
    "ExecuteTime": {
     "end_time": "2020-11-21T18:02:19.435522Z",
     "start_time": "2020-11-21T18:02:17.804612Z"
    }
   },
   "outputs": [
    {
     "data": {
      "image/png": "[encoded data removed]",
      "text/plain": [
       "<Figure size 1008x720 with 8 Axes>"
      ]
     },
     "metadata": {
      "needs_background": "light"
     },
     "output_type": "display_data"
    },
    {
     "data": {
      "text/plain": [
       "<Figure size 7200x4800 with 0 Axes>"
      ]
     },
     "metadata": {},
     "output_type": "display_data"
    }
   ],
   "source": [
    "#estas gráficas me explotan la cabeza\n",
    "#inicializar gráfica masiva\n",
    "fig, axs = plt.subplots(2,4, figsize = (14,10))\n",
    "plt.subplots_adjust(wspace = .25, hspace = .45, bottom = .20)\n",
    "plt.figure(dpi=1200)\n",
    "fig.suptitle('Proporción de llamadas falsas o negativas por mes.')\n",
    "\n",
    "#llenar el facet grid \n",
    "for i in range(7):\n",
    "    año = 2014 + i #2014, 2015,..., 2020\n",
    "    row = i // 4  \n",
    "    col = i % 4\n",
    "    #filtramos solo por año \n",
    "    grouping = prop_mensual[prop_mensual[\"año_creacion\"] == str(año)]\n",
    "    meses = [e.lower().title() for e in grouping.mes_creacion_str.values]\n",
    "    x = np.array([e for e in range(12)]).reshape(12,)\n",
    "    y = np.array(grouping.label.values).reshape(12,)\n",
    "    axs[row,col].plot(x, y, marker = \"x\", linestyle='--', \n",
    "                      linewidth=1, markersize = 4, color = \"#0C264E\") #label = \"label = 1\")\n",
    "   # axs[row,col].plot(x, grouping.label_pos.values, marker = \"^\", linestyle='--', linewidth=1, \n",
    "    #                  markersize = 4, label = \"label = 0\")\n",
    "    axs[row,col].set_title(f\"{str(año)}\")\n",
    "    axs[row,col].set_ylim([.15, .25])\n",
    "    axs[row,col].set_xticks(range(12))\n",
    "    axs[row,col].set_xticklabels(meses, rotation = 90)\n",
    "    maximo = grouping[grouping.label == grouping.label.max()].id.values\n",
    "    axs[row,col].axvline(maximo-1, linestyle='dotted', color=\"#c12929\")\n",
    "    axs[row,col].yaxis.set_major_formatter(mtick.PercentFormatter(1))\n",
    "    if i == 0 or i == 4: \n",
    "        axs[row,col].set(ylabel = \"% del total\")\n",
    "        #axs[row,col].legend(loc = \"upper left\")\n",
    "    #campo del promedio se llena de forma distinta\n",
    "    if i == 6: \n",
    "        x = np.array([e for e in range(12)]).reshape(12,)\n",
    "        axs[1,3].plot(x, prop_mensual_total.label.values, linestyle='--', marker = \"x\", \n",
    "                      color = \"#0C264E\", linewidth=1, markersize = 4)\n",
    "      #  axs[1,3].plot(x, prom_dia.label_pos.values, linestyle=\"--\", marker=\"^\", linewidth=1, markersize =4)\n",
    "        axs[1,3].set_title(\"Promedio 2014-2020\")\n",
    "        axs[1,3].set_ylim([.15, .25])\n",
    "        axs[1,3].set_xticks(range(12))\n",
    "        axs[1,3].set_xticklabels(meses, rotation = 90)\n",
    "        axs[1,3].axvline(10, linestyle='dotted', color=\"#c12929\")\n",
    "        axs[1,3].yaxis.set_major_formatter(mtick.PercentFormatter(1))\n",
    "#plt.sca(axs[0,3])\n",
    "#plt.xticks(list(range(16)), [\"str(e)\" for e in range(16)], rotation=90)\n",
    "plt.rcParams['axes.facecolor']='white'\n",
    "plt.rcParams['savefig.facecolor']='white'\n",
    "#fig.savefig('analisis_mensual_OXFORD.png', edgecolor='none')\n",
    "plt.show();"
   ]
  },
  {
   "cell_type": "markdown",
   "metadata": {},
   "source": [
    "## Llamadas falsas o negativas por día de la semana.\n",
    "\n",
    "También es natural preguntarse qué días de la semana tuvieron más llamadas falsas. También podemos dividir por año el facetgrid. "
   ]
  },
  {
   "cell_type": "code",
   "execution_count": 22,
   "metadata": {
    "ExecuteTime": {
     "end_time": "2020-11-21T18:02:19.445777Z",
     "start_time": "2020-11-21T18:02:19.439898Z"
    }
   },
   "outputs": [],
   "source": [
    "mapping_dias = {\"Lunes\": 1, \"Martes\": 2, \"Miércoles\": 3,\n",
    "                \"Jueves\": 4, \"Viernes\": 5, \"Sábado\": 6, \"Domingo\": 7}"
   ]
  },
  {
   "cell_type": "code",
   "execution_count": 23,
   "metadata": {
    "ExecuteTime": {
     "end_time": "2020-11-21T18:02:19.463309Z",
     "start_time": "2020-11-21T18:02:19.455254Z"
    }
   },
   "outputs": [
    {
     "data": {
      "text/plain": [
       "fecha_creacion       datetime64[ns]\n",
       "hora_creacion              category\n",
       "dia_semana                 category\n",
       "codigo_cierre              category\n",
       "fecha_cierre         datetime64[ns]\n",
       "delegacion_inicio          category\n",
       "incidente_c4               category\n",
       "latitud                     float64\n",
       "longitud                    float64\n",
       "clas_con_f_alarma          category\n",
       "tipo_entrada               category\n",
       "delegacion_cierre          category\n",
       "label                         int64\n",
       "año_creacion               category\n",
       "mes_creacion                  int64\n",
       "dia_creacion                  int64\n",
       "mes_creacion_str           category\n",
       "hora_simple                  object\n",
       "espacio_del_dia              object\n",
       "label_pos                     int64\n",
       "dtype: object"
      ]
     },
     "execution_count": 23,
     "metadata": {},
     "output_type": "execute_result"
    }
   ],
   "source": [
    "data.dtypes"
   ]
  },
  {
   "cell_type": "code",
   "execution_count": 24,
   "metadata": {
    "ExecuteTime": {
     "end_time": "2020-11-21T18:02:19.872162Z",
     "start_time": "2020-11-21T18:02:19.468623Z"
    }
   },
   "outputs": [],
   "source": [
    "dia_semana = data.groupby([\"dia_semana\", \"año_creacion\"], as_index = False)\n",
    "dia_semana = dia_semana.mean()[[\"año_creacion\", \"dia_semana\", \"label\", \"label_pos\"]]\n",
    "dia_semana[\"id\"] = dia_semana.dia_semana.map(mapping_dias)\n",
    "dia_semana[\"id\"] = dia_semana.id.astype(int)\n",
    "dia_semana = dia_semana.sort_values(by=['id'], ascending = True)\n",
    "#dia_semana[dia_semana.año_creacion == '2015']"
   ]
  },
  {
   "cell_type": "code",
   "execution_count": 25,
   "metadata": {
    "ExecuteTime": {
     "end_time": "2020-11-21T18:02:19.920492Z",
     "start_time": "2020-11-21T18:02:19.876392Z"
    }
   },
   "outputs": [
    {
     "data": {
      "text/html": [
       "<div>\n",
       "<style scoped>\n",
       "    .dataframe tbody tr th:only-of-type {\n",
       "        vertical-align: middle;\n",
       "    }\n",
       "\n",
       "    .dataframe tbody tr th {\n",
       "        vertical-align: top;\n",
       "    }\n",
       "\n",
       "    .dataframe thead th {\n",
       "        text-align: right;\n",
       "    }\n",
       "</style>\n",
       "<table border=\"1\" class=\"dataframe\">\n",
       "  <thead>\n",
       "    <tr style=\"text-align: right;\">\n",
       "      <th></th>\n",
       "      <th>dia_semana</th>\n",
       "      <th>label</th>\n",
       "      <th>label_pos</th>\n",
       "      <th>id</th>\n",
       "    </tr>\n",
       "  </thead>\n",
       "  <tbody>\n",
       "    <tr>\n",
       "      <th>2</th>\n",
       "      <td>Lunes</td>\n",
       "      <td>0.200204</td>\n",
       "      <td>0.799796</td>\n",
       "      <td>1</td>\n",
       "    </tr>\n",
       "    <tr>\n",
       "      <th>3</th>\n",
       "      <td>Martes</td>\n",
       "      <td>0.199331</td>\n",
       "      <td>0.800669</td>\n",
       "      <td>2</td>\n",
       "    </tr>\n",
       "    <tr>\n",
       "      <th>4</th>\n",
       "      <td>Miércoles</td>\n",
       "      <td>0.206857</td>\n",
       "      <td>0.793143</td>\n",
       "      <td>3</td>\n",
       "    </tr>\n",
       "    <tr>\n",
       "      <th>1</th>\n",
       "      <td>Jueves</td>\n",
       "      <td>0.206538</td>\n",
       "      <td>0.793462</td>\n",
       "      <td>4</td>\n",
       "    </tr>\n",
       "    <tr>\n",
       "      <th>6</th>\n",
       "      <td>Viernes</td>\n",
       "      <td>0.217260</td>\n",
       "      <td>0.782740</td>\n",
       "      <td>5</td>\n",
       "    </tr>\n",
       "    <tr>\n",
       "      <th>5</th>\n",
       "      <td>Sábado</td>\n",
       "      <td>0.193260</td>\n",
       "      <td>0.806740</td>\n",
       "      <td>6</td>\n",
       "    </tr>\n",
       "    <tr>\n",
       "      <th>0</th>\n",
       "      <td>Domingo</td>\n",
       "      <td>0.188855</td>\n",
       "      <td>0.811145</td>\n",
       "      <td>7</td>\n",
       "    </tr>\n",
       "  </tbody>\n",
       "</table>\n",
       "</div>"
      ],
      "text/plain": [
       "  dia_semana     label  label_pos  id\n",
       "2      Lunes  0.200204   0.799796   1\n",
       "3     Martes  0.199331   0.800669   2\n",
       "4  Miércoles  0.206857   0.793143   3\n",
       "1     Jueves  0.206538   0.793462   4\n",
       "6    Viernes  0.217260   0.782740   5\n",
       "5     Sábado  0.193260   0.806740   6\n",
       "0    Domingo  0.188855   0.811145   7"
      ]
     },
     "execution_count": 25,
     "metadata": {},
     "output_type": "execute_result"
    }
   ],
   "source": [
    "prom_dia = dia_semana.groupby([\"dia_semana\"], as_index = False).agg({'label': 'mean', \"label_pos\": \"mean\"})\n",
    "prom_dia[\"id\"] = prom_dia.dia_semana.map(mapping_dias)\n",
    "prom_dia[\"id\"] = prom_dia.id.astype(int)\n",
    "prom_dia = prom_dia.sort_values(by=['id'], ascending = True)\n",
    "prom_dia"
   ]
  },
  {
   "cell_type": "code",
   "execution_count": 26,
   "metadata": {
    "ExecuteTime": {
     "end_time": "2020-11-21T18:02:21.256751Z",
     "start_time": "2020-11-21T18:02:19.924693Z"
    }
   },
   "outputs": [
    {
     "data": {
      "image/png": "[encoded data removed]",
      "text/plain": [
       "<Figure size 1008x720 with 8 Axes>"
      ]
     },
     "metadata": {
      "needs_background": "light"
     },
     "output_type": "display_data"
    },
    {
     "data": {
      "text/plain": [
       "<Figure size 7200x4800 with 0 Axes>"
      ]
     },
     "metadata": {},
     "output_type": "display_data"
    }
   ],
   "source": [
    "#inicializar gráfica masiva\n",
    "fig, axs = plt.subplots(2,4, figsize = (14,10))\n",
    "plt.subplots_adjust(wspace = .25, hspace = .45, bottom = .20)\n",
    "plt.figure(dpi=1200)\n",
    "fig.suptitle('Proporción de llamadas falsas o negativas por día de la semana.')\n",
    "\n",
    "#llenar el facet grid \n",
    "for i in range(7):\n",
    "    año = 2014 + i #2014, 2015,..., 2020\n",
    "    row = i // 4  \n",
    "    col = i % 4\n",
    "    #filtramos solo por año \n",
    "    grouping = dia_semana[dia_semana[\"año_creacion\"] == str(año)]\n",
    "    dias = [e.lower().title() for e in grouping.dia_semana.values]\n",
    "    x = np.array([e for e in range(7)]).reshape(7,)\n",
    "    y = np.array(grouping.label.values).reshape(7,)\n",
    "    axs[row,col].plot(x, y, marker = \"x\", linestyle='--', \n",
    "                      linewidth=1, markersize = 4, color = \"#0C264E\") #label = \"label = 1\")\n",
    "   # axs[row,col].plot(x, grouping.label_pos.values, marker = \"^\", linestyle='--', linewidth=1, \n",
    "    #                  markersize = 4, label = \"label = 0\")\n",
    "    axs[row,col].set_title(f\"{str(año)}\")\n",
    "    axs[row,col].set_ylim([.15, .25])\n",
    "    axs[row,col].set_xticks(range(7))\n",
    "    axs[row,col].set_xticklabels(dias, rotation = 90)\n",
    "    axs[row,col].axvline(4, linestyle='dotted', color=\"#c12929\")\n",
    "    axs[row,col].yaxis.set_major_formatter(mtick.PercentFormatter(1))\n",
    "    if i == 0 or i == 4: \n",
    "        axs[row,col].set(ylabel = \"% del total\")\n",
    "        #axs[row,col].legend(loc = \"upper left\")\n",
    "    #campo del promedio se llena de forma distinta\n",
    "    if i == 6: \n",
    "        x = [e for e in range(7)]\n",
    "        axs[1,3].plot(x, prom_dia.label.values, linestyle='--', marker = \"x\", \n",
    "                      color = \"#0C264E\", linewidth=1, markersize = 4)\n",
    "      #  axs[1,3].plot(x, prom_dia.label_pos.values, linestyle=\"--\", marker=\"^\", linewidth=1, markersize =4)\n",
    "        dias = [e for e in prom_dia.dia_semana.values]\n",
    "        axs[1,3].set_title(\"Promedio 2014-2020\")\n",
    "        axs[1,3].set_ylim([.15, .25])\n",
    "        axs[1,3].set_xticks(range(7))\n",
    "        axs[1,3].set_xticklabels(dias, rotation = 90)\n",
    "        axs[1,3].axvline(4, linestyle='dotted', color=\"#c12929\")\n",
    "        axs[1,3].yaxis.set_major_formatter(mtick.PercentFormatter(1))\n",
    "#plt.sca(axs[0,3])\n",
    "#plt.xticks(list(range(16)), [\"str(e)\" for e in range(16)], rotation=90)\n",
    "plt.rcParams['axes.facecolor']='white'\n",
    "plt.rcParams['savefig.facecolor']='white'\n",
    "#fig.savefig('dia_semana_OXFORD.png', edgecolor='none')\n",
    "plt.show();"
   ]
  },
  {
   "cell_type": "code",
   "execution_count": 27,
   "metadata": {
    "ExecuteTime": {
     "end_time": "2020-11-21T18:02:21.271478Z",
     "start_time": "2020-11-21T18:02:21.261164Z"
    }
   },
   "outputs": [],
   "source": [
    "#incluir esta en el slide deck \n",
    "#estaría lindo una línea vertical en el viernes"
   ]
  },
  {
   "cell_type": "markdown",
   "metadata": {},
   "source": [
    "# ¿Y en qué horario ocurren estas llamadas?\n",
    "\n",
    "Podemos ver que indudablemente el viernes es el día en donde más llamadas falsas hay. Una pregunta que surge naturalmente al entender el día donde hay más llamadas falsas es, ¿en qué horario ocurren estas llamadas? Para esto podemos crear una variable adicional que indique el bloque de tiempo (en grupos de 3 horas) donde ocurren estas llamadas. "
   ]
  },
  {
   "cell_type": "code",
   "execution_count": 28,
   "metadata": {
    "ExecuteTime": {
     "end_time": "2020-11-21T18:02:21.301255Z",
     "start_time": "2020-11-21T18:02:21.275602Z"
    }
   },
   "outputs": [
    {
     "data": {
      "text/html": [
       "<div>\n",
       "<style scoped>\n",
       "    .dataframe tbody tr th:only-of-type {\n",
       "        vertical-align: middle;\n",
       "    }\n",
       "\n",
       "    .dataframe tbody tr th {\n",
       "        vertical-align: top;\n",
       "    }\n",
       "\n",
       "    .dataframe thead th {\n",
       "        text-align: right;\n",
       "    }\n",
       "</style>\n",
       "<table border=\"1\" class=\"dataframe\">\n",
       "  <thead>\n",
       "    <tr style=\"text-align: right;\">\n",
       "      <th></th>\n",
       "      <th>label</th>\n",
       "      <th>año_creacion</th>\n",
       "      <th>mes_creacion</th>\n",
       "      <th>dia_creacion</th>\n",
       "      <th>mes_creacion_str</th>\n",
       "      <th>hora_simple</th>\n",
       "      <th>espacio_del_dia</th>\n",
       "      <th>label_pos</th>\n",
       "    </tr>\n",
       "  </thead>\n",
       "  <tbody>\n",
       "    <tr>\n",
       "      <th>0</th>\n",
       "      <td>0</td>\n",
       "      <td>2016</td>\n",
       "      <td>1</td>\n",
       "      <td>23</td>\n",
       "      <td>Enero</td>\n",
       "      <td>22</td>\n",
       "      <td>9-11 p.m.</td>\n",
       "      <td>1</td>\n",
       "    </tr>\n",
       "    <tr>\n",
       "      <th>1</th>\n",
       "      <td>0</td>\n",
       "      <td>2016</td>\n",
       "      <td>1</td>\n",
       "      <td>23</td>\n",
       "      <td>Enero</td>\n",
       "      <td>22</td>\n",
       "      <td>9-11 p.m.</td>\n",
       "      <td>1</td>\n",
       "    </tr>\n",
       "    <tr>\n",
       "      <th>2</th>\n",
       "      <td>1</td>\n",
       "      <td>2016</td>\n",
       "      <td>1</td>\n",
       "      <td>24</td>\n",
       "      <td>Enero</td>\n",
       "      <td>09</td>\n",
       "      <td>9-11 a.m.</td>\n",
       "      <td>0</td>\n",
       "    </tr>\n",
       "    <tr>\n",
       "      <th>3</th>\n",
       "      <td>1</td>\n",
       "      <td>2016</td>\n",
       "      <td>1</td>\n",
       "      <td>24</td>\n",
       "      <td>Enero</td>\n",
       "      <td>22</td>\n",
       "      <td>9-11 p.m.</td>\n",
       "      <td>0</td>\n",
       "    </tr>\n",
       "    <tr>\n",
       "      <th>4</th>\n",
       "      <td>0</td>\n",
       "      <td>2016</td>\n",
       "      <td>1</td>\n",
       "      <td>24</td>\n",
       "      <td>Enero</td>\n",
       "      <td>04</td>\n",
       "      <td>3-5 a.m.</td>\n",
       "      <td>1</td>\n",
       "    </tr>\n",
       "  </tbody>\n",
       "</table>\n",
       "</div>"
      ],
      "text/plain": [
       "   label año_creacion  mes_creacion  dia_creacion mes_creacion_str  \\\n",
       "0      0         2016             1            23            Enero   \n",
       "1      0         2016             1            23            Enero   \n",
       "2      1         2016             1            24            Enero   \n",
       "3      1         2016             1            24            Enero   \n",
       "4      0         2016             1            24            Enero   \n",
       "\n",
       "  hora_simple espacio_del_dia  label_pos  \n",
       "0          22       9-11 p.m.          1  \n",
       "1          22       9-11 p.m.          1  \n",
       "2          09       9-11 a.m.          0  \n",
       "3          22       9-11 p.m.          0  \n",
       "4          04        3-5 a.m.          1  "
      ]
     },
     "execution_count": 28,
     "metadata": {},
     "output_type": "execute_result"
    }
   ],
   "source": [
    "#la variable se llama espacio_del_dia, y se ve así:\n",
    "data.iloc[:5,12:]"
   ]
  },
  {
   "cell_type": "code",
   "execution_count": 29,
   "metadata": {
    "ExecuteTime": {
     "end_time": "2020-11-21T18:02:21.311617Z",
     "start_time": "2020-11-21T18:02:21.305172Z"
    }
   },
   "outputs": [],
   "source": [
    "#también conviene usar el método map para crear una variable que nos ayude a ordenarlas \n",
    "mapping_espacio = {\"12-2 a.m.\": 1, \"3-5 a.m.\": 2, \"6-8 a.m.\": 3, \"9-11 a.m.\": 4,\n",
    "                  \"12-2 p.m.\": 5, \"3-5 p.m.\": 6, \"6-8 p.m.\": 7, \"9-11 p.m.\": 8}"
   ]
  },
  {
   "cell_type": "code",
   "execution_count": 30,
   "metadata": {
    "ExecuteTime": {
     "end_time": "2020-11-21T18:02:21.820580Z",
     "start_time": "2020-11-21T18:02:21.315899Z"
    }
   },
   "outputs": [
    {
     "data": {
      "text/html": [
       "<div>\n",
       "<style scoped>\n",
       "    .dataframe tbody tr th:only-of-type {\n",
       "        vertical-align: middle;\n",
       "    }\n",
       "\n",
       "    .dataframe tbody tr th {\n",
       "        vertical-align: top;\n",
       "    }\n",
       "\n",
       "    .dataframe thead th {\n",
       "        text-align: right;\n",
       "    }\n",
       "</style>\n",
       "<table border=\"1\" class=\"dataframe\">\n",
       "  <thead>\n",
       "    <tr style=\"text-align: right;\">\n",
       "      <th></th>\n",
       "      <th>espacio_del_dia</th>\n",
       "      <th>dia_semana</th>\n",
       "      <th>label</th>\n",
       "      <th>label_pos</th>\n",
       "      <th>id</th>\n",
       "    </tr>\n",
       "  </thead>\n",
       "  <tbody>\n",
       "    <tr>\n",
       "      <th>0</th>\n",
       "      <td>12-2 a.m.</td>\n",
       "      <td>Domingo</td>\n",
       "      <td>3888</td>\n",
       "      <td>17737</td>\n",
       "      <td>1</td>\n",
       "    </tr>\n",
       "    <tr>\n",
       "      <th>1</th>\n",
       "      <td>12-2 a.m.</td>\n",
       "      <td>Jueves</td>\n",
       "      <td>1503</td>\n",
       "      <td>8507</td>\n",
       "      <td>1</td>\n",
       "    </tr>\n",
       "    <tr>\n",
       "      <th>2</th>\n",
       "      <td>12-2 a.m.</td>\n",
       "      <td>Lunes</td>\n",
       "      <td>1375</td>\n",
       "      <td>7766</td>\n",
       "      <td>1</td>\n",
       "    </tr>\n",
       "    <tr>\n",
       "      <th>3</th>\n",
       "      <td>12-2 a.m.</td>\n",
       "      <td>Martes</td>\n",
       "      <td>984</td>\n",
       "      <td>6203</td>\n",
       "      <td>1</td>\n",
       "    </tr>\n",
       "    <tr>\n",
       "      <th>4</th>\n",
       "      <td>12-2 a.m.</td>\n",
       "      <td>Miércoles</td>\n",
       "      <td>1284</td>\n",
       "      <td>7733</td>\n",
       "      <td>1</td>\n",
       "    </tr>\n",
       "  </tbody>\n",
       "</table>\n",
       "</div>"
      ],
      "text/plain": [
       "  espacio_del_dia dia_semana  label  label_pos  id\n",
       "0       12-2 a.m.    Domingo   3888      17737   1\n",
       "1       12-2 a.m.     Jueves   1503       8507   1\n",
       "2       12-2 a.m.      Lunes   1375       7766   1\n",
       "3       12-2 a.m.     Martes    984       6203   1\n",
       "4       12-2 a.m.  Miércoles   1284       7733   1"
      ]
     },
     "execution_count": 30,
     "metadata": {},
     "output_type": "execute_result"
    }
   ],
   "source": [
    "horario_frecuente = data.groupby([\"espacio_del_dia\", \"dia_semana\"], as_index = False)\n",
    "horario_frecuente = horario_frecuente.sum()[[\"espacio_del_dia\", \"dia_semana\", \"label\", \"label_pos\"]]\n",
    "horario_frecuente[\"id\"] = horario_frecuente[\"espacio_del_dia\"].map(mapping_espacio).astype(int)\n",
    "horario_frecuente = horario_frecuente.sort_values(by=[\"id\"])\n",
    "horario_frecuente.head()"
   ]
  },
  {
   "cell_type": "code",
   "execution_count": 31,
   "metadata": {
    "ExecuteTime": {
     "end_time": "2020-11-21T18:02:21.865236Z",
     "start_time": "2020-11-21T18:02:21.828057Z"
    }
   },
   "outputs": [
    {
     "data": {
      "text/html": [
       "<div>\n",
       "<style scoped>\n",
       "    .dataframe tbody tr th:only-of-type {\n",
       "        vertical-align: middle;\n",
       "    }\n",
       "\n",
       "    .dataframe tbody tr th {\n",
       "        vertical-align: top;\n",
       "    }\n",
       "\n",
       "    .dataframe thead th {\n",
       "        text-align: right;\n",
       "    }\n",
       "</style>\n",
       "<table border=\"1\" class=\"dataframe\">\n",
       "  <thead>\n",
       "    <tr style=\"text-align: right;\">\n",
       "      <th></th>\n",
       "      <th>espacio_del_dia</th>\n",
       "      <th>label</th>\n",
       "      <th>label_pos</th>\n",
       "      <th>id</th>\n",
       "    </tr>\n",
       "  </thead>\n",
       "  <tbody>\n",
       "    <tr>\n",
       "      <th>0</th>\n",
       "      <td>12-2 a.m.</td>\n",
       "      <td>15412</td>\n",
       "      <td>79349</td>\n",
       "      <td>1</td>\n",
       "    </tr>\n",
       "    <tr>\n",
       "      <th>2</th>\n",
       "      <td>3-5 a.m.</td>\n",
       "      <td>8962</td>\n",
       "      <td>45983</td>\n",
       "      <td>2</td>\n",
       "    </tr>\n",
       "    <tr>\n",
       "      <th>4</th>\n",
       "      <td>6-8 a.m.</td>\n",
       "      <td>23052</td>\n",
       "      <td>99115</td>\n",
       "      <td>3</td>\n",
       "    </tr>\n",
       "    <tr>\n",
       "      <th>6</th>\n",
       "      <td>9-11 a.m.</td>\n",
       "      <td>33072</td>\n",
       "      <td>136024</td>\n",
       "      <td>4</td>\n",
       "    </tr>\n",
       "    <tr>\n",
       "      <th>1</th>\n",
       "      <td>12-2 p.m.</td>\n",
       "      <td>42776</td>\n",
       "      <td>160661</td>\n",
       "      <td>5</td>\n",
       "    </tr>\n",
       "    <tr>\n",
       "      <th>3</th>\n",
       "      <td>3-5 p.m.</td>\n",
       "      <td>51777</td>\n",
       "      <td>195405</td>\n",
       "      <td>6</td>\n",
       "    </tr>\n",
       "    <tr>\n",
       "      <th>5</th>\n",
       "      <td>6-8 p.m.</td>\n",
       "      <td>61453</td>\n",
       "      <td>210415</td>\n",
       "      <td>7</td>\n",
       "    </tr>\n",
       "    <tr>\n",
       "      <th>7</th>\n",
       "      <td>9-11 p.m.</td>\n",
       "      <td>45799</td>\n",
       "      <td>173883</td>\n",
       "      <td>8</td>\n",
       "    </tr>\n",
       "  </tbody>\n",
       "</table>\n",
       "</div>"
      ],
      "text/plain": [
       "  espacio_del_dia  label  label_pos  id\n",
       "0       12-2 a.m.  15412      79349   1\n",
       "2        3-5 a.m.   8962      45983   2\n",
       "4        6-8 a.m.  23052      99115   3\n",
       "6       9-11 a.m.  33072     136024   4\n",
       "1       12-2 p.m.  42776     160661   5\n",
       "3        3-5 p.m.  51777     195405   6\n",
       "5        6-8 p.m.  61453     210415   7\n",
       "7       9-11 p.m.  45799     173883   8"
      ]
     },
     "execution_count": 31,
     "metadata": {},
     "output_type": "execute_result"
    }
   ],
   "source": [
    "prom_dia = horario_frecuente.groupby([\"espacio_del_dia\"], as_index = False).agg({'label': 'sum', \n",
    "                                                                                 'label_pos': 'sum'})\n",
    "#prom_dia = prom_dia.agg({'label': 'mean'})\n",
    "prom_dia[\"id\"] = prom_dia[\"espacio_del_dia\"].map(mapping_espacio).astype(int)\n",
    "prom_dia = prom_dia.sort_values(by=[\"id\"])\n",
    "prom_dia"
   ]
  },
  {
   "cell_type": "code",
   "execution_count": null,
   "metadata": {
    "ExecuteTime": {
     "end_time": "2020-11-21T16:59:38.647476Z",
     "start_time": "2020-11-21T16:59:38.642307Z"
    }
   },
   "outputs": [],
   "source": []
  },
  {
   "cell_type": "code",
   "execution_count": 32,
   "metadata": {
    "ExecuteTime": {
     "end_time": "2020-11-21T18:02:23.615639Z",
     "start_time": "2020-11-21T18:02:21.869540Z"
    }
   },
   "outputs": [
    {
     "data": {
      "image/png": "[encoded data removed]",
      "text/plain": [
       "<Figure size 1080x792 with 8 Axes>"
      ]
     },
     "metadata": {
      "needs_background": "light"
     },
     "output_type": "display_data"
    },
    {
     "data": {
      "text/plain": [
       "<Figure size 7200x4800 with 0 Axes>"
      ]
     },
     "metadata": {},
     "output_type": "display_data"
    }
   ],
   "source": [
    "#inicializar gráfica masiva\n",
    "fig, axs = plt.subplots(2,4, figsize = (15,11))\n",
    "plt.subplots_adjust(wspace = .35, hspace = .45, bottom = .20)\n",
    "plt.figure(dpi=1200)\n",
    "fig.suptitle('Análisis de las llamadas por horario.')\n",
    "\n",
    "\n",
    "#llenar el facet grid \n",
    "dias = [\"Lunes\", \"Martes\", \"Miércoles\", \"Jueves\", \"Viernes\", \"Sábado\", \"Domingo\"]\n",
    "for i in range(7):\n",
    "    dia = dias[i] \n",
    "    row = i // 4  \n",
    "    col = i % 4\n",
    "    #filtramos solo por dia de la semana  \n",
    "    grouping = horario_frecuente[horario_frecuente[\"dia_semana\"] == dia]\n",
    "    bloques_horarios = grouping[\"espacio_del_dia\"].values.tolist()\n",
    "    x = range(8)\n",
    "    axs[row,col].plot(x, grouping.label, marker = \"x\", linestyle='--', linewidth=1, markersize = 4,\n",
    "                     label = \"label = 1\", color = colors[0] )\n",
    "    axs[row,col].plot(x, grouping.label_pos, marker = \"^\", linestyle='--', linewidth=1, markersize = 4,\n",
    "                     label = \"label = 0\", color = colors[1])\n",
    "    axs[row,col].set_title(dia)\n",
    "    #axs[row,col].set_ylim([0, 14_000])\n",
    "    axs[row,col].set_xticks(range(8))\n",
    "    axs[row,col].set_xticklabels(bloques_horarios, rotation = 90)\n",
    "    axs[row,col].axvline(6, linestyle='dotted', color='gray', linewidth=1)\n",
    "    axs[row,col].yaxis.set_major_formatter(mtick.StrMethodFormatter('{x:,.0f}'))\n",
    "    #axs[row,col].legend(loc=\"upper left\")\n",
    "    if i == 0 or i == 4: \n",
    "        axs[row,col].set(ylabel = \"# De Llamadas\")\n",
    "        axs[row,col].legend(loc=\"upper left\")\n",
    "\n",
    "#campo del promedio se llena de forma distinta\n",
    "axs[1,3].plot(x, prom_dia.label, marker = \"x\", linestyle='--', linewidth=1, \n",
    "              markersize = 4, label = \"label = 1\", color = colors[0])\n",
    "axs[1,3].plot(x, prom_dia.label_pos, marker = \"^\", linestyle='--', \n",
    "              linewidth=1, markersize = 4, label = \"label = 0\", color = colors[1])\n",
    "bloques_horarios = prom_dia.espacio_del_dia.values.tolist()\n",
    "axs[1,3].set_title(\"Promedio 2014-2020\")\n",
    "#axs[1,3].set_ylim([5000,65_000])\n",
    "axs[1,3].set_xticks(range(8))\n",
    "axs[1,3].set_xticklabels(bloques_horarios, rotation = 90)\n",
    "axs[1,3].axvline(6, linestyle='dotted', color='gray', linewidth=1)\n",
    "axs[1,3].yaxis.set_major_formatter(mtick.StrMethodFormatter('{x:,.0f}'))\n",
    "              \n",
    "#plt.sca(axs[0,3])\n",
    "#plt.xticks(list(range(16)), [\"str(e)\" for e in range(16)], rotation=90)\n",
    "#plt.legend()\n",
    "plt.rcParams['axes.facecolor']='white'\n",
    "plt.rcParams['savefig.facecolor']='white'\n",
    "#fig.savefig('hora_dia_OXFORD.png', edgecolor='none')\n",
    "plt.show();"
   ]
  },
  {
   "cell_type": "code",
   "execution_count": 33,
   "metadata": {
    "ExecuteTime": {
     "end_time": "2020-11-21T18:02:23.626116Z",
     "start_time": "2020-11-21T18:02:23.621330Z"
    }
   },
   "outputs": [],
   "source": [
    "#poner esta en el slide deck "
   ]
  },
  {
   "cell_type": "code",
   "execution_count": 34,
   "metadata": {
    "ExecuteTime": {
     "end_time": "2020-11-21T18:02:24.157663Z",
     "start_time": "2020-11-21T18:02:23.631608Z"
    }
   },
   "outputs": [
    {
     "data": {
      "text/html": [
       "<div>\n",
       "<style scoped>\n",
       "    .dataframe tbody tr th:only-of-type {\n",
       "        vertical-align: middle;\n",
       "    }\n",
       "\n",
       "    .dataframe tbody tr th {\n",
       "        vertical-align: top;\n",
       "    }\n",
       "\n",
       "    .dataframe thead th {\n",
       "        text-align: right;\n",
       "    }\n",
       "</style>\n",
       "<table border=\"1\" class=\"dataframe\">\n",
       "  <thead>\n",
       "    <tr style=\"text-align: right;\">\n",
       "      <th></th>\n",
       "      <th>espacio_del_dia</th>\n",
       "      <th>año_creacion</th>\n",
       "      <th>label</th>\n",
       "      <th>id</th>\n",
       "    </tr>\n",
       "  </thead>\n",
       "  <tbody>\n",
       "    <tr>\n",
       "      <th>0</th>\n",
       "      <td>12-2 a.m.</td>\n",
       "      <td>2013</td>\n",
       "      <td>NaN</td>\n",
       "      <td>1</td>\n",
       "    </tr>\n",
       "    <tr>\n",
       "      <th>1</th>\n",
       "      <td>12-2 a.m.</td>\n",
       "      <td>2014</td>\n",
       "      <td>0.152725</td>\n",
       "      <td>1</td>\n",
       "    </tr>\n",
       "    <tr>\n",
       "      <th>2</th>\n",
       "      <td>12-2 a.m.</td>\n",
       "      <td>2015</td>\n",
       "      <td>0.163032</td>\n",
       "      <td>1</td>\n",
       "    </tr>\n",
       "    <tr>\n",
       "      <th>3</th>\n",
       "      <td>12-2 a.m.</td>\n",
       "      <td>2016</td>\n",
       "      <td>0.182319</td>\n",
       "      <td>1</td>\n",
       "    </tr>\n",
       "    <tr>\n",
       "      <th>4</th>\n",
       "      <td>12-2 a.m.</td>\n",
       "      <td>2017</td>\n",
       "      <td>0.166754</td>\n",
       "      <td>1</td>\n",
       "    </tr>\n",
       "  </tbody>\n",
       "</table>\n",
       "</div>"
      ],
      "text/plain": [
       "  espacio_del_dia año_creacion     label  id\n",
       "0       12-2 a.m.         2013       NaN   1\n",
       "1       12-2 a.m.         2014  0.152725   1\n",
       "2       12-2 a.m.         2015  0.163032   1\n",
       "3       12-2 a.m.         2016  0.182319   1\n",
       "4       12-2 a.m.         2017  0.166754   1"
      ]
     },
     "execution_count": 34,
     "metadata": {},
     "output_type": "execute_result"
    }
   ],
   "source": [
    "#también podríamos agregar por año para ver si hay algún patrón desde esa perspectiva\n",
    "horario_anual = data.groupby([\"espacio_del_dia\", \"año_creacion\"], as_index = False)\n",
    "horario_anual = horario_anual.mean()[[\"espacio_del_dia\", \"año_creacion\", \"label\"]]\n",
    "horario_anual[\"id\"] = horario_anual[\"espacio_del_dia\"].map(mapping_espacio).astype(int)\n",
    "horario_anual = horario_anual.sort_values(by=[\"id\"])\n",
    "horario_anual.head()"
   ]
  },
  {
   "cell_type": "code",
   "execution_count": 35,
   "metadata": {
    "ExecuteTime": {
     "end_time": "2020-11-21T18:02:24.173193Z",
     "start_time": "2020-11-21T18:02:24.162761Z"
    }
   },
   "outputs": [
    {
     "data": {
      "text/plain": [
       "espacio_del_dia      object\n",
       "año_creacion       category\n",
       "label               float64\n",
       "id                    int64\n",
       "dtype: object"
      ]
     },
     "execution_count": 35,
     "metadata": {},
     "output_type": "execute_result"
    }
   ],
   "source": [
    "horario_anual.dtypes"
   ]
  },
  {
   "cell_type": "code",
   "execution_count": 36,
   "metadata": {
    "ExecuteTime": {
     "end_time": "2020-11-21T18:02:24.207192Z",
     "start_time": "2020-11-21T18:02:24.179230Z"
    }
   },
   "outputs": [
    {
     "data": {
      "text/html": [
       "<div>\n",
       "<style scoped>\n",
       "    .dataframe tbody tr th:only-of-type {\n",
       "        vertical-align: middle;\n",
       "    }\n",
       "\n",
       "    .dataframe tbody tr th {\n",
       "        vertical-align: top;\n",
       "    }\n",
       "\n",
       "    .dataframe thead th {\n",
       "        text-align: right;\n",
       "    }\n",
       "</style>\n",
       "<table border=\"1\" class=\"dataframe\">\n",
       "  <thead>\n",
       "    <tr style=\"text-align: right;\">\n",
       "      <th></th>\n",
       "      <th>espacio_del_dia</th>\n",
       "      <th>label</th>\n",
       "      <th>id</th>\n",
       "    </tr>\n",
       "  </thead>\n",
       "  <tbody>\n",
       "    <tr>\n",
       "      <th>0</th>\n",
       "      <td>12-2 a.m.</td>\n",
       "      <td>0.162941</td>\n",
       "      <td>1</td>\n",
       "    </tr>\n",
       "    <tr>\n",
       "      <th>2</th>\n",
       "      <td>3-5 a.m.</td>\n",
       "      <td>0.162622</td>\n",
       "      <td>2</td>\n",
       "    </tr>\n",
       "    <tr>\n",
       "      <th>4</th>\n",
       "      <td>6-8 a.m.</td>\n",
       "      <td>0.187252</td>\n",
       "      <td>3</td>\n",
       "    </tr>\n",
       "    <tr>\n",
       "      <th>6</th>\n",
       "      <td>9-11 a.m.</td>\n",
       "      <td>0.194575</td>\n",
       "      <td>4</td>\n",
       "    </tr>\n",
       "    <tr>\n",
       "      <th>1</th>\n",
       "      <td>12-2 p.m.</td>\n",
       "      <td>0.182655</td>\n",
       "      <td>5</td>\n",
       "    </tr>\n",
       "    <tr>\n",
       "      <th>3</th>\n",
       "      <td>3-5 p.m.</td>\n",
       "      <td>0.208208</td>\n",
       "      <td>6</td>\n",
       "    </tr>\n",
       "    <tr>\n",
       "      <th>5</th>\n",
       "      <td>6-8 p.m.</td>\n",
       "      <td>0.259504</td>\n",
       "      <td>7</td>\n",
       "    </tr>\n",
       "    <tr>\n",
       "      <th>7</th>\n",
       "      <td>9-11 p.m.</td>\n",
       "      <td>0.195317</td>\n",
       "      <td>8</td>\n",
       "    </tr>\n",
       "  </tbody>\n",
       "</table>\n",
       "</div>"
      ],
      "text/plain": [
       "  espacio_del_dia     label  id\n",
       "0       12-2 a.m.  0.162941   1\n",
       "2        3-5 a.m.  0.162622   2\n",
       "4        6-8 a.m.  0.187252   3\n",
       "6       9-11 a.m.  0.194575   4\n",
       "1       12-2 p.m.  0.182655   5\n",
       "3        3-5 p.m.  0.208208   6\n",
       "5        6-8 p.m.  0.259504   7\n",
       "7       9-11 p.m.  0.195317   8"
      ]
     },
     "execution_count": 36,
     "metadata": {},
     "output_type": "execute_result"
    }
   ],
   "source": [
    "prom_anual = horario_anual.groupby([\"espacio_del_dia\"], as_index = False).agg({'label': 'mean'})\n",
    "prom_anual[\"id\"] = prom_anual[\"espacio_del_dia\"].map(mapping_espacio).astype(int)\n",
    "prom_anual = prom_anual.sort_values(by=[\"id\"])\n",
    "prom_anual"
   ]
  },
  {
   "cell_type": "code",
   "execution_count": 37,
   "metadata": {
    "ExecuteTime": {
     "end_time": "2020-11-21T18:02:25.953039Z",
     "start_time": "2020-11-21T18:02:24.215344Z"
    }
   },
   "outputs": [
    {
     "data": {
      "image/png": "[encoded data removed]",
      "text/plain": [
       "<Figure size 1008x720 with 8 Axes>"
      ]
     },
     "metadata": {
      "needs_background": "light"
     },
     "output_type": "display_data"
    },
    {
     "data": {
      "text/plain": [
       "<Figure size 7200x4800 with 0 Axes>"
      ]
     },
     "metadata": {},
     "output_type": "display_data"
    }
   ],
   "source": [
    "#inicializar gráfica masiva\n",
    "fig, axs = plt.subplots(2,4, figsize = (14,10))\n",
    "plt.subplots_adjust(wspace = .25, hspace = .45, bottom = .20)\n",
    "plt.figure(dpi=1200)\n",
    "fig.suptitle('Proporción de llamadas falsas o negativas por horario.')\n",
    "\n",
    "#llenar el facet grid \n",
    "for i in range(7):\n",
    "    año = 2014 + i #2014, 2015,..., 2020\n",
    "    row = i // 4  \n",
    "    col = i % 4\n",
    "    #filtramos solo por año\n",
    "    #aquí filtra por la variable que va en el facet grid (por la que explotas)\n",
    "    grouping = horario_anual[horario_anual[\"año_creacion\"] == str(año)] #aquí pon tu agrupamiento\n",
    "    bloques_horario = grouping.espacio_del_dia.values #las etiquetas del eje x\n",
    "    x = np.array([e for e in range(8)]).reshape(8,) #si x no es numérico, pon el rango \n",
    "    y = np.array(grouping.label.values).reshape(8,) #los valores que van en el eje y (numérico)\n",
    "    axs[row,col].plot(x, y, marker = \"x\", linestyle='--', \n",
    "                      linewidth=1, markersize = 4, color=colors[0])\n",
    "    axs[row,col].set_title(f\"{str(año)}\")\n",
    "    axs[row,col].set_ylim([.05,.30])\n",
    "    axs[row,col].set_xticks(range(8))\n",
    "    axs[row,col].set_xticklabels(bloques_horario, rotation = 90) #aquí van tus etiquetas\n",
    "    axs[row,col].axvline(6, linestyle='dotted', color=colors[1], linewidth=1)\n",
    "    axs[row,col].yaxis.set_major_formatter(mtick.PercentFormatter(1))\n",
    "    if i == 0 or i == 4: \n",
    "        axs[row,col].set(ylabel = \"% del total\")\n",
    "    #campo del promedio se llena de forma distinta\n",
    "    if i == 6: \n",
    "        x = [e for e in range(8)]\n",
    "        axs[1,3].plot(x, prom_anual.label.values, linestyle='--', marker = \"x\", \n",
    "                      color=colors[0], linewidth=1, markersize = 4)\n",
    "        bloques = prom_anual.espacio_del_dia.values #etiquetas del eje x de los promedios\n",
    "        axs[1,3].set_title(\"Promedio 2014-2020\")\n",
    "        axs[1,3].set_ylim([.05,.30])\n",
    "        axs[1,3].set_xticks(range(8))\n",
    "        axs[1,3].set_xticklabels(bloques, rotation = 90)\n",
    "        axs[1,3].axvline(6, linestyle='dotted', color=colors[1], linewidth=1)\n",
    "        axs[1,3].yaxis.set_major_formatter(mtick.PercentFormatter(1))\n",
    "#plt.sca(axs[0,3])\n",
    "#plt.xticks(list(range(16)), [\"str(e)\" for e in range(16)], rotation=90)\n",
    "plt.rcParams['axes.facecolor']='white'\n",
    "plt.rcParams['savefig.facecolor']='white'\n",
    "#fig.savefig('horario_anual_OXFORD.png', edgecolor='none')\n",
    "plt.show();"
   ]
  },
  {
   "cell_type": "code",
   "execution_count": 38,
   "metadata": {
    "ExecuteTime": {
     "end_time": "2020-11-21T18:02:25.984020Z",
     "start_time": "2020-11-21T18:02:25.962995Z"
    }
   },
   "outputs": [],
   "source": [
    "#poner esta en el slide deck "
   ]
  },
  {
   "cell_type": "markdown",
   "metadata": {},
   "source": [
    "Ver los horarios a gran escala nos permite identificar que en general ocurren más llamadas en la parte final del día, sobre todo de 6 a 8 de la noche."
   ]
  },
  {
   "cell_type": "code",
   "execution_count": null,
   "metadata": {},
   "outputs": [],
   "source": []
  }
 ],
 "metadata": {
  "kernelspec": {
   "display_name": "Python 3",
   "language": "python",
   "name": "python3"
  },
  "language_info": {
   "codemirror_mode": {
    "name": "ipython",
    "version": 3
   },
   "file_extension": ".py",
   "mimetype": "text/x-python",
   "name": "python",
   "nbconvert_exporter": "python",
   "pygments_lexer": "ipython3",
   "version": "3.7.7"
  }
 },
 "nbformat": 4,
 "nbformat_minor": 4
}
