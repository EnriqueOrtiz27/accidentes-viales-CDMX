{
 "cells": [
  {
   "cell_type": "code",
   "execution_count": 28,
   "metadata": {
    "id": "dUwYDjX4Nhd3"
   },
   "outputs": [],
   "source": [
    "#%load_ext pycodestyle_magic\n",
    "#%pycodestyle_on\n",
    "\n",
    "import pandas as pd\n",
    "import numpy as np\n",
    "import pickle\n",
    "import time\n",
    "import datetime\n",
    "import re\n",
    "\n",
    "from sklearn.model_selection import train_test_split\n",
    "from sklearn import metrics\n",
    "from sklearn.feature_extraction.text import CountVectorizer\n",
    "from sklearn.compose import ColumnTransformer\n",
    "from sklearn.preprocessing import OneHotEncoder\n",
    "# from sklearn.impute import SimpleImputer\n",
    "from sklearn.feature_selection import VarianceThreshold\n",
    "\n",
    "from sklearn.model_selection import GridSearchCV\n",
    "from sklearn.ensemble import RandomForestClassifier\n"
   ]
  },
  {
   "cell_type": "code",
   "execution_count": 29,
   "metadata": {
    "id": "8ECzhrNAOgBC"
   },
   "outputs": [],
   "source": [
    "# define categorical, numerical and date columns\n",
    "CAT_COLS = [\"dia_semana\", \"codigo_cierre\", \"año_cierre\", \"mes_cierre\", \"mes\", \"delegacion_inicio\",\n",
    "            \"incidente_c4\", \"clas_con_f_alarma\", \"tipo_entrada\", \"delegacion_cierre\", \"hora_creacion\",\n",
    "           \"hora_cierre\"]\n",
    "\n",
    "DATE_COLS = [\"fecha_creacion\", \"fecha_cierre\"]\n",
    "\n",
    "NUM_COLS = [\"latitud\", \"longitud\"]#esto irá en el script ingestion .py\n",
    "def ingest_file(file_name):\n",
    "    \"\"\"\n",
    "    Function to retrieve and return the accidents dataset.\n",
    "    Parameters:\n",
    "    -----------\n",
    "    file_name: str\n",
    "               Path to the file.\n",
    "    Returns:\n",
    "    --------\n",
    "    df: pandas dataframe\n",
    "    \"\"\"\n",
    "    df = pd.read_csv(file_name)\n",
    "    return df\n",
    "\n",
    "\n",
    "def drop_cols(df):\n",
    "    \"\"\"\n",
    "    Function to drop unnnecesary columns in the dataset.\n",
    "    \"\"\"\n",
    "    df.drop(columns = ['folio', 'geopoint', 'mes', 'mes_cierre', 'hora_cierre', 'año_cierre'], inplace = True)\n",
    "    return df\n",
    "\n",
    "\n",
    "\n",
    "def fill_na(df):\n",
    "    \"\"\"\n",
    "    Function to fill null values in a dataframe.\n",
    "    \"\"\"\n",
    "    #aquí podemos ir agregando más cosas cuando descubramos \n",
    "    #cómo imputar valores faltantes para latitud y longitud\n",
    "    df.fillna({\n",
    "        'delegacion_inicio': 'No Disponible',\n",
    "        'delegacion_cierre': 'No Disponible'\n",
    "              }, inplace = True)\n",
    "    return df\n",
    "\n",
    "\n",
    "def categoric_transformation(col,df):\n",
    "    df[col] = df[col].astype(\"category\")\n",
    "    return df \n",
    "\n",
    "def create_categorical(cols, df):\n",
    "    \"\"\"\n",
    "    Function to transform and prepare the categorical features in the dataset.\n",
    "    \"\"\"\n",
    "    #transform to appropriate data type\n",
    "    for col in cols: \n",
    "        df = categoric_transformation(col, df)\n",
    "     \n",
    "    return df\n",
    "\n",
    "\n",
    "def date_transformation(col,df):\n",
    "    \"\"\"\n",
    "    Function to prepare and transform date-type columns. \n",
    "    \"\"\"\n",
    "    df[col] = pd.to_datetime(df[col], dayfirst=True)\n",
    "    return df\n",
    "\n",
    "def create_date_cols(cols, df):\n",
    "    for col in cols:\n",
    "        df = date_transformation(col, df)\n",
    "    return df \n",
    "\n",
    "\n",
    "\n",
    "def generate_label(df):\n",
    "    \"\"\"\n",
    "    Function to create a new column indicating whether there was\n",
    "    a false alarm or not. \n",
    "    Parameters:\n",
    "    -----------\n",
    "    df: pandas dataframe\n",
    "    \n",
    "    Returns:\n",
    "    --------\n",
    "    df: pandas dataframe\n",
    "    \"\"\"\n",
    "    #transformamos la columna para solo quedarnos con la letra del código\n",
    "    df[\"codigo_cierre\"] = df[\"codigo_cierre\"].apply(lambda x: x[1])\n",
    "    df['label'] = np.where(\n",
    "        (df.codigo_cierre == 'F') | (df.codigo_cierre == 'N'), 1, 0)\n",
    "    return df \n",
    "\n",
    "\n",
    "def clean_hora_creacion(df):\n",
    "    \"\"\"\n",
    "    Function to transform hours with incorrect format to timedelta format. \n",
    "    \"\"\"\n",
    "    horas_raw = df.hora_creacion.values.tolist()\n",
    "    horas_clean = [datetime.timedelta(days=float(e)) if e.startswith(\"0.\") else e for e in horas_raw]\n",
    "    df[\"hora_creacion\"] = horas_clean\n",
    "    return df \n",
    "\n",
    "\n",
    "def create_simple_hour(df):\n",
    "    \"\"\"\n",
    "    Function to extract the hour from the column \"hora_creacion\"\n",
    "    Parameters:\n",
    "    -----------\n",
    "    df: pandas dataframe\n",
    "    \n",
    "    Returns:\n",
    "    ---------\n",
    "    df: pandas dataframe with a new column indicating the hour. \n",
    "    \"\"\"\n",
    "    #la función se podria adaptar para devolver minuto o segundo pero no lo considero necesario\n",
    "    pattern = '\\d+' #encuentra uno o más dígitos\n",
    "    horas_raw = df.hora_creacion.astype(str).values #son así: '22:35:04', '22:50:49', '09:40:11'\n",
    "    n = len(horas_raw)\n",
    "    horas_clean = [0]*n #es más rápido reasignar valores que hacer .append()\n",
    "    for i in range(n):\n",
    "        hora_raw = horas_raw[i]\n",
    "        hora_clean = re.match(pattern, hora_raw)[0] #solo queremos la hora, esto devuelve un objeto\n",
    "        horas_clean[i] = hora_clean\n",
    "    \n",
    "    df[\"hora_simple\"] = horas_clean\n",
    "    return df \n",
    "\n",
    "\n",
    "def add_date_columns(df):\n",
    "    \"\"\"\n",
    "    Esta función es muy importante puesto que nos ayudará a crear el mes, día y año de creación\n",
    "    del registro. De esta manera podemos prescindir de las fechas de cierre, que no tendríamos en tiempo\n",
    "    real en un modelo. \n",
    "    Parameters:\n",
    "    -----------\n",
    "    df: pandas dataframe\n",
    "    \n",
    "    Returns:\n",
    "    ---------\n",
    "    df: pandas dataframe with 4 new columns\n",
    "    \"\"\"\n",
    "    mapping_meses = {1: \"Enero\", 2: \"Febrero\", 3: \"Marzo\", 4: \"Abril\", 5: \"Mayo\",\n",
    "                       6: \"Junio\", 7: \"Julio\", 8: \"Agosto\", 9: \"Septiembre\", 10: \"Octubre\",\n",
    "                       11: \"Noviembre\", 12: \"Diciembre\"}\n",
    "    \n",
    "    \n",
    "    df[\"año_creacion\"] = df.fecha_creacion.dt.year\n",
    "    df[\"mes_creacion\"] = df.fecha_creacion.dt.month\n",
    "    df[\"dia_creacion\"] = df.fecha_creacion.dt.day\n",
    "    df[\"mes_creacion_str\"] = df.mes_creacion.map(mapping_meses)\n",
    "    df[\"año_creacion\"] = df[\"año_creacion\"].astype(str)\n",
    "    return df \n",
    "\n",
    "\n",
    "def create_time_blocks(df):\n",
    "    \"\"\"\n",
    "    Function to group the hour of the day into 3-hour blocks.\n",
    "    Parameters:\n",
    "    -----------\n",
    "    df: pandas dataframe\n",
    "    \n",
    "    Returns:\n",
    "    ---------\n",
    "    df: pandas dataframe with a new column indicating the time-block.\n",
    "    \"\"\"\n",
    "    horas_int = set(df.hora_simple.astype(int).values) #estaba como categórico\n",
    "    f = lambda x: 12 if x == 0 else x\n",
    "    mapping_hours = {}\n",
    "    for hora in horas_int:\n",
    "        grupo = (hora // 3) * 3\n",
    "        if grupo < 12: \n",
    "            nombre_grupo = str(f(grupo)) + \"-\" + str(grupo + 2) + \" a.m.\"\n",
    "        else:\n",
    "            hora_tarde = grupo % 12\n",
    "            nombre_grupo = str(f(hora_tarde)) + \"-\" + str(hora_tarde + 2) + \" p.m.\"\n",
    "        mapping_hours[hora] = nombre_grupo\n",
    "    \n",
    "    df[\"espacio_del_dia\"] = df[\"hora_simple\"].astype(int).map(mapping_hours)\n",
    "    return df\n",
    "    \n",
    "\n",
    "    \n",
    "\n",
    "    \n",
    "def basic_preprocessing(path):\n",
    "    \"\"\"\n",
    "    Function to summarize all the preprocessing done to the data.\n",
    "    Parameters:\n",
    "    -----------\n",
    "    path: str\n",
    "          Path to your file\n",
    "    \n",
    "    Returns:\n",
    "    ---------\n",
    "    df: pandas dataframe\n",
    "    \"\"\"\n",
    "    df = ingest_file(path) \n",
    "    df = generate_label(df)\n",
    "    df = fill_na(df) \n",
    "    df = clean_hora_creacion(df)\n",
    "    df = create_categorical(CAT_COLS, df) #transform to appropriate data types\n",
    "    df = create_date_cols(DATE_COLS, df)\n",
    "    df = add_date_columns(df)\n",
    "    df = create_simple_hour(df)\n",
    "    df = create_time_blocks(df)\n",
    "    df = drop_cols(df)\n",
    "    \n",
    "    return df"
   ]
  },
  {
   "cell_type": "code",
   "execution_count": 60,
   "metadata": {
    "id": "zdaA2ELjOi1U"
   },
   "outputs": [],
   "source": [
    "# Hacemos un preprocesamiento básico\n",
    "incidentes_viales_df = basic_preprocessing('incidentes-viales-c5.csv')"
   ]
  },
  {
   "cell_type": "code",
   "execution_count": 61,
   "metadata": {
    "id": "MNLvOxrlWudZ"
   },
   "outputs": [],
   "source": [
    " # Eliminamos las columnas que no queremos\n",
    " incidentes = incidentes_viales_df.drop(['codigo_cierre',\n",
    "                                           'fecha_creacion', 'fecha_cierre',\n",
    "                                           'hora_creacion', 'clas_con_f_alarma',\n",
    "                                           'año_creacion', 'dia_semana', 'mes_creacion_str',\n",
    "                                           'delegacion_cierre'\n",
    "                                           ], axis=1)"
   ]
  },
  {
   "cell_type": "code",
   "execution_count": 62,
   "metadata": {
    "id": "US-3mmqMXyqh"
   },
   "outputs": [],
   "source": [
    "# Eliminamos los renglones NaN\n",
    "incidentes = incidentes[incidentes['incidente_c4'].notna()]\n",
    "\n"
   ]
  },
  {
   "cell_type": "code",
   "execution_count": null,
   "metadata": {
    "id": "aeXQ5TBh4P6r"
   },
   "outputs": [],
   "source": [
    "# Establecemos nuestras X y Y\n",
    "#X = incidentes[['dia_creacion', 'delegacion_inicio', 'incidente_c4',\n",
    "#                'tipo_entrada', 'espacio_del_dia', 'mes_creacion',\n",
    "#                'hora_simple']]\n",
    "#y = incidentes['label']"
   ]
  },
  {
   "cell_type": "markdown",
   "metadata": {
    "id": "xCu2gGlzyJxW"
   },
   "source": [
    "## Feature generation\n"
   ]
  },
  {
   "cell_type": "code",
   "execution_count": 65,
   "metadata": {
    "id": "yPuyTIHH6Qen"
   },
   "outputs": [],
   "source": [
    "incidentes.hora_simple = incidentes.hora_simple.astype(int)"
   ]
  },
  {
   "cell_type": "code",
   "execution_count": 66,
   "metadata": {
    "colab": {
     "base_uri": "https://localhost:8080/",
     "height": 424
    },
    "id": "Nklvn2qL4SKm",
    "outputId": "967809d4-455f-4f61-ae39-c35ea4eb4404"
   },
   "outputs": [
    {
     "data": {
      "text/html": [
       "<div>\n",
       "<style scoped>\n",
       "    .dataframe tbody tr th:only-of-type {\n",
       "        vertical-align: middle;\n",
       "    }\n",
       "\n",
       "    .dataframe tbody tr th {\n",
       "        vertical-align: top;\n",
       "    }\n",
       "\n",
       "    .dataframe thead th {\n",
       "        text-align: right;\n",
       "    }\n",
       "</style>\n",
       "<table border=\"1\" class=\"dataframe\">\n",
       "  <thead>\n",
       "    <tr style=\"text-align: right;\">\n",
       "      <th></th>\n",
       "      <th>delegacion_inicio</th>\n",
       "      <th>incidente_c4</th>\n",
       "      <th>latitud</th>\n",
       "      <th>longitud</th>\n",
       "      <th>tipo_entrada</th>\n",
       "      <th>label</th>\n",
       "      <th>mes_creacion</th>\n",
       "      <th>dia_creacion</th>\n",
       "      <th>hora_simple</th>\n",
       "      <th>espacio_del_dia</th>\n",
       "      <th>sin_hr</th>\n",
       "      <th>cos_hr</th>\n",
       "      <th>sin_month</th>\n",
       "      <th>cos_month</th>\n",
       "      <th>sin_day</th>\n",
       "      <th>cos_day</th>\n",
       "    </tr>\n",
       "  </thead>\n",
       "  <tbody>\n",
       "    <tr>\n",
       "      <th>0</th>\n",
       "      <td>VENUSTIANO CARRANZA</td>\n",
       "      <td>accidente-choque sin lesionados</td>\n",
       "      <td>19.422113</td>\n",
       "      <td>-99.084643</td>\n",
       "      <td>BOTÓN DE AUXILIO</td>\n",
       "      <td>0</td>\n",
       "      <td>1</td>\n",
       "      <td>23</td>\n",
       "      <td>22</td>\n",
       "      <td>9-11 p.m.</td>\n",
       "      <td>-5.000000e-01</td>\n",
       "      <td>0.866025</td>\n",
       "      <td>0.500000</td>\n",
       "      <td>0.866025</td>\n",
       "      <td>0.974928</td>\n",
       "      <td>-0.222521</td>\n",
       "    </tr>\n",
       "    <tr>\n",
       "      <th>1</th>\n",
       "      <td>CUAJIMALPA</td>\n",
       "      <td>accidente-choque con lesionados</td>\n",
       "      <td>19.358320</td>\n",
       "      <td>-99.297641</td>\n",
       "      <td>BOTÓN DE AUXILIO</td>\n",
       "      <td>0</td>\n",
       "      <td>1</td>\n",
       "      <td>23</td>\n",
       "      <td>22</td>\n",
       "      <td>9-11 p.m.</td>\n",
       "      <td>-5.000000e-01</td>\n",
       "      <td>0.866025</td>\n",
       "      <td>0.500000</td>\n",
       "      <td>0.866025</td>\n",
       "      <td>0.974928</td>\n",
       "      <td>-0.222521</td>\n",
       "    </tr>\n",
       "    <tr>\n",
       "      <th>2</th>\n",
       "      <td>TLALPAN</td>\n",
       "      <td>accidente-choque sin lesionados</td>\n",
       "      <td>19.217070</td>\n",
       "      <td>-99.219070</td>\n",
       "      <td>LLAMADA DEL 066</td>\n",
       "      <td>1</td>\n",
       "      <td>1</td>\n",
       "      <td>24</td>\n",
       "      <td>9</td>\n",
       "      <td>9-11 a.m.</td>\n",
       "      <td>7.071068e-01</td>\n",
       "      <td>-0.707107</td>\n",
       "      <td>0.500000</td>\n",
       "      <td>0.866025</td>\n",
       "      <td>0.433884</td>\n",
       "      <td>-0.900969</td>\n",
       "    </tr>\n",
       "    <tr>\n",
       "      <th>3</th>\n",
       "      <td>MAGDALENA CONTRERAS</td>\n",
       "      <td>accidente-choque sin lesionados</td>\n",
       "      <td>19.320580</td>\n",
       "      <td>-99.241010</td>\n",
       "      <td>LLAMADA DEL 066</td>\n",
       "      <td>1</td>\n",
       "      <td>1</td>\n",
       "      <td>24</td>\n",
       "      <td>22</td>\n",
       "      <td>9-11 p.m.</td>\n",
       "      <td>-5.000000e-01</td>\n",
       "      <td>0.866025</td>\n",
       "      <td>0.500000</td>\n",
       "      <td>0.866025</td>\n",
       "      <td>0.433884</td>\n",
       "      <td>-0.900969</td>\n",
       "    </tr>\n",
       "    <tr>\n",
       "      <th>4</th>\n",
       "      <td>MIGUEL HIDALGO</td>\n",
       "      <td>accidente-choque sin lesionados</td>\n",
       "      <td>19.452900</td>\n",
       "      <td>-99.215870</td>\n",
       "      <td>LLAMADA DEL 066</td>\n",
       "      <td>0</td>\n",
       "      <td>1</td>\n",
       "      <td>24</td>\n",
       "      <td>4</td>\n",
       "      <td>3-5 a.m.</td>\n",
       "      <td>8.660254e-01</td>\n",
       "      <td>0.500000</td>\n",
       "      <td>0.500000</td>\n",
       "      <td>0.866025</td>\n",
       "      <td>0.433884</td>\n",
       "      <td>-0.900969</td>\n",
       "    </tr>\n",
       "    <tr>\n",
       "      <th>...</th>\n",
       "      <td>...</td>\n",
       "      <td>...</td>\n",
       "      <td>...</td>\n",
       "      <td>...</td>\n",
       "      <td>...</td>\n",
       "      <td>...</td>\n",
       "      <td>...</td>\n",
       "      <td>...</td>\n",
       "      <td>...</td>\n",
       "      <td>...</td>\n",
       "      <td>...</td>\n",
       "      <td>...</td>\n",
       "      <td>...</td>\n",
       "      <td>...</td>\n",
       "      <td>...</td>\n",
       "      <td>...</td>\n",
       "    </tr>\n",
       "    <tr>\n",
       "      <th>1383133</th>\n",
       "      <td>GUSTAVO A. MADERO</td>\n",
       "      <td>lesionado-atropellado</td>\n",
       "      <td>19.550230</td>\n",
       "      <td>-99.151710</td>\n",
       "      <td>LLAMADA DEL 911</td>\n",
       "      <td>0</td>\n",
       "      <td>10</td>\n",
       "      <td>31</td>\n",
       "      <td>11</td>\n",
       "      <td>9-11 a.m.</td>\n",
       "      <td>2.588190e-01</td>\n",
       "      <td>-0.965926</td>\n",
       "      <td>-0.866025</td>\n",
       "      <td>0.500000</td>\n",
       "      <td>0.433884</td>\n",
       "      <td>-0.900969</td>\n",
       "    </tr>\n",
       "    <tr>\n",
       "      <th>1383134</th>\n",
       "      <td>CUAUHTEMOC</td>\n",
       "      <td>accidente-ciclista</td>\n",
       "      <td>19.443780</td>\n",
       "      <td>-99.136960</td>\n",
       "      <td>LLAMADA DEL 911</td>\n",
       "      <td>0</td>\n",
       "      <td>10</td>\n",
       "      <td>31</td>\n",
       "      <td>11</td>\n",
       "      <td>9-11 a.m.</td>\n",
       "      <td>2.588190e-01</td>\n",
       "      <td>-0.965926</td>\n",
       "      <td>-0.866025</td>\n",
       "      <td>0.500000</td>\n",
       "      <td>0.433884</td>\n",
       "      <td>-0.900969</td>\n",
       "    </tr>\n",
       "    <tr>\n",
       "      <th>1383135</th>\n",
       "      <td>COYOACAN</td>\n",
       "      <td>accidente-choque con lesionados</td>\n",
       "      <td>19.346310</td>\n",
       "      <td>-99.144900</td>\n",
       "      <td>LLAMADA DEL 911</td>\n",
       "      <td>0</td>\n",
       "      <td>10</td>\n",
       "      <td>31</td>\n",
       "      <td>12</td>\n",
       "      <td>12-2 p.m.</td>\n",
       "      <td>1.224647e-16</td>\n",
       "      <td>-1.000000</td>\n",
       "      <td>-0.866025</td>\n",
       "      <td>0.500000</td>\n",
       "      <td>0.433884</td>\n",
       "      <td>-0.900969</td>\n",
       "    </tr>\n",
       "    <tr>\n",
       "      <th>1383136</th>\n",
       "      <td>IZTAPALAPA</td>\n",
       "      <td>accidente-choque sin lesionados</td>\n",
       "      <td>19.367560</td>\n",
       "      <td>-99.056450</td>\n",
       "      <td>LLAMADA DEL 911</td>\n",
       "      <td>1</td>\n",
       "      <td>10</td>\n",
       "      <td>31</td>\n",
       "      <td>15</td>\n",
       "      <td>3-5 p.m.</td>\n",
       "      <td>-7.071068e-01</td>\n",
       "      <td>-0.707107</td>\n",
       "      <td>-0.866025</td>\n",
       "      <td>0.500000</td>\n",
       "      <td>0.433884</td>\n",
       "      <td>-0.900969</td>\n",
       "    </tr>\n",
       "    <tr>\n",
       "      <th>1383137</th>\n",
       "      <td>AZCAPOTZALCO</td>\n",
       "      <td>accidente-choque sin lesionados</td>\n",
       "      <td>19.471390</td>\n",
       "      <td>-99.166060</td>\n",
       "      <td>LLAMADA DEL 911</td>\n",
       "      <td>0</td>\n",
       "      <td>10</td>\n",
       "      <td>31</td>\n",
       "      <td>15</td>\n",
       "      <td>3-5 p.m.</td>\n",
       "      <td>-7.071068e-01</td>\n",
       "      <td>-0.707107</td>\n",
       "      <td>-0.866025</td>\n",
       "      <td>0.500000</td>\n",
       "      <td>0.433884</td>\n",
       "      <td>-0.900969</td>\n",
       "    </tr>\n",
       "  </tbody>\n",
       "</table>\n",
       "<p>1383138 rows × 16 columns</p>\n",
       "</div>"
      ],
      "text/plain": [
       "           delegacion_inicio  ...   cos_day\n",
       "0        VENUSTIANO CARRANZA  ... -0.222521\n",
       "1                 CUAJIMALPA  ... -0.222521\n",
       "2                    TLALPAN  ... -0.900969\n",
       "3        MAGDALENA CONTRERAS  ... -0.900969\n",
       "4             MIGUEL HIDALGO  ... -0.900969\n",
       "...                      ...  ...       ...\n",
       "1383133    GUSTAVO A. MADERO  ... -0.900969\n",
       "1383134           CUAUHTEMOC  ... -0.900969\n",
       "1383135             COYOACAN  ... -0.900969\n",
       "1383136           IZTAPALAPA  ... -0.900969\n",
       "1383137         AZCAPOTZALCO  ... -0.900969\n",
       "\n",
       "[1383138 rows x 16 columns]"
      ]
     },
     "execution_count": 66,
     "metadata": {
      "tags": []
     },
     "output_type": "execute_result"
    }
   ],
   "source": [
    "# Transformaciones cíclicas\n",
    "\n",
    "HOURS = 24\n",
    "MONTHS = 12\n",
    "DAYS = 7\n",
    "\n",
    "incidentes['sin_hr'] = np.sin(2*np.pi*incidentes.hora_simple/HOURS)\n",
    "incidentes['cos_hr'] = np.cos(2*np.pi*incidentes.hora_simple/HOURS)\n",
    "\n",
    "incidentes['sin_month'] = np.sin(2*np.pi*incidentes.mes_creacion/MONTHS)\n",
    "incidentes['cos_month'] = np.cos(2*np.pi*incidentes.mes_creacion/MONTHS)\n",
    "\n",
    "incidentes['sin_day'] = np.sin(2*np.pi*incidentes.dia_creacion/DAYS)\n",
    "incidentes['cos_day'] = np.cos(2*np.pi*incidentes.dia_creacion/DAYS)\n",
    "\n",
    "incidentes"
   ]
  },
  {
   "cell_type": "code",
   "execution_count": 71,
   "metadata": {
    "id": "KPlSBJoV7Kwy"
   },
   "outputs": [],
   "source": []
  },
  {
   "cell_type": "markdown",
   "metadata": {
    "id": "RGMmG5iJ5Bt3"
   },
   "source": [
    "\n",
    "### Pre-procesamiento con OneHotEncoder"
   ]
  },
  {
   "cell_type": "code",
   "execution_count": 68,
   "metadata": {
    "id": "LdKryfYTOnlp"
   },
   "outputs": [],
   "source": [
    "transformers = [('one_hot', OneHotEncoder(), ['delegacion_inicio', 'incidente_c4',\n",
    "                                               'tipo_entrada', 'espacio_del_dia'])]\n",
    "\n",
    "col_trans = ColumnTransformer(transformers, remainder=\"drop\", n_jobs=-1, verbose=True)"
   ]
  },
  {
   "cell_type": "code",
   "execution_count": 69,
   "metadata": {
    "colab": {
     "base_uri": "https://localhost:8080/"
    },
    "id": "l5tnZ5D-WV4d",
    "outputId": "83389278-d6f8-4788-f99f-5018fd33f3f8"
   },
   "outputs": [
    {
     "data": {
      "text/plain": [
       "ColumnTransformer(n_jobs=-1, remainder='drop', sparse_threshold=0.3,\n",
       "                  transformer_weights=None,\n",
       "                  transformers=[('one_hot',\n",
       "                                 OneHotEncoder(categories='auto', drop=None,\n",
       "                                               dtype=<class 'numpy.float64'>,\n",
       "                                               handle_unknown='error',\n",
       "                                               sparse=True),\n",
       "                                 ['delegacion_inicio', 'incidente_c4',\n",
       "                                  'tipo_entrada', 'espacio_del_dia'])],\n",
       "                  verbose=True)"
      ]
     },
     "execution_count": 69,
     "metadata": {
      "tags": []
     },
     "output_type": "execute_result"
    }
   ],
   "source": [
    "  col_trans.fit(incidentes)"
   ]
  },
  {
   "cell_type": "code",
   "execution_count": 70,
   "metadata": {
    "id": "FmWHI4xIWYQM"
   },
   "outputs": [],
   "source": [
    "incidente_input_vars = col_trans.transform(incidentes)"
   ]
  },
  {
   "cell_type": "code",
   "execution_count": 71,
   "metadata": {
    "colab": {
     "base_uri": "https://localhost:8080/"
    },
    "id": "Jh2mM4llsPWy",
    "outputId": "96a36036-9598-4888-f47d-c07b969b34bf"
   },
   "outputs": [
    {
     "data": {
      "text/plain": [
       "(1383138, 60)"
      ]
     },
     "execution_count": 71,
     "metadata": {
      "tags": []
     },
     "output_type": "execute_result"
    }
   ],
   "source": [
    "incidente_input_vars.shape"
   ]
  },
  {
   "cell_type": "code",
   "execution_count": 73,
   "metadata": {
    "id": "U9P476yQYj1G"
   },
   "outputs": [],
   "source": [
    "X = incidente_input_vars\n",
    "y = incidentes.label.values.reshape(incidente_input_vars.shape[0],)"
   ]
  },
  {
   "cell_type": "code",
   "execution_count": 74,
   "metadata": {
    "id": "evW1bR8UYnOG"
   },
   "outputs": [],
   "source": [
    "np.random.seed(1993)"
   ]
  },
  {
   "cell_type": "markdown",
   "metadata": {
    "id": "EPOfXWnTygdK"
   },
   "source": [
    "## Feature selection"
   ]
  },
  {
   "cell_type": "code",
   "execution_count": 75,
   "metadata": {
    "colab": {
     "base_uri": "https://localhost:8080/"
    },
    "id": "rezLtL6LbWUz",
    "outputId": "f000df9a-bded-4179-8f3a-5217bba21f8b"
   },
   "outputs": [
    {
     "data": {
      "text/plain": [
       "VarianceThreshold(threshold=0.07)"
      ]
     },
     "execution_count": 75,
     "metadata": {
      "tags": []
     },
     "output_type": "execute_result"
    }
   ],
   "source": [
    "variance_threshold = VarianceThreshold(threshold=0.07)\n",
    "variance_threshold.fit(incidente_input_vars)"
   ]
  },
  {
   "cell_type": "code",
   "execution_count": 76,
   "metadata": {
    "colab": {
     "base_uri": "https://localhost:8080/"
    },
    "id": "fhXGMeYLbtSu",
    "outputId": "11598591-8f38-4774-d7d6-ee4c70b4984f"
   },
   "outputs": [
    {
     "data": {
      "text/plain": [
       "<1383138x16 sparse matrix of type '<class 'numpy.float64'>'\n",
       "\twith 4441001 stored elements in Compressed Sparse Row format>"
      ]
     },
     "execution_count": 76,
     "metadata": {
      "tags": []
     },
     "output_type": "execute_result"
    }
   ],
   "source": [
    "variance_threshold.transform(incidente_input_vars)"
   ]
  },
  {
   "cell_type": "code",
   "execution_count": 77,
   "metadata": {
    "colab": {
     "base_uri": "https://localhost:8080/"
    },
    "id": "hBzlOD9Cbvf3",
    "outputId": "08b69301-08b1-42e9-9e5a-85a30f8b4855"
   },
   "outputs": [
    {
     "data": {
      "text/plain": [
       "array([6.83507347e-02, 4.20408739e-02, 6.97353427e-02, 7.32931485e-02,\n",
       "       1.89410199e-02, 9.17748871e-02, 9.36266865e-02, 4.05505916e-02,\n",
       "       1.35569539e-01, 1.42943125e-02, 7.67517022e-02, 5.02532276e-03,\n",
       "       1.14219949e-04, 2.35786241e-02, 5.91581834e-02, 6.35880865e-02,\n",
       "       3.65665256e-02, 2.16897626e-06, 1.75888331e-01, 1.68461965e-03,\n",
       "       2.47515873e-01, 1.96123515e-03, 3.97630699e-05, 2.24123010e-05,\n",
       "       3.86131149e-02, 1.77900320e-03, 4.03739193e-03, 8.09819018e-04,\n",
       "       3.54141387e-04, 6.15611151e-04, 2.24391510e-02, 7.82389038e-04,\n",
       "       1.42587354e-03, 1.10605793e-04, 5.07283948e-04, 4.35784544e-03,\n",
       "       1.20355062e-01, 3.97630699e-05, 7.22993134e-07, 2.68881304e-04,\n",
       "       1.44598522e-06, 3.90264149e-04, 1.66285776e-05, 5.85590566e-05,\n",
       "       5.36171834e-02, 2.36291730e-03, 6.80914207e-03, 2.22794267e-01,\n",
       "       2.48807168e-01, 5.30522411e-02, 3.38436906e-03, 4.64227888e-03,\n",
       "       6.38177623e-02, 1.25450057e-01, 3.81468199e-02, 1.46773390e-01,\n",
       "       8.05244898e-02, 1.57923462e-01, 1.07308968e-01, 1.33602139e-01])"
      ]
     },
     "execution_count": 77,
     "metadata": {
      "tags": []
     },
     "output_type": "execute_result"
    }
   ],
   "source": [
    "variance_threshold.variances_"
   ]
  },
  {
   "cell_type": "markdown",
   "metadata": {
    "id": "DvEq9K1T52ii"
   },
   "source": [
    "# GridSearch\n"
   ]
  },
  {
   "cell_type": "code",
   "execution_count": null,
   "metadata": {
    "id": "uOA8-AxRbxZW"
   },
   "outputs": [],
   "source": [
    "# ocuparemos un RF\n",
    "classifier = RandomForestClassifier(oob_score=True, random_state=1993)\n",
    "# separando en train, test\n",
    "X_train, X_test, y_train, y_test = train_test_split(X, y)\n",
    "\n",
    "# definicion de los hiperparametros que queremos probar\n",
    "hyper_param_grid = {'n_estimators': [200, 500], \n",
    "                    'max_depth': [5, 8, 10],\n",
    "                    'min_samples_split': [2, 5]}\n",
    "\n",
    "# ocupemos grid search!\n",
    "gs = GridSearchCV(classifier, \n",
    "                           hyper_param_grid, \n",
    "                           scoring = 'precision',\n",
    "                           cv = 3, # temporales y no aleatorios\n",
    "                           n_jobs = -1)\n",
    "start_time = time.time()\n",
    "gs.fit(X, y)\n",
    "print(\"Tiempo en ejecutar: \", time.time() - start_time)"
   ]
  },
  {
   "cell_type": "code",
   "execution_count": null,
   "metadata": {
    "colab": {
     "base_uri": "https://localhost:8080/"
    },
    "id": "_8ys0AGrb-f6",
    "outputId": "7521c699-7912-4cfa-d42d-b698f58bd8d3"
   },
   "outputs": [
    {
     "data": {
      "text/plain": [
       "{'criterion': 'gini',\n",
       " 'max_depth': 5,\n",
       " 'min_samples_split': 2,\n",
       " 'n_estimators': 200}"
      ]
     },
     "execution_count": 41,
     "metadata": {
      "tags": []
     },
     "output_type": "execute_result"
    }
   ],
   "source": [
    "# Obtenemos los mejores parámetros\n",
    "gs.best_params_"
   ]
  },
  {
   "cell_type": "code",
   "execution_count": null,
   "metadata": {
    "colab": {
     "base_uri": "https://localhost:8080/"
    },
    "id": "5yOmIQqIqcos",
    "outputId": "81744da2-b410-4ee6-c425-ab595dee8191"
   },
   "outputs": [
    {
     "data": {
      "text/plain": [
       "RandomForestClassifier(bootstrap=True, ccp_alpha=0.0, class_weight=None,\n",
       "                       criterion='gini', max_depth=5, max_features='auto',\n",
       "                       max_leaf_nodes=None, max_samples=None,\n",
       "                       min_impurity_decrease=0.0, min_impurity_split=None,\n",
       "                       min_samples_leaf=1, min_samples_split=2,\n",
       "                       min_weight_fraction_leaf=0.0, n_estimators=200,\n",
       "                       n_jobs=None, oob_score=True, random_state=1993,\n",
       "                       verbose=0, warm_start=False)"
      ]
     },
     "execution_count": 43,
     "metadata": {
      "tags": []
     },
     "output_type": "execute_result"
    }
   ],
   "source": [
    "gs.best_estimator_"
   ]
  },
  {
   "cell_type": "code",
   "execution_count": null,
   "metadata": {
    "colab": {
     "base_uri": "https://localhost:8080/"
    },
    "id": "vgIQIKX_qfOg",
    "outputId": "5550fd42-6196-4fd9-b636-963b0ecadf6f"
   },
   "outputs": [
    {
     "data": {
      "text/plain": [
       "0.7909763601937962"
      ]
     },
     "execution_count": 44,
     "metadata": {
      "tags": []
     },
     "output_type": "execute_result"
    }
   ],
   "source": [
    "gs.best_estimator_.oob_score_"
   ]
  },
  {
   "cell_type": "markdown",
   "metadata": {
    "id": "FBPzzo6RcCXT"
   },
   "source": [
    "## Features importantes"
   ]
  },
  {
   "cell_type": "code",
   "execution_count": null,
   "metadata": {
    "id": "ZKipuVNKgDXc"
   },
   "outputs": [],
   "source": [
    "# Obtenemos los estimadores de los features importantes\n",
    "feature_imp = pd.Series(gs.best_estimator_.feature_importances_,index=col_trans.get_feature_names()).sort_values(ascending=False)"
   ]
  },
  {
   "cell_type": "code",
   "execution_count": null,
   "metadata": {
    "id": "xFA1zbz2Ceqp"
   },
   "outputs": [],
   "source": [
    "feature_imp"
   ]
  },
  {
   "cell_type": "markdown",
   "metadata": {
    "id": "myoJY5a6cc-g"
   },
   "source": [
    "## Prediction"
   ]
  },
  {
   "cell_type": "code",
   "execution_count": null,
   "metadata": {
    "id": "uyGqf9LUqhlo"
   },
   "outputs": [],
   "source": [
    "predicted_labels = gs.predict(X_test)"
   ]
  },
  {
   "cell_type": "code",
   "execution_count": null,
   "metadata": {
    "id": "X3GJOUjBqjZz"
   },
   "outputs": [],
   "source": [
    "predicted_scores = gs.predict_proba(X_test)"
   ]
  },
  {
   "cell_type": "code",
   "execution_count": null,
   "metadata": {
    "colab": {
     "base_uri": "https://localhost:8080/"
    },
    "id": "1qvAIlruqk-5",
    "outputId": "f5cd2c59-df6a-4ca7-b16f-fe766213270f"
   },
   "outputs": [
    {
     "data": {
      "text/plain": [
       "array([[0.88651998, 0.11348002],\n",
       "       [0.74214685, 0.25785315],\n",
       "       [0.82098888, 0.17901112],\n",
       "       ...,\n",
       "       [0.81857563, 0.18142437],\n",
       "       [0.74479317, 0.25520683],\n",
       "       [0.73859786, 0.26140214]])"
      ]
     },
     "execution_count": 47,
     "metadata": {
      "tags": []
     },
     "output_type": "execute_result"
    }
   ],
   "source": [
    "predicted_scores"
   ]
  },
  {
   "cell_type": "code",
   "execution_count": null,
   "metadata": {
    "id": "iVRAN5j_qnG8"
   },
   "outputs": [],
   "source": []
  }
 ],
 "metadata": {
  "colab": {
   "collapsed_sections": [],
   "name": "feature_engineering_ACCIDENTES",
   "provenance": [],
   "toc_visible": true
  },
  "kernelspec": {
   "display_name": "Python 3",
   "language": "python",
   "name": "python3"
  },
  "language_info": {
   "codemirror_mode": {
    "name": "ipython",
    "version": 3
   },
   "file_extension": ".py",
   "mimetype": "text/x-python",
   "name": "python",
   "nbconvert_exporter": "python",
   "pygments_lexer": "ipython3",
   "version": "3.7.4"
  }
 },
 "nbformat": 4,
 "nbformat_minor": 1
}
