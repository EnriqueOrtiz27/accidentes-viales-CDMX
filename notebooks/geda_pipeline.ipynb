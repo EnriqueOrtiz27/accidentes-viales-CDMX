{
 "cells": [
  {
   "cell_type": "markdown",
   "metadata": {
    "ExecuteTime": {
     "end_time": "2020-11-17T13:56:14.724370Z",
     "start_time": "2020-11-17T13:56:12.485599Z"
    }
   },
   "source": [
    "# Pipeline de transformación y exploración gráfica de los datos.\n",
    "\n",
    "El propósito de este notebook es crear un conjunto de funciones que nos ayuden a preparar y transformar los datos para el resto de las operaciones. También se muestran aquí las gráficas del slide deck del EDA. "
   ]
  },
  {
   "cell_type": "code",
   "execution_count": 2,
   "metadata": {
    "ExecuteTime": {
     "end_time": "2020-11-18T12:42:16.425823Z",
     "start_time": "2020-11-18T12:42:14.124331Z"
    }
   },
   "outputs": [],
   "source": [
    "#%load_ext pycodestyle_magic\n",
    "#%pycodestyle_on\n",
    "\n",
    "import pandas as pd\n",
    "import numpy as np\n",
    "import matplotlib.pyplot as plt\n",
    "import seaborn as sns\n",
    "\n",
    "from matplotlib.ticker import FuncFormatter"
   ]
  },
  {
   "cell_type": "code",
   "execution_count": 4,
   "metadata": {
    "ExecuteTime": {
     "end_time": "2020-11-18T12:57:20.055583Z",
     "start_time": "2020-11-18T12:57:20.045174Z"
    }
   },
   "outputs": [],
   "source": [
    "#define categorical, numerical and date columns\n",
    "CAT_COLS = [\"dia_semana\", \"codigo_cierre\", \"año_cierre\", \"mes_cierre\", \"mes\", \"delegacion_inicio\", \n",
    "            \"incidente_c4\", \"clas_con_f_alarma\", \"tipo_entrada\", \"delegacion_cierre\", \"hora_creacion\",\n",
    "           \"hora_cierre\"]\n",
    "\n",
    "DATE_COLS = [\"fecha_creacion\", \"fecha_cierre\"]\n",
    "\n",
    "NUM_COLS = [\"latitud\", \"longitud\"]"
   ]
  },
  {
   "cell_type": "code",
   "execution_count": 10,
   "metadata": {
    "ExecuteTime": {
     "end_time": "2020-11-18T13:13:31.752877Z",
     "start_time": "2020-11-18T13:13:31.717794Z"
    }
   },
   "outputs": [],
   "source": [
    "#esto irá en el script ingestion .py\n",
    "def ingest_file(file_name):\n",
    "    \"\"\"\n",
    "    Function to retrieve and return the accidents dataset.\n",
    "    Parameters:\n",
    "    -----------\n",
    "    file_name: str\n",
    "               Path to the file.\n",
    "    Returns:\n",
    "    --------\n",
    "    df: pandas dataframe\n",
    "    \"\"\"\n",
    "    df = pd.read_csv(file_name)\n",
    "    return df\n",
    "\n",
    "\n",
    "def drop_cols(df):\n",
    "    \"\"\"\n",
    "    Function to drop unnnecesary columns in the dataset.\n",
    "    \"\"\"\n",
    "    df.drop(columns = ['folio', 'geopoint'], inplace = True)\n",
    "    return df\n",
    "\n",
    "\n",
    "\n",
    "def fill_na(df):\n",
    "    \"\"\"\n",
    "    Function to fill null values in a dataframe.\n",
    "    \"\"\"\n",
    "    #aquí podemos ir agregando más cosas cuando descubramos \n",
    "    #cómo imputar valores faltantes para latitud y longitud\n",
    "    df.fillna({\n",
    "        'delegacion_inicio': 'No Disponible',\n",
    "        'delegacion_cierre': 'No Disponible'\n",
    "              }, inplace = True)\n",
    "    return df\n",
    "\n",
    "\n",
    "def categoric_transformation(col,df):\n",
    "    df[col] = df[col].astype(\"category\")\n",
    "    return df \n",
    "\n",
    "def create_categorical(cols, df):\n",
    "    \"\"\"\n",
    "    Function to transform and prepare the categorical features in the dataset.\n",
    "    \"\"\"\n",
    "    #transform to appropriate data type\n",
    "    for col in cols: \n",
    "        df = categoric_transformation(col, df)\n",
    "     \n",
    "    return df\n",
    "\n",
    "\n",
    "def date_transformation(col,df):\n",
    "    \"\"\"\n",
    "    Function to prepare and transform date-type columns. \n",
    "    \"\"\"\n",
    "    df[col] = pd.to_datetime(df[col])\n",
    "    return df\n",
    "\n",
    "def create_date_cols(cols, df):\n",
    "    for col in cols:\n",
    "        df = date_transformation(col, df)\n",
    "    return df \n",
    "\n",
    "\n",
    "\n",
    "def generate_label(df):\n",
    "    \"\"\"\n",
    "    Function to create a new column indicating whether there was\n",
    "    a false alarm or not. \n",
    "    Parameters:\n",
    "    -----------\n",
    "    df: pandas dataframe\n",
    "    \n",
    "    Returns:\n",
    "    --------\n",
    "    df: pandas dataframe\n",
    "    \"\"\"\n",
    "    #transformamos la columna para solo quedarnos con la letra del código\n",
    "    df[\"codigo_cierre\"] = df[\"codigo_cierre\"].apply(lambda x: x[1])\n",
    "    df['label'] = np.where(\n",
    "        (df.codigo_cierre == 'F') | (df.codigo_cierre == 'N'), 1, 0)\n",
    "    return df \n",
    "\n",
    "\n",
    "def basic_preprocessing(path):\n",
    "    \"\"\"\n",
    "    Function to summarize all the preprocessing done to the data.\n",
    "    Parameters:\n",
    "    -----------\n",
    "    path: str\n",
    "          Path to your file\n",
    "    \n",
    "    Returns:\n",
    "    ---------\n",
    "    df: pandas dataframe\n",
    "    \"\"\"\n",
    "    df = ingest_file(path) \n",
    "    df = drop_cols(df) \n",
    "    df = generate_label(df) \n",
    "    df = fill_na(df) \n",
    "    df = create_categorical(CAT_COLS, df) #transform to appropriate data types\n",
    "    df = create_date_cols(DATE_COLS, df)\n",
    "    \n",
    "    return df\n"
   ]
  },
  {
   "cell_type": "code",
   "execution_count": 11,
   "metadata": {
    "ExecuteTime": {
     "end_time": "2020-11-18T13:13:47.044664Z",
     "start_time": "2020-11-18T13:13:32.764511Z"
    }
   },
   "outputs": [
    {
     "data": {
      "text/html": [
       "<div>\n",
       "<style scoped>\n",
       "    .dataframe tbody tr th:only-of-type {\n",
       "        vertical-align: middle;\n",
       "    }\n",
       "\n",
       "    .dataframe tbody tr th {\n",
       "        vertical-align: top;\n",
       "    }\n",
       "\n",
       "    .dataframe thead th {\n",
       "        text-align: right;\n",
       "    }\n",
       "</style>\n",
       "<table border=\"1\" class=\"dataframe\">\n",
       "  <thead>\n",
       "    <tr style=\"text-align: right;\">\n",
       "      <th></th>\n",
       "      <th>fecha_creacion</th>\n",
       "      <th>hora_creacion</th>\n",
       "      <th>dia_semana</th>\n",
       "      <th>codigo_cierre</th>\n",
       "      <th>fecha_cierre</th>\n",
       "      <th>año_cierre</th>\n",
       "      <th>mes_cierre</th>\n",
       "      <th>hora_cierre</th>\n",
       "      <th>delegacion_inicio</th>\n",
       "      <th>incidente_c4</th>\n",
       "      <th>latitud</th>\n",
       "      <th>longitud</th>\n",
       "      <th>clas_con_f_alarma</th>\n",
       "      <th>tipo_entrada</th>\n",
       "      <th>delegacion_cierre</th>\n",
       "      <th>mes</th>\n",
       "      <th>label</th>\n",
       "    </tr>\n",
       "  </thead>\n",
       "  <tbody>\n",
       "    <tr>\n",
       "      <th>0</th>\n",
       "      <td>2016-01-23</td>\n",
       "      <td>22:35:04</td>\n",
       "      <td>Sábado</td>\n",
       "      <td>A</td>\n",
       "      <td>2016-01-24</td>\n",
       "      <td>2016</td>\n",
       "      <td>Enero</td>\n",
       "      <td>00:21:08</td>\n",
       "      <td>VENUSTIANO CARRANZA</td>\n",
       "      <td>accidente-choque sin lesionados</td>\n",
       "      <td>19.422113</td>\n",
       "      <td>-99.084643</td>\n",
       "      <td>EMERGENCIA</td>\n",
       "      <td>BOTÓN DE AUXILIO</td>\n",
       "      <td>VENUSTIANO CARRANZA</td>\n",
       "      <td>1</td>\n",
       "      <td>0</td>\n",
       "    </tr>\n",
       "    <tr>\n",
       "      <th>1</th>\n",
       "      <td>2016-01-23</td>\n",
       "      <td>22:50:49</td>\n",
       "      <td>Sábado</td>\n",
       "      <td>A</td>\n",
       "      <td>2016-01-24</td>\n",
       "      <td>2016</td>\n",
       "      <td>Enero</td>\n",
       "      <td>04:40:37</td>\n",
       "      <td>CUAJIMALPA</td>\n",
       "      <td>accidente-choque con lesionados</td>\n",
       "      <td>19.358320</td>\n",
       "      <td>-99.297641</td>\n",
       "      <td>URGENCIAS MEDICAS</td>\n",
       "      <td>BOTÓN DE AUXILIO</td>\n",
       "      <td>CUAJIMALPA</td>\n",
       "      <td>1</td>\n",
       "      <td>0</td>\n",
       "    </tr>\n",
       "    <tr>\n",
       "      <th>2</th>\n",
       "      <td>2016-01-24</td>\n",
       "      <td>09:40:11</td>\n",
       "      <td>Domingo</td>\n",
       "      <td>N</td>\n",
       "      <td>2016-01-24</td>\n",
       "      <td>2016</td>\n",
       "      <td>Enero</td>\n",
       "      <td>11:13:03</td>\n",
       "      <td>TLALPAN</td>\n",
       "      <td>accidente-choque sin lesionados</td>\n",
       "      <td>19.217070</td>\n",
       "      <td>-99.219070</td>\n",
       "      <td>EMERGENCIA</td>\n",
       "      <td>LLAMADA DEL 066</td>\n",
       "      <td>TLALPAN</td>\n",
       "      <td>1</td>\n",
       "      <td>1</td>\n",
       "    </tr>\n",
       "    <tr>\n",
       "      <th>3</th>\n",
       "      <td>2016-01-24</td>\n",
       "      <td>22:40:57</td>\n",
       "      <td>Domingo</td>\n",
       "      <td>N</td>\n",
       "      <td>2016-01-24</td>\n",
       "      <td>2016</td>\n",
       "      <td>Enero</td>\n",
       "      <td>22:55:51</td>\n",
       "      <td>MAGDALENA CONTRERAS</td>\n",
       "      <td>accidente-choque sin lesionados</td>\n",
       "      <td>19.320580</td>\n",
       "      <td>-99.241010</td>\n",
       "      <td>EMERGENCIA</td>\n",
       "      <td>LLAMADA DEL 066</td>\n",
       "      <td>MAGDALENA CONTRERAS</td>\n",
       "      <td>1</td>\n",
       "      <td>1</td>\n",
       "    </tr>\n",
       "    <tr>\n",
       "      <th>4</th>\n",
       "      <td>2016-01-24</td>\n",
       "      <td>04:25:15</td>\n",
       "      <td>Domingo</td>\n",
       "      <td>A</td>\n",
       "      <td>2016-01-24</td>\n",
       "      <td>2016</td>\n",
       "      <td>Enero</td>\n",
       "      <td>05:03:59</td>\n",
       "      <td>MIGUEL HIDALGO</td>\n",
       "      <td>accidente-choque sin lesionados</td>\n",
       "      <td>19.452900</td>\n",
       "      <td>-99.215870</td>\n",
       "      <td>EMERGENCIA</td>\n",
       "      <td>LLAMADA DEL 066</td>\n",
       "      <td>MIGUEL HIDALGO</td>\n",
       "      <td>1</td>\n",
       "      <td>0</td>\n",
       "    </tr>\n",
       "  </tbody>\n",
       "</table>\n",
       "</div>"
      ],
      "text/plain": [
       "  fecha_creacion hora_creacion dia_semana codigo_cierre fecha_cierre  \\\n",
       "0     2016-01-23      22:35:04     Sábado             A   2016-01-24   \n",
       "1     2016-01-23      22:50:49     Sábado             A   2016-01-24   \n",
       "2     2016-01-24      09:40:11    Domingo             N   2016-01-24   \n",
       "3     2016-01-24      22:40:57    Domingo             N   2016-01-24   \n",
       "4     2016-01-24      04:25:15    Domingo             A   2016-01-24   \n",
       "\n",
       "  año_cierre mes_cierre hora_cierre    delegacion_inicio  \\\n",
       "0       2016      Enero    00:21:08  VENUSTIANO CARRANZA   \n",
       "1       2016      Enero    04:40:37           CUAJIMALPA   \n",
       "2       2016      Enero    11:13:03              TLALPAN   \n",
       "3       2016      Enero    22:55:51  MAGDALENA CONTRERAS   \n",
       "4       2016      Enero    05:03:59       MIGUEL HIDALGO   \n",
       "\n",
       "                      incidente_c4    latitud   longitud  clas_con_f_alarma  \\\n",
       "0  accidente-choque sin lesionados  19.422113 -99.084643         EMERGENCIA   \n",
       "1  accidente-choque con lesionados  19.358320 -99.297641  URGENCIAS MEDICAS   \n",
       "2  accidente-choque sin lesionados  19.217070 -99.219070         EMERGENCIA   \n",
       "3  accidente-choque sin lesionados  19.320580 -99.241010         EMERGENCIA   \n",
       "4  accidente-choque sin lesionados  19.452900 -99.215870         EMERGENCIA   \n",
       "\n",
       "       tipo_entrada    delegacion_cierre mes  label  \n",
       "0  BOTÓN DE AUXILIO  VENUSTIANO CARRANZA   1      0  \n",
       "1  BOTÓN DE AUXILIO           CUAJIMALPA   1      0  \n",
       "2   LLAMADA DEL 066              TLALPAN   1      1  \n",
       "3   LLAMADA DEL 066  MAGDALENA CONTRERAS   1      1  \n",
       "4   LLAMADA DEL 066       MIGUEL HIDALGO   1      0  "
      ]
     },
     "execution_count": 11,
     "metadata": {},
     "output_type": "execute_result"
    }
   ],
   "source": [
    "data = basic_preprocessing('incidentes-viales-c5.csv')\n",
    "data.head()"
   ]
  },
  {
   "cell_type": "markdown",
   "metadata": {},
   "source": [
    "### Agregar nuevas columnas.\n",
    "\n",
    "Sería útil mostrar la proporción de llamadas falsas por delegación y por año. \n",
    "También sería útil contar únicamente con la hora de creación sin los minutos y segundos para agrupar por hora.\n",
    "\n",
    "Con el siguiente código podemos ver la proporción de llamadas falsas o negativas para cada delegación en cada año. Eso naturalmente invita a crear una gráfica separada por año. "
   ]
  },
  {
   "cell_type": "code",
   "execution_count": 47,
   "metadata": {
    "ExecuteTime": {
     "end_time": "2020-11-18T13:45:59.185326Z",
     "start_time": "2020-11-18T13:45:59.022916Z"
    }
   },
   "outputs": [
    {
     "data": {
      "text/html": [
       "<div>\n",
       "<style scoped>\n",
       "    .dataframe tbody tr th:only-of-type {\n",
       "        vertical-align: middle;\n",
       "    }\n",
       "\n",
       "    .dataframe tbody tr th {\n",
       "        vertical-align: top;\n",
       "    }\n",
       "\n",
       "    .dataframe thead th {\n",
       "        text-align: right;\n",
       "    }\n",
       "</style>\n",
       "<table border=\"1\" class=\"dataframe\">\n",
       "  <thead>\n",
       "    <tr style=\"text-align: right;\">\n",
       "      <th></th>\n",
       "      <th>delegacion_inicio</th>\n",
       "      <th>año_cierre</th>\n",
       "      <th>label</th>\n",
       "    </tr>\n",
       "  </thead>\n",
       "  <tbody>\n",
       "    <tr>\n",
       "      <th>0</th>\n",
       "      <td>ALVARO OBREGON</td>\n",
       "      <td>2014</td>\n",
       "      <td>0.191353</td>\n",
       "    </tr>\n",
       "    <tr>\n",
       "      <th>1</th>\n",
       "      <td>ALVARO OBREGON</td>\n",
       "      <td>2015</td>\n",
       "      <td>0.212616</td>\n",
       "    </tr>\n",
       "    <tr>\n",
       "      <th>2</th>\n",
       "      <td>ALVARO OBREGON</td>\n",
       "      <td>2016</td>\n",
       "      <td>0.250545</td>\n",
       "    </tr>\n",
       "    <tr>\n",
       "      <th>3</th>\n",
       "      <td>ALVARO OBREGON</td>\n",
       "      <td>2017</td>\n",
       "      <td>0.230592</td>\n",
       "    </tr>\n",
       "    <tr>\n",
       "      <th>4</th>\n",
       "      <td>ALVARO OBREGON</td>\n",
       "      <td>2018</td>\n",
       "      <td>0.217359</td>\n",
       "    </tr>\n",
       "  </tbody>\n",
       "</table>\n",
       "</div>"
      ],
      "text/plain": [
       "  delegacion_inicio año_cierre     label\n",
       "0    ALVARO OBREGON       2014  0.191353\n",
       "1    ALVARO OBREGON       2015  0.212616\n",
       "2    ALVARO OBREGON       2016  0.250545\n",
       "3    ALVARO OBREGON       2017  0.230592\n",
       "4    ALVARO OBREGON       2018  0.217359"
      ]
     },
     "execution_count": 47,
     "metadata": {},
     "output_type": "execute_result"
    }
   ],
   "source": [
    "#el promedio de una columna de 0's y 1's es la proporción de 1's en esa columna. \n",
    "prop = data.groupby([\"delegacion_inicio\", \"año_cierre\"], as_index = False).agg({\"label\": \"mean\"})\n",
    "prop = prop[prop.delegacion_inicio != \"No Disponible\"]\n",
    "prop.head()"
   ]
  },
  {
   "cell_type": "code",
   "execution_count": 49,
   "metadata": {
    "ExecuteTime": {
     "end_time": "2020-11-18T13:46:06.420194Z",
     "start_time": "2020-11-18T13:46:06.401927Z"
    }
   },
   "outputs": [
    {
     "data": {
      "text/html": [
       "<div>\n",
       "<style scoped>\n",
       "    .dataframe tbody tr th:only-of-type {\n",
       "        vertical-align: middle;\n",
       "    }\n",
       "\n",
       "    .dataframe tbody tr th {\n",
       "        vertical-align: top;\n",
       "    }\n",
       "\n",
       "    .dataframe thead th {\n",
       "        text-align: right;\n",
       "    }\n",
       "</style>\n",
       "<table border=\"1\" class=\"dataframe\">\n",
       "  <thead>\n",
       "    <tr style=\"text-align: right;\">\n",
       "      <th></th>\n",
       "      <th>delegacion_inicio</th>\n",
       "      <th>año_cierre</th>\n",
       "      <th>label</th>\n",
       "    </tr>\n",
       "  </thead>\n",
       "  <tbody>\n",
       "    <tr>\n",
       "      <th>28</th>\n",
       "      <td>CUAJIMALPA</td>\n",
       "      <td>2014</td>\n",
       "      <td>0.321037</td>\n",
       "    </tr>\n",
       "    <tr>\n",
       "      <th>63</th>\n",
       "      <td>MAGDALENA CONTRERAS</td>\n",
       "      <td>2014</td>\n",
       "      <td>0.233701</td>\n",
       "    </tr>\n",
       "    <tr>\n",
       "      <th>91</th>\n",
       "      <td>TLAHUAC</td>\n",
       "      <td>2014</td>\n",
       "      <td>0.207547</td>\n",
       "    </tr>\n",
       "    <tr>\n",
       "      <th>98</th>\n",
       "      <td>TLALPAN</td>\n",
       "      <td>2014</td>\n",
       "      <td>0.197975</td>\n",
       "    </tr>\n",
       "    <tr>\n",
       "      <th>49</th>\n",
       "      <td>IZTACALCO</td>\n",
       "      <td>2014</td>\n",
       "      <td>0.194908</td>\n",
       "    </tr>\n",
       "  </tbody>\n",
       "</table>\n",
       "</div>"
      ],
      "text/plain": [
       "      delegacion_inicio año_cierre     label\n",
       "28           CUAJIMALPA       2014  0.321037\n",
       "63  MAGDALENA CONTRERAS       2014  0.233701\n",
       "91              TLAHUAC       2014  0.207547\n",
       "98              TLALPAN       2014  0.197975\n",
       "49            IZTACALCO       2014  0.194908"
      ]
     },
     "execution_count": 49,
     "metadata": {},
     "output_type": "execute_result"
    }
   ],
   "source": [
    "#para 1 año nada más\n",
    "a2014 = prop[prop[\"año_cierre\"] == 2014].sort_values(by = \"label\", ascending = False)\n",
    "a2014.head()"
   ]
  },
  {
   "cell_type": "code",
   "execution_count": 50,
   "metadata": {
    "ExecuteTime": {
     "end_time": "2020-11-18T13:46:08.456632Z",
     "start_time": "2020-11-18T13:46:07.970615Z"
    }
   },
   "outputs": [
    {
     "data": {
      "image/png": "[encoded data removed]",
      "text/plain": [
       "<Figure size 864x576 with 1 Axes>"
      ]
     },
     "metadata": {
      "needs_background": "light"
     },
     "output_type": "display_data"
    }
   ],
   "source": [
    "#para 1 año nada más\n",
    "\n",
    "fig, ax = plt.subplots(figsize=(12,8))\n",
    "plt.bar(a2014.delegacion_inicio, a2014.label, align='center', alpha=0.5)\n",
    "plt.ylabel('Proporción de llamadas falsas')\n",
    "plt.xlabel(\"\")\n",
    "plt.xticks(rotation=90)\n",
    "plt.title('Proporción de llamadas falsas por delegación en 2014')\n",
    "plt.show();"
   ]
  },
  {
   "cell_type": "code",
   "execution_count": 51,
   "metadata": {
    "ExecuteTime": {
     "end_time": "2020-11-18T13:46:15.498332Z",
     "start_time": "2020-11-18T13:46:15.461022Z"
    }
   },
   "outputs": [
    {
     "data": {
      "text/html": [
       "<div>\n",
       "<style scoped>\n",
       "    .dataframe tbody tr th:only-of-type {\n",
       "        vertical-align: middle;\n",
       "    }\n",
       "\n",
       "    .dataframe tbody tr th {\n",
       "        vertical-align: top;\n",
       "    }\n",
       "\n",
       "    .dataframe thead th {\n",
       "        text-align: right;\n",
       "    }\n",
       "</style>\n",
       "<table border=\"1\" class=\"dataframe\">\n",
       "  <thead>\n",
       "    <tr style=\"text-align: right;\">\n",
       "      <th></th>\n",
       "      <th>delegacion_inicio</th>\n",
       "      <th>año_cierre</th>\n",
       "      <th>label</th>\n",
       "    </tr>\n",
       "  </thead>\n",
       "  <tbody>\n",
       "    <tr>\n",
       "      <th>65</th>\n",
       "      <td>MAGDALENA CONTRERAS</td>\n",
       "      <td>2016</td>\n",
       "      <td>0.354464</td>\n",
       "    </tr>\n",
       "    <tr>\n",
       "      <th>30</th>\n",
       "      <td>CUAJIMALPA</td>\n",
       "      <td>2016</td>\n",
       "      <td>0.345564</td>\n",
       "    </tr>\n",
       "    <tr>\n",
       "      <th>33</th>\n",
       "      <td>CUAJIMALPA</td>\n",
       "      <td>2019</td>\n",
       "      <td>0.326004</td>\n",
       "    </tr>\n",
       "    <tr>\n",
       "      <th>32</th>\n",
       "      <td>CUAJIMALPA</td>\n",
       "      <td>2018</td>\n",
       "      <td>0.323802</td>\n",
       "    </tr>\n",
       "    <tr>\n",
       "      <th>29</th>\n",
       "      <td>CUAJIMALPA</td>\n",
       "      <td>2015</td>\n",
       "      <td>0.323587</td>\n",
       "    </tr>\n",
       "  </tbody>\n",
       "</table>\n",
       "</div>"
      ],
      "text/plain": [
       "      delegacion_inicio año_cierre     label\n",
       "65  MAGDALENA CONTRERAS       2016  0.354464\n",
       "30           CUAJIMALPA       2016  0.345564\n",
       "33           CUAJIMALPA       2019  0.326004\n",
       "32           CUAJIMALPA       2018  0.323802\n",
       "29           CUAJIMALPA       2015  0.323587"
      ]
     },
     "execution_count": 51,
     "metadata": {},
     "output_type": "execute_result"
    }
   ],
   "source": [
    "#ahora intentemos el Facet Grid\n",
    "prop.sort_values(by = [\"label\", \"año_cierre\"], ascending = False).head()"
   ]
  },
  {
   "cell_type": "code",
   "execution_count": 115,
   "metadata": {
    "ExecuteTime": {
     "end_time": "2020-11-18T14:44:27.127187Z",
     "start_time": "2020-11-18T14:44:24.037040Z"
    }
   },
   "outputs": [
    {
     "data": {
      "text/plain": [
       "<seaborn.axisgrid.FacetGrid at 0x12b6bbd10>"
      ]
     },
     "execution_count": 115,
     "metadata": {},
     "output_type": "execute_result"
    },
    {
     "data": {
      "image/png": "[encoded data removed]",
      "text/plain": [
       "<Figure size 1512x216 with 7 Axes>"
      ]
     },
     "metadata": {
      "needs_background": "light"
     },
     "output_type": "display_data"
    }
   ],
   "source": [
    "g = sns.FacetGrid(prop, col=\"año_cierre\")\n",
    "g.map_dataframe(sns.barplot, x=\"delegacion_inicio\", y = \"label\", data = prop.sort_values(by = [\"label\"],\n",
    "                                                                                        ascending = False))\n",
    "g.set_axis_labels(\"Año\", \"Proporción de llamadas falsas\")"
   ]
  },
  {
   "cell_type": "code",
   "execution_count": 134,
   "metadata": {
    "ExecuteTime": {
     "end_time": "2020-11-18T14:57:41.254634Z",
     "start_time": "2020-11-18T14:57:39.766178Z"
    }
   },
   "outputs": [
    {
     "data": {
      "image/png": "[encoded data removed]",
      "text/plain": [
       "<Figure size 864x576 with 8 Axes>"
      ]
     },
     "metadata": {
      "needs_background": "light"
     },
     "output_type": "display_data"
    }
   ],
   "source": [
    "#creo que será mejor hacer el facet frid por mi cuenta \n",
    "#paso 1: inicializar el agrupamiento\n",
    "fig, axs = plt.subplots(2,4, figsize = (12,8))\n",
    "plt.subplots_adjust(wspace = .25, hspace = .45, bottom = .20)\n",
    "fig.suptitle('Proporción de llamadas falsas por colonia por año.')\n",
    "prop_falsas = data.groupby([\"delegacion_inicio\", \"año_cierre\"], as_index = False).agg({\"label\": \"mean\"})\n",
    "prop_falsas = prop_falsas[prop_falsas.delegacion_inicio != \"No Disponible\"]\n",
    "\n",
    "for i in range(4):\n",
    "    año = 2014 + i #2014, 2015,..., 2020\n",
    "    grouping = prop[prop[\"año_cierre\"] == año].sort_values(by = \"label\", ascending = False)\n",
    "    axs[0,i].bar(grouping.delegacion_inicio, grouping.label, align='center', alpha=0.5)\n",
    "    axs[0,i].set_title(f\"{str(año)}\")\n",
    "    axs[0,i].set_ylim([0,.40])\n",
    "    axs[0,i].set_xticks(range(16))\n",
    "    axs[0,i].set_xticklabels([str(e) for e in range(16)], rotation = 90)\n",
    "\n",
    "#plt.sca(axs[0,3])\n",
    "#plt.xticks(list(range(16)), [\"str(e)\" for e in range(16)], rotation=90)\n",
    "  \n",
    "\n",
    "#for ax in axs.flat:\n",
    "#    ax.label_outer()"
   ]
  },
  {
   "cell_type": "code",
   "execution_count": null,
   "metadata": {},
   "outputs": [],
   "source": [
    "#pendiente agregar una gráfica del promedio final! \n",
    "\n",
    "#creo que será mejor hacer el facet frid por mi cuenta \n",
    "#paso 1: inicializar el agrupamiento\n",
    "fig, axs = plt.subplots(2,4, figsize = (12,8))\n",
    "plt.subplots_adjust(wspace = .25, hspace = .15, bottom = .20)\n",
    "fig.suptitle('Proporción de llamadas falsas por colonia por año.')\n",
    "prop_falsas = data.groupby([\"delegacion_inicio\", \"año_cierre\"], as_index = False).agg({\"label\": \"mean\"})\n",
    "prop_falsas = prop_falsas[prop_falsas.delegacion_inicio != \"No Disponible\"]\n",
    "\n",
    "for i in range(7):\n",
    "    año = 2014 + i #2014, 2015,..., 2020\n",
    "    grouping = prop[prop[\"año_cierre\"] == año].sort_values(by = \"label\", ascending = False)\n",
    "    axs[0,i].bar(grouping.delegacion_inicio, grouping.label, align='center', alpha=0.5)\n",
    "    axs[0,i].set_title(f\"{str(año)}\")\n",
    "    axs[0,i].set_ylim([0,.40])\n",
    "    axs[0,i].set_xticks(range(16))\n",
    "    axs[0,i].set_xticklabels([str(e) for e in range(16)], rotation = 90)\n",
    "\n",
    "#plt.sca(axs[0,3])\n",
    "#plt.xticks(list(range(16)), [\"str(e)\" for e in range(16)], rotation=90)\n",
    "  \n",
    "\n",
    "#for ax in axs.flat:\n",
    "#    ax.label_outer()"
   ]
  },
  {
   "cell_type": "code",
   "execution_count": 133,
   "metadata": {
    "ExecuteTime": {
     "end_time": "2020-11-18T14:56:47.485787Z",
     "start_time": "2020-11-18T14:56:47.475280Z"
    }
   },
   "outputs": [
    {
     "data": {
      "text/plain": [
       "1"
      ]
     },
     "execution_count": 133,
     "metadata": {},
     "output_type": "execute_result"
    }
   ],
   "source": [
    "5 % 4"
   ]
  },
  {
   "cell_type": "code",
   "execution_count": null,
   "metadata": {},
   "outputs": [],
   "source": []
  },
  {
   "cell_type": "code",
   "execution_count": null,
   "metadata": {},
   "outputs": [],
   "source": [
    "#to do: ver cómo hacer un join en pandas para agregar una columna extra que sea la prop de llamadas\n",
    "#falsas en esa colonia en ese año \n",
    "def add_new_cols(df):\n",
    "    #df[\"prop_label\"] \n",
    "    return df"
   ]
  },
  {
   "cell_type": "code",
   "execution_count": null,
   "metadata": {},
   "outputs": [],
   "source": []
  },
  {
   "cell_type": "code",
   "execution_count": null,
   "metadata": {},
   "outputs": [],
   "source": []
  },
  {
   "cell_type": "code",
   "execution_count": null,
   "metadata": {},
   "outputs": [],
   "source": []
  },
  {
   "cell_type": "code",
   "execution_count": null,
   "metadata": {},
   "outputs": [],
   "source": []
  },
  {
   "cell_type": "code",
   "execution_count": null,
   "metadata": {},
   "outputs": [],
   "source": []
  },
  {
   "cell_type": "code",
   "execution_count": null,
   "metadata": {},
   "outputs": [],
   "source": []
  },
  {
   "cell_type": "code",
   "execution_count": null,
   "metadata": {},
   "outputs": [],
   "source": []
  },
  {
   "cell_type": "code",
   "execution_count": null,
   "metadata": {},
   "outputs": [],
   "source": []
  },
  {
   "cell_type": "code",
   "execution_count": null,
   "metadata": {},
   "outputs": [],
   "source": []
  },
  {
   "cell_type": "code",
   "execution_count": null,
   "metadata": {},
   "outputs": [],
   "source": []
  },
  {
   "cell_type": "code",
   "execution_count": null,
   "metadata": {},
   "outputs": [],
   "source": []
  },
  {
   "cell_type": "code",
   "execution_count": null,
   "metadata": {},
   "outputs": [],
   "source": []
  },
  {
   "cell_type": "code",
   "execution_count": null,
   "metadata": {},
   "outputs": [],
   "source": []
  },
  {
   "cell_type": "code",
   "execution_count": 4,
   "metadata": {
    "ExecuteTime": {
     "end_time": "2020-11-17T13:56:31.503590Z",
     "start_time": "2020-11-17T13:56:31.456165Z"
    }
   },
   "outputs": [
    {
     "data": {
      "text/html": [
       "<div>\n",
       "<style scoped>\n",
       "    .dataframe tbody tr th:only-of-type {\n",
       "        vertical-align: middle;\n",
       "    }\n",
       "\n",
       "    .dataframe tbody tr th {\n",
       "        vertical-align: top;\n",
       "    }\n",
       "\n",
       "    .dataframe thead th {\n",
       "        text-align: right;\n",
       "    }\n",
       "</style>\n",
       "<table border=\"1\" class=\"dataframe\">\n",
       "  <thead>\n",
       "    <tr style=\"text-align: right;\">\n",
       "      <th></th>\n",
       "      <th>folio</th>\n",
       "      <th>fecha_creacion</th>\n",
       "      <th>hora_creacion</th>\n",
       "      <th>dia_semana</th>\n",
       "      <th>codigo_cierre</th>\n",
       "      <th>fecha_cierre</th>\n",
       "      <th>año_cierre</th>\n",
       "      <th>mes_cierre</th>\n",
       "      <th>hora_cierre</th>\n",
       "      <th>delegacion_inicio</th>\n",
       "      <th>incidente_c4</th>\n",
       "      <th>latitud</th>\n",
       "      <th>longitud</th>\n",
       "      <th>clas_con_f_alarma</th>\n",
       "      <th>tipo_entrada</th>\n",
       "      <th>delegacion_cierre</th>\n",
       "      <th>geopoint</th>\n",
       "      <th>mes</th>\n",
       "    </tr>\n",
       "  </thead>\n",
       "  <tbody>\n",
       "    <tr>\n",
       "      <th>0</th>\n",
       "      <td>GA/160123/05714</td>\n",
       "      <td>23/01/2016</td>\n",
       "      <td>22:35:04</td>\n",
       "      <td>Sábado</td>\n",
       "      <td>(A) La unidad de atención a emergencias fue de...</td>\n",
       "      <td>24/01/2016</td>\n",
       "      <td>2016</td>\n",
       "      <td>Enero</td>\n",
       "      <td>00:21:08</td>\n",
       "      <td>VENUSTIANO CARRANZA</td>\n",
       "      <td>accidente-choque sin lesionados</td>\n",
       "      <td>19.422113</td>\n",
       "      <td>-99.084643</td>\n",
       "      <td>EMERGENCIA</td>\n",
       "      <td>BOTÓN DE AUXILIO</td>\n",
       "      <td>VENUSTIANO CARRANZA</td>\n",
       "      <td>19.422113,-99.084643</td>\n",
       "      <td>1</td>\n",
       "    </tr>\n",
       "    <tr>\n",
       "      <th>1</th>\n",
       "      <td>AO/160123/05826</td>\n",
       "      <td>23/01/2016</td>\n",
       "      <td>22:50:49</td>\n",
       "      <td>Sábado</td>\n",
       "      <td>(A) La unidad de atención a emergencias fue de...</td>\n",
       "      <td>24/01/2016</td>\n",
       "      <td>2016</td>\n",
       "      <td>Enero</td>\n",
       "      <td>04:40:37</td>\n",
       "      <td>CUAJIMALPA</td>\n",
       "      <td>accidente-choque con lesionados</td>\n",
       "      <td>19.358320</td>\n",
       "      <td>-99.297641</td>\n",
       "      <td>URGENCIAS MEDICAS</td>\n",
       "      <td>BOTÓN DE AUXILIO</td>\n",
       "      <td>CUAJIMALPA</td>\n",
       "      <td>19.35832,-99.297641</td>\n",
       "      <td>1</td>\n",
       "    </tr>\n",
       "    <tr>\n",
       "      <th>2</th>\n",
       "      <td>C4/160124/02187</td>\n",
       "      <td>24/01/2016</td>\n",
       "      <td>09:40:11</td>\n",
       "      <td>Domingo</td>\n",
       "      <td>(N) La unidad de atención a emergencias fue de...</td>\n",
       "      <td>24/01/2016</td>\n",
       "      <td>2016</td>\n",
       "      <td>Enero</td>\n",
       "      <td>11:13:03</td>\n",
       "      <td>TLALPAN</td>\n",
       "      <td>accidente-choque sin lesionados</td>\n",
       "      <td>19.217070</td>\n",
       "      <td>-99.219070</td>\n",
       "      <td>EMERGENCIA</td>\n",
       "      <td>LLAMADA DEL 066</td>\n",
       "      <td>TLALPAN</td>\n",
       "      <td>19.21707,-99.21907008</td>\n",
       "      <td>1</td>\n",
       "    </tr>\n",
       "    <tr>\n",
       "      <th>3</th>\n",
       "      <td>C4/160124/05723</td>\n",
       "      <td>24/01/2016</td>\n",
       "      <td>22:40:57</td>\n",
       "      <td>Domingo</td>\n",
       "      <td>(N) La unidad de atención a emergencias fue de...</td>\n",
       "      <td>24/01/2016</td>\n",
       "      <td>2016</td>\n",
       "      <td>Enero</td>\n",
       "      <td>22:55:51</td>\n",
       "      <td>MAGDALENA CONTRERAS</td>\n",
       "      <td>accidente-choque sin lesionados</td>\n",
       "      <td>19.320580</td>\n",
       "      <td>-99.241010</td>\n",
       "      <td>EMERGENCIA</td>\n",
       "      <td>LLAMADA DEL 066</td>\n",
       "      <td>MAGDALENA CONTRERAS</td>\n",
       "      <td>19.32057999,-99.24100992</td>\n",
       "      <td>1</td>\n",
       "    </tr>\n",
       "    <tr>\n",
       "      <th>4</th>\n",
       "      <td>C4/160124/01334</td>\n",
       "      <td>24/01/2016</td>\n",
       "      <td>04:25:15</td>\n",
       "      <td>Domingo</td>\n",
       "      <td>(A) La unidad de atención a emergencias fue de...</td>\n",
       "      <td>24/01/2016</td>\n",
       "      <td>2016</td>\n",
       "      <td>Enero</td>\n",
       "      <td>05:03:59</td>\n",
       "      <td>MIGUEL HIDALGO</td>\n",
       "      <td>accidente-choque sin lesionados</td>\n",
       "      <td>19.452900</td>\n",
       "      <td>-99.215870</td>\n",
       "      <td>EMERGENCIA</td>\n",
       "      <td>LLAMADA DEL 066</td>\n",
       "      <td>MIGUEL HIDALGO</td>\n",
       "      <td>19.45289997,-99.21587004</td>\n",
       "      <td>1</td>\n",
       "    </tr>\n",
       "  </tbody>\n",
       "</table>\n",
       "</div>"
      ],
      "text/plain": [
       "             folio fecha_creacion hora_creacion dia_semana  \\\n",
       "0  GA/160123/05714     23/01/2016      22:35:04     Sábado   \n",
       "1  AO/160123/05826     23/01/2016      22:50:49     Sábado   \n",
       "2  C4/160124/02187     24/01/2016      09:40:11    Domingo   \n",
       "3  C4/160124/05723     24/01/2016      22:40:57    Domingo   \n",
       "4  C4/160124/01334     24/01/2016      04:25:15    Domingo   \n",
       "\n",
       "                                       codigo_cierre fecha_cierre  año_cierre  \\\n",
       "0  (A) La unidad de atención a emergencias fue de...   24/01/2016        2016   \n",
       "1  (A) La unidad de atención a emergencias fue de...   24/01/2016        2016   \n",
       "2  (N) La unidad de atención a emergencias fue de...   24/01/2016        2016   \n",
       "3  (N) La unidad de atención a emergencias fue de...   24/01/2016        2016   \n",
       "4  (A) La unidad de atención a emergencias fue de...   24/01/2016        2016   \n",
       "\n",
       "  mes_cierre hora_cierre    delegacion_inicio  \\\n",
       "0      Enero    00:21:08  VENUSTIANO CARRANZA   \n",
       "1      Enero    04:40:37           CUAJIMALPA   \n",
       "2      Enero    11:13:03              TLALPAN   \n",
       "3      Enero    22:55:51  MAGDALENA CONTRERAS   \n",
       "4      Enero    05:03:59       MIGUEL HIDALGO   \n",
       "\n",
       "                      incidente_c4    latitud   longitud  clas_con_f_alarma  \\\n",
       "0  accidente-choque sin lesionados  19.422113 -99.084643         EMERGENCIA   \n",
       "1  accidente-choque con lesionados  19.358320 -99.297641  URGENCIAS MEDICAS   \n",
       "2  accidente-choque sin lesionados  19.217070 -99.219070         EMERGENCIA   \n",
       "3  accidente-choque sin lesionados  19.320580 -99.241010         EMERGENCIA   \n",
       "4  accidente-choque sin lesionados  19.452900 -99.215870         EMERGENCIA   \n",
       "\n",
       "       tipo_entrada    delegacion_cierre                  geopoint  mes  \n",
       "0  BOTÓN DE AUXILIO  VENUSTIANO CARRANZA      19.422113,-99.084643    1  \n",
       "1  BOTÓN DE AUXILIO           CUAJIMALPA       19.35832,-99.297641    1  \n",
       "2   LLAMADA DEL 066              TLALPAN     19.21707,-99.21907008    1  \n",
       "3   LLAMADA DEL 066  MAGDALENA CONTRERAS  19.32057999,-99.24100992    1  \n",
       "4   LLAMADA DEL 066       MIGUEL HIDALGO  19.45289997,-99.21587004    1  "
      ]
     },
     "execution_count": 4,
     "metadata": {},
     "output_type": "execute_result"
    }
   ],
   "source": [
    "data.head()"
   ]
  },
  {
   "cell_type": "code",
   "execution_count": 5,
   "metadata": {
    "ExecuteTime": {
     "end_time": "2020-11-17T13:56:33.642895Z",
     "start_time": "2020-11-17T13:56:33.552708Z"
    }
   },
   "outputs": [
    {
     "data": {
      "text/plain": [
       "2018    246577\n",
       "2019    229467\n",
       "2017    226535\n",
       "2016    190996\n",
       "2015    184830\n",
       "2014    171242\n",
       "2020    133491\n",
       "Name: año_cierre, dtype: int64"
      ]
     },
     "execution_count": 5,
     "metadata": {},
     "output_type": "execute_result"
    }
   ],
   "source": [
    "data.año_cierre.value_counts()"
   ]
  },
  {
   "cell_type": "code",
   "execution_count": 6,
   "metadata": {
    "ExecuteTime": {
     "end_time": "2020-11-17T13:56:37.068732Z",
     "start_time": "2020-11-17T13:56:36.933831Z"
    }
   },
   "outputs": [],
   "source": [
    "data[\"label\"] = np.where(data[\"clas_con_f_alarma\"] == \"FALSA ALARMA\", 1, 0)"
   ]
  },
  {
   "cell_type": "markdown",
   "metadata": {},
   "source": [
    "Primero podemos rápidamente transformar las variables en su tipo de dato adecuado. "
   ]
  },
  {
   "cell_type": "code",
   "execution_count": 7,
   "metadata": {
    "ExecuteTime": {
     "end_time": "2020-11-17T13:56:38.625559Z",
     "start_time": "2020-11-17T13:56:38.610074Z"
    }
   },
   "outputs": [],
   "source": [
    "cat_cols = [\"dia_semana\", \"codigo_cierre\", \"año_cierre\", \"mes_cierre\", \"mes\", \"delegacion_inicio\", \n",
    "            \"incidente_c4\", \"clas_con_f_alarma\", \"tipo_entrada\", \"delegacion_cierre\", \"hora_creacion\",\n",
    "           \"hora_cierre\"]\n",
    "\n",
    "date_cols = [\"fecha_creacion\", \"fecha_cierre\"]"
   ]
  },
  {
   "cell_type": "code",
   "execution_count": 8,
   "metadata": {
    "ExecuteTime": {
     "end_time": "2020-11-17T13:56:39.845528Z",
     "start_time": "2020-11-17T13:56:39.838832Z"
    }
   },
   "outputs": [],
   "source": [
    "def categoric_transformation(col,df):\n",
    "    df[col] = df[col].astype(\"category\")\n",
    "    return df "
   ]
  },
  {
   "cell_type": "code",
   "execution_count": 9,
   "metadata": {
    "ExecuteTime": {
     "end_time": "2020-11-17T13:56:40.721415Z",
     "start_time": "2020-11-17T13:56:40.709447Z"
    }
   },
   "outputs": [],
   "source": [
    "def fill_na(df):\n",
    "    \"\"\"\n",
    "    Function to fill null values in a dataframe.\n",
    "    Parameters: pandas dataframe to be transformed\n",
    "    Returns: transformed dataframe\n",
    "    \"\"\"\n",
    "    df.fillna({'delegacion_inicio': 'No Disponible',\n",
    "               'delegacion_cierre': 'No Disponible'\n",
    "              }, inplace = True)\n",
    "    return df"
   ]
  },
  {
   "cell_type": "markdown",
   "metadata": {},
   "source": [
    "## ¿Cuáles son los horarios y los días de la semana con más llamadas falsas? "
   ]
  },
  {
   "cell_type": "code",
   "execution_count": 69,
   "metadata": {
    "ExecuteTime": {
     "end_time": "2020-11-17T14:24:47.275247Z",
     "start_time": "2020-11-17T14:24:45.034937Z"
    }
   },
   "outputs": [
    {
     "name": "stderr",
     "output_type": "stream",
     "text": [
      "/usr/local/lib/python3.7/site-packages/ipykernel_launcher.py:2: SettingWithCopyWarning: \n",
      "A value is trying to be set on a copy of a slice from a DataFrame.\n",
      "Try using .loc[row_indexer,col_indexer] = value instead\n",
      "\n",
      "See the caveats in the documentation: https://pandas.pydata.org/pandas-docs/stable/user_guide/indexing.html#returning-a-view-versus-a-copy\n",
      "  \n",
      "/usr/local/lib/python3.7/site-packages/pandas/core/series.py:4569: SettingWithCopyWarning: \n",
      "A value is trying to be set on a copy of a slice from a DataFrame\n",
      "\n",
      "See the caveats in the documentation: https://pandas.pydata.org/pandas-docs/stable/user_guide/indexing.html#returning-a-view-versus-a-copy\n",
      "  method=method,\n",
      "/usr/local/lib/python3.7/site-packages/ipykernel_launcher.py:8: SettingWithCopyWarning: \n",
      "A value is trying to be set on a copy of a slice from a DataFrame.\n",
      "Try using .loc[row_indexer,col_indexer] = value instead\n",
      "\n",
      "See the caveats in the documentation: https://pandas.pydata.org/pandas-docs/stable/user_guide/indexing.html#returning-a-view-versus-a-copy\n",
      "  \n",
      "/usr/local/lib/python3.7/site-packages/pandas/core/indexing.py:1717: SettingWithCopyWarning: \n",
      "A value is trying to be set on a copy of a slice from a DataFrame.\n",
      "Try using .loc[row_indexer,col_indexer] = value instead\n",
      "\n",
      "See the caveats in the documentation: https://pandas.pydata.org/pandas-docs/stable/user_guide/indexing.html#returning-a-view-versus-a-copy\n",
      "  isetter(loc, v)\n"
     ]
    }
   ],
   "source": [
    "falsas = data[data.label == 1]\n",
    "falsas[\"hora_trunc\"] = falsas[\"hora_creacion\"].apply(lambda x: x[:2]).astype(str)\n",
    "horas_ = {\"0:\": \"00\", \"0.\": \"0\", \"0\": \"00\", \"0 \": \"00\",\n",
    "          \"1:\": \"01\", \"2:\": \"02\", \"3:\": \"03\", \n",
    "          \"5:\": \"05\", \"6:\":\"06\",\n",
    "         \"7:\": \"07\", \"8:\": \"08\", \"9:\": \"09\"} #esto puede mejorar \n",
    "falsas.hora_trunc.replace(horas_, inplace = True) \n",
    "falsas[falsas.hora_trunc == \"0\"] = falsas[falsas.hora_trunc == \"0\"].replace({\"0\": \"00\"})"
   ]
  },
  {
   "cell_type": "code",
   "execution_count": 70,
   "metadata": {
    "ExecuteTime": {
     "end_time": "2020-11-17T14:24:47.653696Z",
     "start_time": "2020-11-17T14:24:47.530245Z"
    }
   },
   "outputs": [],
   "source": [
    "falsas = falsas.drop_duplicates()"
   ]
  },
  {
   "cell_type": "code",
   "execution_count": 71,
   "metadata": {
    "ExecuteTime": {
     "end_time": "2020-11-17T14:24:48.660479Z",
     "start_time": "2020-11-17T14:24:48.629512Z"
    }
   },
   "outputs": [],
   "source": [
    "dia = falsas.groupby([\"dia_semana\"], as_index = False).agg({\"label\": \"sum\"})\n",
    "dia = dia.rename(columns = {'label': \"Total de Llamadas Falsas\"})\n",
    "dia = dia.sort_values(by = \"Total de Llamadas Falsas\", ascending = False)"
   ]
  },
  {
   "cell_type": "code",
   "execution_count": 72,
   "metadata": {
    "ExecuteTime": {
     "end_time": "2020-11-17T14:24:49.135007Z",
     "start_time": "2020-11-17T14:24:49.115276Z"
    }
   },
   "outputs": [
    {
     "data": {
      "text/html": [
       "<div>\n",
       "<style scoped>\n",
       "    .dataframe tbody tr th:only-of-type {\n",
       "        vertical-align: middle;\n",
       "    }\n",
       "\n",
       "    .dataframe tbody tr th {\n",
       "        vertical-align: top;\n",
       "    }\n",
       "\n",
       "    .dataframe thead th {\n",
       "        text-align: right;\n",
       "    }\n",
       "</style>\n",
       "<table border=\"1\" class=\"dataframe\">\n",
       "  <thead>\n",
       "    <tr style=\"text-align: right;\">\n",
       "      <th></th>\n",
       "      <th>dia_semana</th>\n",
       "      <th>Total de Llamadas Falsas</th>\n",
       "    </tr>\n",
       "  </thead>\n",
       "  <tbody>\n",
       "    <tr>\n",
       "      <th>6</th>\n",
       "      <td>Viernes</td>\n",
       "      <td>1853</td>\n",
       "    </tr>\n",
       "    <tr>\n",
       "      <th>4</th>\n",
       "      <td>Miércoles</td>\n",
       "      <td>1592</td>\n",
       "    </tr>\n",
       "    <tr>\n",
       "      <th>1</th>\n",
       "      <td>Jueves</td>\n",
       "      <td>1586</td>\n",
       "    </tr>\n",
       "    <tr>\n",
       "      <th>5</th>\n",
       "      <td>Sábado</td>\n",
       "      <td>1527</td>\n",
       "    </tr>\n",
       "    <tr>\n",
       "      <th>3</th>\n",
       "      <td>Martes</td>\n",
       "      <td>1499</td>\n",
       "    </tr>\n",
       "    <tr>\n",
       "      <th>2</th>\n",
       "      <td>Lunes</td>\n",
       "      <td>1326</td>\n",
       "    </tr>\n",
       "    <tr>\n",
       "      <th>0</th>\n",
       "      <td>Domingo</td>\n",
       "      <td>1247</td>\n",
       "    </tr>\n",
       "  </tbody>\n",
       "</table>\n",
       "</div>"
      ],
      "text/plain": [
       "  dia_semana  Total de Llamadas Falsas\n",
       "6    Viernes                      1853\n",
       "4  Miércoles                      1592\n",
       "1     Jueves                      1586\n",
       "5     Sábado                      1527\n",
       "3     Martes                      1499\n",
       "2      Lunes                      1326\n",
       "0    Domingo                      1247"
      ]
     },
     "execution_count": 72,
     "metadata": {},
     "output_type": "execute_result"
    }
   ],
   "source": [
    "dia.head(7)"
   ]
  },
  {
   "cell_type": "code",
   "execution_count": 73,
   "metadata": {
    "ExecuteTime": {
     "end_time": "2020-11-17T14:24:50.588241Z",
     "start_time": "2020-11-17T14:24:50.230419Z"
    }
   },
   "outputs": [
    {
     "data": {
      "image/png": "[encoded data removed]",
      "text/plain": [
       "<Figure size 864x576 with 1 Axes>"
      ]
     },
     "metadata": {
      "needs_background": "light"
     },
     "output_type": "display_data"
    }
   ],
   "source": [
    "fig, ax = plt.subplots(figsize = (12, 8))\n",
    "ax = dia.plot.bar(ax=ax, x= \"dia_semana\")\n",
    "plt.title(\"Llamadas falsas por día de la semana\")\n",
    "plt.xlabel(\"Día de la semana\")\n",
    "plt.ylabel(\"Total de llamadas falsas\")\n",
    "plt.show();"
   ]
  },
  {
   "cell_type": "markdown",
   "metadata": {},
   "source": [
    "Podemos notar que la diferencia no es muy grande (aproximadamente 600 llamadas de diferencia entre el viernes y el domingo a lo largo de 6 años) pero sí es lo suficientemente notoria para pensar que hace sentido que en viernes haya más llamadas falsas dado que puede haber grupos de personas que solo quieran divertirse de esa manera. "
   ]
  },
  {
   "cell_type": "markdown",
   "metadata": {},
   "source": [
    "#### Veamos qué pasa por hora del día. "
   ]
  },
  {
   "cell_type": "code",
   "execution_count": 74,
   "metadata": {
    "ExecuteTime": {
     "end_time": "2020-11-17T14:24:52.059551Z",
     "start_time": "2020-11-17T14:24:52.030487Z"
    }
   },
   "outputs": [],
   "source": [
    "hora = falsas.groupby([\"hora_trunc\"], as_index = False).agg({\"label\": \"sum\"})\n",
    "hora = hora.rename(columns = {'label': \"Total de Llamadas Falsas\"})\n",
    "hora = hora.sort_values(by = \"Total de Llamadas Falsas\", ascending = False)"
   ]
  },
  {
   "cell_type": "code",
   "execution_count": 75,
   "metadata": {
    "ExecuteTime": {
     "end_time": "2020-11-17T14:24:53.599359Z",
     "start_time": "2020-11-17T14:24:53.068029Z"
    }
   },
   "outputs": [
    {
     "data": {
      "image/png": "[encoded data removed]",
      "text/plain": [
       "<Figure size 864x576 with 1 Axes>"
      ]
     },
     "metadata": {
      "needs_background": "light"
     },
     "output_type": "display_data"
    }
   ],
   "source": [
    "fig, ax = plt.subplots(figsize = (12, 8))\n",
    "ax = hora.plot.bar(ax=ax, x= \"hora_trunc\")\n",
    "plt.title(\"Llamadas falsas por hora del día\")\n",
    "plt.xlabel(\"Hora del día\")\n",
    "plt.ylabel(\"Total de llamadas falsas\")\n",
    "plt.show();"
   ]
  },
  {
   "cell_type": "markdown",
   "metadata": {},
   "source": [
    "Esto está interesante. Podemos notar que claramente hay más llamadas falsas en la noche que ne la madrugada o a horas tempranas del día. Siete, ocho y nueve de la noche son los tres horarios con más llamadas falsas, y después vienen las seis, cinco y cuatro de la tarde. Esto nos da mayor claridad respecto a los patrones de las llamadas falsas. "
   ]
  },
  {
   "cell_type": "markdown",
   "metadata": {},
   "source": [
    "También podríamos encontrar las combinación de día-hora donde han ocurrido más llamadas falsas. Dado que son demasiadas combinaciones (24 * 7 = 168), solo voy a mostrar las primeras diez o quince. "
   ]
  },
  {
   "cell_type": "code",
   "execution_count": 76,
   "metadata": {
    "ExecuteTime": {
     "end_time": "2020-11-17T14:24:59.322157Z",
     "start_time": "2020-11-17T14:24:59.290308Z"
    }
   },
   "outputs": [],
   "source": [
    "dia_hora = falsas.groupby([\"hora_trunc\", \"dia_semana\"], as_index = False)\n",
    "dia_hora = dia_hora[\"label\"].sum().sort_values(by = \"label\", ascending = False)\n",
    "dia_hora = dia_hora.rename(columns = {'label': \"Total de Llamadas Falsas\"})"
   ]
  },
  {
   "cell_type": "code",
   "execution_count": 77,
   "metadata": {
    "ExecuteTime": {
     "end_time": "2020-11-17T14:25:00.024437Z",
     "start_time": "2020-11-17T14:25:00.005937Z"
    }
   },
   "outputs": [
    {
     "data": {
      "text/html": [
       "<div>\n",
       "<style scoped>\n",
       "    .dataframe tbody tr th:only-of-type {\n",
       "        vertical-align: middle;\n",
       "    }\n",
       "\n",
       "    .dataframe tbody tr th {\n",
       "        vertical-align: top;\n",
       "    }\n",
       "\n",
       "    .dataframe thead th {\n",
       "        text-align: right;\n",
       "    }\n",
       "</style>\n",
       "<table border=\"1\" class=\"dataframe\">\n",
       "  <thead>\n",
       "    <tr style=\"text-align: right;\">\n",
       "      <th></th>\n",
       "      <th>hora_trunc</th>\n",
       "      <th>dia_semana</th>\n",
       "      <th>Total de Llamadas Falsas</th>\n",
       "    </tr>\n",
       "  </thead>\n",
       "  <tbody>\n",
       "    <tr>\n",
       "      <th>153</th>\n",
       "      <td>21</td>\n",
       "      <td>Viernes</td>\n",
       "      <td>166</td>\n",
       "    </tr>\n",
       "    <tr>\n",
       "      <th>146</th>\n",
       "      <td>20</td>\n",
       "      <td>Viernes</td>\n",
       "      <td>153</td>\n",
       "    </tr>\n",
       "    <tr>\n",
       "      <th>139</th>\n",
       "      <td>19</td>\n",
       "      <td>Viernes</td>\n",
       "      <td>152</td>\n",
       "    </tr>\n",
       "    <tr>\n",
       "      <th>160</th>\n",
       "      <td>22</td>\n",
       "      <td>Viernes</td>\n",
       "      <td>130</td>\n",
       "    </tr>\n",
       "    <tr>\n",
       "      <th>132</th>\n",
       "      <td>18</td>\n",
       "      <td>Viernes</td>\n",
       "      <td>127</td>\n",
       "    </tr>\n",
       "  </tbody>\n",
       "</table>\n",
       "</div>"
      ],
      "text/plain": [
       "    hora_trunc dia_semana  Total de Llamadas Falsas\n",
       "153         21    Viernes                       166\n",
       "146         20    Viernes                       153\n",
       "139         19    Viernes                       152\n",
       "160         22    Viernes                       130\n",
       "132         18    Viernes                       127"
      ]
     },
     "execution_count": 77,
     "metadata": {},
     "output_type": "execute_result"
    }
   ],
   "source": [
    "dia_hora.head()"
   ]
  },
  {
   "cell_type": "code",
   "execution_count": 78,
   "metadata": {
    "ExecuteTime": {
     "end_time": "2020-11-17T14:25:00.895441Z",
     "start_time": "2020-11-17T14:25:00.884692Z"
    }
   },
   "outputs": [
    {
     "data": {
      "text/plain": [
       "hora_trunc                    object\n",
       "dia_semana                  category\n",
       "Total de Llamadas Falsas       int64\n",
       "dtype: object"
      ]
     },
     "execution_count": 78,
     "metadata": {},
     "output_type": "execute_result"
    }
   ],
   "source": [
    "dia_hora.dtypes"
   ]
  },
  {
   "cell_type": "code",
   "execution_count": 79,
   "metadata": {
    "ExecuteTime": {
     "end_time": "2020-11-17T14:25:01.378731Z",
     "start_time": "2020-11-17T14:25:01.368955Z"
    }
   },
   "outputs": [],
   "source": [
    "dia_hora[\"comb_dia_hora\"] = dia_hora[\"dia_semana\"].astype(str) + \"  \" + \\\n",
    "                            dia_hora[\"hora_trunc\"] + \" hrs.\""
   ]
  },
  {
   "cell_type": "code",
   "execution_count": 80,
   "metadata": {
    "ExecuteTime": {
     "end_time": "2020-11-17T14:25:01.816745Z",
     "start_time": "2020-11-17T14:25:01.781149Z"
    }
   },
   "outputs": [
    {
     "data": {
      "text/html": [
       "<div>\n",
       "<style scoped>\n",
       "    .dataframe tbody tr th:only-of-type {\n",
       "        vertical-align: middle;\n",
       "    }\n",
       "\n",
       "    .dataframe tbody tr th {\n",
       "        vertical-align: top;\n",
       "    }\n",
       "\n",
       "    .dataframe thead th {\n",
       "        text-align: right;\n",
       "    }\n",
       "</style>\n",
       "<table border=\"1\" class=\"dataframe\">\n",
       "  <thead>\n",
       "    <tr style=\"text-align: right;\">\n",
       "      <th></th>\n",
       "      <th>hora_trunc</th>\n",
       "      <th>dia_semana</th>\n",
       "      <th>Total de Llamadas Falsas</th>\n",
       "      <th>comb_dia_hora</th>\n",
       "    </tr>\n",
       "  </thead>\n",
       "  <tbody>\n",
       "    <tr>\n",
       "      <th>153</th>\n",
       "      <td>21</td>\n",
       "      <td>Viernes</td>\n",
       "      <td>166</td>\n",
       "      <td>Viernes  21 hrs.</td>\n",
       "    </tr>\n",
       "    <tr>\n",
       "      <th>146</th>\n",
       "      <td>20</td>\n",
       "      <td>Viernes</td>\n",
       "      <td>153</td>\n",
       "      <td>Viernes  20 hrs.</td>\n",
       "    </tr>\n",
       "    <tr>\n",
       "      <th>139</th>\n",
       "      <td>19</td>\n",
       "      <td>Viernes</td>\n",
       "      <td>152</td>\n",
       "      <td>Viernes  19 hrs.</td>\n",
       "    </tr>\n",
       "    <tr>\n",
       "      <th>160</th>\n",
       "      <td>22</td>\n",
       "      <td>Viernes</td>\n",
       "      <td>130</td>\n",
       "      <td>Viernes  22 hrs.</td>\n",
       "    </tr>\n",
       "    <tr>\n",
       "      <th>132</th>\n",
       "      <td>18</td>\n",
       "      <td>Viernes</td>\n",
       "      <td>127</td>\n",
       "      <td>Viernes  18 hrs.</td>\n",
       "    </tr>\n",
       "  </tbody>\n",
       "</table>\n",
       "</div>"
      ],
      "text/plain": [
       "    hora_trunc dia_semana  Total de Llamadas Falsas     comb_dia_hora\n",
       "153         21    Viernes                       166  Viernes  21 hrs.\n",
       "146         20    Viernes                       153  Viernes  20 hrs.\n",
       "139         19    Viernes                       152  Viernes  19 hrs.\n",
       "160         22    Viernes                       130  Viernes  22 hrs.\n",
       "132         18    Viernes                       127  Viernes  18 hrs."
      ]
     },
     "execution_count": 80,
     "metadata": {},
     "output_type": "execute_result"
    }
   ],
   "source": [
    "dia_hora.head()"
   ]
  },
  {
   "cell_type": "code",
   "execution_count": 81,
   "metadata": {
    "ExecuteTime": {
     "end_time": "2020-11-17T14:25:02.264690Z",
     "start_time": "2020-11-17T14:25:02.253941Z"
    }
   },
   "outputs": [],
   "source": [
    "top_10 = dia_hora.iloc[:10,:].copy()"
   ]
  },
  {
   "cell_type": "code",
   "execution_count": 82,
   "metadata": {
    "ExecuteTime": {
     "end_time": "2020-11-17T14:25:03.936730Z",
     "start_time": "2020-11-17T14:25:03.238435Z"
    }
   },
   "outputs": [
    {
     "data": {
      "image/png": "[encoded data removed]",
      "text/plain": [
       "<Figure size 864x576 with 1 Axes>"
      ]
     },
     "metadata": {
      "needs_background": "light"
     },
     "output_type": "display_data"
    }
   ],
   "source": [
    "fig, ax = plt.subplots(figsize = (12, 8))\n",
    "ax = top_20.plot.bar(ax=ax, x= \"comb_dia_hora\", y= \"Total de Llamadas Falsas\")\n",
    "plt.title(\"Top 10 Horarios y días donde hay más llamadas falsas\")\n",
    "plt.xlabel(\"Hora y día de la semana\")\n",
    "plt.ylabel(\"Total de llamadas falsas\")\n",
    "plt.show();"
   ]
  },
  {
   "cell_type": "markdown",
   "metadata": {},
   "source": [
    "Las primeras cinco ocurrencias son en viernes de 6 a 10 de la noche. Otros 3 lugares le corresponden al miércoles en la noche. \n",
    "\n",
    "Sería problemático que a esas horas y en esos días hubiera también muchas llamadas que realmente necesitan atención. "
   ]
  },
  {
   "cell_type": "markdown",
   "metadata": {},
   "source": [
    "#### El último análisis (por ahora) puede ser por delegación. "
   ]
  },
  {
   "cell_type": "code",
   "execution_count": 83,
   "metadata": {
    "ExecuteTime": {
     "end_time": "2020-11-17T14:25:05.223965Z",
     "start_time": "2020-11-17T14:25:05.202754Z"
    }
   },
   "outputs": [],
   "source": [
    "deleg = falsas.groupby([\"delegacion_inicio\"], as_index = False).agg({\"label\": \"sum\"})\n",
    "deleg = deleg.rename(columns = {'label': \"Total de Llamadas Falsas\"})\n",
    "deleg = deleg.sort_values(by = \"Total de Llamadas Falsas\", ascending = False)"
   ]
  },
  {
   "cell_type": "code",
   "execution_count": 84,
   "metadata": {
    "ExecuteTime": {
     "end_time": "2020-11-17T14:25:09.223754Z",
     "start_time": "2020-11-17T14:25:07.992678Z"
    }
   },
   "outputs": [
    {
     "data": {
      "image/png": "[encoded data removed]",
      "text/plain": [
       "<Figure size 864x576 with 1 Axes>"
      ]
     },
     "metadata": {
      "needs_background": "light"
     },
     "output_type": "display_data"
    }
   ],
   "source": [
    "fig, ax = plt.subplots(figsize = (12, 8))\n",
    "ax = deleg.plot.bar(ax=ax, x= \"delegacion_inicio\", y= \"Total de Llamadas Falsas\")\n",
    "plt.title(\"Número de llamadas falsas por delegación\")\n",
    "plt.xlabel(\"Delegación\")\n",
    "plt.ylabel(\"Total de llamadas falsas\")\n",
    "plt.show();"
   ]
  },
  {
   "cell_type": "markdown",
   "metadata": {},
   "source": [
    "Estaría interesante ver si estas delegaciones con muchas llamadas falsas también las hacen en viernes etc. "
   ]
  },
  {
   "cell_type": "code",
   "execution_count": 92,
   "metadata": {
    "ExecuteTime": {
     "end_time": "2020-11-17T14:30:50.557184Z",
     "start_time": "2020-11-17T14:30:50.524519Z"
    }
   },
   "outputs": [],
   "source": [
    "col_viernes = falsas[falsas.dia_semana == \"Viernes\"].groupby(\"delegacion_inicio\", as_index = False).agg({\"label\": \"sum\"})\n",
    "col_viernes = col_viernes.sort_values(by=\"label\", ascending = False)\n",
    "col_viernes = col_viernes.rename(columns = {\"label\": \"Total de Llamadas Falsas\"})"
   ]
  },
  {
   "cell_type": "code",
   "execution_count": 95,
   "metadata": {
    "ExecuteTime": {
     "end_time": "2020-11-17T14:35:08.286993Z",
     "start_time": "2020-11-17T14:35:07.569699Z"
    }
   },
   "outputs": [
    {
     "data": {
      "image/png": "[encoded data removed]",
      "text/plain": [
       "<Figure size 864x576 with 1 Axes>"
      ]
     },
     "metadata": {
      "needs_background": "light"
     },
     "output_type": "display_data"
    }
   ],
   "source": [
    "fig, ax = plt.subplots(figsize = (12, 8))\n",
    "ax = col_viernes.plot.bar(ax=ax, x= \"delegacion_inicio\", y= \"Total de Llamadas Falsas\")\n",
    "plt.title(\"Colonias Sospechosas\")\n",
    "plt.xlabel(\"Delegación\")\n",
    "plt.ylabel(\"Total de llamadas falsas en Viernes\")\n",
    "plt.show();"
   ]
  },
  {
   "cell_type": "code",
   "execution_count": null,
   "metadata": {},
   "outputs": [],
   "source": []
  }
 ],
 "metadata": {
  "kernelspec": {
   "display_name": "Python 3",
   "language": "python",
   "name": "python3"
  },
  "language_info": {
   "codemirror_mode": {
    "name": "ipython",
    "version": 3
   },
   "file_extension": ".py",
   "mimetype": "text/x-python",
   "name": "python",
   "nbconvert_exporter": "python",
   "pygments_lexer": "ipython3",
   "version": "3.7.7"
  }
 },
 "nbformat": 4,
 "nbformat_minor": 4
}
