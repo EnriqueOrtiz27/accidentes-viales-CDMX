{
 "cells": [
  {
   "cell_type": "code",
   "execution_count": 23,
   "metadata": {
    "ExecuteTime": {
     "end_time": "2020-11-25T13:45:36.135815Z",
     "start_time": "2020-11-25T13:45:36.128370Z"
    }
   },
   "outputs": [],
   "source": [
    "import pandas as pd\n",
    "import numpy as np\n",
    "import pickle\n",
    "import time\n",
    "import datetime\n",
    "import re\n",
    "\n",
    "from sklearn.model_selection import train_test_split\n",
    "from sklearn import metrics\n",
    "from sklearn.feature_extraction.text import CountVectorizer\n",
    "from sklearn.compose import ColumnTransformer\n",
    "from sklearn.preprocessing import OneHotEncoder\n",
    "# from sklearn.impute import SimpleImputer\n",
    "from sklearn.feature_selection import VarianceThreshold\n",
    "from sklearn.model_selection import TimeSeriesSplit, GridSearchCV\n",
    "from sklearn.ensemble import RandomForestClassifier"
   ]
  },
  {
   "cell_type": "code",
   "execution_count": 2,
   "metadata": {
    "ExecuteTime": {
     "end_time": "2020-11-25T13:32:35.451618Z",
     "start_time": "2020-11-25T13:32:35.408214Z"
    }
   },
   "outputs": [],
   "source": [
    "# define categorical, numerical and date columns\n",
    "CAT_COLS = [\"dia_semana\", \"codigo_cierre\", \"año_cierre\", \"mes_cierre\", \"mes\", \"delegacion_inicio\",\n",
    "            \"incidente_c4\", \"clas_con_f_alarma\", \"tipo_entrada\", \"delegacion_cierre\", \"hora_creacion\",\n",
    "           \"hora_cierre\"]\n",
    "\n",
    "DATE_COLS = [\"fecha_creacion\", \"fecha_cierre\"]\n",
    "\n",
    "NUM_COLS = [\"latitud\", \"longitud\"]#esto irá en el script ingestion .py\n",
    "def ingest_file(file_name):\n",
    "    \"\"\"\n",
    "    Function to retrieve and return the accidents dataset.\n",
    "    Parameters:\n",
    "    -----------\n",
    "    file_name: str\n",
    "               Path to the file.\n",
    "    Returns:\n",
    "    --------\n",
    "    df: pandas dataframe\n",
    "    \"\"\"\n",
    "    df = pd.read_csv(file_name)\n",
    "    return df\n",
    "\n",
    "\n",
    "def drop_cols(df):\n",
    "    \"\"\"\n",
    "    Function to drop unnnecesary columns in the dataset.\n",
    "    \"\"\"\n",
    "    df.drop(columns = ['folio', 'geopoint', 'mes', 'mes_cierre', 'hora_cierre', 'año_cierre'], inplace = True)\n",
    "    return df\n",
    "\n",
    "\n",
    "\n",
    "def fill_na(df):\n",
    "    \"\"\"\n",
    "    Function to fill null values in a dataframe.\n",
    "    \"\"\"\n",
    "    #aquí podemos ir agregando más cosas cuando descubramos \n",
    "    #cómo imputar valores faltantes para latitud y longitud\n",
    "    df.fillna({\n",
    "        'delegacion_inicio': 'No Disponible',\n",
    "        'delegacion_cierre': 'No Disponible'\n",
    "              }, inplace = True)\n",
    "    return df\n",
    "\n",
    "\n",
    "def categoric_transformation(col,df):\n",
    "    df[col] = df[col].astype(\"category\")\n",
    "    return df \n",
    "\n",
    "def create_categorical(cols, df):\n",
    "    \"\"\"\n",
    "    Function to transform and prepare the categorical features in the dataset.\n",
    "    \"\"\"\n",
    "    #transform to appropriate data type\n",
    "    for col in cols: \n",
    "        df = categoric_transformation(col, df)\n",
    "     \n",
    "    return df\n",
    "\n",
    "\n",
    "def date_transformation(col,df):\n",
    "    \"\"\"\n",
    "    Function to prepare and transform date-type columns. \n",
    "    \"\"\"\n",
    "    df[col] = pd.to_datetime(df[col], dayfirst=True)\n",
    "    return df\n",
    "\n",
    "def create_date_cols(cols, df):\n",
    "    for col in cols:\n",
    "        df = date_transformation(col, df)\n",
    "    return df \n",
    "\n",
    "\n",
    "\n",
    "def generate_label(df):\n",
    "    \"\"\"\n",
    "    Function to create a new column indicating whether there was\n",
    "    a false alarm or not. \n",
    "    Parameters:\n",
    "    -----------\n",
    "    df: pandas dataframe\n",
    "    \n",
    "    Returns:\n",
    "    --------\n",
    "    df: pandas dataframe\n",
    "    \"\"\"\n",
    "    #transformamos la columna para solo quedarnos con la letra del código\n",
    "    df[\"codigo_cierre\"] = df[\"codigo_cierre\"].apply(lambda x: x[1])\n",
    "    df['label'] = np.where(\n",
    "        (df.codigo_cierre == 'F') | (df.codigo_cierre == 'N'), 1, 0)\n",
    "    return df \n",
    "\n",
    "\n",
    "def clean_hora_creacion(df):\n",
    "    \"\"\"\n",
    "    Function to transform hours with incorrect format to timedelta format. \n",
    "    \"\"\"\n",
    "    horas_raw = df.hora_creacion.values.tolist()\n",
    "    horas_clean = [datetime.timedelta(days=float(e)) if e.startswith(\"0.\") else e for e in horas_raw]\n",
    "    df[\"hora_creacion\"] = horas_clean\n",
    "    return df \n",
    "\n",
    "\n",
    "def create_simple_hour(df):\n",
    "    \"\"\"\n",
    "    Function to extract the hour from the column \"hora_creacion\"\n",
    "    Parameters:\n",
    "    -----------\n",
    "    df: pandas dataframe\n",
    "    \n",
    "    Returns:\n",
    "    ---------\n",
    "    df: pandas dataframe with a new column indicating the hour. \n",
    "    \"\"\"\n",
    "    #la función se podria adaptar para devolver minuto o segundo pero no lo considero necesario\n",
    "    pattern = '\\d+' #encuentra uno o más dígitos\n",
    "    horas_raw = df.hora_creacion.astype(str).values #son así: '22:35:04', '22:50:49', '09:40:11'\n",
    "    n = len(horas_raw)\n",
    "    horas_clean = [0]*n #es más rápido reasignar valores que hacer .append()\n",
    "    for i in range(n):\n",
    "        hora_raw = horas_raw[i]\n",
    "        hora_clean = re.match(pattern, hora_raw)[0] #solo queremos la hora, esto devuelve un objeto\n",
    "        horas_clean[i] = hora_clean\n",
    "    \n",
    "    df[\"hora_simple\"] = horas_clean\n",
    "    return df \n",
    "\n",
    "\n",
    "def add_date_columns(df):\n",
    "    \"\"\"\n",
    "    Esta función es muy importante puesto que nos ayudará a crear el mes, día y año de creación\n",
    "    del registro. De esta manera podemos prescindir de las fechas de cierre, que no tendríamos en tiempo\n",
    "    real en un modelo. \n",
    "    Parameters:\n",
    "    -----------\n",
    "    df: pandas dataframe\n",
    "    \n",
    "    Returns:\n",
    "    ---------\n",
    "    df: pandas dataframe with 4 new columns\n",
    "    \"\"\"\n",
    "    mapping_meses = {1: \"Enero\", 2: \"Febrero\", 3: \"Marzo\", 4: \"Abril\", 5: \"Mayo\",\n",
    "                       6: \"Junio\", 7: \"Julio\", 8: \"Agosto\", 9: \"Septiembre\", 10: \"Octubre\",\n",
    "                       11: \"Noviembre\", 12: \"Diciembre\"}\n",
    "    \n",
    "    \n",
    "    df[\"año_creacion\"] = df.fecha_creacion.dt.year\n",
    "    df[\"mes_creacion\"] = df.fecha_creacion.dt.month\n",
    "    df[\"dia_creacion\"] = df.fecha_creacion.dt.day\n",
    "    df[\"mes_creacion_str\"] = df.mes_creacion.map(mapping_meses)\n",
    "    df[\"año_creacion\"] = df[\"año_creacion\"].astype(str)\n",
    "    return df \n",
    "\n",
    "\n",
    "def create_time_blocks(df):\n",
    "    \"\"\"\n",
    "    Function to group the hour of the day into 3-hour blocks.\n",
    "    Parameters:\n",
    "    -----------\n",
    "    df: pandas dataframe\n",
    "    \n",
    "    Returns:\n",
    "    ---------\n",
    "    df: pandas dataframe with a new column indicating the time-block.\n",
    "    \"\"\"\n",
    "    horas_int = set(df.hora_simple.astype(int).values) #estaba como categórico\n",
    "    f = lambda x: 12 if x == 0 else x\n",
    "    mapping_hours = {}\n",
    "    for hora in horas_int:\n",
    "        grupo = (hora // 3) * 3\n",
    "        if grupo < 12: \n",
    "            nombre_grupo = str(f(grupo)) + \"-\" + str(grupo + 2) + \" a.m.\"\n",
    "        else:\n",
    "            hora_tarde = grupo % 12\n",
    "            nombre_grupo = str(f(hora_tarde)) + \"-\" + str(hora_tarde + 2) + \" p.m.\"\n",
    "        mapping_hours[hora] = nombre_grupo\n",
    "    \n",
    "    df[\"espacio_del_dia\"] = df[\"hora_simple\"].astype(int).map(mapping_hours)\n",
    "    return df\n",
    "    \n",
    "\n",
    "    \n",
    "\n",
    "    \n",
    "def basic_preprocessing(path):\n",
    "    \"\"\"\n",
    "    Function to summarize all the preprocessing done to the data.\n",
    "    Parameters:\n",
    "    -----------\n",
    "    path: str\n",
    "          Path to your file\n",
    "    \n",
    "    Returns:\n",
    "    ---------\n",
    "    df: pandas dataframe\n",
    "    \"\"\"\n",
    "    df = ingest_file(path) \n",
    "    df = generate_label(df)\n",
    "    df = fill_na(df) \n",
    "    df = clean_hora_creacion(df)\n",
    "    df = create_categorical(CAT_COLS, df) #transform to appropriate data types\n",
    "    df = create_date_cols(DATE_COLS, df)\n",
    "    df = add_date_columns(df)\n",
    "    df = create_simple_hour(df)\n",
    "    df = create_time_blocks(df)\n",
    "    df = drop_cols(df)\n",
    "    \n",
    "    return df"
   ]
  },
  {
   "cell_type": "code",
   "execution_count": 25,
   "metadata": {
    "ExecuteTime": {
     "end_time": "2020-11-25T13:49:46.096628Z",
     "start_time": "2020-11-25T13:49:24.377161Z"
    }
   },
   "outputs": [],
   "source": [
    "# Hacemos un preprocesamiento básico\n",
    "data = basic_preprocessing('incidentes-viales-c5.csv')"
   ]
  },
  {
   "cell_type": "code",
   "execution_count": 26,
   "metadata": {
    "ExecuteTime": {
     "end_time": "2020-11-25T13:49:47.624230Z",
     "start_time": "2020-11-25T13:49:47.430905Z"
    }
   },
   "outputs": [],
   "source": [
    "data = data.drop(['codigo_cierre',\n",
    "                'fecha_creacion', 'fecha_cierre',\n",
    "                'hora_creacion', 'clas_con_f_alarma',\n",
    "                'dia_semana', 'mes_creacion_str',\n",
    "                'delegacion_cierre'\n",
    "                ], axis=1)  \n",
    "#no hay que eliminar aún año creación para ordenar por eso "
   ]
  },
  {
   "cell_type": "markdown",
   "metadata": {},
   "source": [
    "# Feature Generation"
   ]
  },
  {
   "cell_type": "code",
   "execution_count": 32,
   "metadata": {
    "ExecuteTime": {
     "end_time": "2020-11-25T13:50:17.675977Z",
     "start_time": "2020-11-25T13:50:17.346447Z"
    }
   },
   "outputs": [],
   "source": [
    "#primero transformamos este tipo de dato\n",
    "data.hora_simple = data.hora_simple.astype(int)\n",
    "data.año_creacion = data.año_creacion.astype(int)"
   ]
  },
  {
   "cell_type": "code",
   "execution_count": 29,
   "metadata": {
    "ExecuteTime": {
     "end_time": "2020-11-25T13:49:54.986442Z",
     "start_time": "2020-11-25T13:49:54.980937Z"
    }
   },
   "outputs": [],
   "source": [
    "#añadimos columna que indique si un registro provino de llamada al 066 o 911"
   ]
  },
  {
   "cell_type": "code",
   "execution_count": 34,
   "metadata": {
    "ExecuteTime": {
     "end_time": "2020-11-25T13:50:42.291170Z",
     "start_time": "2020-11-25T13:50:42.269694Z"
    }
   },
   "outputs": [],
   "source": [
    "data[\"bool_llamada\"] = np.where((data.tipo_entrada == \"LLAMADA DEL 911\") | \n",
    "                                (data.tipo_entrada == \"LLAMADA DEL 066\"), 1, 0) "
   ]
  },
  {
   "cell_type": "code",
   "execution_count": 35,
   "metadata": {
    "ExecuteTime": {
     "end_time": "2020-11-25T13:50:45.105297Z",
     "start_time": "2020-11-25T13:50:45.089920Z"
    }
   },
   "outputs": [],
   "source": [
    "transformers = [('one_hot', OneHotEncoder(), ['delegacion_inicio', 'incidente_c4',\n",
    "                                               'tipo_entrada', 'espacio_del_dia'])]\n",
    "\n",
    "col_trans = ColumnTransformer(transformers, remainder=\"passthrough\", n_jobs=-1)\n",
    "#cambié lo de drop por passthrough para no tirar las demás"
   ]
  },
  {
   "cell_type": "code",
   "execution_count": 39,
   "metadata": {
    "ExecuteTime": {
     "end_time": "2020-11-25T13:52:01.079801Z",
     "start_time": "2020-11-25T13:52:00.635362Z"
    }
   },
   "outputs": [],
   "source": [
    "#importante: ordenar temporalmente el dataframe\n",
    "data = data.sort_values(by=[\"año_creacion\", \"mes_creacion\", \"dia_creacion\",\n",
    "                    \"hora_simple\"])"
   ]
  },
  {
   "cell_type": "code",
   "execution_count": 65,
   "metadata": {
    "ExecuteTime": {
     "end_time": "2020-11-25T14:10:46.096164Z",
     "start_time": "2020-11-25T14:10:36.718508Z"
    }
   },
   "outputs": [],
   "source": [
    "#OJO. \n",
    "X = col_trans.fit_transform(data.drop(columns=\"label\"))"
   ]
  },
  {
   "cell_type": "code",
   "execution_count": 66,
   "metadata": {
    "ExecuteTime": {
     "end_time": "2020-11-25T14:10:46.120758Z",
     "start_time": "2020-11-25T14:10:46.100181Z"
    }
   },
   "outputs": [
    {
     "data": {
      "text/plain": [
       "(1383138, 73)"
      ]
     },
     "execution_count": 66,
     "metadata": {},
     "output_type": "execute_result"
    }
   ],
   "source": [
    "X.shape"
   ]
  },
  {
   "cell_type": "code",
   "execution_count": 67,
   "metadata": {
    "ExecuteTime": {
     "end_time": "2020-11-25T14:10:51.305310Z",
     "start_time": "2020-11-25T14:10:51.297018Z"
    }
   },
   "outputs": [],
   "source": [
    "Y = data.label.values.reshape(X.shape[0],)"
   ]
  },
  {
   "cell_type": "code",
   "execution_count": 68,
   "metadata": {
    "ExecuteTime": {
     "end_time": "2020-11-25T14:10:53.228374Z",
     "start_time": "2020-11-25T14:10:53.211254Z"
    }
   },
   "outputs": [],
   "source": [
    "np.random.seed(1993)"
   ]
  },
  {
   "cell_type": "markdown",
   "metadata": {},
   "source": [
    "# Entrenamiento del modelo\n",
    "\n",
    "En primer lugar tenemos que separar los datos en un conjunto de prueba y otro de entrenamiento. Dado que contamos con datos temporales, lo mejor es separar manualmente los datos usando los índices. "
   ]
  },
  {
   "cell_type": "code",
   "execution_count": 70,
   "metadata": {
    "ExecuteTime": {
     "end_time": "2020-11-25T14:11:51.165825Z",
     "start_time": "2020-11-25T14:11:50.610234Z"
    }
   },
   "outputs": [],
   "source": [
    "#separación en train y test manualmente para no alterar el tiempo. \n",
    "lim = round(data.shape[0] * .70) #70% de train\n",
    "X_train, X_test = X[:lim], X[lim:]\n",
    "y_train, y_test = Y[:lim], Y[lim:]"
   ]
  },
  {
   "cell_type": "code",
   "execution_count": 71,
   "metadata": {
    "ExecuteTime": {
     "end_time": "2020-11-25T14:12:03.243948Z",
     "start_time": "2020-11-25T14:12:03.237015Z"
    }
   },
   "outputs": [
    {
     "name": "stdout",
     "output_type": "stream",
     "text": [
      "(968197, 73) (968197,)\n",
      "(414941, 73) (414941,)\n"
     ]
    }
   ],
   "source": [
    "print(X_train.shape, y_train.shape)\n",
    "print(X_test.shape, y_test.shape)"
   ]
  },
  {
   "cell_type": "code",
   "execution_count": null,
   "metadata": {
    "ExecuteTime": {
     "start_time": "2020-11-25T14:13:06.314Z"
    }
   },
   "outputs": [
    {
     "name": "stderr",
     "output_type": "stream",
     "text": [
      "/usr/local/lib/python3.7/site-packages/sklearn/externals/joblib/externals/loky/process_executor.py:706: UserWarning: A worker stopped while some jobs were given to the executor. This can be caused by a too short worker timeout or by a memory leak.\n",
      "  \"timeout or by a memory leak.\", UserWarning\n"
     ]
    }
   ],
   "source": [
    "# ocuparemos un RF\n",
    "classifier = RandomForestClassifier(oob_score=True, random_state=1993)\n",
    "# separando en train, test\n",
    "\n",
    "# definicion de los hiperparametros que queremos probar\n",
    "hyper_param_grid = {'n_estimators': [100, 300], \n",
    "                    'max_depth': [1, 5, 10],\n",
    "                    'min_samples_split': [2, 5]}\n",
    "\n",
    "tscv = TimeSeriesSplit(n_splits=2) #añadiendo filtro por tiempo\n",
    "\n",
    "# ocupemos grid search!\n",
    "gs = GridSearchCV(classifier, \n",
    "                           hyper_param_grid, \n",
    "                           scoring = 'precision',\n",
    "                           cv = tscv, \n",
    "                           n_jobs = -1)\n",
    "start_time = time.time()\n",
    "gs.fit(X_train, y_train)\n",
    "print(\"Tiempo en ejecutar: \", time.time() - start_time)"
   ]
  },
  {
   "cell_type": "code",
   "execution_count": null,
   "metadata": {},
   "outputs": [],
   "source": []
  },
  {
   "cell_type": "code",
   "execution_count": null,
   "metadata": {},
   "outputs": [],
   "source": []
  },
  {
   "cell_type": "code",
   "execution_count": null,
   "metadata": {},
   "outputs": [],
   "source": []
  },
  {
   "cell_type": "code",
   "execution_count": null,
   "metadata": {},
   "outputs": [],
   "source": []
  }
 ],
 "metadata": {
  "kernelspec": {
   "display_name": "Python 3",
   "language": "python",
   "name": "python3"
  },
  "language_info": {
   "codemirror_mode": {
    "name": "ipython",
    "version": 3
   },
   "file_extension": ".py",
   "mimetype": "text/x-python",
   "name": "python",
   "nbconvert_exporter": "python",
   "pygments_lexer": "ipython3",
   "version": "3.7.7"
  }
 },
 "nbformat": 4,
 "nbformat_minor": 4
}
