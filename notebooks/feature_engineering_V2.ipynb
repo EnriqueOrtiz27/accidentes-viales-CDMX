{
 "cells": [
  {
   "cell_type": "code",
   "execution_count": 23,
   "metadata": {
    "ExecuteTime": {
     "end_time": "2020-11-25T13:45:36.135815Z",
     "start_time": "2020-11-25T13:45:36.128370Z"
    }
   },
   "outputs": [],
   "source": [
    "import pandas as pd\n",
    "import numpy as np\n",
    "import pickle\n",
    "import time\n",
    "import datetime\n",
    "import re\n",
    "\n",
    "from sklearn.model_selection import train_test_split\n",
    "from sklearn import metrics\n",
    "from sklearn.feature_extraction.text import CountVectorizer\n",
    "from sklearn.compose import ColumnTransformer\n",
    "from sklearn.preprocessing import OneHotEncoder\n",
    "# from sklearn.impute import SimpleImputer\n",
    "from sklearn.feature_selection import VarianceThreshold\n",
    "from sklearn.model_selection import TimeSeriesSplit, GridSearchCV\n",
    "from sklearn.ensemble import RandomForestClassifier"
   ]
  },
  {
   "cell_type": "code",
   "execution_count": 2,
   "metadata": {
    "ExecuteTime": {
     "end_time": "2020-11-25T13:32:35.451618Z",
     "start_time": "2020-11-25T13:32:35.408214Z"
    }
   },
   "outputs": [],
   "source": [
    "# define categorical, numerical and date columns\n",
    "CAT_COLS = [\"dia_semana\", \"codigo_cierre\", \"año_cierre\", \"mes_cierre\", \"mes\", \"delegacion_inicio\",\n",
    "            \"incidente_c4\", \"clas_con_f_alarma\", \"tipo_entrada\", \"delegacion_cierre\", \"hora_creacion\",\n",
    "           \"hora_cierre\"]\n",
    "\n",
    "DATE_COLS = [\"fecha_creacion\", \"fecha_cierre\"]\n",
    "\n",
    "NUM_COLS = [\"latitud\", \"longitud\"]#esto irá en el script ingestion .py\n",
    "def ingest_file(file_name):\n",
    "    \"\"\"\n",
    "    Function to retrieve and return the accidents dataset.\n",
    "    Parameters:\n",
    "    -----------\n",
    "    file_name: str\n",
    "               Path to the file.\n",
    "    Returns:\n",
    "    --------\n",
    "    df: pandas dataframe\n",
    "    \"\"\"\n",
    "    df = pd.read_csv(file_name)\n",
    "    return df\n",
    "\n",
    "\n",
    "def drop_cols(df):\n",
    "    \"\"\"\n",
    "    Function to drop unnnecesary columns in the dataset.\n",
    "    \"\"\"\n",
    "    df.drop(columns = ['folio', 'geopoint', 'mes', 'mes_cierre', 'hora_cierre', 'año_cierre'], inplace = True)\n",
    "    return df\n",
    "\n",
    "\n",
    "\n",
    "def fill_na(df):\n",
    "    \"\"\"\n",
    "    Function to fill null values in a dataframe.\n",
    "    \"\"\"\n",
    "    #aquí podemos ir agregando más cosas cuando descubramos \n",
    "    #cómo imputar valores faltantes para latitud y longitud\n",
    "    df.fillna({\n",
    "        'delegacion_inicio': 'No Disponible',\n",
    "        'delegacion_cierre': 'No Disponible'\n",
    "              }, inplace = True)\n",
    "    return df\n",
    "\n",
    "\n",
    "def categoric_transformation(col,df):\n",
    "    df[col] = df[col].astype(\"category\")\n",
    "    return df \n",
    "\n",
    "def create_categorical(cols, df):\n",
    "    \"\"\"\n",
    "    Function to transform and prepare the categorical features in the dataset.\n",
    "    \"\"\"\n",
    "    #transform to appropriate data type\n",
    "    for col in cols: \n",
    "        df = categoric_transformation(col, df)\n",
    "     \n",
    "    return df\n",
    "\n",
    "\n",
    "def date_transformation(col,df):\n",
    "    \"\"\"\n",
    "    Function to prepare and transform date-type columns. \n",
    "    \"\"\"\n",
    "    df[col] = pd.to_datetime(df[col], dayfirst=True)\n",
    "    return df\n",
    "\n",
    "def create_date_cols(cols, df):\n",
    "    for col in cols:\n",
    "        df = date_transformation(col, df)\n",
    "    return df \n",
    "\n",
    "\n",
    "\n",
    "def generate_label(df):\n",
    "    \"\"\"\n",
    "    Function to create a new column indicating whether there was\n",
    "    a false alarm or not. \n",
    "    Parameters:\n",
    "    -----------\n",
    "    df: pandas dataframe\n",
    "    \n",
    "    Returns:\n",
    "    --------\n",
    "    df: pandas dataframe\n",
    "    \"\"\"\n",
    "    #transformamos la columna para solo quedarnos con la letra del código\n",
    "    df[\"codigo_cierre\"] = df[\"codigo_cierre\"].apply(lambda x: x[1])\n",
    "    df['label'] = np.where(\n",
    "        (df.codigo_cierre == 'F') | (df.codigo_cierre == 'N'), 1, 0)\n",
    "    return df \n",
    "\n",
    "\n",
    "def clean_hora_creacion(df):\n",
    "    \"\"\"\n",
    "    Function to transform hours with incorrect format to timedelta format. \n",
    "    \"\"\"\n",
    "    horas_raw = df.hora_creacion.values.tolist()\n",
    "    horas_clean = [datetime.timedelta(days=float(e)) if e.startswith(\"0.\") else e for e in horas_raw]\n",
    "    df[\"hora_creacion\"] = horas_clean\n",
    "    return df \n",
    "\n",
    "\n",
    "def create_simple_hour(df):\n",
    "    \"\"\"\n",
    "    Function to extract the hour from the column \"hora_creacion\"\n",
    "    Parameters:\n",
    "    -----------\n",
    "    df: pandas dataframe\n",
    "    \n",
    "    Returns:\n",
    "    ---------\n",
    "    df: pandas dataframe with a new column indicating the hour. \n",
    "    \"\"\"\n",
    "    #la función se podria adaptar para devolver minuto o segundo pero no lo considero necesario\n",
    "    pattern = '\\d+' #encuentra uno o más dígitos\n",
    "    horas_raw = df.hora_creacion.astype(str).values #son así: '22:35:04', '22:50:49', '09:40:11'\n",
    "    n = len(horas_raw)\n",
    "    horas_clean = [0]*n #es más rápido reasignar valores que hacer .append()\n",
    "    for i in range(n):\n",
    "        hora_raw = horas_raw[i]\n",
    "        hora_clean = re.match(pattern, hora_raw)[0] #solo queremos la hora, esto devuelve un objeto\n",
    "        horas_clean[i] = hora_clean\n",
    "    \n",
    "    df[\"hora_simple\"] = horas_clean\n",
    "    return df \n",
    "\n",
    "\n",
    "def add_date_columns(df):\n",
    "    \"\"\"\n",
    "    Esta función es muy importante puesto que nos ayudará a crear el mes, día y año de creación\n",
    "    del registro. De esta manera podemos prescindir de las fechas de cierre, que no tendríamos en tiempo\n",
    "    real en un modelo. \n",
    "    Parameters:\n",
    "    -----------\n",
    "    df: pandas dataframe\n",
    "    \n",
    "    Returns:\n",
    "    ---------\n",
    "    df: pandas dataframe with 4 new columns\n",
    "    \"\"\"\n",
    "    mapping_meses = {1: \"Enero\", 2: \"Febrero\", 3: \"Marzo\", 4: \"Abril\", 5: \"Mayo\",\n",
    "                       6: \"Junio\", 7: \"Julio\", 8: \"Agosto\", 9: \"Septiembre\", 10: \"Octubre\",\n",
    "                       11: \"Noviembre\", 12: \"Diciembre\"}\n",
    "    \n",
    "    \n",
    "    df[\"año_creacion\"] = df.fecha_creacion.dt.year\n",
    "    df[\"mes_creacion\"] = df.fecha_creacion.dt.month\n",
    "    df[\"dia_creacion\"] = df.fecha_creacion.dt.day\n",
    "    df[\"mes_creacion_str\"] = df.mes_creacion.map(mapping_meses)\n",
    "    df[\"año_creacion\"] = df[\"año_creacion\"].astype(str)\n",
    "    return df \n",
    "\n",
    "\n",
    "def create_time_blocks(df):\n",
    "    \"\"\"\n",
    "    Function to group the hour of the day into 3-hour blocks.\n",
    "    Parameters:\n",
    "    -----------\n",
    "    df: pandas dataframe\n",
    "    \n",
    "    Returns:\n",
    "    ---------\n",
    "    df: pandas dataframe with a new column indicating the time-block.\n",
    "    \"\"\"\n",
    "    horas_int = set(df.hora_simple.astype(int).values) #estaba como categórico\n",
    "    f = lambda x: 12 if x == 0 else x\n",
    "    mapping_hours = {}\n",
    "    for hora in horas_int:\n",
    "        grupo = (hora // 3) * 3\n",
    "        if grupo < 12: \n",
    "            nombre_grupo = str(f(grupo)) + \"-\" + str(grupo + 2) + \" a.m.\"\n",
    "        else:\n",
    "            hora_tarde = grupo % 12\n",
    "            nombre_grupo = str(f(hora_tarde)) + \"-\" + str(hora_tarde + 2) + \" p.m.\"\n",
    "        mapping_hours[hora] = nombre_grupo\n",
    "    \n",
    "    df[\"espacio_del_dia\"] = df[\"hora_simple\"].astype(int).map(mapping_hours)\n",
    "    return df\n",
    "    \n",
    "\n",
    "    \n",
    "\n",
    "    \n",
    "def basic_preprocessing(path):\n",
    "    \"\"\"\n",
    "    Function to summarize all the preprocessing done to the data.\n",
    "    Parameters:\n",
    "    -----------\n",
    "    path: str\n",
    "          Path to your file\n",
    "    \n",
    "    Returns:\n",
    "    ---------\n",
    "    df: pandas dataframe\n",
    "    \"\"\"\n",
    "    df = ingest_file(path) \n",
    "    df = generate_label(df)\n",
    "    df = fill_na(df) \n",
    "    df = clean_hora_creacion(df)\n",
    "    df = create_categorical(CAT_COLS, df) #transform to appropriate data types\n",
    "    df = create_date_cols(DATE_COLS, df)\n",
    "    df = add_date_columns(df)\n",
    "    df = create_simple_hour(df)\n",
    "    df = create_time_blocks(df)\n",
    "    df = drop_cols(df)\n",
    "    \n",
    "    return df"
   ]
  },
  {
   "cell_type": "code",
   "execution_count": 25,
   "metadata": {
    "ExecuteTime": {
     "end_time": "2020-11-25T13:49:46.096628Z",
     "start_time": "2020-11-25T13:49:24.377161Z"
    }
   },
   "outputs": [],
   "source": [
    "# Hacemos un preprocesamiento básico\n",
    "data = basic_preprocessing('incidentes-viales-c5.csv')"
   ]
  },
  {
   "cell_type": "markdown",
   "metadata": {},
   "source": [
    "# Eliminar variables que no estarán presentes en producción"
   ]
  },
  {
   "cell_type": "code",
   "execution_count": 26,
   "metadata": {
    "ExecuteTime": {
     "end_time": "2020-11-25T13:49:47.624230Z",
     "start_time": "2020-11-25T13:49:47.430905Z"
    }
   },
   "outputs": [],
   "source": [
    "data = data.drop(['codigo_cierre',\n",
    "                'fecha_creacion', 'fecha_cierre',\n",
    "                'hora_creacion', 'clas_con_f_alarma',\n",
    "                'dia_semana', 'mes_creacion_str',\n",
    "                'delegacion_cierre'\n",
    "                ], axis=1)  \n",
    "#no hay que eliminar aún año creación para ordenar por eso "
   ]
  },
  {
   "cell_type": "markdown",
   "metadata": {},
   "source": [
    "# Feature Generation"
   ]
  },
  {
   "cell_type": "markdown",
   "metadata": {},
   "source": [
    "Aparte de la variable \"espacio_dia\", creamos transformaciones cíclicas a las variables y una variable booleana que vale 1 cuando el reporte viene de una llamada y cero en caso contrario. "
   ]
  },
  {
   "cell_type": "code",
   "execution_count": 32,
   "metadata": {
    "ExecuteTime": {
     "end_time": "2020-11-25T13:50:17.675977Z",
     "start_time": "2020-11-25T13:50:17.346447Z"
    }
   },
   "outputs": [],
   "source": [
    "#primero transformamos este tipo de dato\n",
    "data.hora_simple = data.hora_simple.astype(int)\n",
    "data.año_creacion = data.año_creacion.astype(int)"
   ]
  },
  {
   "cell_type": "code",
   "execution_count": null,
   "metadata": {},
   "outputs": [],
   "source": [
    "\n",
    "# Transformaciones cíclicas\n",
    "\n",
    "HOURS = 24\n",
    "MONTHS = 12\n",
    "DAYS = 7\n",
    "\n",
    "data['sin_hr'] = np.sin(2*np.pi*data.hora_simple/HOURS)\n",
    "data['cos_hr'] = np.cos(2*np.pi*data.hora_simple/HOURS)\n",
    "\n",
    "data['sin_month'] = np.sin(2*np.pi*data.mes_creacion/MONTHS)\n",
    "data['cos_month'] = np.cos(2*np.pi*data.mes_creacion/MONTHS)\n",
    "\n",
    "data['sin_day'] = np.sin(2*np.pi*data.dia_creacion/DAYS)\n",
    "data['cos_day'] = np.cos(2*np.pi*data.dia_creacion/DAYS)"
   ]
  },
  {
   "cell_type": "code",
   "execution_count": 34,
   "metadata": {
    "ExecuteTime": {
     "end_time": "2020-11-25T13:50:42.291170Z",
     "start_time": "2020-11-25T13:50:42.269694Z"
    }
   },
   "outputs": [],
   "source": [
    "#añadimos columna que indique si un registro provino de llamada al 066 o 911\n",
    "#esta columna es la top2 en importancia según el random forest\n",
    "data[\"bool_llamada\"] = np.where((data.tipo_entrada == \"LLAMADA DEL 911\") | \n",
    "                                (data.tipo_entrada == \"LLAMADA DEL 066\"), 1, 0) "
   ]
  },
  {
   "cell_type": "code",
   "execution_count": 35,
   "metadata": {
    "ExecuteTime": {
     "end_time": "2020-11-25T13:50:45.105297Z",
     "start_time": "2020-11-25T13:50:45.089920Z"
    }
   },
   "outputs": [],
   "source": [
    "#haciendo one hot encoding a ciertas variables categóricas\n",
    "transformers = [('one_hot', OneHotEncoder(), ['delegacion_inicio', 'incidente_c4',\n",
    "                                               'tipo_entrada', 'espacio_del_dia'])]\n",
    "\n",
    "col_trans = ColumnTransformer(transformers, remainder=\"passthrough\", n_jobs=-1)\n",
    "#cambié lo de drop por passthrough para no tirar las demás"
   ]
  },
  {
   "cell_type": "code",
   "execution_count": 39,
   "metadata": {
    "ExecuteTime": {
     "end_time": "2020-11-25T13:52:01.079801Z",
     "start_time": "2020-11-25T13:52:00.635362Z"
    }
   },
   "outputs": [],
   "source": [
    "#importante: ordenar temporalmente el dataframe\n",
    "data = data.sort_values(by=[\"año_creacion\", \"mes_creacion\", \"dia_creacion\",\n",
    "                    \"hora_simple\"])"
   ]
  },
  {
   "cell_type": "code",
   "execution_count": 65,
   "metadata": {
    "ExecuteTime": {
     "end_time": "2020-11-25T14:10:46.096164Z",
     "start_time": "2020-11-25T14:10:36.718508Z"
    }
   },
   "outputs": [],
   "source": [
    "#OJO. \n",
    "X = col_trans.fit_transform(data.drop(columns=\"label\"))"
   ]
  },
  {
   "cell_type": "code",
   "execution_count": 66,
   "metadata": {
    "ExecuteTime": {
     "end_time": "2020-11-25T14:10:46.120758Z",
     "start_time": "2020-11-25T14:10:46.100181Z"
    }
   },
   "outputs": [
    {
     "data": {
      "text/plain": [
       "(1383138, 73)"
      ]
     },
     "execution_count": 66,
     "metadata": {},
     "output_type": "execute_result"
    }
   ],
   "source": [
    "X.shape"
   ]
  },
  {
   "cell_type": "code",
   "execution_count": 67,
   "metadata": {
    "ExecuteTime": {
     "end_time": "2020-11-25T14:10:51.305310Z",
     "start_time": "2020-11-25T14:10:51.297018Z"
    }
   },
   "outputs": [],
   "source": [
    "Y = data.label.values.reshape(X.shape[0],)"
   ]
  },
  {
   "cell_type": "code",
   "execution_count": 68,
   "metadata": {
    "ExecuteTime": {
     "end_time": "2020-11-25T14:10:53.228374Z",
     "start_time": "2020-11-25T14:10:53.211254Z"
    }
   },
   "outputs": [],
   "source": [
    "np.random.seed(1993)"
   ]
  },
  {
   "cell_type": "markdown",
   "metadata": {},
   "source": [
    "# Entrenamiento del modelo\n",
    "\n",
    "En primer lugar tenemos que separar los datos en un conjunto de prueba y otro de entrenamiento. Dado que contamos con datos temporales, lo mejor es separar manualmente los datos usando los índices. "
   ]
  },
  {
   "cell_type": "code",
   "execution_count": 70,
   "metadata": {
    "ExecuteTime": {
     "end_time": "2020-11-25T14:11:51.165825Z",
     "start_time": "2020-11-25T14:11:50.610234Z"
    }
   },
   "outputs": [],
   "source": [
    "#separación en train y test manualmente para no alterar el tiempo. \n",
    "lim = round(data.shape[0] * .70) #70% de train\n",
    "X_train, X_test = X[:lim], X[lim:]\n",
    "y_train, y_test = Y[:lim], Y[lim:]"
   ]
  },
  {
   "cell_type": "code",
   "execution_count": 71,
   "metadata": {
    "ExecuteTime": {
     "end_time": "2020-11-25T14:12:03.243948Z",
     "start_time": "2020-11-25T14:12:03.237015Z"
    }
   },
   "outputs": [
    {
     "name": "stdout",
     "output_type": "stream",
     "text": [
      "(968197, 73) (968197,)\n",
      "(414941, 73) (414941,)\n"
     ]
    }
   ],
   "source": [
    "print(X_train.shape, y_train.shape)\n",
    "print(X_test.shape, y_test.shape)"
   ]
  },
  {
   "cell_type": "code",
   "execution_count": 73,
   "metadata": {
    "ExecuteTime": {
     "end_time": "2020-11-25T15:08:58.080865Z",
     "start_time": "2020-11-25T14:13:06.317268Z"
    }
   },
   "outputs": [
    {
     "name": "stderr",
     "output_type": "stream",
     "text": [
      "/usr/local/lib/python3.7/site-packages/sklearn/externals/joblib/externals/loky/process_executor.py:706: UserWarning: A worker stopped while some jobs were given to the executor. This can be caused by a too short worker timeout or by a memory leak.\n",
      "  \"timeout or by a memory leak.\", UserWarning\n"
     ]
    },
    {
     "name": "stdout",
     "output_type": "stream",
     "text": [
      "Tiempo en ejecutar:  3351.743148803711\n"
     ]
    }
   ],
   "source": [
    "# ocuparemos un RF\n",
    "classifier = RandomForestClassifier(oob_score=True, random_state=1993)\n",
    "# separando en train, test\n",
    "\n",
    "# definicion de los hiperparametros que queremos probar\n",
    "hyper_param_grid = {'n_estimators': [100, 300], \n",
    "                    'max_depth': [1, 5, 10],\n",
    "                    'min_samples_split': [2, 5]}\n",
    "\n",
    "tscv = TimeSeriesSplit(n_splits=2) #añadiendo filtro por tiempo\n",
    "\n",
    "# ocupemos grid search!\n",
    "gs = GridSearchCV(classifier, \n",
    "                           hyper_param_grid, \n",
    "                           scoring = 'precision',\n",
    "                           cv = tscv, \n",
    "                           n_jobs = -1)\n",
    "start_time = time.time()\n",
    "gs.fit(X_train, y_train)\n",
    "print(\"Tiempo en ejecutar: \", time.time() - start_time)"
   ]
  },
  {
   "cell_type": "code",
   "execution_count": 75,
   "metadata": {
    "ExecuteTime": {
     "end_time": "2020-11-25T15:36:29.122957Z",
     "start_time": "2020-11-25T15:36:29.099935Z"
    }
   },
   "outputs": [
    {
     "data": {
      "text/plain": [
       "{'max_depth': 10, 'min_samples_split': 2, 'n_estimators': 100}"
      ]
     },
     "execution_count": 75,
     "metadata": {},
     "output_type": "execute_result"
    }
   ],
   "source": [
    "#mejores parámetros\n",
    "gs.best_params_"
   ]
  },
  {
   "cell_type": "code",
   "execution_count": 76,
   "metadata": {
    "ExecuteTime": {
     "end_time": "2020-11-25T15:36:46.706434Z",
     "start_time": "2020-11-25T15:36:46.684927Z"
    }
   },
   "outputs": [
    {
     "data": {
      "text/plain": [
       "RandomForestClassifier(bootstrap=True, class_weight=None, criterion='gini',\n",
       "            max_depth=10, max_features='auto', max_leaf_nodes=None,\n",
       "            min_impurity_decrease=0.0, min_impurity_split=None,\n",
       "            min_samples_leaf=1, min_samples_split=2,\n",
       "            min_weight_fraction_leaf=0.0, n_estimators=100, n_jobs=None,\n",
       "            oob_score=True, random_state=1993, verbose=0, warm_start=False)"
      ]
     },
     "execution_count": 76,
     "metadata": {},
     "output_type": "execute_result"
    }
   ],
   "source": [
    "gs.best_estimator_"
   ]
  },
  {
   "cell_type": "code",
   "execution_count": 77,
   "metadata": {
    "ExecuteTime": {
     "end_time": "2020-11-25T15:36:57.336809Z",
     "start_time": "2020-11-25T15:36:57.327026Z"
    }
   },
   "outputs": [
    {
     "data": {
      "text/plain": [
       "0.7920443876607757"
      ]
     },
     "execution_count": 77,
     "metadata": {},
     "output_type": "execute_result"
    }
   ],
   "source": [
    "gs.best_estimator_.oob_score_"
   ]
  },
  {
   "cell_type": "markdown",
   "metadata": {},
   "source": [
    "## Recuperar el nombre de las columnas.\n",
    "\n",
    "Lamentablemente, al usar el argumento \"remainder = passthrough\" en el ColumnTransformer, no podemos recuperar inmediatamente los nombres de los features. \n",
    "\n",
    "Sin embargo, sklearn respeta el orden, por lo que se entrenó un modelo simple usando \"remainder=drop\" (ver notebook \"get_feature_names\") para descubrir el orden del OneHotEncoding y después se reacomodaron esos valores en una sola lista tomando en cuenta el orden original del dataframe. "
   ]
  },
  {
   "cell_type": "code",
   "execution_count": 89,
   "metadata": {
    "ExecuteTime": {
     "end_time": "2020-11-25T15:58:06.294871Z",
     "start_time": "2020-11-25T15:58:06.259012Z"
    }
   },
   "outputs": [
    {
     "data": {
      "text/html": [
       "<div>\n",
       "<style scoped>\n",
       "    .dataframe tbody tr th:only-of-type {\n",
       "        vertical-align: middle;\n",
       "    }\n",
       "\n",
       "    .dataframe tbody tr th {\n",
       "        vertical-align: top;\n",
       "    }\n",
       "\n",
       "    .dataframe thead th {\n",
       "        text-align: right;\n",
       "    }\n",
       "</style>\n",
       "<table border=\"1\" class=\"dataframe\">\n",
       "  <thead>\n",
       "    <tr style=\"text-align: right;\">\n",
       "      <th></th>\n",
       "      <th>delegacion_inicio</th>\n",
       "      <th>incidente_c4</th>\n",
       "      <th>latitud</th>\n",
       "      <th>longitud</th>\n",
       "      <th>tipo_entrada</th>\n",
       "      <th>label</th>\n",
       "      <th>año_creacion</th>\n",
       "      <th>mes_creacion</th>\n",
       "      <th>dia_creacion</th>\n",
       "      <th>hora_simple</th>\n",
       "      <th>espacio_del_dia</th>\n",
       "      <th>sin_hr</th>\n",
       "      <th>cos_hr</th>\n",
       "      <th>sin_month</th>\n",
       "      <th>cos_month</th>\n",
       "      <th>sin_day</th>\n",
       "      <th>cos_day</th>\n",
       "      <th>bool_llamada</th>\n",
       "    </tr>\n",
       "  </thead>\n",
       "  <tbody>\n",
       "    <tr>\n",
       "      <th>1109229</th>\n",
       "      <td>BENITO JUAREZ</td>\n",
       "      <td>accidente-choque con lesionados</td>\n",
       "      <td>19.38867</td>\n",
       "      <td>-99.18856</td>\n",
       "      <td>LLAMADA DEL 066</td>\n",
       "      <td>0</td>\n",
       "      <td>2013</td>\n",
       "      <td>12</td>\n",
       "      <td>31</td>\n",
       "      <td>13</td>\n",
       "      <td>12-2 p.m.</td>\n",
       "      <td>-0.258819</td>\n",
       "      <td>-0.965926</td>\n",
       "      <td>-2.449294e-16</td>\n",
       "      <td>1.0</td>\n",
       "      <td>0.433884</td>\n",
       "      <td>-0.900969</td>\n",
       "      <td>1</td>\n",
       "    </tr>\n",
       "    <tr>\n",
       "      <th>1109233</th>\n",
       "      <td>BENITO JUAREZ</td>\n",
       "      <td>accidente-choque con lesionados</td>\n",
       "      <td>19.38867</td>\n",
       "      <td>-99.18856</td>\n",
       "      <td>LLAMADA DEL 066</td>\n",
       "      <td>0</td>\n",
       "      <td>2013</td>\n",
       "      <td>12</td>\n",
       "      <td>31</td>\n",
       "      <td>13</td>\n",
       "      <td>12-2 p.m.</td>\n",
       "      <td>-0.258819</td>\n",
       "      <td>-0.965926</td>\n",
       "      <td>-2.449294e-16</td>\n",
       "      <td>1.0</td>\n",
       "      <td>0.433884</td>\n",
       "      <td>-0.900969</td>\n",
       "      <td>1</td>\n",
       "    </tr>\n",
       "  </tbody>\n",
       "</table>\n",
       "</div>"
      ],
      "text/plain": [
       "        delegacion_inicio                     incidente_c4   latitud  \\\n",
       "1109229     BENITO JUAREZ  accidente-choque con lesionados  19.38867   \n",
       "1109233     BENITO JUAREZ  accidente-choque con lesionados  19.38867   \n",
       "\n",
       "         longitud     tipo_entrada  label  año_creacion  mes_creacion  \\\n",
       "1109229 -99.18856  LLAMADA DEL 066      0          2013            12   \n",
       "1109233 -99.18856  LLAMADA DEL 066      0          2013            12   \n",
       "\n",
       "         dia_creacion  hora_simple espacio_del_dia    sin_hr    cos_hr  \\\n",
       "1109229            31           13       12-2 p.m. -0.258819 -0.965926   \n",
       "1109233            31           13       12-2 p.m. -0.258819 -0.965926   \n",
       "\n",
       "            sin_month  cos_month   sin_day   cos_day  bool_llamada  \n",
       "1109229 -2.449294e-16        1.0  0.433884 -0.900969             1  \n",
       "1109233 -2.449294e-16        1.0  0.433884 -0.900969             1  "
      ]
     },
     "execution_count": 89,
     "metadata": {},
     "output_type": "execute_result"
    }
   ],
   "source": [
    "data.head(2)"
   ]
  },
  {
   "cell_type": "code",
   "execution_count": 86,
   "metadata": {
    "ExecuteTime": {
     "end_time": "2020-11-25T15:52:46.338774Z",
     "start_time": "2020-11-25T15:52:46.323456Z"
    }
   },
   "outputs": [],
   "source": [
    "delegacion = ['one_hot__x0_ALVARO OBREGON', 'one_hot__x0_AZCAPOTZALCO',\n",
    "       'one_hot__x0_BENITO JUAREZ', 'one_hot__x0_COYOACAN',\n",
    "       'one_hot__x0_CUAJIMALPA', 'one_hot__x0_CUAUHTEMOC',\n",
    "       'one_hot__x0_GUSTAVO A. MADERO', 'one_hot__x0_IZTACALCO',\n",
    "       'one_hot__x0_IZTAPALAPA', 'one_hot__x0_MAGDALENA CONTRERAS',\n",
    "       'one_hot__x0_MIGUEL HIDALGO', 'one_hot__x0_MILPA ALTA',\n",
    "       'one_hot__x0_No Disponible', 'one_hot__x0_TLAHUAC',\n",
    "       'one_hot__x0_TLALPAN', 'one_hot__x0_VENUSTIANO CARRANZA',\n",
    "       'one_hot__x0_XOCHIMILCO']\n",
    "\n",
    "incidente_c4 = ['one_hot__x1_Detención ciudadana-accidente automovilístico',\n",
    "       'one_hot__x1_accidente-choque con lesionados',\n",
    "       'one_hot__x1_accidente-choque con prensados',\n",
    "       'one_hot__x1_accidente-choque sin lesionados',\n",
    "       'one_hot__x1_accidente-ciclista',\n",
    "       'one_hot__x1_accidente-ferroviario',\n",
    "       'one_hot__x1_accidente-monopatín',\n",
    "       'one_hot__x1_accidente-motociclista',\n",
    "       'one_hot__x1_accidente-otros',\n",
    "       'one_hot__x1_accidente-persona atrapada / desbarrancada',\n",
    "       'one_hot__x1_accidente-vehiculo atrapado',\n",
    "       'one_hot__x1_accidente-vehiculo desbarrancado',\n",
    "       'one_hot__x1_accidente-vehículo atrapado-varado',\n",
    "       'one_hot__x1_accidente-volcadura',\n",
    "       'one_hot__x1_cadáver-accidente automovilístico',\n",
    "       'one_hot__x1_cadáver-atropellado',\n",
    "       'one_hot__x1_detención ciudadana-accidente automovilístico',\n",
    "       'one_hot__x1_detención ciudadana-atropellado',\n",
    "       'one_hot__x1_lesionado-accidente automovilístico',\n",
    "       'one_hot__x1_lesionado-atropellado',\n",
    "       'one_hot__x1_mi ciudad-calle-incidente de tránsito',\n",
    "       'one_hot__x1_mi ciudad-taxi-incidente de tránsito',\n",
    "       'one_hot__x1_sismo-choque con lesionados',\n",
    "       'one_hot__x1_sismo-choque con prensados',\n",
    "       'one_hot__x1_sismo-choque sin lesionados',\n",
    "       'one_hot__x1_sismo-persona atropellada']\n",
    "\n",
    "tipo_entrada = ['one_hot__x2_APLICATIVOS', 'one_hot__x2_BOTÓN DE AUXILIO',\n",
    "       'one_hot__x2_CÁMARA', 'one_hot__x2_LLAMADA APP911',\n",
    "       'one_hot__x2_LLAMADA DEL 066', 'one_hot__x2_LLAMADA DEL 911',\n",
    "       'one_hot__x2_RADIO', 'one_hot__x2_REDES', 'one_hot__x2_ZELLO']\n",
    "\n",
    "\n",
    "\n",
    "espacio_dia = ['one_hot__x3_12-2 a.m.', 'one_hot__x3_12-2 p.m.',\n",
    "       'one_hot__x3_3-5 a.m.', 'one_hot__x3_3-5 p.m.',\n",
    "       'one_hot__x3_6-8 a.m.', 'one_hot__x3_6-8 p.m.',\n",
    "       'one_hot__x3_9-11 a.m.', 'one_hot__x3_9-11 p.m.']\n",
    "\n",
    "feature_names = delegacion + incidente_c4 + [\"latitud\", \"longitud\"] + tipo_entrada \\\n",
    "                + [\"año_creacion\", \"mes_creacion\", \"dia_creacion\", \"hora_simple\"] + \\\n",
    "                espacio_dia + [\"sin_hr\", \"cos_hr\", \"sin_month\", \"cos_month\",\n",
    "                              \"sin_day\", \"cos_day\", \"bool_llamada\"]"
   ]
  },
  {
   "cell_type": "code",
   "execution_count": 88,
   "metadata": {
    "ExecuteTime": {
     "end_time": "2020-11-25T15:53:52.639907Z",
     "start_time": "2020-11-25T15:53:52.605794Z"
    }
   },
   "outputs": [
    {
     "data": {
      "text/html": [
       "<div>\n",
       "<style scoped>\n",
       "    .dataframe tbody tr th:only-of-type {\n",
       "        vertical-align: middle;\n",
       "    }\n",
       "\n",
       "    .dataframe tbody tr th {\n",
       "        vertical-align: top;\n",
       "    }\n",
       "\n",
       "    .dataframe thead th {\n",
       "        text-align: right;\n",
       "    }\n",
       "</style>\n",
       "<table border=\"1\" class=\"dataframe\">\n",
       "  <thead>\n",
       "    <tr style=\"text-align: right;\">\n",
       "      <th></th>\n",
       "      <th>columna</th>\n",
       "      <th>importancia</th>\n",
       "    </tr>\n",
       "  </thead>\n",
       "  <tbody>\n",
       "    <tr>\n",
       "      <th>20</th>\n",
       "      <td>one_hot__x1_accidente-choque sin lesionados</td>\n",
       "      <td>0.261320</td>\n",
       "    </tr>\n",
       "    <tr>\n",
       "      <th>72</th>\n",
       "      <td>bool_llamada</td>\n",
       "      <td>0.146786</td>\n",
       "    </tr>\n",
       "    <tr>\n",
       "      <th>44</th>\n",
       "      <td>longitud</td>\n",
       "      <td>0.075893</td>\n",
       "    </tr>\n",
       "    <tr>\n",
       "      <th>49</th>\n",
       "      <td>one_hot__x2_LLAMADA DEL 066</td>\n",
       "      <td>0.069764</td>\n",
       "    </tr>\n",
       "    <tr>\n",
       "      <th>18</th>\n",
       "      <td>one_hot__x1_accidente-choque con lesionados</td>\n",
       "      <td>0.058040</td>\n",
       "    </tr>\n",
       "    <tr>\n",
       "      <th>36</th>\n",
       "      <td>one_hot__x1_lesionado-atropellado</td>\n",
       "      <td>0.051893</td>\n",
       "    </tr>\n",
       "    <tr>\n",
       "      <th>47</th>\n",
       "      <td>one_hot__x2_CÁMARA</td>\n",
       "      <td>0.043230</td>\n",
       "    </tr>\n",
       "    <tr>\n",
       "      <th>62</th>\n",
       "      <td>one_hot__x3_6-8 a.m.</td>\n",
       "      <td>0.042355</td>\n",
       "    </tr>\n",
       "    <tr>\n",
       "      <th>60</th>\n",
       "      <td>one_hot__x3_3-5 a.m.</td>\n",
       "      <td>0.034750</td>\n",
       "    </tr>\n",
       "    <tr>\n",
       "      <th>48</th>\n",
       "      <td>one_hot__x2_LLAMADA APP911</td>\n",
       "      <td>0.028764</td>\n",
       "    </tr>\n",
       "    <tr>\n",
       "      <th>61</th>\n",
       "      <td>one_hot__x3_3-5 p.m.</td>\n",
       "      <td>0.027985</td>\n",
       "    </tr>\n",
       "    <tr>\n",
       "      <th>30</th>\n",
       "      <td>one_hot__x1_accidente-volcadura</td>\n",
       "      <td>0.015275</td>\n",
       "    </tr>\n",
       "    <tr>\n",
       "      <th>65</th>\n",
       "      <td>one_hot__x3_9-11 p.m.</td>\n",
       "      <td>0.013378</td>\n",
       "    </tr>\n",
       "    <tr>\n",
       "      <th>5</th>\n",
       "      <td>one_hot__x0_CUAUHTEMOC</td>\n",
       "      <td>0.012642</td>\n",
       "    </tr>\n",
       "    <tr>\n",
       "      <th>50</th>\n",
       "      <td>one_hot__x2_LLAMADA DEL 911</td>\n",
       "      <td>0.011529</td>\n",
       "    </tr>\n",
       "  </tbody>\n",
       "</table>\n",
       "</div>"
      ],
      "text/plain": [
       "                                        columna  importancia\n",
       "20  one_hot__x1_accidente-choque sin lesionados     0.261320\n",
       "72                                 bool_llamada     0.146786\n",
       "44                                     longitud     0.075893\n",
       "49                  one_hot__x2_LLAMADA DEL 066     0.069764\n",
       "18  one_hot__x1_accidente-choque con lesionados     0.058040\n",
       "36            one_hot__x1_lesionado-atropellado     0.051893\n",
       "47                           one_hot__x2_CÁMARA     0.043230\n",
       "62                         one_hot__x3_6-8 a.m.     0.042355\n",
       "60                         one_hot__x3_3-5 a.m.     0.034750\n",
       "48                   one_hot__x2_LLAMADA APP911     0.028764\n",
       "61                         one_hot__x3_3-5 p.m.     0.027985\n",
       "30              one_hot__x1_accidente-volcadura     0.015275\n",
       "65                        one_hot__x3_9-11 p.m.     0.013378\n",
       "5                        one_hot__x0_CUAUHTEMOC     0.012642\n",
       "50                  one_hot__x2_LLAMADA DEL 911     0.011529"
      ]
     },
     "execution_count": 88,
     "metadata": {},
     "output_type": "execute_result"
    }
   ],
   "source": [
    "df_imp = pd.DataFrame({\n",
    "    'columna': feature_names,\n",
    "    'importancia': gs.best_estimator_.feature_importances_\n",
    "}).sort_values(by=[\"importancia\"], ascending=False)\n",
    "df_imp.head(15)"
   ]
  },
  {
   "cell_type": "markdown",
   "metadata": {},
   "source": [
    "Podemos ver que las tres variables más importantes es que haya o no un accidente o choque sin lesionados en incidente_c4, que el reporte provenga de una llamada telefónica (bool_llamada) y la longitud. En cuarto lugar está que el reporte provenga de una llamada al 066, lo cual tiene sentido dado que la mayoría de los reportes falsos se originan vía llamada telefónica. \n",
    "\n",
    "Consideramos imprudente eliminar todas aquellas con score de menos de .07 debido a que solamente tres variables superan este benchmark. "
   ]
  },
  {
   "cell_type": "code",
   "execution_count": 107,
   "metadata": {
    "ExecuteTime": {
     "end_time": "2020-11-25T16:10:29.665781Z",
     "start_time": "2020-11-25T16:10:27.682884Z"
    }
   },
   "outputs": [
    {
     "data": {
      "text/plain": [
       "['Random_Forest_25nov.joblib']"
      ]
     },
     "execution_count": 107,
     "metadata": {},
     "output_type": "execute_result"
    }
   ],
   "source": [
    "from joblib import dump, load\n",
    "dump(gs, 'Random_Forest_25nov.joblib') "
   ]
  },
  {
   "cell_type": "markdown",
   "metadata": {},
   "source": [
    "# Prediction."
   ]
  },
  {
   "cell_type": "code",
   "execution_count": 118,
   "metadata": {
    "ExecuteTime": {
     "end_time": "2020-11-25T16:22:17.841862Z",
     "start_time": "2020-11-25T16:16:48.201546Z"
    }
   },
   "outputs": [],
   "source": [
    "#X_test = np.where(np.nan, 0)\n",
    "n = X_test.shape[0]\n",
    "for i in range(n):\n",
    "    X_test[i] = np.nan_to_num(X_test[i])"
   ]
  },
  {
   "cell_type": "code",
   "execution_count": 119,
   "metadata": {
    "ExecuteTime": {
     "end_time": "2020-11-25T16:22:23.569902Z",
     "start_time": "2020-11-25T16:22:23.559881Z"
    }
   },
   "outputs": [
    {
     "data": {
      "text/plain": [
       "(1, 73)"
      ]
     },
     "execution_count": 119,
     "metadata": {},
     "output_type": "execute_result"
    }
   ],
   "source": [
    "X_test[0].shape"
   ]
  },
  {
   "cell_type": "code",
   "execution_count": 109,
   "metadata": {
    "ExecuteTime": {
     "end_time": "2020-11-25T16:11:26.719615Z",
     "start_time": "2020-11-25T16:11:26.715353Z"
    }
   },
   "outputs": [],
   "source": [
    "#for i in range(10):\n",
    "#    val = np.isfinite(X_test[i]).all()\n",
    "#    if not val: \n",
    "#        print(i, val)"
   ]
  },
  {
   "cell_type": "code",
   "execution_count": 121,
   "metadata": {
    "ExecuteTime": {
     "end_time": "2020-11-25T16:22:35.001071Z",
     "start_time": "2020-11-25T16:22:34.996699Z"
    }
   },
   "outputs": [],
   "source": [
    "#no sé por qué sigue saliendo que X_test tiene Nan's o infinitos si ya lo transformé\n",
    "#predicted_labels = gs.predict(X_test)"
   ]
  },
  {
   "cell_type": "code",
   "execution_count": null,
   "metadata": {},
   "outputs": [],
   "source": []
  }
 ],
 "metadata": {
  "kernelspec": {
   "display_name": "Python 3",
   "language": "python",
   "name": "python3"
  },
  "language_info": {
   "codemirror_mode": {
    "name": "ipython",
    "version": 3
   },
   "file_extension": ".py",
   "mimetype": "text/x-python",
   "name": "python",
   "nbconvert_exporter": "python",
   "pygments_lexer": "ipython3",
   "version": "3.7.7"
  }
 },
 "nbformat": 4,
 "nbformat_minor": 4
}
